{
 "cells": [
  {
   "cell_type": "code",
   "execution_count": 0,
   "metadata": {
    "application/vnd.databricks.v1+cell": {
     "cellMetadata": {
      "byteLimit": 2048000,
      "rowLimit": 10000
     },
     "inputWidgets": {},
     "nuid": "5c998639-98cf-4064-8168-e8e4ff001173",
     "showTitle": false,
     "title": ""
    }
   },
   "outputs": [],
   "source": [
    "from pyspark.sql import SparkSession\n",
    "from pyspark.dbutils import DBUtils\n",
    "from datetime import datetime\n",
    "from pyspark.sql.functions import *\n",
    "from pyspark.sql.types import *\n",
    "spark=SparkSession.builder.appName(\"DSS-PROJECT\").getOrCreate()"
   ]
  },
  {
   "cell_type": "code",
   "execution_count": 0,
   "metadata": {
    "application/vnd.databricks.v1+cell": {
     "cellMetadata": {},
     "inputWidgets": {},
     "nuid": "2d446fe9-ec4e-4711-9db1-e6600fe3986e",
     "showTitle": false,
     "title": ""
    }
   },
   "outputs": [],
   "source": [
    "#creating mount point to access data in adls\n",
    "\n",
    "dbutils.fs.mount(\n",
    "  source=f\"wasbs://project-data@pharmacydata2024.blob.core.windows.net/\",\n",
    "  mount_point=\"/mnt/dss-project-works\",\n",
    "  extra_configs={\"fs.azure.account.key.pharmacydata2024.blob.core.windows.net\": \"DECBZEPbRnh8pmQGIHIRyH9QpredTuDf6nlHoQOn8pHqb1YBPzBHDrvo1uKIojLYh226lFaNS62B+AStdZxCCw==\"}\n",
    ")"
   ]
  },
  {
   "cell_type": "code",
   "execution_count": 0,
   "metadata": {
    "application/vnd.databricks.v1+cell": {
     "cellMetadata": {
      "byteLimit": 2048000,
      "rowLimit": 10000
     },
     "inputWidgets": {},
     "nuid": "afa696b2-9c7f-412f-9504-719aacbdb687",
     "showTitle": false,
     "title": ""
    }
   },
   "outputs": [
    {
     "output_type": "execute_result",
     "data": {
      "text/plain": [
       "[FileInfo(path='dbfs:/mnt/dss-project-works/project-data/', name='project-data/', size=0, modificationTime=0),\n",
       " FileInfo(path='dbfs:/mnt/dss-project-works/raw-data/', name='raw-data/', size=0, modificationTime=0),\n",
       " FileInfo(path='dbfs:/mnt/dss-project-works/test_output_from_adb/', name='test_output_from_adb/', size=0, modificationTime=0)]"
      ]
     },
     "execution_count": 2,
     "metadata": {},
     "output_type": "execute_result"
    }
   ],
   "source": [
    "mount_point=\"/mnt/dss-project-works\"\n",
    "dbutils.fs.ls(mount_point)"
   ]
  },
  {
   "cell_type": "code",
   "execution_count": 0,
   "metadata": {
    "application/vnd.databricks.v1+cell": {
     "cellMetadata": {
      "byteLimit": 2048000,
      "rowLimit": 10000
     },
     "inputWidgets": {},
     "nuid": "c7a177e8-32f1-45b3-993e-b6da10619aa6",
     "showTitle": false,
     "title": ""
    }
   },
   "outputs": [],
   "source": [
    "dbutils.fs.ls(\"dbfs:/mnt/dss-project-works/raw-data/\") \n",
    "source=\"/mnt/dss-project-works/raw-data/\""
   ]
  },
  {
   "cell_type": "code",
   "execution_count": 0,
   "metadata": {
    "application/vnd.databricks.v1+cell": {
     "cellMetadata": {
      "byteLimit": 2048000,
      "rowLimit": 10000
     },
     "inputWidgets": {},
     "nuid": "99416467-4122-4a18-a73e-41eeb29bd8a2",
     "showTitle": false,
     "title": ""
    }
   },
   "outputs": [
    {
     "output_type": "stream",
     "name": "stdout",
     "output_type": "stream",
     "text": [
      "+----------+--------------------+-----------+--------------+--------------------+-------------+-----------+--------------------+----------+\n|CustomerID|                Name|CustomerAge|CustomerGender|         FullAddress|         City|PhoneNumber|             EmailID|       DOB|\n+----------+--------------------+-----------+--------------+--------------------+-------------+-----------+--------------------+----------+\n|      U001|      Teresa Coleman|         90|        Female|589 Julie Cape, T...| Philadelphia| 6805671430| stacy06@example.com|1961-05-16|\n|      U002|      April Thompson|         27|          Male|819 Davila Garden...|New York City| 9035430519|   wsoto@example.org|1963-12-25|\n|      U003|      Brittany Patel|         55|          Male|219 Powell Throug...|      Chicago| 5533860370|oliverelizabeth@e...|1934-07-19|\n|      U004|   Ricky Christensen|         77|          Male|745 Courtney Clif...|  San Antonio| 3968078573|rbarrera@example.com|1944-10-17|\n|      U005|        Dennis Kelly|         47|        Female|982 Joseph Port S...|      Houston| 2506634825| mthomas@example.net|1974-06-30|\n|      U006|       Molly Jackson|         26|        Female|390 Kevin Divide ...|      Chicago|  818216378|blankenshipmichae...|1937-04-10|\n|      U007|         William Gay|         30|          Male|4680 Shannon Gree...| Philadelphia| 3430872159|courtneybutler@ex...|1938-05-08|\n|      U008|Christopher Ferguson|         89|          Male|72346 Price Ferry...|    San Diego|  554438424|monique19@example...|1981-10-18|\n|      U009|   Elizabeth Roberts|         72|          Male|95181 David Glens...|New York City| 4626303626|williammiles@exam...|1967-01-21|\n|      U010|  Elizabeth Woodward|         49|          Male|467 Casey Point, ...|  San Antonio| 2384775301|  iwoods@example.net|1937-02-23|\n|      U011|       Mark Anderson|         34|        Female|987 Jacqueline Co...| Philadelphia| 8503778418|   amy47@example.net|1956-02-22|\n|      U012|        Latoya Banks|         52|        Female|485 Jesse Plaza, ...|      Houston| 8929633589|valentinematthew@...|1941-11-13|\n|      U013|      Jesus Atkinson|         72|          Male|737 Kristina Vill...|      Houston| 8517937578|  ejones@example.com|1971-09-01|\n|      U014|       Chad Robinson|         73|          Male|2285 Jeremy Ville...|      Chicago| 8929752909|matthew15@example...|1949-03-06|\n|      U015|   Christopher Owens|         27|          Male|573 Whitaker Neck...|      Phoenix| 6699705537|  bdixon@example.com|1970-12-18|\n|      U016|    Jonathan Sanchez|         89|          Male|78325 Sharon Club...|New York City| 1426055801|annakirk@example.net|1988-08-16|\n|      U017|         Derek Berry|         89|          Male|573 Sheila Vista,...|      Phoenix| 6028720131| dtaylor@example.com|1968-12-25|\n|      U018|          Ruth Weiss|         25|          Male|96093 Morgan Driv...|       Dallas|  271685837|krausejanet@examp...|1982-07-29|\n|      U019|        Ashley Cross|         71|        Female|22575 Palmer Well...|  Los Angeles| 2091944097|amyfranklin@examp...|2004-06-28|\n|      U020|           Amy Berry|         71|        Female|1637 Glover Parkw...|      Chicago| 7692906550|houstonluis@examp...|1984-08-25|\n+----------+--------------------+-----------+--------------+--------------------+-------------+-----------+--------------------+----------+\nonly showing top 20 rows\n\n"
     ]
    }
   ],
   "source": [
    "customerdetails_file=\"/mnt/dss-project-works/raw-data/CustomerDetails.csv\"\n",
    "df_customerdetails=spark.read.format(\"csv\").option(\"header\",\"true\").option(\"inferSchema\",\"true\").load(customerdetails_file)\n",
    "df_customerdetails.show()"
   ]
  },
  {
   "cell_type": "code",
   "execution_count": 0,
   "metadata": {
    "application/vnd.databricks.v1+cell": {
     "cellMetadata": {
      "byteLimit": 2048000,
      "rowLimit": 10000
     },
     "inputWidgets": {},
     "nuid": "de062281-0061-45d4-ba48-bac4c68c92b9",
     "showTitle": false,
     "title": ""
    }
   },
   "outputs": [
    {
     "output_type": "stream",
     "name": "stdout",
     "output_type": "stream",
     "text": [
      "+-------+-------------+---------+----------------+--------------------+------------+------------+---------------+---------------+---------------+\n|StoreID|StoreLocation|ProductID|     ProductName|     ProductCategory|CurrentStock|ReorderLevel|ReorderQuantity|LastRestockDate|ProjectedDemand|\n+-------+-------------+---------+----------------+--------------------+------------+------------+---------------+---------------+---------------+\n|   S001| Philadelphia|     P001|    Clotrimazole|Dermatological (O...|          29|           7|             25|     2024-02-04|             32|\n|   S001|    San Diego|     P001|      Ranitidine|Gastrointestinal ...|          93|           9|             24|     2024-01-01|             25|\n|   S001|      Houston|     P001|       Ibuprofen|Pain Relief (OTC ...|          15|           9|             20|     2024-07-18|             44|\n|   S001|New York City|     P001|      Metoprolol|Cardiovascular Di...|          51|           5|             24|     2024-01-28|             42|\n|   S001|       Dallas|     P001|     Montelukast|Respiratory Disea...|          56|          12|             24|     2024-08-31|             24|\n|   S001|      Phoenix|     P001|     Amoxicillin|Antibiotics (Pres...|          99|          19|             47|     2024-04-27|             25|\n|   S001|      Houston|     P001|Artificial Tears|Eye Health (OTC &...|          49|          13|             48|     2024-07-29|             25|\n|   S001|New York City|     P001|      Sertraline|Mental Health (Pr...|          23|          19|             26|     2024-08-04|             43|\n|   S001|      Houston|     P001|       Efavirenz|AIDS Treatment (P...|          56|          11|             25|     2024-05-29|             10|\n|   S001|       Dallas|     P001|       Glyburide|Diabetes (Prescri...|          13|           9|             41|     2024-05-25|             28|\n|   S001|      Phoenix|     P002|      Loratadine|Eye Health (OTC &...|          44|          12|             22|     2024-08-15|             33|\n|   S001|      Houston|     P002|         Aspirin|Pain Relief (OTC ...|          75|           5|             24|     2024-02-09|             33|\n|   S001|  San Antonio|     P002|   Acetaminophen|Pain Relief (OTC ...|          70|          15|             26|     2024-01-12|             16|\n|   S001|New York City|     P002|       Vitamin D|Bone Health (OTC ...|          93|          19|             48|     2024-05-22|             13|\n|   S001|       Dallas|     P002|    Azithromycin|Antibiotics (Pres...|          41|           7|             39|     2024-01-26|             30|\n|   S002| Philadelphia|     P002|     Amoxicillin|Antibiotics (Pres...|          61|          17|             20|     2024-01-28|             25|\n|   S002|      Houston|     P002|       Glyburide|Diabetes (Prescri...|          80|          19|             37|     2024-01-24|             49|\n|   S002|New York City|     P002|   Emtricitabine|AIDS Treatment (P...|          75|          19|             29|     2024-06-07|             12|\n|   S002|      Houston|     P002|      Sertraline|Mental Health (Pr...|          63|          13|             36|     2024-03-08|             22|\n|   S002|  San Antonio|     P002|     Fluticasone|Respiratory Disea...|          82|          12|             21|     2024-01-20|             17|\n+-------+-------------+---------+----------------+--------------------+------------+------------+---------------+---------------+---------------+\nonly showing top 20 rows\n\n"
     ]
    }
   ],
   "source": [
    "inventory_file=\"/mnt/dss-project-works/raw-data/Inventory_Data_2024.csv\"\n",
    "df_inventory=spark.read.format(\"csv\").option(\"header\", \"true\").option(\"inferSchema\",\"true\").load(inventory_file)\n",
    "df_inventory.show()"
   ]
  },
  {
   "cell_type": "code",
   "execution_count": 0,
   "metadata": {
    "application/vnd.databricks.v1+cell": {
     "cellMetadata": {
      "byteLimit": 2048000,
      "rowLimit": 10000
     },
     "inputWidgets": {},
     "nuid": "1f28b98c-ffa7-41ab-bf10-5250bee7127b",
     "showTitle": false,
     "title": ""
    }
   },
   "outputs": [
    {
     "output_type": "stream",
     "name": "stdout",
     "output_type": "stream",
     "text": [
      "+-------------+-------+-------------+---------+----------+-----------+--------------+---------+--------------------+-------------+--------+---------+----------------+-----------+---------------+---------+-------------------+\n|TransactionID|StoreID|StoreLocation|CashierID|CustomerID|CustomerAge|CustomerGender|ProductID|     ProductCategory|  ProductName|Quantity|UnitPrice|       Timestamp|TotalAmount|DiscountApplied|TaxAmount|TotalAmountAfterTax|\n+-------------+-------+-------------+---------+----------+-----------+--------------+---------+--------------------+-------------+--------+---------+----------------+-----------+---------------+---------+-------------------+\n|        T0001|   S010|  Los Angeles|     C005|      U051|         62|          Male|     P005|Cancer Treatment ...|    Metformin|       4|   115.25|24-06-2024 11:02|      461.0|          25.84|    32.27|             467.43|\n|        T0002|   S008| Philadelphia|     C009|      U018|         29|        Female|     P036|Cancer Treatment ...|   Omeprazole|       1|   424.88|10-06-2024 05:53|     424.88|          44.57|  29.7416|           410.0516|\n|        T0003|   S006|  San Antonio|     C003|      U097|         62|        Female|     P030|Bone Health (OTC ...|  Olopatadine|       1|   124.91|05-08-2024 20:57|     124.91|           9.32|   8.7437|           124.3337|\n|        T0004|   S004|  San Antonio|     C003|      U081|         30|        Female|     P019|Antibiotics (Pres...|Ciprofloxacin|       1|   405.18|01-07-2024 17:52|     405.18|          24.72|  28.3626|           408.8226|\n|        T0005|   S007| Philadelphia|     C005|      U096|         57|          Male|     P012|Bone Health (OTC ...|Emtricitabine|       2|   211.43|15-07-2024 20:20|     422.86|          39.32|  29.6002|           413.1402|\n|        T0006|   S003|     San Jose|     C007|      U019|         46|        Female|     P014|Eye Health (OTC &...|      Aspirin|       1|   162.45|19-07-2024 00:33|     162.45|          15.68|  11.3715|           158.1415|\n|        T0007|   S002|      Houston|     C007|      U018|         42|        Female|     P010|Eye Health (OTC &...|    Metformin|       4|   153.53|20-07-2024 00:25|     614.12|          21.12|  42.9884|           635.9884|\n|        T0008|   S010|       Dallas|     C003|      U069|         42|          Male|     P034|Pain Relief (OTC ...|    Cisplatin|       4|   338.24|08-06-2024 16:14|    1352.96|          19.51|  94.7072|          1428.1572|\n|        T0009|   S003|      Chicago|     C001|      U014|         18|          Male|     P004|Gastrointestinal ...|   Gabapentin|       1|   442.56|12-06-2024 14:42|     442.56|          44.58|  30.9792|           428.9592|\n|        T0010|   S005|     San Jose|     C005|      U007|         40|          Male|     P029|Gastrointestinal ...| Clotrimazole|       4|    48.51|05-06-2024 12:35|     194.04|          40.68|  13.5828|           166.9428|\n|        T0011|   S007|      Phoenix|     C007|      U057|         25|          Male|     P029|Bone Health (OTC ...|Acetaminophen|       4|   209.78|23-06-2024 12:53|     839.12|           7.24|  58.7384|           890.6184|\n|        T0012|   S007|  Los Angeles|     C002|      U091|         39|          Male|     P032|Antibiotics (Pres...|    Vitamin D|       3|   440.66|01-07-2024 20:56|    1321.98|          24.23|  92.5386|          1390.2886|\n|        T0013|   S007|      Chicago|     C003|      U053|         64|        Female|     P002|Neurological Diso...|   Loperamide|       3|   360.78|23-06-2024 02:49|    1082.34|           3.62|  75.7638|          1154.4838|\n|        T0014|   S001|     San Jose|     C002|      U021|         50|        Female|     P014|AIDS Treatment (P...|     Diazepam|       3|    28.63|04-06-2024 02:33|      85.89|          31.21|   6.0123|            60.6923|\n|        T0015|   S007|New York City|     C003|      U037|         36|          Male|     P041|Cardiovascular Di...|   Lisinopril|       1|   238.14|12-07-2024 00:16|     238.14|          29.24|  16.6698|           225.5698|\n|        T0016|   S009|      Chicago|     C005|      U009|         41|          Male|     P005|Antibiotics (Pres...|Ciprofloxacin|       4|   121.95|23-07-2024 18:28|      487.8|          10.21|   34.146|            511.736|\n|        T0017|   S008|      Phoenix|     C004|      U039|         58|        Female|     P010|Bone Health (OTC ...|    Cisplatin|       2|    94.82|10-06-2024 11:59|     189.64|          14.22|  13.2748|           188.6948|\n|        T0018|   S010|     San Jose|     C005|      U059|         36|        Female|     P027|Eye Health (OTC &...|    Vitamin D|       2|   142.14|24-06-2024 07:49|     284.28|          37.58|  19.8996|           266.5996|\n|        T0019|   S005| Philadelphia|     C005|      U065|         53|        Female|     P008|Diabetes (Prescri...|  Olopatadine|       4|    203.3|19-07-2024 01:52|      813.2|           0.01|   56.924|            870.114|\n|        T0020|   S010| Philadelphia|     C009|      U072|         61|          Male|     P025|Bone Health (OTC ...|   Omeprazole|       2|   256.48|26-06-2024 14:04|     512.96|          48.86|  35.9072|           500.0072|\n+-------------+-------+-------------+---------+----------+-----------+--------------+---------+--------------------+-------------+--------+---------+----------------+-----------+---------------+---------+-------------------+\nonly showing top 20 rows\n\n"
     ]
    }
   ],
   "source": [
    "pos_file=\"/mnt/dss-project-works/raw-data/POS_Sales_Data_2024.csv\"\n",
    "df_pos=spark.read.format(\"csv\").option(\"header\",\"true\").option(\"inferSchema\",\"true\").load(pos_file)\n",
    "df_pos.show()"
   ]
  },
  {
   "cell_type": "code",
   "execution_count": 0,
   "metadata": {
    "application/vnd.databricks.v1+cell": {
     "cellMetadata": {
      "byteLimit": 2048000,
      "rowLimit": 10000
     },
     "inputWidgets": {},
     "nuid": "b6f43646-1261-44d0-8ab7-b3000eaba934",
     "showTitle": false,
     "title": ""
    }
   },
   "outputs": [
    {
     "output_type": "stream",
     "name": "stdout",
     "output_type": "stream",
     "text": [
      "+--------+--------------------+--------------------+-----------+\n|VendorID|          VendorName|     ProductCategory| SupplyRate|\n+--------+--------------------+--------------------+-----------+\n|    V001|        Ellis-Farmer|Cancer Treatment ...|1.038399201|\n|    V002|         Edwards PLC|Eye Health (OTC &...|1.097562743|\n|    V003|Smith, Watkins an...|Cancer Treatment ...|0.960920011|\n|    V004|           Baird Ltd|Mental Health (Pr...|0.818460498|\n|    V005|            Yang Inc|Pain Relief (OTC ...| 1.19648295|\n|    V006|       Sandoval-Wang|Antibiotics (Pres...|1.196316238|\n|    V007|         Munoz-Ramos|Cardiovascular Di...|1.105356666|\n|    V008|   Hamilton-Callahan|Diabetes (Prescri...|0.873965169|\n|    V009|White, Burke and ...|AIDS Treatment (P...| 0.83970798|\n|    V010|       Stewart Group|Diabetes (Prescri...|0.817664363|\n+--------+--------------------+--------------------+-----------+\n\n"
     ]
    }
   ],
   "source": [
    "vendor_file=\"/mnt/dss-project-works/raw-data/Product_Categorywise_Vendor_Data_2024.csv\"\n",
    "df_vendor=spark.read.format(\"csv\").option(\"header\",\"true\").option(\"inferSchema\",\"true\").load(vendor_file)\n",
    "df_vendor.show()"
   ]
  },
  {
   "cell_type": "code",
   "execution_count": 0,
   "metadata": {
    "application/vnd.databricks.v1+cell": {
     "cellMetadata": {
      "byteLimit": 2048000,
      "rowLimit": 10000
     },
     "inputWidgets": {},
     "nuid": "127e6e4f-0fbd-4386-b2ef-00306d2a2313",
     "showTitle": false,
     "title": ""
    }
   },
   "outputs": [
    {
     "output_type": "stream",
     "name": "stdout",
     "output_type": "stream",
     "text": [
      "+--------+-------------+--------------------+-----------+\n|VendorID|   VendorName|     ProductCategory| SupplyRate|\n+--------+-------------+--------------------+-----------+\n|    V001| Ellis-Farmer|Cancer Treatment ...|1.038399201|\n|    V002|  Edwards PLC|Eye Health (OTC &...|1.097562743|\n|    V005|     Yang Inc|Pain Relief (OTC ...| 1.19648295|\n|    V006|Sandoval-Wang|Antibiotics (Pres...|1.196316238|\n|    V007|  Munoz-Ramos|Cardiovascular Di...|1.105356666|\n+--------+-------------+--------------------+-----------+\n\n"
     ]
    }
   ],
   "source": [
    "df_vendors_filtered=df_vendor.filter(col(\"SupplyRate\")>=1.0)\n",
    "df_vendors_filtered.show()"
   ]
  },
  {
   "cell_type": "code",
   "execution_count": 0,
   "metadata": {
    "application/vnd.databricks.v1+cell": {
     "cellMetadata": {
      "byteLimit": 2048000,
      "rowLimit": 10000
     },
     "inputWidgets": {},
     "nuid": "1a6c99ee-6930-4a6c-83c5-8430c1e60f5a",
     "showTitle": false,
     "title": ""
    }
   },
   "outputs": [
    {
     "output_type": "execute_result",
     "data": {
      "text/plain": [
       "[FileInfo(path='dbfs:/mnt/dss-project-works/project-data/', name='project-data/', size=0, modificationTime=0),\n",
       " FileInfo(path='dbfs:/mnt/dss-project-works/raw-data/', name='raw-data/', size=0, modificationTime=0),\n",
       " FileInfo(path='dbfs:/mnt/dss-project-works/test_output_from_adb/', name='test_output_from_adb/', size=0, modificationTime=0)]"
      ]
     },
     "execution_count": 9,
     "metadata": {},
     "output_type": "execute_result"
    }
   ],
   "source": [
    "mount_point=\"/mnt/dss-project-works\"\n",
    "dbutils.fs.ls(mount_point)"
   ]
  },
  {
   "cell_type": "code",
   "execution_count": 0,
   "metadata": {
    "application/vnd.databricks.v1+cell": {
     "cellMetadata": {
      "byteLimit": 2048000,
      "rowLimit": 10000
     },
     "inputWidgets": {},
     "nuid": "5aff1408-2da1-46dc-af6f-9d47eb03e56e",
     "showTitle": false,
     "title": ""
    }
   },
   "outputs": [],
   "source": [
    "#repartition to only 1 part file in the output\n",
    "\n",
    "test=\"/mnt/dss-project-works/test_output_from_adb/\"\n",
    "df_vendors_filtered.repartition(1).write.mode(\"overwrite\").format('csv').save(test)"
   ]
  },
  {
   "cell_type": "code",
   "execution_count": 0,
   "metadata": {
    "application/vnd.databricks.v1+cell": {
     "cellMetadata": {
      "byteLimit": 2048000,
      "implicitDf": true,
      "rowLimit": 10000
     },
     "inputWidgets": {},
     "nuid": "b77e9693-1850-494b-86f4-1bd41020adfc",
     "showTitle": false,
     "title": ""
    }
   },
   "outputs": [
    {
     "output_type": "display_data",
     "data": {
      "text/html": [
       "<style scoped>\n",
       "  .table-result-container {\n",
       "    max-height: 300px;\n",
       "    overflow: auto;\n",
       "  }\n",
       "  table, th, td {\n",
       "    border: 1px solid black;\n",
       "    border-collapse: collapse;\n",
       "  }\n",
       "  th, td {\n",
       "    padding: 5px;\n",
       "  }\n",
       "  th {\n",
       "    text-align: left;\n",
       "  }\n",
       "</style><div class='table-result-container'><table class='table-result'><thead style='background-color: white'><tr></tr></thead><tbody></tbody></table></div>"
      ]
     },
     "metadata": {
      "application/vnd.databricks.v1+output": {
       "addedWidgets": {},
       "aggData": [],
       "aggError": "",
       "aggOverflow": false,
       "aggSchema": [],
       "aggSeriesLimitReached": false,
       "aggType": "",
       "arguments": {},
       "columnCustomDisplayInfos": {},
       "data": [],
       "datasetInfos": [],
       "dbfsResultPath": null,
       "isJsonSchema": true,
       "metadata": {
        "dataframeName": null
       },
       "overflow": false,
       "plotOptions": {
        "customPlotOptions": {},
        "displayType": "table",
        "pivotAggregation": null,
        "pivotColumns": null,
        "xColumns": null,
        "yColumns": null
       },
       "removedWidgets": [],
       "schema": [],
       "type": "table"
      }
     },
     "output_type": "display_data"
    }
   ],
   "source": [
    "#creating a database to create a delta table inside it\n",
    "%sql\n",
    "CREATE DATABASE IF NOT EXISTS test"
   ]
  },
  {
   "cell_type": "code",
   "execution_count": 0,
   "metadata": {
    "application/vnd.databricks.v1+cell": {
     "cellMetadata": {
      "byteLimit": 2048000,
      "implicitDf": true,
      "rowLimit": 10000
     },
     "inputWidgets": {},
     "nuid": "c6cda167-11fc-47f5-9667-105252d50853",
     "showTitle": false,
     "title": ""
    }
   },
   "outputs": [
    {
     "output_type": "display_data",
     "data": {
      "text/html": [
       "<style scoped>\n",
       "  .table-result-container {\n",
       "    max-height: 300px;\n",
       "    overflow: auto;\n",
       "  }\n",
       "  table, th, td {\n",
       "    border: 1px solid black;\n",
       "    border-collapse: collapse;\n",
       "  }\n",
       "  th, td {\n",
       "    padding: 5px;\n",
       "  }\n",
       "  th {\n",
       "    text-align: left;\n",
       "  }\n",
       "</style><div class='table-result-container'><table class='table-result'><thead style='background-color: white'><tr><th>VendorID</th><th>VendorName</th><th>ProductCategory</th><th>SupplyRate</th></tr></thead><tbody><tr><td>V001</td><td>Ellis-Farmer</td><td>Cancer Treatment (Prescription)</td><td>1.038399201</td></tr><tr><td>V002</td><td>Edwards PLC</td><td>Eye Health (OTC & Prescription)</td><td>1.097562743</td></tr><tr><td>V005</td><td>Yang Inc</td><td>Pain Relief (OTC & Prescription)</td><td>1.19648295</td></tr><tr><td>V006</td><td>Sandoval-Wang</td><td>Antibiotics (Prescription)</td><td>1.196316238</td></tr><tr><td>V007</td><td>Munoz-Ramos</td><td>Cardiovascular Diseases (Prescription)</td><td>1.105356666</td></tr></tbody></table></div>"
      ]
     },
     "metadata": {
      "application/vnd.databricks.v1+output": {
       "addedWidgets": {},
       "aggData": [],
       "aggError": "",
       "aggOverflow": false,
       "aggSchema": [],
       "aggSeriesLimitReached": false,
       "aggType": "",
       "arguments": {},
       "columnCustomDisplayInfos": {},
       "data": [
        [
         "V001",
         "Ellis-Farmer",
         "Cancer Treatment (Prescription)",
         1.038399201
        ],
        [
         "V002",
         "Edwards PLC",
         "Eye Health (OTC & Prescription)",
         1.097562743
        ],
        [
         "V005",
         "Yang Inc",
         "Pain Relief (OTC & Prescription)",
         1.19648295
        ],
        [
         "V006",
         "Sandoval-Wang",
         "Antibiotics (Prescription)",
         1.196316238
        ],
        [
         "V007",
         "Munoz-Ramos",
         "Cardiovascular Diseases (Prescription)",
         1.105356666
        ]
       ],
       "datasetInfos": [],
       "dbfsResultPath": null,
       "isJsonSchema": true,
       "metadata": {
        "createTempViewForImplicitDf": true,
        "dataframeName": "_sqldf",
        "executionCount": 11
       },
       "overflow": false,
       "plotOptions": {
        "customPlotOptions": {},
        "displayType": "table",
        "pivotAggregation": null,
        "pivotColumns": null,
        "xColumns": null,
        "yColumns": null
       },
       "removedWidgets": [],
       "schema": [
        {
         "metadata": "{}",
         "name": "VendorID",
         "type": "\"string\""
        },
        {
         "metadata": "{}",
         "name": "VendorName",
         "type": "\"string\""
        },
        {
         "metadata": "{}",
         "name": "ProductCategory",
         "type": "\"string\""
        },
        {
         "metadata": "{}",
         "name": "SupplyRate",
         "type": "\"double\""
        }
       ],
       "type": "table"
      }
     },
     "output_type": "display_data"
    }
   ],
   "source": [
    "%sql\n",
    "SELECT * FROM test.df_vendors_filtered"
   ]
  },
  {
   "cell_type": "code",
   "execution_count": 0,
   "metadata": {
    "application/vnd.databricks.v1+cell": {
     "cellMetadata": {
      "byteLimit": 2048000,
      "implicitDf": true,
      "rowLimit": 10000
     },
     "inputWidgets": {},
     "nuid": "f5b9cb37-2097-43f6-a944-21cbc51e6cd1",
     "showTitle": false,
     "title": ""
    }
   },
   "outputs": [
    {
     "output_type": "display_data",
     "data": {
      "text/html": [
       "<style scoped>\n",
       "  .table-result-container {\n",
       "    max-height: 300px;\n",
       "    overflow: auto;\n",
       "  }\n",
       "  table, th, td {\n",
       "    border: 1px solid black;\n",
       "    border-collapse: collapse;\n",
       "  }\n",
       "  th, td {\n",
       "    padding: 5px;\n",
       "  }\n",
       "  th {\n",
       "    text-align: left;\n",
       "  }\n",
       "</style><div class='table-result-container'><table class='table-result'><thead style='background-color: white'><tr><th>col_name</th><th>data_type</th><th>comment</th></tr></thead><tbody><tr><td>VendorID</td><td>string</td><td>null</td></tr><tr><td>VendorName</td><td>string</td><td>null</td></tr><tr><td>ProductCategory</td><td>string</td><td>null</td></tr><tr><td>SupplyRate</td><td>double</td><td>null</td></tr></tbody></table></div>"
      ]
     },
     "metadata": {
      "application/vnd.databricks.v1+output": {
       "addedWidgets": {},
       "aggData": [],
       "aggError": "",
       "aggOverflow": false,
       "aggSchema": [],
       "aggSeriesLimitReached": false,
       "aggType": "",
       "arguments": {},
       "columnCustomDisplayInfos": {},
       "data": [
        [
         "VendorID",
         "string",
         null
        ],
        [
         "VendorName",
         "string",
         null
        ],
        [
         "ProductCategory",
         "string",
         null
        ],
        [
         "SupplyRate",
         "double",
         null
        ]
       ],
       "datasetInfos": [],
       "dbfsResultPath": null,
       "isJsonSchema": true,
       "metadata": {
        "createTempViewForImplicitDf": true,
        "dataframeName": "_sqldf",
        "executionCount": 12
       },
       "overflow": false,
       "plotOptions": {
        "customPlotOptions": {},
        "displayType": "table",
        "pivotAggregation": null,
        "pivotColumns": null,
        "xColumns": null,
        "yColumns": null
       },
       "removedWidgets": [],
       "schema": [
        {
         "metadata": "{\"comment\":\"name of the column\"}",
         "name": "col_name",
         "type": "\"string\""
        },
        {
         "metadata": "{\"comment\":\"data type of the column\"}",
         "name": "data_type",
         "type": "\"string\""
        },
        {
         "metadata": "{\"comment\":\"comment of the column\"}",
         "name": "comment",
         "type": "\"string\""
        }
       ],
       "type": "table"
      }
     },
     "output_type": "display_data"
    }
   ],
   "source": [
    "%sql\n",
    "DESCRIBE project_adb.test.df_vendors_filtered;\n"
   ]
  },
  {
   "cell_type": "code",
   "execution_count": 0,
   "metadata": {
    "application/vnd.databricks.v1+cell": {
     "cellMetadata": {
      "byteLimit": 2048000,
      "implicitDf": true,
      "rowLimit": 10000
     },
     "inputWidgets": {},
     "nuid": "903ef6b8-2fb0-4df7-962e-02049f4345f0",
     "showTitle": false,
     "title": ""
    }
   },
   "outputs": [
    {
     "output_type": "display_data",
     "data": {
      "text/html": [
       "<style scoped>\n",
       "  .table-result-container {\n",
       "    max-height: 300px;\n",
       "    overflow: auto;\n",
       "  }\n",
       "  table, th, td {\n",
       "    border: 1px solid black;\n",
       "    border-collapse: collapse;\n",
       "  }\n",
       "  th, td {\n",
       "    padding: 5px;\n",
       "  }\n",
       "  th {\n",
       "    text-align: left;\n",
       "  }\n",
       "</style><div class='table-result-container'><table class='table-result'><thead style='background-color: white'><tr></tr></thead><tbody></tbody></table></div>"
      ]
     },
     "metadata": {
      "application/vnd.databricks.v1+output": {
       "addedWidgets": {},
       "aggData": [],
       "aggError": "",
       "aggOverflow": false,
       "aggSchema": [],
       "aggSeriesLimitReached": false,
       "aggType": "",
       "arguments": {},
       "columnCustomDisplayInfos": {},
       "data": [],
       "datasetInfos": [],
       "dbfsResultPath": null,
       "isJsonSchema": true,
       "metadata": {
        "dataframeName": null
       },
       "overflow": false,
       "plotOptions": {
        "customPlotOptions": {},
        "displayType": "table",
        "pivotAggregation": null,
        "pivotColumns": null,
        "xColumns": null,
        "yColumns": null
       },
       "removedWidgets": [],
       "schema": [],
       "type": "table"
      }
     },
     "output_type": "display_data"
    }
   ],
   "source": [
    "#Creating a delta table\n",
    "\n",
    "%sql\n",
    "CREATE TABLE IF NOT EXISTS test.df_vendors_filtered \n",
    "(\n",
    "  VendorID VARCHAR(10),\n",
    "  VendorName VARCHAR(100),\n",
    "  ProductCategory VARCHAR(100),\n",
    "  SupplyRate DECIMAL(8,6)\n",
    ")\n",
    "USING DELTA"
   ]
  },
  {
   "cell_type": "code",
   "execution_count": 0,
   "metadata": {
    "application/vnd.databricks.v1+cell": {
     "cellMetadata": {
      "byteLimit": 2048000,
      "rowLimit": 10000
     },
     "inputWidgets": {},
     "nuid": "f76ff686-f846-4997-8f88-4982ec955c99",
     "showTitle": false,
     "title": ""
    }
   },
   "outputs": [],
   "source": [
    "#Saving delta frame to a delta table\n",
    "\n",
    "df_vendors_filtered.write.mode(\"overwrite\") \\\n",
    "    .option(\"overwriteSchema\", \"true\") \\\n",
    "    .format('delta') \\\n",
    "    .saveAsTable(\"test.df_vendors_filtered\")"
   ]
  },
  {
   "cell_type": "code",
   "execution_count": 0,
   "metadata": {
    "application/vnd.databricks.v1+cell": {
     "cellMetadata": {
      "byteLimit": 2048000,
      "rowLimit": 10000
     },
     "inputWidgets": {},
     "nuid": "3d03f1e5-c1c2-4adf-94e3-81b887e90a06",
     "showTitle": false,
     "title": ""
    }
   },
   "outputs": [
    {
     "output_type": "stream",
     "name": "stdout",
     "output_type": "stream",
     "text": [
      "root\n |-- VendorID: string (nullable = true)\n |-- VendorName: string (nullable = true)\n |-- ProductCategory: string (nullable = true)\n |-- SupplyRate: double (nullable = true)\n\n"
     ]
    }
   ],
   "source": [
    "df_vendors_filtered.printSchema()"
   ]
  },
  {
   "cell_type": "code",
   "execution_count": 0,
   "metadata": {
    "application/vnd.databricks.v1+cell": {
     "cellMetadata": {
      "byteLimit": 2048000,
      "implicitDf": true,
      "rowLimit": 10000
     },
     "inputWidgets": {},
     "nuid": "9c60933e-6dbe-41cd-9b21-955858b7d40c",
     "showTitle": false,
     "title": ""
    }
   },
   "outputs": [
    {
     "output_type": "display_data",
     "data": {
      "text/html": [
       "<style scoped>\n",
       "  .table-result-container {\n",
       "    max-height: 300px;\n",
       "    overflow: auto;\n",
       "  }\n",
       "  table, th, td {\n",
       "    border: 1px solid black;\n",
       "    border-collapse: collapse;\n",
       "  }\n",
       "  th, td {\n",
       "    padding: 5px;\n",
       "  }\n",
       "  th {\n",
       "    text-align: left;\n",
       "  }\n",
       "</style><div class='table-result-container'><table class='table-result'><thead style='background-color: white'><tr><th>VendorID</th><th>VendorName</th><th>ProductCategory</th><th>SupplyRate</th></tr></thead><tbody><tr><td>V001</td><td>Ellis-Farmer</td><td>Cancer Treatment (Prescription)</td><td>1.038399201</td></tr><tr><td>V002</td><td>Edwards PLC</td><td>Eye Health (OTC & Prescription)</td><td>1.097562743</td></tr><tr><td>V005</td><td>Yang Inc</td><td>Pain Relief (OTC & Prescription)</td><td>1.19648295</td></tr><tr><td>V006</td><td>Sandoval-Wang</td><td>Antibiotics (Prescription)</td><td>1.196316238</td></tr><tr><td>V007</td><td>Munoz-Ramos</td><td>Cardiovascular Diseases (Prescription)</td><td>1.105356666</td></tr></tbody></table></div>"
      ]
     },
     "metadata": {
      "application/vnd.databricks.v1+output": {
       "addedWidgets": {},
       "aggData": [],
       "aggError": "",
       "aggOverflow": false,
       "aggSchema": [],
       "aggSeriesLimitReached": false,
       "aggType": "",
       "arguments": {},
       "columnCustomDisplayInfos": {},
       "data": [
        [
         "V001",
         "Ellis-Farmer",
         "Cancer Treatment (Prescription)",
         1.038399201
        ],
        [
         "V002",
         "Edwards PLC",
         "Eye Health (OTC & Prescription)",
         1.097562743
        ],
        [
         "V005",
         "Yang Inc",
         "Pain Relief (OTC & Prescription)",
         1.19648295
        ],
        [
         "V006",
         "Sandoval-Wang",
         "Antibiotics (Prescription)",
         1.196316238
        ],
        [
         "V007",
         "Munoz-Ramos",
         "Cardiovascular Diseases (Prescription)",
         1.105356666
        ]
       ],
       "datasetInfos": [],
       "dbfsResultPath": null,
       "isJsonSchema": true,
       "metadata": {
        "createTempViewForImplicitDf": true,
        "dataframeName": "_sqldf",
        "executionCount": 15
       },
       "overflow": false,
       "plotOptions": {
        "customPlotOptions": {},
        "displayType": "table",
        "pivotAggregation": null,
        "pivotColumns": null,
        "xColumns": null,
        "yColumns": null
       },
       "removedWidgets": [],
       "schema": [
        {
         "metadata": "{}",
         "name": "VendorID",
         "type": "\"string\""
        },
        {
         "metadata": "{}",
         "name": "VendorName",
         "type": "\"string\""
        },
        {
         "metadata": "{}",
         "name": "ProductCategory",
         "type": "\"string\""
        },
        {
         "metadata": "{}",
         "name": "SupplyRate",
         "type": "\"double\""
        }
       ],
       "type": "table"
      }
     },
     "output_type": "display_data"
    }
   ],
   "source": [
    "%sql\n",
    "SELECT * FROM test.df_vendors_filtered"
   ]
  },
  {
   "cell_type": "code",
   "execution_count": 0,
   "metadata": {
    "application/vnd.databricks.v1+cell": {
     "cellMetadata": {
      "byteLimit": 2048000,
      "implicitDf": true,
      "rowLimit": 10000
     },
     "inputWidgets": {},
     "nuid": "02ab00e4-02bd-416c-bf9b-74bdddae3daa",
     "showTitle": false,
     "title": ""
    }
   },
   "outputs": [
    {
     "output_type": "display_data",
     "data": {
      "text/html": [
       "<style scoped>\n",
       "  .table-result-container {\n",
       "    max-height: 300px;\n",
       "    overflow: auto;\n",
       "  }\n",
       "  table, th, td {\n",
       "    border: 1px solid black;\n",
       "    border-collapse: collapse;\n",
       "  }\n",
       "  th, td {\n",
       "    padding: 5px;\n",
       "  }\n",
       "  th {\n",
       "    text-align: left;\n",
       "  }\n",
       "</style><div class='table-result-container'><table class='table-result'><thead style='background-color: white'><tr><th>col_name</th><th>data_type</th><th>comment</th></tr></thead><tbody><tr><td>VendorID</td><td>string</td><td>null</td></tr><tr><td>VendorName</td><td>string</td><td>null</td></tr><tr><td>ProductCategory</td><td>string</td><td>null</td></tr><tr><td>SupplyRate</td><td>double</td><td>null</td></tr><tr><td></td><td></td><td></td></tr><tr><td># Delta Statistics Columns</td><td></td><td></td></tr><tr><td>Column Names</td><td>VendorID, VendorName, ProductCategory, SupplyRate</td><td></td></tr><tr><td>Column Selection Method</td><td>first-32</td><td></td></tr><tr><td></td><td></td><td></td></tr><tr><td># Detailed Table Information</td><td></td><td></td></tr><tr><td>Catalog</td><td>project_adb</td><td></td></tr><tr><td>Database</td><td>test</td><td></td></tr><tr><td>Table</td><td>df_vendors_filtered</td><td></td></tr><tr><td>Created Time</td><td>Mon Sep 23 05:49:11 UTC 2024</td><td></td></tr><tr><td>Last Access</td><td>UNKNOWN</td><td></td></tr><tr><td>Created By</td><td>Spark </td><td></td></tr><tr><td>Type</td><td>MANAGED</td><td></td></tr><tr><td>Location</td><td>abfss://unity-catalog-storage@dbstorage3b2gxjqnmt5vk.dfs.core.windows.net/1451525337735295/__unitystorage/catalogs/dae857fb-5f98-4213-beaf-de47b34ad5cc/tables/087780f0-abd0-4234-93e4-e7ec9ee8f236</td><td></td></tr><tr><td>Provider</td><td>delta</td><td></td></tr><tr><td>Owner</td><td>pulastyadas17@gmail.com</td><td></td></tr><tr><td>Is_managed_location</td><td>true</td><td></td></tr><tr><td>Table Properties</td><td>[delta.enableDeletionVectors=true,delta.feature.deletionVectors=supported,delta.minReaderVersion=3,delta.minWriterVersion=7]</td><td></td></tr></tbody></table></div>"
      ]
     },
     "metadata": {
      "application/vnd.databricks.v1+output": {
       "addedWidgets": {},
       "aggData": [],
       "aggError": "",
       "aggOverflow": false,
       "aggSchema": [],
       "aggSeriesLimitReached": false,
       "aggType": "",
       "arguments": {},
       "columnCustomDisplayInfos": {},
       "data": [
        [
         "VendorID",
         "string",
         null
        ],
        [
         "VendorName",
         "string",
         null
        ],
        [
         "ProductCategory",
         "string",
         null
        ],
        [
         "SupplyRate",
         "double",
         null
        ],
        [
         "",
         "",
         ""
        ],
        [
         "# Delta Statistics Columns",
         "",
         ""
        ],
        [
         "Column Names",
         "VendorID, VendorName, ProductCategory, SupplyRate",
         ""
        ],
        [
         "Column Selection Method",
         "first-32",
         ""
        ],
        [
         "",
         "",
         ""
        ],
        [
         "# Detailed Table Information",
         "",
         ""
        ],
        [
         "Catalog",
         "project_adb",
         ""
        ],
        [
         "Database",
         "test",
         ""
        ],
        [
         "Table",
         "df_vendors_filtered",
         ""
        ],
        [
         "Created Time",
         "Mon Sep 23 05:49:11 UTC 2024",
         ""
        ],
        [
         "Last Access",
         "UNKNOWN",
         ""
        ],
        [
         "Created By",
         "Spark ",
         ""
        ],
        [
         "Type",
         "MANAGED",
         ""
        ],
        [
         "Location",
         "abfss://unity-catalog-storage@dbstorage3b2gxjqnmt5vk.dfs.core.windows.net/1451525337735295/__unitystorage/catalogs/dae857fb-5f98-4213-beaf-de47b34ad5cc/tables/087780f0-abd0-4234-93e4-e7ec9ee8f236",
         ""
        ],
        [
         "Provider",
         "delta",
         ""
        ],
        [
         "Owner",
         "pulastyadas17@gmail.com",
         ""
        ],
        [
         "Is_managed_location",
         "true",
         ""
        ],
        [
         "Table Properties",
         "[delta.enableDeletionVectors=true,delta.feature.deletionVectors=supported,delta.minReaderVersion=3,delta.minWriterVersion=7]",
         ""
        ]
       ],
       "datasetInfos": [],
       "dbfsResultPath": null,
       "isJsonSchema": true,
       "metadata": {
        "createTempViewForImplicitDf": true,
        "dataframeName": "_sqldf",
        "executionCount": 16
       },
       "overflow": false,
       "plotOptions": {
        "customPlotOptions": {},
        "displayType": "table",
        "pivotAggregation": null,
        "pivotColumns": null,
        "xColumns": null,
        "yColumns": null
       },
       "removedWidgets": [],
       "schema": [
        {
         "metadata": "{\"comment\":\"name of the column\"}",
         "name": "col_name",
         "type": "\"string\""
        },
        {
         "metadata": "{\"comment\":\"data type of the column\"}",
         "name": "data_type",
         "type": "\"string\""
        },
        {
         "metadata": "{\"comment\":\"comment of the column\"}",
         "name": "comment",
         "type": "\"string\""
        }
       ],
       "type": "table"
      }
     },
     "output_type": "display_data"
    }
   ],
   "source": [
    "%sql\n",
    "DESCRIBE EXTENDED test.df_vendors_filtered"
   ]
  },
  {
   "cell_type": "code",
   "execution_count": 0,
   "metadata": {
    "application/vnd.databricks.v1+cell": {
     "cellMetadata": {
      "byteLimit": 2048000,
      "rowLimit": 10000
     },
     "inputWidgets": {},
     "nuid": "933ebee5-7759-4cc6-8eeb-5439ec812694",
     "showTitle": false,
     "title": ""
    }
   },
   "outputs": [
    {
     "output_type": "display_data",
     "data": {
      "text/html": [
       "<style scoped>\n",
       "  .table-result-container {\n",
       "    max-height: 300px;\n",
       "    overflow: auto;\n",
       "  }\n",
       "  table, th, td {\n",
       "    border: 1px solid black;\n",
       "    border-collapse: collapse;\n",
       "  }\n",
       "  th, td {\n",
       "    padding: 5px;\n",
       "  }\n",
       "  th {\n",
       "    text-align: left;\n",
       "  }\n",
       "</style><div class='table-result-container'><table class='table-result'><thead style='background-color: white'><tr><th>VendorID</th><th>VendorName</th><th>ProductCategory</th><th>SupplyRate</th></tr></thead><tbody><tr><td>V001</td><td>Ellis-Farmer</td><td>Cancer Treatment (Prescription)</td><td>1.038399201</td></tr><tr><td>V002</td><td>Edwards PLC</td><td>Eye Health (OTC & Prescription)</td><td>1.097562743</td></tr><tr><td>V005</td><td>Yang Inc</td><td>Pain Relief (OTC & Prescription)</td><td>1.19648295</td></tr><tr><td>V006</td><td>Sandoval-Wang</td><td>Antibiotics (Prescription)</td><td>1.196316238</td></tr><tr><td>V007</td><td>Munoz-Ramos</td><td>Cardiovascular Diseases (Prescription)</td><td>1.105356666</td></tr></tbody></table></div>"
      ]
     },
     "metadata": {
      "application/vnd.databricks.v1+output": {
       "addedWidgets": {},
       "aggData": [],
       "aggError": "",
       "aggOverflow": false,
       "aggSchema": [],
       "aggSeriesLimitReached": false,
       "aggType": "",
       "arguments": {},
       "columnCustomDisplayInfos": {},
       "data": [
        [
         "V001",
         "Ellis-Farmer",
         "Cancer Treatment (Prescription)",
         1.038399201
        ],
        [
         "V002",
         "Edwards PLC",
         "Eye Health (OTC & Prescription)",
         1.097562743
        ],
        [
         "V005",
         "Yang Inc",
         "Pain Relief (OTC & Prescription)",
         1.19648295
        ],
        [
         "V006",
         "Sandoval-Wang",
         "Antibiotics (Prescription)",
         1.196316238
        ],
        [
         "V007",
         "Munoz-Ramos",
         "Cardiovascular Diseases (Prescription)",
         1.105356666
        ]
       ],
       "datasetInfos": [],
       "dbfsResultPath": null,
       "isJsonSchema": true,
       "metadata": {},
       "overflow": false,
       "plotOptions": {
        "customPlotOptions": {},
        "displayType": "table",
        "pivotAggregation": null,
        "pivotColumns": null,
        "xColumns": null,
        "yColumns": null
       },
       "removedWidgets": [],
       "schema": [
        {
         "metadata": "{}",
         "name": "VendorID",
         "type": "\"string\""
        },
        {
         "metadata": "{}",
         "name": "VendorName",
         "type": "\"string\""
        },
        {
         "metadata": "{}",
         "name": "ProductCategory",
         "type": "\"string\""
        },
        {
         "metadata": "{}",
         "name": "SupplyRate",
         "type": "\"double\""
        }
       ],
       "type": "table"
      }
     },
     "output_type": "display_data"
    }
   ],
   "source": [
    "#Loading existing delta table contents to a dataframe\n",
    "\n",
    "df=spark.table(\"project_adb.test.df_vendors_filtered\")\n",
    "display(df)"
   ]
  },
  {
   "cell_type": "code",
   "execution_count": 0,
   "metadata": {
    "application/vnd.databricks.v1+cell": {
     "cellMetadata": {
      "byteLimit": 2048000,
      "rowLimit": 10000
     },
     "inputWidgets": {},
     "nuid": "48597a01-1c57-4fc1-9bc6-f1ade3a6c9a0",
     "showTitle": false,
     "title": ""
    }
   },
   "outputs": [],
   "source": [
    "#Save output file in different file formats with name like 'part-00000' in adls\n",
    "\n",
    "df2=spark.table(\"project_adb.test.df_vendors_filtered\")\n",
    "df2.write.mode(\"overwrite\").format(\"csv\").save(\"/mnt/dss-project-works/project-data/test_output_from_adb/delta-table-test-output/df_vendors_filtered.csv\",header=True)"
   ]
  },
  {
   "cell_type": "code",
   "execution_count": 0,
   "metadata": {
    "application/vnd.databricks.v1+cell": {
     "cellMetadata": {
      "byteLimit": 2048000,
      "rowLimit": 10000
     },
     "inputWidgets": {},
     "nuid": "91761943-7033-4605-8ec6-09b94108751a",
     "showTitle": false,
     "title": ""
    }
   },
   "outputs": [
    {
     "output_type": "stream",
     "name": "stdout",
     "output_type": "stream",
     "text": [
      "2024-09-24\n"
     ]
    }
   ],
   "source": [
    "#Custom Name File Renaming in Databricks with date format directory\n",
    "\n",
    "from pyspark.sql.functions import current_date\n",
    "\n",
    "files = dbutils.fs.ls(\"dbfs:/mnt/dss-project-works/project-data/test_output_from_adb/delta-table-test-output/\")\n",
    "\n",
    "current_date_value = spark.sql(\"SELECT date_format(current_date(), 'yyyy-MM-dd')\").collect()[0][0]\n",
    "print(current_date_value)\n",
    "\n",
    "dbutils.fs.mkdirs(f\"dbfs:/mnt/dss-project-works/project-data/test_output_from_adb/{current_date_value}\")\n",
    "\n",
    "for file in files:\n",
    "    if \"part-00000-tid-\" in file.name:\n",
    "        dbutils.fs.cp(file.path,destination_path)\n",
    "        break\n"
   ]
  },
  {
   "cell_type": "code",
   "execution_count": 0,
   "metadata": {
    "application/vnd.databricks.v1+cell": {
     "cellMetadata": {
      "byteLimit": 2048000,
      "rowLimit": 10000
     },
     "inputWidgets": {},
     "nuid": "9a64a4aa-548d-4b84-9ef4-723b265bb5cb",
     "showTitle": false,
     "title": ""
    }
   },
   "outputs": [],
   "source": [
    "#Save output file in different file formats\n",
    "\n",
    "df=spark.table(\"project_adb.test.df_vendors_filtered\")\n",
    "df.write.mode(\"overwrite\").format(\"parquet\").save(\"/mnt/dss-project-works/project-data/test_output_from_adb/delta-table-test-output/\")\n",
    "\n",
    "df1=spark.table(\"project_adb.test.df_vendors_filtered\")\n",
    "df1.write.mode(\"overwrite\").format(\"csv\").save(\"/mnt/dss-project-works/project-data/test_output_from_adb/delta-table-test-output/\")"
   ]
  }
 ],
 "metadata": {
  "application/vnd.databricks.v1+notebook": {
   "dashboards": [],
   "environmentMetadata": {
    "base_environment": "",
    "client": "1"
   },
   "language": "python",
   "notebookMetadata": {
    "mostRecentlyExecutedCommandWithImplicitDF": {
     "commandId": 2277089078575803,
     "dataframes": [
      "_sqldf"
     ]
    },
    "pythonIndentUnit": 4
   },
   "notebookName": "Test_Mounting_ADLS_Save_CustomName_File_Output_Date_based_Directory_ADLS",
   "widgets": {}
  }
 },
 "nbformat": 4,
 "nbformat_minor": 0
}
