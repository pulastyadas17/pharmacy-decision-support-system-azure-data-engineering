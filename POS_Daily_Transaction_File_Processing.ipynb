{
 "cells": [
  {
   "cell_type": "code",
   "execution_count": 0,
   "metadata": {
    "application/vnd.databricks.v1+cell": {
     "cellMetadata": {
      "byteLimit": 2048000,
      "rowLimit": 10000
     },
     "inputWidgets": {},
     "nuid": "7d828c9c-0f82-432b-b119-b5fc666fc107",
     "showTitle": false,
     "title": ""
    }
   },
   "outputs": [],
   "source": [
    "from pyspark.sql import SparkSession\n",
    "from pyspark.dbutils import DBUtils\n",
    "from datetime import datetime\n",
    "from pyspark.sql.functions import *\n",
    "from pyspark.sql.types import *\n",
    "spark=SparkSession.builder.appName(\"PROJECT\").getOrCreate()"
   ]
  },
  {
   "cell_type": "code",
   "execution_count": 0,
   "metadata": {
    "application/vnd.databricks.v1+cell": {
     "cellMetadata": {
      "byteLimit": 2048000,
      "rowLimit": 10000
     },
     "inputWidgets": {},
     "nuid": "c32850b4-e0f7-4492-84ff-5aae738b971e",
     "showTitle": false,
     "title": ""
    }
   },
   "outputs": [],
   "source": [
    "import logging\n",
    "from pyspark.sql import SparkSession\n",
    "from pyspark.dbutils import DBUtils\n",
    "from datetime import datetime\n",
    "from pyspark.sql.functions import *\n",
    "from pyspark.sql.types import *\n",
    "spark=SparkSession.builder.appName(\"POS_Daily_Transaction_File_Processing\").getOrCreate()"
   ]
  },
  {
   "cell_type": "code",
   "execution_count": 0,
   "metadata": {
    "application/vnd.databricks.v1+cell": {
     "cellMetadata": {
      "byteLimit": 2048000,
      "rowLimit": 10000
     },
     "inputWidgets": {},
     "nuid": "d358db96-7585-4cfa-9d88-22d4bacbae63",
     "showTitle": false,
     "title": ""
    }
   },
   "outputs": [
    {
     "output_type": "stream",
     "name": "stdout",
     "output_type": "stream",
     "text": [
      "Mount point /mnt/pos_data_processing already exists. No action taken.\n"
     ]
    }
   ],
   "source": [
    "# Function to check if mountpoint exists\n",
    "\n",
    "def mount_exists(mount_point):\n",
    "    mounts = [mount.mountPoint for mount in dbutils.fs.mounts()]\n",
    "    return mount_point in mounts\n",
    "\n",
    "\n",
    "# Define the mount point and storage details\n",
    "\n",
    "mount_point=\"/mnt/pos_data_processing\"\n",
    "storage_account_name=\"pharmacydata2024\"\n",
    "container_name=\"project-data\"\n",
    "sas_token=\"DECBZEPbRnh8pmQGIHIRyH9QpredTuDf6nlHoQOn8pHqb1YBPzBHDrvo1uKIojLYh226lFaNS62B+AStdZxCCw==\"\n",
    "\n",
    "\n",
    "# Only create the mount if it doesn't already exist\n",
    "\n",
    "if not mount_exists(mount_point):\n",
    "    print(f\"Mount point {mount_point} does not exist,creating mount.\")\n",
    "\n",
    "    # Create the mount\n",
    "    dbutils.fs.mount(\n",
    "        source = f\"wasbs://{container_name}@{storage_account_name}.blob.core.windows.net\",\n",
    "        mount_point=mount_point,\n",
    "        extra_configs={\"fs.azure.account.key.pharmacydata2024.blob.core.windows.net\":sas_token}\n",
    "    )\n",
    "    \n",
    "    print(f\"Mount point {mount_point} created successfully.\")\n",
    "else:\n",
    "    print(f\"Mount point {mount_point} already exists. No action taken.\")\n"
   ]
  },
  {
   "cell_type": "code",
   "execution_count": 0,
   "metadata": {
    "application/vnd.databricks.v1+cell": {
     "cellMetadata": {
      "byteLimit": 2048000,
      "rowLimit": 10000
     },
     "inputWidgets": {},
     "nuid": "c06bfd85-1e75-418d-bd7c-dce319e2533f",
     "showTitle": false,
     "title": ""
    }
   },
   "outputs": [
    {
     "output_type": "execute_result",
     "data": {
      "text/plain": [
       "[FileInfo(path='dbfs:/mnt/pos_data_processing/daily-transactional-data/', name='daily-transactional-data/', size=0, modificationTime=0),\n",
       " FileInfo(path='dbfs:/mnt/pos_data_processing/joblogs/', name='joblogs/', size=0, modificationTime=0),\n",
       " FileInfo(path='dbfs:/mnt/pos_data_processing/processed-daily-transactional-data/', name='processed-daily-transactional-data/', size=0, modificationTime=0),\n",
       " FileInfo(path='dbfs:/mnt/pos_data_processing/project-data/', name='project-data/', size=0, modificationTime=0),\n",
       " FileInfo(path='dbfs:/mnt/pos_data_processing/raw-data/', name='raw-data/', size=0, modificationTime=0),\n",
       " FileInfo(path='dbfs:/mnt/pos_data_processing/test_output_from_adb/', name='test_output_from_adb/', size=0, modificationTime=0)]"
      ]
     },
     "execution_count": 9,
     "metadata": {},
     "output_type": "execute_result"
    }
   ],
   "source": [
    "#List down all directories inside mount point\n",
    "\n",
    "dbutils.fs.ls(mount_point)"
   ]
  },
  {
   "cell_type": "code",
   "execution_count": 0,
   "metadata": {
    "application/vnd.databricks.v1+cell": {
     "cellMetadata": {
      "byteLimit": 2048000,
      "rowLimit": 10000
     },
     "inputWidgets": {},
     "nuid": "2a1df14e-de96-4b25-8fc3-036eae3b0ea6",
     "showTitle": false,
     "title": ""
    }
   },
   "outputs": [
    {
     "output_type": "display_data",
     "data": {
      "text/html": [
       "<style scoped>\n",
       "  .table-result-container {\n",
       "    max-height: 300px;\n",
       "    overflow: auto;\n",
       "  }\n",
       "  table, th, td {\n",
       "    border: 1px solid black;\n",
       "    border-collapse: collapse;\n",
       "  }\n",
       "  th, td {\n",
       "    padding: 5px;\n",
       "  }\n",
       "  th {\n",
       "    text-align: left;\n",
       "  }\n",
       "</style><div class='table-result-container'><table class='table-result'><thead style='background-color: white'><tr><th>TransactionID</th><th>StoreID</th><th>StoreLocation</th><th>CashierID</th><th>CustomerID</th><th>CustomerAge</th><th>CustomerGender</th><th>ProductID</th><th>ProductCategory</th><th>ProductName</th><th>Quantity</th><th>UnitPrice</th><th>Timestamp</th><th>TotalAmount</th><th>DiscountApplied</th><th>TaxAmount</th><th>TotalAmountAfterTax</th></tr></thead><tbody><tr><td>T0001</td><td>S010</td><td>Los Angeles</td><td>C005</td><td>U051</td><td>62</td><td>Male</td><td>P005</td><td>Cancer Treatment (Prescription)</td><td>Metformin</td><td>4</td><td>115.25</td><td>24-06-2024 11:02</td><td>461.0</td><td>25.84</td><td>32.27</td><td>467.43</td></tr><tr><td>T0002</td><td>S008</td><td>Philadelphia</td><td>C009</td><td>U018</td><td>29</td><td>Female</td><td>P036</td><td>Cancer Treatment (Prescription)</td><td>Omeprazole</td><td>1</td><td>424.88</td><td>10-06-2024 05:53</td><td>424.88</td><td>44.57</td><td>29.7416</td><td>410.0516</td></tr><tr><td>T0003</td><td>S006</td><td>San Antonio</td><td>C003</td><td>U097</td><td>62</td><td>Female</td><td>P030</td><td>Bone Health (OTC & Prescription)</td><td>Olopatadine</td><td>1</td><td>124.91</td><td>05-08-2024 20:57</td><td>124.91</td><td>9.32</td><td>8.7437</td><td>124.3337</td></tr><tr><td>T0004</td><td>S004</td><td>San Antonio</td><td>C003</td><td>U081</td><td>30</td><td>Female</td><td>P019</td><td>Antibiotics (Prescription)</td><td>Ciprofloxacin</td><td>1</td><td>405.18</td><td>01-07-2024 17:52</td><td>405.18</td><td>24.72</td><td>28.3626</td><td>408.8226</td></tr><tr><td>T0005</td><td>S007</td><td>Philadelphia</td><td>C005</td><td>U096</td><td>57</td><td>Male</td><td>P012</td><td>Bone Health (OTC & Prescription)</td><td>Emtricitabine</td><td>2</td><td>211.43</td><td>15-07-2024 20:20</td><td>422.86</td><td>39.32</td><td>29.6002</td><td>413.1402</td></tr><tr><td>T0006</td><td>S003</td><td>San Jose</td><td>C007</td><td>U019</td><td>46</td><td>Female</td><td>P014</td><td>Eye Health (OTC & Prescription)</td><td>Aspirin</td><td>1</td><td>162.45</td><td>19-07-2024 00:33</td><td>162.45</td><td>15.68</td><td>11.3715</td><td>158.1415</td></tr><tr><td>T0007</td><td>S002</td><td>Houston</td><td>C007</td><td>U018</td><td>42</td><td>Female</td><td>P010</td><td>Eye Health (OTC & Prescription)</td><td>Metformin</td><td>4</td><td>153.53</td><td>20-07-2024 00:25</td><td>614.12</td><td>21.12</td><td>42.9884</td><td>635.9884</td></tr><tr><td>T0008</td><td>S010</td><td>Dallas</td><td>C003</td><td>U069</td><td>42</td><td>Male</td><td>P034</td><td>Pain Relief (OTC & Prescription)</td><td>Cisplatin</td><td>4</td><td>338.24</td><td>08-06-2024 16:14</td><td>1352.96</td><td>19.51</td><td>94.7072</td><td>1428.1572</td></tr><tr><td>T0009</td><td>S003</td><td>Chicago</td><td>C001</td><td>U014</td><td>18</td><td>Male</td><td>P004</td><td>Gastrointestinal (OTC & Prescription)</td><td>Gabapentin</td><td>1</td><td>442.56</td><td>12-06-2024 14:42</td><td>442.56</td><td>44.58</td><td>30.9792</td><td>428.9592</td></tr><tr><td>T0010</td><td>S005</td><td>San Jose</td><td>C005</td><td>U007</td><td>40</td><td>Male</td><td>P029</td><td>Gastrointestinal (OTC & Prescription)</td><td>Clotrimazole</td><td>4</td><td>48.51</td><td>05-06-2024 12:35</td><td>194.04</td><td>40.68</td><td>13.5828</td><td>166.9428</td></tr><tr><td>T0011</td><td>S007</td><td>Phoenix</td><td>C007</td><td>U057</td><td>25</td><td>Male</td><td>P029</td><td>Bone Health (OTC & Prescription)</td><td>Acetaminophen</td><td>4</td><td>209.78</td><td>23-06-2024 12:53</td><td>839.12</td><td>7.24</td><td>58.7384</td><td>890.6184</td></tr><tr><td>T0012</td><td>S007</td><td>Los Angeles</td><td>C002</td><td>U091</td><td>39</td><td>Male</td><td>P032</td><td>Antibiotics (Prescription)</td><td>Vitamin D</td><td>3</td><td>440.66</td><td>01-07-2024 20:56</td><td>1321.98</td><td>24.23</td><td>92.5386</td><td>1390.2886</td></tr><tr><td>T0013</td><td>S007</td><td>Chicago</td><td>C003</td><td>U053</td><td>64</td><td>Female</td><td>P002</td><td>Neurological Disorders (Prescription)</td><td>Loperamide</td><td>3</td><td>360.78</td><td>23-06-2024 02:49</td><td>1082.34</td><td>3.62</td><td>75.7638</td><td>1154.4838</td></tr><tr><td>T0014</td><td>S001</td><td>San Jose</td><td>C002</td><td>U021</td><td>50</td><td>Female</td><td>P014</td><td>AIDS Treatment (Prescription)</td><td>Diazepam</td><td>3</td><td>28.63</td><td>04-06-2024 02:33</td><td>85.89</td><td>31.21</td><td>6.0123</td><td>60.6923</td></tr><tr><td>T0015</td><td>S007</td><td>New York City</td><td>C003</td><td>U037</td><td>36</td><td>Male</td><td>P041</td><td>Cardiovascular Diseases (Prescription)</td><td>Lisinopril</td><td>1</td><td>238.14</td><td>12-07-2024 00:16</td><td>238.14</td><td>29.24</td><td>16.6698</td><td>225.5698</td></tr><tr><td>T0016</td><td>S009</td><td>Chicago</td><td>C005</td><td>U009</td><td>41</td><td>Male</td><td>P005</td><td>Antibiotics (Prescription)</td><td>Ciprofloxacin</td><td>4</td><td>121.95</td><td>23-07-2024 18:28</td><td>487.8</td><td>10.21</td><td>34.146</td><td>511.736</td></tr><tr><td>T0017</td><td>S008</td><td>Phoenix</td><td>C004</td><td>U039</td><td>58</td><td>Female</td><td>P010</td><td>Bone Health (OTC & Prescription)</td><td>Cisplatin</td><td>2</td><td>94.82</td><td>10-06-2024 11:59</td><td>189.64</td><td>14.22</td><td>13.2748</td><td>188.6948</td></tr><tr><td>T0018</td><td>S010</td><td>San Jose</td><td>C005</td><td>U059</td><td>36</td><td>Female</td><td>P027</td><td>Eye Health (OTC & Prescription)</td><td>Vitamin D</td><td>2</td><td>142.14</td><td>24-06-2024 07:49</td><td>284.28</td><td>37.58</td><td>19.8996</td><td>266.5996</td></tr><tr><td>T0019</td><td>S005</td><td>Philadelphia</td><td>C005</td><td>U065</td><td>53</td><td>Female</td><td>P008</td><td>Diabetes (Prescription & OTC)</td><td>Olopatadine</td><td>4</td><td>203.3</td><td>19-07-2024 01:52</td><td>813.2</td><td>0.01</td><td>56.924</td><td>870.114</td></tr><tr><td>null</td><td>null</td><td>null</td><td>null</td><td>null</td><td>null</td><td>null</td><td>null</td><td>null</td><td>null</td><td>null</td><td>null</td><td>null</td><td>null</td><td>null</td><td>null</td><td>null</td></tr><tr><td>null</td><td>null</td><td>null</td><td>null</td><td>null</td><td>null</td><td>null</td><td>null</td><td>null</td><td>null</td><td>null</td><td>null</td><td>null</td><td>null</td><td>null</td><td>null</td><td>null</td></tr><tr><td>null</td><td>null</td><td>null</td><td>null</td><td>null</td><td>null</td><td>null</td><td>null</td><td>null</td><td>null</td><td>null</td><td>null</td><td>null</td><td>null</td><td>null</td><td>null</td><td>null</td></tr><tr><td>null</td><td>null</td><td>null</td><td>null</td><td>null</td><td>null</td><td>null</td><td>null</td><td>null</td><td>null</td><td>null</td><td>null</td><td>null</td><td>null</td><td>null</td><td>null</td><td>null</td></tr><tr><td>null</td><td>null</td><td>null</td><td>null</td><td>null</td><td>null</td><td>null</td><td>null</td><td>null</td><td>null</td><td>null</td><td>null</td><td>null</td><td>null</td><td>null</td><td>null</td><td>null</td></tr><tr><td>null</td><td>null</td><td>null</td><td>null</td><td>null</td><td>null</td><td>null</td><td>null</td><td>null</td><td>null</td><td>null</td><td>null</td><td>null</td><td>null</td><td>null</td><td>null</td><td>null</td></tr><tr><td>null</td><td>null</td><td>null</td><td>null</td><td>null</td><td>null</td><td>null</td><td>null</td><td>null</td><td>null</td><td>null</td><td>null</td><td>null</td><td>null</td><td>null</td><td>null</td><td>null</td></tr><tr><td>null</td><td>null</td><td>null</td><td>null</td><td>null</td><td>null</td><td>null</td><td>null</td><td>null</td><td>null</td><td>null</td><td>null</td><td>null</td><td>null</td><td>null</td><td>null</td><td>null</td></tr><tr><td>null</td><td>null</td><td>null</td><td>null</td><td>null</td><td>null</td><td>null</td><td>null</td><td>null</td><td>null</td><td>null</td><td>null</td><td>null</td><td>null</td><td>null</td><td>null</td><td>null</td></tr></tbody></table></div>"
      ]
     },
     "metadata": {
      "application/vnd.databricks.v1+output": {
       "addedWidgets": {},
       "aggData": [],
       "aggError": "",
       "aggOverflow": false,
       "aggSchema": [],
       "aggSeriesLimitReached": false,
       "aggType": "",
       "arguments": {},
       "columnCustomDisplayInfos": {},
       "data": [
        [
         "T0001",
         "S010",
         "Los Angeles",
         "C005",
         "U051",
         62,
         "Male",
         "P005",
         "Cancer Treatment (Prescription)",
         "Metformin",
         4,
         115.25,
         "24-06-2024 11:02",
         461.0,
         25.84,
         32.27,
         467.43
        ],
        [
         "T0002",
         "S008",
         "Philadelphia",
         "C009",
         "U018",
         29,
         "Female",
         "P036",
         "Cancer Treatment (Prescription)",
         "Omeprazole",
         1,
         424.88,
         "10-06-2024 05:53",
         424.88,
         44.57,
         29.7416,
         410.0516
        ],
        [
         "T0003",
         "S006",
         "San Antonio",
         "C003",
         "U097",
         62,
         "Female",
         "P030",
         "Bone Health (OTC & Prescription)",
         "Olopatadine",
         1,
         124.91,
         "05-08-2024 20:57",
         124.91,
         9.32,
         8.7437,
         124.3337
        ],
        [
         "T0004",
         "S004",
         "San Antonio",
         "C003",
         "U081",
         30,
         "Female",
         "P019",
         "Antibiotics (Prescription)",
         "Ciprofloxacin",
         1,
         405.18,
         "01-07-2024 17:52",
         405.18,
         24.72,
         28.3626,
         408.8226
        ],
        [
         "T0005",
         "S007",
         "Philadelphia",
         "C005",
         "U096",
         57,
         "Male",
         "P012",
         "Bone Health (OTC & Prescription)",
         "Emtricitabine",
         2,
         211.43,
         "15-07-2024 20:20",
         422.86,
         39.32,
         29.6002,
         413.1402
        ],
        [
         "T0006",
         "S003",
         "San Jose",
         "C007",
         "U019",
         46,
         "Female",
         "P014",
         "Eye Health (OTC & Prescription)",
         "Aspirin",
         1,
         162.45,
         "19-07-2024 00:33",
         162.45,
         15.68,
         11.3715,
         158.1415
        ],
        [
         "T0007",
         "S002",
         "Houston",
         "C007",
         "U018",
         42,
         "Female",
         "P010",
         "Eye Health (OTC & Prescription)",
         "Metformin",
         4,
         153.53,
         "20-07-2024 00:25",
         614.12,
         21.12,
         42.9884,
         635.9884
        ],
        [
         "T0008",
         "S010",
         "Dallas",
         "C003",
         "U069",
         42,
         "Male",
         "P034",
         "Pain Relief (OTC & Prescription)",
         "Cisplatin",
         4,
         338.24,
         "08-06-2024 16:14",
         1352.96,
         19.51,
         94.7072,
         1428.1572
        ],
        [
         "T0009",
         "S003",
         "Chicago",
         "C001",
         "U014",
         18,
         "Male",
         "P004",
         "Gastrointestinal (OTC & Prescription)",
         "Gabapentin",
         1,
         442.56,
         "12-06-2024 14:42",
         442.56,
         44.58,
         30.9792,
         428.9592
        ],
        [
         "T0010",
         "S005",
         "San Jose",
         "C005",
         "U007",
         40,
         "Male",
         "P029",
         "Gastrointestinal (OTC & Prescription)",
         "Clotrimazole",
         4,
         48.51,
         "05-06-2024 12:35",
         194.04,
         40.68,
         13.5828,
         166.9428
        ],
        [
         "T0011",
         "S007",
         "Phoenix",
         "C007",
         "U057",
         25,
         "Male",
         "P029",
         "Bone Health (OTC & Prescription)",
         "Acetaminophen",
         4,
         209.78,
         "23-06-2024 12:53",
         839.12,
         7.24,
         58.7384,
         890.6184
        ],
        [
         "T0012",
         "S007",
         "Los Angeles",
         "C002",
         "U091",
         39,
         "Male",
         "P032",
         "Antibiotics (Prescription)",
         "Vitamin D",
         3,
         440.66,
         "01-07-2024 20:56",
         1321.98,
         24.23,
         92.5386,
         1390.2886
        ],
        [
         "T0013",
         "S007",
         "Chicago",
         "C003",
         "U053",
         64,
         "Female",
         "P002",
         "Neurological Disorders (Prescription)",
         "Loperamide",
         3,
         360.78,
         "23-06-2024 02:49",
         1082.34,
         3.62,
         75.7638,
         1154.4838
        ],
        [
         "T0014",
         "S001",
         "San Jose",
         "C002",
         "U021",
         50,
         "Female",
         "P014",
         "AIDS Treatment (Prescription)",
         "Diazepam",
         3,
         28.63,
         "04-06-2024 02:33",
         85.89,
         31.21,
         6.0123,
         60.6923
        ],
        [
         "T0015",
         "S007",
         "New York City",
         "C003",
         "U037",
         36,
         "Male",
         "P041",
         "Cardiovascular Diseases (Prescription)",
         "Lisinopril",
         1,
         238.14,
         "12-07-2024 00:16",
         238.14,
         29.24,
         16.6698,
         225.5698
        ],
        [
         "T0016",
         "S009",
         "Chicago",
         "C005",
         "U009",
         41,
         "Male",
         "P005",
         "Antibiotics (Prescription)",
         "Ciprofloxacin",
         4,
         121.95,
         "23-07-2024 18:28",
         487.8,
         10.21,
         34.146,
         511.736
        ],
        [
         "T0017",
         "S008",
         "Phoenix",
         "C004",
         "U039",
         58,
         "Female",
         "P010",
         "Bone Health (OTC & Prescription)",
         "Cisplatin",
         2,
         94.82,
         "10-06-2024 11:59",
         189.64,
         14.22,
         13.2748,
         188.6948
        ],
        [
         "T0018",
         "S010",
         "San Jose",
         "C005",
         "U059",
         36,
         "Female",
         "P027",
         "Eye Health (OTC & Prescription)",
         "Vitamin D",
         2,
         142.14,
         "24-06-2024 07:49",
         284.28,
         37.58,
         19.8996,
         266.5996
        ],
        [
         "T0019",
         "S005",
         "Philadelphia",
         "C005",
         "U065",
         53,
         "Female",
         "P008",
         "Diabetes (Prescription & OTC)",
         "Olopatadine",
         4,
         203.3,
         "19-07-2024 01:52",
         813.2,
         0.01,
         56.924,
         870.114
        ],
        [
         null,
         null,
         null,
         null,
         null,
         null,
         null,
         null,
         null,
         null,
         null,
         null,
         null,
         null,
         null,
         null,
         null
        ],
        [
         null,
         null,
         null,
         null,
         null,
         null,
         null,
         null,
         null,
         null,
         null,
         null,
         null,
         null,
         null,
         null,
         null
        ],
        [
         null,
         null,
         null,
         null,
         null,
         null,
         null,
         null,
         null,
         null,
         null,
         null,
         null,
         null,
         null,
         null,
         null
        ],
        [
         null,
         null,
         null,
         null,
         null,
         null,
         null,
         null,
         null,
         null,
         null,
         null,
         null,
         null,
         null,
         null,
         null
        ],
        [
         null,
         null,
         null,
         null,
         null,
         null,
         null,
         null,
         null,
         null,
         null,
         null,
         null,
         null,
         null,
         null,
         null
        ],
        [
         null,
         null,
         null,
         null,
         null,
         null,
         null,
         null,
         null,
         null,
         null,
         null,
         null,
         null,
         null,
         null,
         null
        ],
        [
         null,
         null,
         null,
         null,
         null,
         null,
         null,
         null,
         null,
         null,
         null,
         null,
         null,
         null,
         null,
         null,
         null
        ],
        [
         null,
         null,
         null,
         null,
         null,
         null,
         null,
         null,
         null,
         null,
         null,
         null,
         null,
         null,
         null,
         null,
         null
        ],
        [
         null,
         null,
         null,
         null,
         null,
         null,
         null,
         null,
         null,
         null,
         null,
         null,
         null,
         null,
         null,
         null,
         null
        ]
       ],
       "datasetInfos": [],
       "dbfsResultPath": null,
       "isJsonSchema": true,
       "metadata": {},
       "overflow": false,
       "plotOptions": {
        "customPlotOptions": {},
        "displayType": "table",
        "pivotAggregation": null,
        "pivotColumns": null,
        "xColumns": null,
        "yColumns": null
       },
       "removedWidgets": [],
       "schema": [
        {
         "metadata": "{}",
         "name": "TransactionID",
         "type": "\"string\""
        },
        {
         "metadata": "{}",
         "name": "StoreID",
         "type": "\"string\""
        },
        {
         "metadata": "{}",
         "name": "StoreLocation",
         "type": "\"string\""
        },
        {
         "metadata": "{}",
         "name": "CashierID",
         "type": "\"string\""
        },
        {
         "metadata": "{}",
         "name": "CustomerID",
         "type": "\"string\""
        },
        {
         "metadata": "{}",
         "name": "CustomerAge",
         "type": "\"integer\""
        },
        {
         "metadata": "{}",
         "name": "CustomerGender",
         "type": "\"string\""
        },
        {
         "metadata": "{}",
         "name": "ProductID",
         "type": "\"string\""
        },
        {
         "metadata": "{}",
         "name": "ProductCategory",
         "type": "\"string\""
        },
        {
         "metadata": "{}",
         "name": "ProductName",
         "type": "\"string\""
        },
        {
         "metadata": "{}",
         "name": "Quantity",
         "type": "\"integer\""
        },
        {
         "metadata": "{}",
         "name": "UnitPrice",
         "type": "\"double\""
        },
        {
         "metadata": "{}",
         "name": "Timestamp",
         "type": "\"string\""
        },
        {
         "metadata": "{}",
         "name": "TotalAmount",
         "type": "\"double\""
        },
        {
         "metadata": "{}",
         "name": "DiscountApplied",
         "type": "\"double\""
        },
        {
         "metadata": "{}",
         "name": "TaxAmount",
         "type": "\"double\""
        },
        {
         "metadata": "{}",
         "name": "TotalAmountAfterTax",
         "type": "\"double\""
        }
       ],
       "type": "table"
      }
     },
     "output_type": "display_data"
    }
   ],
   "source": [
    "pos_daily_file=\"/mnt/pos_data_processing/daily-transactional-data/POS_Sales_Data_2024_demo_testing.csv\"\n",
    "pos_daily_file=spark.read.format(\"csv\").option(\"header\",\"true\").option(\"inferSchema\",\"true\").load(pos_daily_file)\n",
    "display(pos_daily_file)"
   ]
  },
  {
   "cell_type": "code",
   "execution_count": 0,
   "metadata": {
    "application/vnd.databricks.v1+cell": {
     "cellMetadata": {
      "byteLimit": 2048000,
      "rowLimit": 10000
     },
     "inputWidgets": {},
     "nuid": "8c8655c0-4693-4f3b-9702-bb2f2a041bfa",
     "showTitle": false,
     "title": ""
    }
   },
   "outputs": [
    {
     "output_type": "display_data",
     "data": {
      "text/html": [
       "<style scoped>\n",
       "  .table-result-container {\n",
       "    max-height: 300px;\n",
       "    overflow: auto;\n",
       "  }\n",
       "  table, th, td {\n",
       "    border: 1px solid black;\n",
       "    border-collapse: collapse;\n",
       "  }\n",
       "  th, td {\n",
       "    padding: 5px;\n",
       "  }\n",
       "  th {\n",
       "    text-align: left;\n",
       "  }\n",
       "</style><div class='table-result-container'><table class='table-result'><thead style='background-color: white'><tr><th>TransactionID</th><th>StoreID</th><th>StoreLocation</th><th>CashierID</th><th>CustomerID</th><th>CustomerAge</th><th>CustomerGender</th><th>ProductID</th><th>ProductCategory</th><th>ProductName</th><th>Quantity</th><th>UnitPrice</th><th>Timestamp</th><th>TotalAmount</th><th>DiscountApplied</th><th>TaxAmount</th><th>TotalAmountAfterTax</th></tr></thead><tbody><tr><td>T0001</td><td>S010</td><td>Los Angeles</td><td>C005</td><td>U051</td><td>62</td><td>Male</td><td>P005</td><td>Cancer Treatment (Prescription)</td><td>Metformin</td><td>4</td><td>115.25</td><td>24-06-2024 11:02</td><td>461.0</td><td>25.84</td><td>32.27</td><td>467.43</td></tr><tr><td>T0002</td><td>S008</td><td>Philadelphia</td><td>C009</td><td>U018</td><td>29</td><td>Female</td><td>P036</td><td>Cancer Treatment (Prescription)</td><td>Omeprazole</td><td>1</td><td>424.88</td><td>10-06-2024 05:53</td><td>424.88</td><td>44.57</td><td>29.7416</td><td>410.0516</td></tr><tr><td>T0003</td><td>S006</td><td>San Antonio</td><td>C003</td><td>U097</td><td>62</td><td>Female</td><td>P030</td><td>Bone Health (OTC & Prescription)</td><td>Olopatadine</td><td>1</td><td>124.91</td><td>05-08-2024 20:57</td><td>124.91</td><td>9.32</td><td>8.7437</td><td>124.3337</td></tr><tr><td>T0004</td><td>S004</td><td>San Antonio</td><td>C003</td><td>U081</td><td>30</td><td>Female</td><td>P019</td><td>Antibiotics (Prescription)</td><td>Ciprofloxacin</td><td>1</td><td>405.18</td><td>01-07-2024 17:52</td><td>405.18</td><td>24.72</td><td>28.3626</td><td>408.8226</td></tr><tr><td>T0005</td><td>S007</td><td>Philadelphia</td><td>C005</td><td>U096</td><td>57</td><td>Male</td><td>P012</td><td>Bone Health (OTC & Prescription)</td><td>Emtricitabine</td><td>2</td><td>211.43</td><td>15-07-2024 20:20</td><td>422.86</td><td>39.32</td><td>29.6002</td><td>413.1402</td></tr><tr><td>T0006</td><td>S003</td><td>San Jose</td><td>C007</td><td>U019</td><td>46</td><td>Female</td><td>P014</td><td>Eye Health (OTC & Prescription)</td><td>Aspirin</td><td>1</td><td>162.45</td><td>19-07-2024 00:33</td><td>162.45</td><td>15.68</td><td>11.3715</td><td>158.1415</td></tr><tr><td>T0007</td><td>S002</td><td>Houston</td><td>C007</td><td>U018</td><td>42</td><td>Female</td><td>P010</td><td>Eye Health (OTC & Prescription)</td><td>Metformin</td><td>4</td><td>153.53</td><td>20-07-2024 00:25</td><td>614.12</td><td>21.12</td><td>42.9884</td><td>635.9884</td></tr><tr><td>T0008</td><td>S010</td><td>Dallas</td><td>C003</td><td>U069</td><td>42</td><td>Male</td><td>P034</td><td>Pain Relief (OTC & Prescription)</td><td>Cisplatin</td><td>4</td><td>338.24</td><td>08-06-2024 16:14</td><td>1352.96</td><td>19.51</td><td>94.7072</td><td>1428.1572</td></tr><tr><td>T0009</td><td>S003</td><td>Chicago</td><td>C001</td><td>U014</td><td>18</td><td>Male</td><td>P004</td><td>Gastrointestinal (OTC & Prescription)</td><td>Gabapentin</td><td>1</td><td>442.56</td><td>12-06-2024 14:42</td><td>442.56</td><td>44.58</td><td>30.9792</td><td>428.9592</td></tr><tr><td>T0010</td><td>S005</td><td>San Jose</td><td>C005</td><td>U007</td><td>40</td><td>Male</td><td>P029</td><td>Gastrointestinal (OTC & Prescription)</td><td>Clotrimazole</td><td>4</td><td>48.51</td><td>05-06-2024 12:35</td><td>194.04</td><td>40.68</td><td>13.5828</td><td>166.9428</td></tr><tr><td>T0011</td><td>S007</td><td>Phoenix</td><td>C007</td><td>U057</td><td>25</td><td>Male</td><td>P029</td><td>Bone Health (OTC & Prescription)</td><td>Acetaminophen</td><td>4</td><td>209.78</td><td>23-06-2024 12:53</td><td>839.12</td><td>7.24</td><td>58.7384</td><td>890.6184</td></tr><tr><td>T0012</td><td>S007</td><td>Los Angeles</td><td>C002</td><td>U091</td><td>39</td><td>Male</td><td>P032</td><td>Antibiotics (Prescription)</td><td>Vitamin D</td><td>3</td><td>440.66</td><td>01-07-2024 20:56</td><td>1321.98</td><td>24.23</td><td>92.5386</td><td>1390.2886</td></tr><tr><td>T0013</td><td>S007</td><td>Chicago</td><td>C003</td><td>U053</td><td>64</td><td>Female</td><td>P002</td><td>Neurological Disorders (Prescription)</td><td>Loperamide</td><td>3</td><td>360.78</td><td>23-06-2024 02:49</td><td>1082.34</td><td>3.62</td><td>75.7638</td><td>1154.4838</td></tr><tr><td>T0014</td><td>S001</td><td>San Jose</td><td>C002</td><td>U021</td><td>50</td><td>Female</td><td>P014</td><td>AIDS Treatment (Prescription)</td><td>Diazepam</td><td>3</td><td>28.63</td><td>04-06-2024 02:33</td><td>85.89</td><td>31.21</td><td>6.0123</td><td>60.6923</td></tr><tr><td>T0015</td><td>S007</td><td>New York City</td><td>C003</td><td>U037</td><td>36</td><td>Male</td><td>P041</td><td>Cardiovascular Diseases (Prescription)</td><td>Lisinopril</td><td>1</td><td>238.14</td><td>12-07-2024 00:16</td><td>238.14</td><td>29.24</td><td>16.6698</td><td>225.5698</td></tr><tr><td>T0016</td><td>S009</td><td>Chicago</td><td>C005</td><td>U009</td><td>41</td><td>Male</td><td>P005</td><td>Antibiotics (Prescription)</td><td>Ciprofloxacin</td><td>4</td><td>121.95</td><td>23-07-2024 18:28</td><td>487.8</td><td>10.21</td><td>34.146</td><td>511.736</td></tr><tr><td>T0017</td><td>S008</td><td>Phoenix</td><td>C004</td><td>U039</td><td>58</td><td>Female</td><td>P010</td><td>Bone Health (OTC & Prescription)</td><td>Cisplatin</td><td>2</td><td>94.82</td><td>10-06-2024 11:59</td><td>189.64</td><td>14.22</td><td>13.2748</td><td>188.6948</td></tr><tr><td>T0018</td><td>S010</td><td>San Jose</td><td>C005</td><td>U059</td><td>36</td><td>Female</td><td>P027</td><td>Eye Health (OTC & Prescription)</td><td>Vitamin D</td><td>2</td><td>142.14</td><td>24-06-2024 07:49</td><td>284.28</td><td>37.58</td><td>19.8996</td><td>266.5996</td></tr><tr><td>T0019</td><td>S005</td><td>Philadelphia</td><td>C005</td><td>U065</td><td>53</td><td>Female</td><td>P008</td><td>Diabetes (Prescription & OTC)</td><td>Olopatadine</td><td>4</td><td>203.3</td><td>19-07-2024 01:52</td><td>813.2</td><td>0.01</td><td>56.924</td><td>870.114</td></tr></tbody></table></div>"
      ]
     },
     "metadata": {
      "application/vnd.databricks.v1+output": {
       "addedWidgets": {},
       "aggData": [],
       "aggError": "",
       "aggOverflow": false,
       "aggSchema": [],
       "aggSeriesLimitReached": false,
       "aggType": "",
       "arguments": {},
       "columnCustomDisplayInfos": {},
       "data": [
        [
         "T0001",
         "S010",
         "Los Angeles",
         "C005",
         "U051",
         62,
         "Male",
         "P005",
         "Cancer Treatment (Prescription)",
         "Metformin",
         4,
         115.25,
         "24-06-2024 11:02",
         461.0,
         25.84,
         32.27,
         467.43
        ],
        [
         "T0002",
         "S008",
         "Philadelphia",
         "C009",
         "U018",
         29,
         "Female",
         "P036",
         "Cancer Treatment (Prescription)",
         "Omeprazole",
         1,
         424.88,
         "10-06-2024 05:53",
         424.88,
         44.57,
         29.7416,
         410.0516
        ],
        [
         "T0003",
         "S006",
         "San Antonio",
         "C003",
         "U097",
         62,
         "Female",
         "P030",
         "Bone Health (OTC & Prescription)",
         "Olopatadine",
         1,
         124.91,
         "05-08-2024 20:57",
         124.91,
         9.32,
         8.7437,
         124.3337
        ],
        [
         "T0004",
         "S004",
         "San Antonio",
         "C003",
         "U081",
         30,
         "Female",
         "P019",
         "Antibiotics (Prescription)",
         "Ciprofloxacin",
         1,
         405.18,
         "01-07-2024 17:52",
         405.18,
         24.72,
         28.3626,
         408.8226
        ],
        [
         "T0005",
         "S007",
         "Philadelphia",
         "C005",
         "U096",
         57,
         "Male",
         "P012",
         "Bone Health (OTC & Prescription)",
         "Emtricitabine",
         2,
         211.43,
         "15-07-2024 20:20",
         422.86,
         39.32,
         29.6002,
         413.1402
        ],
        [
         "T0006",
         "S003",
         "San Jose",
         "C007",
         "U019",
         46,
         "Female",
         "P014",
         "Eye Health (OTC & Prescription)",
         "Aspirin",
         1,
         162.45,
         "19-07-2024 00:33",
         162.45,
         15.68,
         11.3715,
         158.1415
        ],
        [
         "T0007",
         "S002",
         "Houston",
         "C007",
         "U018",
         42,
         "Female",
         "P010",
         "Eye Health (OTC & Prescription)",
         "Metformin",
         4,
         153.53,
         "20-07-2024 00:25",
         614.12,
         21.12,
         42.9884,
         635.9884
        ],
        [
         "T0008",
         "S010",
         "Dallas",
         "C003",
         "U069",
         42,
         "Male",
         "P034",
         "Pain Relief (OTC & Prescription)",
         "Cisplatin",
         4,
         338.24,
         "08-06-2024 16:14",
         1352.96,
         19.51,
         94.7072,
         1428.1572
        ],
        [
         "T0009",
         "S003",
         "Chicago",
         "C001",
         "U014",
         18,
         "Male",
         "P004",
         "Gastrointestinal (OTC & Prescription)",
         "Gabapentin",
         1,
         442.56,
         "12-06-2024 14:42",
         442.56,
         44.58,
         30.9792,
         428.9592
        ],
        [
         "T0010",
         "S005",
         "San Jose",
         "C005",
         "U007",
         40,
         "Male",
         "P029",
         "Gastrointestinal (OTC & Prescription)",
         "Clotrimazole",
         4,
         48.51,
         "05-06-2024 12:35",
         194.04,
         40.68,
         13.5828,
         166.9428
        ],
        [
         "T0011",
         "S007",
         "Phoenix",
         "C007",
         "U057",
         25,
         "Male",
         "P029",
         "Bone Health (OTC & Prescription)",
         "Acetaminophen",
         4,
         209.78,
         "23-06-2024 12:53",
         839.12,
         7.24,
         58.7384,
         890.6184
        ],
        [
         "T0012",
         "S007",
         "Los Angeles",
         "C002",
         "U091",
         39,
         "Male",
         "P032",
         "Antibiotics (Prescription)",
         "Vitamin D",
         3,
         440.66,
         "01-07-2024 20:56",
         1321.98,
         24.23,
         92.5386,
         1390.2886
        ],
        [
         "T0013",
         "S007",
         "Chicago",
         "C003",
         "U053",
         64,
         "Female",
         "P002",
         "Neurological Disorders (Prescription)",
         "Loperamide",
         3,
         360.78,
         "23-06-2024 02:49",
         1082.34,
         3.62,
         75.7638,
         1154.4838
        ],
        [
         "T0014",
         "S001",
         "San Jose",
         "C002",
         "U021",
         50,
         "Female",
         "P014",
         "AIDS Treatment (Prescription)",
         "Diazepam",
         3,
         28.63,
         "04-06-2024 02:33",
         85.89,
         31.21,
         6.0123,
         60.6923
        ],
        [
         "T0015",
         "S007",
         "New York City",
         "C003",
         "U037",
         36,
         "Male",
         "P041",
         "Cardiovascular Diseases (Prescription)",
         "Lisinopril",
         1,
         238.14,
         "12-07-2024 00:16",
         238.14,
         29.24,
         16.6698,
         225.5698
        ],
        [
         "T0016",
         "S009",
         "Chicago",
         "C005",
         "U009",
         41,
         "Male",
         "P005",
         "Antibiotics (Prescription)",
         "Ciprofloxacin",
         4,
         121.95,
         "23-07-2024 18:28",
         487.8,
         10.21,
         34.146,
         511.736
        ],
        [
         "T0017",
         "S008",
         "Phoenix",
         "C004",
         "U039",
         58,
         "Female",
         "P010",
         "Bone Health (OTC & Prescription)",
         "Cisplatin",
         2,
         94.82,
         "10-06-2024 11:59",
         189.64,
         14.22,
         13.2748,
         188.6948
        ],
        [
         "T0018",
         "S010",
         "San Jose",
         "C005",
         "U059",
         36,
         "Female",
         "P027",
         "Eye Health (OTC & Prescription)",
         "Vitamin D",
         2,
         142.14,
         "24-06-2024 07:49",
         284.28,
         37.58,
         19.8996,
         266.5996
        ],
        [
         "T0019",
         "S005",
         "Philadelphia",
         "C005",
         "U065",
         53,
         "Female",
         "P008",
         "Diabetes (Prescription & OTC)",
         "Olopatadine",
         4,
         203.3,
         "19-07-2024 01:52",
         813.2,
         0.01,
         56.924,
         870.114
        ]
       ],
       "datasetInfos": [],
       "dbfsResultPath": null,
       "isJsonSchema": true,
       "metadata": {},
       "overflow": false,
       "plotOptions": {
        "customPlotOptions": {},
        "displayType": "table",
        "pivotAggregation": null,
        "pivotColumns": null,
        "xColumns": null,
        "yColumns": null
       },
       "removedWidgets": [],
       "schema": [
        {
         "metadata": "{}",
         "name": "TransactionID",
         "type": "\"string\""
        },
        {
         "metadata": "{}",
         "name": "StoreID",
         "type": "\"string\""
        },
        {
         "metadata": "{}",
         "name": "StoreLocation",
         "type": "\"string\""
        },
        {
         "metadata": "{}",
         "name": "CashierID",
         "type": "\"string\""
        },
        {
         "metadata": "{}",
         "name": "CustomerID",
         "type": "\"string\""
        },
        {
         "metadata": "{}",
         "name": "CustomerAge",
         "type": "\"integer\""
        },
        {
         "metadata": "{}",
         "name": "CustomerGender",
         "type": "\"string\""
        },
        {
         "metadata": "{}",
         "name": "ProductID",
         "type": "\"string\""
        },
        {
         "metadata": "{}",
         "name": "ProductCategory",
         "type": "\"string\""
        },
        {
         "metadata": "{}",
         "name": "ProductName",
         "type": "\"string\""
        },
        {
         "metadata": "{}",
         "name": "Quantity",
         "type": "\"integer\""
        },
        {
         "metadata": "{}",
         "name": "UnitPrice",
         "type": "\"double\""
        },
        {
         "metadata": "{}",
         "name": "Timestamp",
         "type": "\"string\""
        },
        {
         "metadata": "{}",
         "name": "TotalAmount",
         "type": "\"double\""
        },
        {
         "metadata": "{}",
         "name": "DiscountApplied",
         "type": "\"double\""
        },
        {
         "metadata": "{}",
         "name": "TaxAmount",
         "type": "\"double\""
        },
        {
         "metadata": "{}",
         "name": "TotalAmountAfterTax",
         "type": "\"double\""
        }
       ],
       "type": "table"
      }
     },
     "output_type": "display_data"
    }
   ],
   "source": [
    "#Filtering Null Rows if any\n",
    "\n",
    "df_pos_daily_file=pos_daily_file.dropna()\n",
    "display(df_pos_daily_file)"
   ]
  },
  {
   "cell_type": "code",
   "execution_count": 0,
   "metadata": {
    "application/vnd.databricks.v1+cell": {
     "cellMetadata": {
      "byteLimit": 2048000,
      "rowLimit": 10000
     },
     "inputWidgets": {},
     "nuid": "a7ad17a1-022f-4500-8128-683faa421106",
     "showTitle": false,
     "title": ""
    }
   },
   "outputs": [
    {
     "output_type": "stream",
     "name": "stdout",
     "output_type": "stream",
     "text": [
      "root\n |-- TransactionID: string (nullable = true)\n |-- StoreID: string (nullable = true)\n |-- StoreLocation: string (nullable = true)\n |-- CashierID: string (nullable = true)\n |-- CustomerID: string (nullable = true)\n |-- CustomerAge: integer (nullable = true)\n |-- CustomerGender: string (nullable = true)\n |-- ProductID: string (nullable = true)\n |-- ProductCategory: string (nullable = true)\n |-- ProductName: string (nullable = true)\n |-- Quantity: integer (nullable = true)\n |-- UnitPrice: double (nullable = true)\n |-- Timestamp: string (nullable = true)\n |-- TotalAmount: double (nullable = true)\n |-- DiscountApplied: double (nullable = true)\n |-- TaxAmount: double (nullable = true)\n |-- TotalAmountAfterTax: double (nullable = true)\n\n"
     ]
    }
   ],
   "source": [
    "df_pos_daily_file.printSchema()"
   ]
  },
  {
   "cell_type": "code",
   "execution_count": 0,
   "metadata": {
    "application/vnd.databricks.v1+cell": {
     "cellMetadata": {
      "byteLimit": 2048000,
      "rowLimit": 10000
     },
     "inputWidgets": {},
     "nuid": "706b89c4-1514-4867-99ae-7d472452c615",
     "showTitle": false,
     "title": ""
    }
   },
   "outputs": [
    {
     "output_type": "stream",
     "name": "stdout",
     "output_type": "stream",
     "text": [
      "+----------+-----------------+\n|      Date|       TotalSales|\n+----------+-----------------+\n|2024-06-04|            85.89|\n|2024-08-05|           124.91|\n|2024-06-05|           194.04|\n|2024-07-12|           238.14|\n|2024-07-15|           422.86|\n|2024-06-12|           442.56|\n|2024-07-23|            487.8|\n|2024-07-20|           614.12|\n|2024-06-10|           614.52|\n|2024-06-24|           745.28|\n|2024-07-19|975.6500000000001|\n|2024-06-08|          1352.96|\n|2024-07-01|          1727.16|\n|2024-06-23|          1921.46|\n+----------+-----------------+\n\n"
     ]
    }
   ],
   "source": [
    "#Total Sales Calculation by Date\n",
    "\n",
    "total_sales_date=df_pos_daily_file.withColumn(\"Date\", to_date(col(\"Timestamp\"), \"dd-MM-yyyy HH:mm\")) \\\n",
    "    .groupBy(\"Date\") \\\n",
    "    .agg(sum(\"TotalAmount\").alias(\"TotalSales\")) \\\n",
    "    .orderBy(\"TotalSales\")\n",
    "total_sales_date.show()"
   ]
  },
  {
   "cell_type": "code",
   "execution_count": 0,
   "metadata": {
    "application/vnd.databricks.v1+cell": {
     "cellMetadata": {
      "byteLimit": 2048000,
      "rowLimit": 10000
     },
     "inputWidgets": {},
     "nuid": "967a591c-b4ce-4545-9853-b9cf44eaa180",
     "showTitle": false,
     "title": ""
    }
   },
   "outputs": [
    {
     "output_type": "stream",
     "name": "stdout",
     "output_type": "stream",
     "text": [
      "+-------------+------------------+\n|StoreLocation|        TotalSales|\n+-------------+------------------+\n|      Chicago|2012.6999999999998|\n|  Los Angeles|           1782.98|\n| Philadelphia|           1660.94|\n|       Dallas|           1352.96|\n|      Phoenix|           1028.76|\n|     San Jose|            726.66|\n|      Houston|            614.12|\n|  San Antonio|            530.09|\n|New York City|            238.14|\n+-------------+------------------+\n\n"
     ]
    }
   ],
   "source": [
    "#Total Sales Calculation by StoreLocation\n",
    "\n",
    "total_sales_by_store=df_pos_daily_file.groupBy(\"StoreLocation\").agg(sum(\"TotalAmount\").alias(\"TotalSales\")).orderBy(\"TotalSales\",ascending=False)\n",
    "total_sales_by_store.show()"
   ]
  },
  {
   "cell_type": "code",
   "execution_count": 0,
   "metadata": {
    "application/vnd.databricks.v1+cell": {
     "cellMetadata": {
      "byteLimit": 2048000,
      "rowLimit": 10000
     },
     "inputWidgets": {},
     "nuid": "7352f0da-1229-4389-8f92-3fa42113a7ec",
     "showTitle": false,
     "title": ""
    }
   },
   "outputs": [
    {
     "output_type": "stream",
     "name": "stdout",
     "output_type": "stream",
     "text": [
      "+-----------------+\n| avg(CustomerAge)|\n+-----------------+\n|43.68421052631579|\n+-----------------+\n\n"
     ]
    }
   ],
   "source": [
    "#Customer Insight\n",
    "\n",
    "avg_age_customers=df_pos_daily_file.agg({\"CustomerAge\":\"avg\"}).alias(\"AverageCustomerAge\")\n",
    "avg_age_customers.show()"
   ]
  },
  {
   "cell_type": "code",
   "execution_count": 0,
   "metadata": {
    "application/vnd.databricks.v1+cell": {
     "cellMetadata": {
      "byteLimit": 2048000,
      "rowLimit": 10000
     },
     "inputWidgets": {},
     "nuid": "6fc48b0d-1e97-432f-a0f7-127f9c70578b",
     "showTitle": false,
     "title": ""
    }
   },
   "outputs": [
    {
     "output_type": "stream",
     "name": "stdout",
     "output_type": "stream",
     "text": [
      "+-------------+----------+\n|  ProductName|TotalSales|\n+-------------+----------+\n|    Vitamin D|   1606.26|\n|    Cisplatin|    1542.6|\n|   Loperamide|   1082.34|\n|    Metformin|   1075.12|\n|  Olopatadine|    938.11|\n|Ciprofloxacin|    892.98|\n|Acetaminophen|    839.12|\n|   Gabapentin|    442.56|\n|   Omeprazole|    424.88|\n|Emtricitabine|    422.86|\n|   Lisinopril|    238.14|\n| Clotrimazole|    194.04|\n|      Aspirin|    162.45|\n|     Diazepam|     85.89|\n+-------------+----------+\n\n"
     ]
    }
   ],
   "source": [
    "#Top Highest Selling Products\n",
    "top_selling_products=df_pos_daily_file.groupBy(\"ProductName\").agg(sum(\"TotalAmount\").alias(\"TotalSales\")).orderBy(\"TotalSales\",ascending=False)\n",
    "top_selling_products.show()"
   ]
  },
  {
   "cell_type": "code",
   "execution_count": 0,
   "metadata": {
    "application/vnd.databricks.v1+cell": {
     "cellMetadata": {
      "byteLimit": 2048000,
      "rowLimit": 10000
     },
     "inputWidgets": {},
     "nuid": "747fec10-685b-44e3-8a74-222cd41131dd",
     "showTitle": false,
     "title": ""
    }
   },
   "outputs": [
    {
     "output_type": "stream",
     "name": "stdout",
     "output_type": "stream",
     "text": [
      "+--------------------+------------------+\n|     ProductCategory|    TotalDiscounts|\n+--------------------+------------------+\n|Gastrointestinal ...| 85.25999999999999|\n|Eye Health (OTC &...|             74.38|\n|Cancer Treatment ...|             70.41|\n|Bone Health (OTC ...| 70.10000000000001|\n|Antibiotics (Pres...|59.160000000000004|\n|AIDS Treatment (P...|             31.21|\n|Cardiovascular Di...|             29.24|\n|Pain Relief (OTC ...|             19.51|\n|Neurological Diso...|              3.62|\n|Diabetes (Prescri...|              0.01|\n+--------------------+------------------+\n\n"
     ]
    }
   ],
   "source": [
    "#Total Discounts Applied\n",
    "\n",
    "df_pos_daily_file2=df_pos_daily_file.withColumn(\"Date\",to_timestamp(\"Timestamp\"))\n",
    "total_discount=df_pos_daily_file2.groupBy(\"ProductCategory\") \\\n",
    "    .agg(sum(\"DiscountApplied\").alias(\"TotalDiscounts\"))\\\n",
    "    .orderBy(\"TotalDiscounts\",ascending=False)\n",
    "total_discount.show()"
   ]
  },
  {
   "cell_type": "code",
   "execution_count": 0,
   "metadata": {
    "application/vnd.databricks.v1+cell": {
     "cellMetadata": {
      "byteLimit": 2048000,
      "rowLimit": 10000
     },
     "inputWidgets": {},
     "nuid": "eafaab4a-9e28-4029-b4f7-228649c2140c",
     "showTitle": false,
     "title": ""
    }
   },
   "outputs": [
    {
     "output_type": "stream",
     "name": "stdout",
     "output_type": "stream",
     "text": [
      "+----------+----------+----------------+\n|CustomerID|TotalSpent|SpendingCategory|\n+----------+----------+----------------+\n|      U021|     85.89|             Low|\n|      U097|    124.91|             Low|\n|      U019|    162.45|             Low|\n|      U039|    189.64|             Low|\n|      U007|    194.04|             Low|\n|      U037|    238.14|             Low|\n|      U059|    284.28|             Low|\n|      U081|    405.18|             Low|\n|      U096|    422.86|             Low|\n|      U014|    442.56|             Low|\n|      U051|     461.0|             Low|\n|      U009|     487.8|             Low|\n|      U065|     813.2|          Medium|\n|      U057|    839.12|          Medium|\n|      U018|    1039.0|            High|\n|      U053|   1082.34|            High|\n|      U091|   1321.98|            High|\n|      U069|   1352.96|            High|\n+----------+----------+----------------+\n\n"
     ]
    }
   ],
   "source": [
    "#Classify customers based on their total spending into different categories (e.g., low, medium, high)\n",
    "\n",
    "customer_spending=df_pos_daily_file.groupBy(\"CustomerID\") \\\n",
    "    .agg(sum(\"TotalAmount\").alias(\"TotalSpent\"))\n",
    "\n",
    "customer_segments=customer_spending.withColumn(\"SpendingCategory\",\n",
    "    when(col(\"TotalSpent\") < 500, \"Low\")\n",
    "    .when((col(\"TotalSpent\") >= 500) & (col(\"TotalSpent\") < 1000), \"Medium\")\n",
    "    .otherwise(\"High\"))\n",
    "\n",
    "customer_segments_sorted=customer_segments.orderBy(\"TotalSpent\")\n",
    "customer_segments_sorted.show()"
   ]
  },
  {
   "cell_type": "code",
   "execution_count": 0,
   "metadata": {
    "application/vnd.databricks.v1+cell": {
     "cellMetadata": {
      "byteLimit": 2048000,
      "rowLimit": 10000
     },
     "inputWidgets": {},
     "nuid": "de15f04a-75bf-40dd-a15b-93e9845e3e43",
     "showTitle": false,
     "title": ""
    }
   },
   "outputs": [
    {
     "output_type": "display_data",
     "data": {
      "text/html": [
       "<style scoped>\n",
       "  .table-result-container {\n",
       "    max-height: 300px;\n",
       "    overflow: auto;\n",
       "  }\n",
       "  table, th, td {\n",
       "    border: 1px solid black;\n",
       "    border-collapse: collapse;\n",
       "  }\n",
       "  th, td {\n",
       "    padding: 5px;\n",
       "  }\n",
       "  th {\n",
       "    text-align: left;\n",
       "  }\n",
       "</style><div class='table-result-container'><table class='table-result'><thead style='background-color: white'><tr><th>Year</th><th>Month</th><th>MonthlySales</th></tr></thead><tbody><tr><td>2024</td><td>6</td><td>5356.71</td></tr><tr><td>2024</td><td>7</td><td>4465.7300000000005</td></tr><tr><td>2024</td><td>8</td><td>124.91</td></tr></tbody></table></div>"
      ]
     },
     "metadata": {
      "application/vnd.databricks.v1+output": {
       "addedWidgets": {},
       "aggData": [],
       "aggError": "",
       "aggOverflow": false,
       "aggSchema": [],
       "aggSeriesLimitReached": false,
       "aggType": "",
       "arguments": {},
       "columnCustomDisplayInfos": {},
       "data": [
        [
         2024,
         6,
         5356.71
        ],
        [
         2024,
         7,
         4465.7300000000005
        ],
        [
         2024,
         8,
         124.91
        ]
       ],
       "datasetInfos": [],
       "dbfsResultPath": null,
       "isJsonSchema": true,
       "metadata": {},
       "overflow": false,
       "plotOptions": {
        "customPlotOptions": {},
        "displayType": "table",
        "pivotAggregation": null,
        "pivotColumns": null,
        "xColumns": null,
        "yColumns": null
       },
       "removedWidgets": [],
       "schema": [
        {
         "metadata": "{}",
         "name": "Year",
         "type": "\"integer\""
        },
        {
         "metadata": "{}",
         "name": "Month",
         "type": "\"integer\""
        },
        {
         "metadata": "{}",
         "name": "MonthlySales",
         "type": "\"double\""
        }
       ],
       "type": "table"
      }
     },
     "output_type": "display_data"
    }
   ],
   "source": [
    "#Monthly Sales Trends\n",
    "\n",
    "from pyspark.sql import functions as F\n",
    "\n",
    "df_with_date = df_pos_daily_file.withColumn(\"Date\", to_date(col(\"Timestamp\"), \"dd-MM-yyyy HH:mm\"))\n",
    "\n",
    "df_monthly_sales = df_with_date.withColumn(\"Year\", year(col(\"Date\"))) \\\n",
    "    .withColumn(\"Month\", month(col(\"Date\"))) \\\n",
    "    .groupBy(\"Year\", \"Month\") \\\n",
    "    .agg(sum(\"TotalAmount\").alias(\"MonthlySales\")) \\\n",
    "    .orderBy(\"Year\", \"Month\")\n",
    "\n",
    "display(df_monthly_sales)"
   ]
  },
  {
   "cell_type": "code",
   "execution_count": 0,
   "metadata": {
    "application/vnd.databricks.v1+cell": {
     "cellMetadata": {
      "byteLimit": 2048000,
      "rowLimit": 10000
     },
     "inputWidgets": {},
     "nuid": "77037c5f-d103-42dd-a9d2-e183f7b581cd",
     "showTitle": false,
     "title": ""
    }
   },
   "outputs": [
    {
     "output_type": "stream",
     "name": "stdout",
     "output_type": "stream",
     "text": [
      "+-------------+-----------------+--------------+-----------------+\n|StoreLocation|RetainedCustomers|TotalCustomers|RetentionRateCity|\n+-------------+-----------------+--------------+-----------------+\n|      Phoenix|                0|             2|              0.0|\n|       Dallas|                0|             1|              0.0|\n|  San Antonio|                0|             2|              0.0|\n| Philadelphia|                0|             3|              0.0|\n|  Los Angeles|                0|             2|              0.0|\n|      Chicago|                0|             3|              0.0|\n|     San Jose|                0|             4|              0.0|\n|New York City|                0|             1|              0.0|\n|      Houston|                0|             1|              0.0|\n+-------------+-----------------+--------------+-----------------+\n\n+--------------------+-----------------+--------------+---------------------+\n|     ProductCategory|RetainedCustomers|TotalCustomers|RetentionRateCategory|\n+--------------------+-----------------+--------------+---------------------+\n|Cardiovascular Di...|                0|             1|                  0.0|\n|Cancer Treatment ...|                0|             2|                  0.0|\n|Eye Health (OTC &...|                0|             3|                  0.0|\n|Diabetes (Prescri...|                0|             1|                  0.0|\n|Antibiotics (Pres...|                0|             3|                  0.0|\n|Pain Relief (OTC ...|                0|             1|                  0.0|\n|AIDS Treatment (P...|                0|             1|                  0.0|\n|Gastrointestinal ...|                0|             2|                  0.0|\n|Neurological Diso...|                0|             1|                  0.0|\n|Bone Health (OTC ...|                0|             4|                  0.0|\n+--------------------+-----------------+--------------+---------------------+\n\n"
     ]
    }
   ],
   "source": [
    "#Calculate Retention Rate\n",
    "\n",
    "from pyspark.sql import functions as F\n",
    "from pyspark.sql import Window\n",
    "\n",
    "# Step 1: Convert Timestamp to Date\n",
    "df_with_date = df_pos_daily_file.withColumn(\"Date\", to_date(col(\"Timestamp\"), \"dd-MM-yyyy HH:mm\"))\n",
    "\n",
    "# Step 2: Calculate Total Purchases by Customer and Group by City\n",
    "customer_city_purchases = df_with_date.groupBy(\"CustomerID\", \"StoreLocation\") \\\n",
    "    .agg(F.count(\"TransactionID\").alias(\"TotalPurchases\"))\n",
    "\n",
    "# Step 3: Identify Retained Customers by City\n",
    "retained_customers_city = customer_city_purchases.groupBy(\"StoreLocation\") \\\n",
    "    .agg(F.count(F.when(col(\"TotalPurchases\") > 1, 1)).alias(\"RetainedCustomers\"),\n",
    "         F.count(\"CustomerID\").alias(\"TotalCustomers\")) \\\n",
    "    .withColumn(\"RetentionRateCity\", (col(\"RetainedCustomers\") / col(\"TotalCustomers\")) * 100)\n",
    "\n",
    "# Step 4: Calculate Total Purchases by Customer and Group by Product Category\n",
    "customer_category_purchases = df_with_date.groupBy(\"CustomerID\", \"ProductCategory\") \\\n",
    "    .agg(F.count(\"TransactionID\").alias(\"TotalPurchases\"))\n",
    "\n",
    "# Step 5: Identify Retained Customers by Product Category\n",
    "retained_customers_category = customer_category_purchases.groupBy(\"ProductCategory\") \\\n",
    "    .agg(F.count(F.when(col(\"TotalPurchases\") > 1, 1)).alias(\"RetainedCustomers\"),\n",
    "         F.count(\"CustomerID\").alias(\"TotalCustomers\")) \\\n",
    "    .withColumn(\"RetentionRateCategory\", (col(\"RetainedCustomers\") / col(\"TotalCustomers\")) * 100)\n",
    "\n",
    "retained_customers_city.show()\n",
    "retained_customers_category.show()"
   ]
  },
  {
   "cell_type": "code",
   "execution_count": 0,
   "metadata": {
    "application/vnd.databricks.v1+cell": {
     "cellMetadata": {
      "byteLimit": 2048000,
      "rowLimit": 10000
     },
     "inputWidgets": {},
     "nuid": "c5ff4754-591b-40bc-ae56-da1720c0e496",
     "showTitle": false,
     "title": ""
    }
   },
   "outputs": [
    {
     "output_type": "stream",
     "name": "stdout",
     "output_type": "stream",
     "text": [
      "+----+-----+-------------+--------------------+------------+--------------+-------------------+\n|Year|Month|StoreLocation|     ProductCategory|MonthlySales|PrevMonthSales|GrowthRateinPercent|\n+----+-----+-------------+--------------------+------------+--------------+-------------------+\n|2024|    7|      Chicago|Antibiotics (Pres...|       487.8|          NULL|               NULL|\n|2024|    6|      Chicago|Gastrointestinal ...|      442.56|          NULL|               NULL|\n|2024|    6|      Chicago|Neurological Diso...|     1082.34|          NULL|               NULL|\n|2024|    6|       Dallas|Pain Relief (OTC ...|     1352.96|          NULL|               NULL|\n|2024|    7|      Houston|Eye Health (OTC &...|      614.12|          NULL|               NULL|\n|2024|    7|  Los Angeles|Antibiotics (Pres...|     1321.98|          NULL|               NULL|\n|2024|    6|  Los Angeles|Cancer Treatment ...|       461.0|          NULL|               NULL|\n|2024|    7|New York City|Cardiovascular Di...|      238.14|          NULL|               NULL|\n|2024|    7| Philadelphia|Bone Health (OTC ...|      422.86|          NULL|               NULL|\n|2024|    6| Philadelphia|Cancer Treatment ...|      424.88|          NULL|               NULL|\n|2024|    7| Philadelphia|Diabetes (Prescri...|       813.2|          NULL|               NULL|\n|2024|    6|      Phoenix|Bone Health (OTC ...|     1028.76|          NULL|               NULL|\n|2024|    7|  San Antonio|Antibiotics (Pres...|      405.18|          NULL|               NULL|\n|2024|    8|  San Antonio|Bone Health (OTC ...|      124.91|          NULL|               NULL|\n|2024|    6|     San Jose|AIDS Treatment (P...|       85.89|          NULL|               NULL|\n|2024|    6|     San Jose|Eye Health (OTC &...|      284.28|          NULL|               NULL|\n|2024|    7|     San Jose|Eye Health (OTC &...|      162.45|        284.28|-42.855635289151536|\n|2024|    6|     San Jose|Gastrointestinal ...|      194.04|          NULL|               NULL|\n+----+-----+-------------+--------------------+------------+--------------+-------------------+\n\n"
     ]
    }
   ],
   "source": [
    "#Monthly sales and growth rate for each product category in each city\n",
    "\n",
    "from pyspark.sql import functions as F\n",
    "from pyspark.sql import Window\n",
    "\n",
    "# Step 1: Convert Timestamp to Date\n",
    "df_with_date = df_pos_daily_file.withColumn(\"Date\", to_date(col(\"Timestamp\"), \"dd-MM-yyyy HH:mm\"))\n",
    "\n",
    "# Step 2: Create Year and Month Columns\n",
    "df_with_date = df_with_date.withColumn(\"Year\", year(col(\"Date\"))) \\\n",
    "    .withColumn(\"Month\", month(col(\"Date\")))\n",
    "\n",
    "# Step 3: Calculate Monthly Sales per Product per City\n",
    "monthly_sales = df_with_date.groupBy(\"Year\", \"Month\", \"StoreLocation\", \"ProductCategory\") \\\n",
    "    .agg(sum(\"TotalAmount\").alias(\"MonthlySales\")) \\\n",
    "    .orderBy(\"Year\", \"Month\", \"StoreLocation\", \"ProductCategory\")\n",
    "\n",
    "# Step 4: Calculate Previous Month Sales for Growth Calculation\n",
    "window_spec = Window.partitionBy(\"StoreLocation\", \"ProductCategory\").orderBy(\"Year\", \"Month\")\n",
    "sales_growth = monthly_sales.withColumn(\"PrevMonthSales\", lag(\"MonthlySales\", 1).over(window_spec)) \\\n",
    "    .withColumn(\"GrowthRateinPercent\",(col(\"MonthlySales\")-col(\"PrevMonthSales\"))/col(\"PrevMonthSales\")*100)\n",
    "\n",
    "result=sales_growth.select(\"Year\",\"Month\",\"StoreLocation\",\"ProductCategory\",\"MonthlySales\", \"PrevMonthSales\",\"GrowthRateinPercent\")\n",
    "\n",
    "result.show()"
   ]
  },
  {
   "cell_type": "code",
   "execution_count": 0,
   "metadata": {
    "application/vnd.databricks.v1+cell": {
     "cellMetadata": {
      "byteLimit": 2048000,
      "rowLimit": 10000
     },
     "inputWidgets": {},
     "nuid": "8637af59-b634-4d6a-bc04-a1d3111f05a7",
     "showTitle": false,
     "title": ""
    }
   },
   "outputs": [
    {
     "output_type": "stream",
     "name": "stdout",
     "output_type": "stream",
     "text": [
      "+----+----+-------------+--------------------+-----------+-------------+-------------------+\n|Year|Week|StoreLocation|     ProductCategory|WeeklySales|PrevWeekSales|GrowthRateinPercent|\n+----+----+-------------+--------------------+-----------+-------------+-------------------+\n|2024|  23|       Dallas|Pain Relief (OTC ...|    1352.96|         NULL|               NULL|\n|2024|  23|     San Jose|AIDS Treatment (P...|      85.89|         NULL|               NULL|\n|2024|  23|     San Jose|Gastrointestinal ...|     194.04|         NULL|               NULL|\n|2024|  24|      Chicago|Gastrointestinal ...|     442.56|         NULL|               NULL|\n|2024|  24| Philadelphia|Cancer Treatment ...|     424.88|         NULL|               NULL|\n|2024|  24|      Phoenix|Bone Health (OTC ...|     189.64|         NULL|               NULL|\n|2024|  25|      Chicago|Neurological Diso...|    1082.34|         NULL|               NULL|\n|2024|  25|      Phoenix|Bone Health (OTC ...|     839.12|       189.64|  342.4804893482388|\n|2024|  26|  Los Angeles|Cancer Treatment ...|      461.0|         NULL|               NULL|\n|2024|  26|     San Jose|Eye Health (OTC &...|     284.28|         NULL|               NULL|\n|2024|  27|  Los Angeles|Antibiotics (Pres...|    1321.98|         NULL|               NULL|\n|2024|  27|  San Antonio|Antibiotics (Pres...|     405.18|         NULL|               NULL|\n|2024|  28|New York City|Cardiovascular Di...|     238.14|         NULL|               NULL|\n|2024|  29|      Houston|Eye Health (OTC &...|     614.12|         NULL|               NULL|\n|2024|  29| Philadelphia|Bone Health (OTC ...|     422.86|         NULL|               NULL|\n|2024|  29| Philadelphia|Diabetes (Prescri...|      813.2|         NULL|               NULL|\n|2024|  29|     San Jose|Eye Health (OTC &...|     162.45|       284.28|-42.855635289151536|\n|2024|  30|      Chicago|Antibiotics (Pres...|      487.8|         NULL|               NULL|\n|2024|  32|  San Antonio|Bone Health (OTC ...|     124.91|         NULL|               NULL|\n+----+----+-------------+--------------------+-----------+-------------+-------------------+\n\n"
     ]
    }
   ],
   "source": [
    "#Weekly sales and growth rate for each product category in each city\n",
    "\n",
    "from pyspark.sql import functions as F\n",
    "from pyspark.sql import Window\n",
    "\n",
    "# Step 1: Convert Timestamp to Date\n",
    "df_with_date = df_pos_daily_file.withColumn(\"Date\", to_date(col(\"Timestamp\"), \"dd-MM-yyyy HH:mm\"))\n",
    "\n",
    "# Step 2: Create Year and Week Number Columns\n",
    "df_with_date = df_with_date.withColumn(\"Year\", year(col(\"Date\"))) \\\n",
    "    .withColumn(\"Week\", F.weekofyear(col(\"Date\")))\n",
    "\n",
    "# Step 3: Calculate Weekly Sales per Product per City\n",
    "weekly_sales = df_with_date.groupBy(\"Year\", \"Week\", \"StoreLocation\", \"ProductCategory\") \\\n",
    "    .agg(sum(\"TotalAmount\").alias(\"WeeklySales\")) \\\n",
    "    .orderBy(\"Year\", \"Week\", \"StoreLocation\", \"ProductCategory\")\n",
    "\n",
    "# Step 4: Calculate Previous Week Sales for Growth Calculation\n",
    "window_spec = Window.partitionBy(\"StoreLocation\", \"ProductCategory\").orderBy(\"Year\", \"Week\")\n",
    "sales_growth = weekly_sales.withColumn(\"PrevWeekSales\", lag(\"WeeklySales\", 1).over(window_spec)) \\\n",
    "    .withColumn(\"GrowthRateinPercent\",(col(\"WeeklySales\")-col(\"PrevWeekSales\"))/col(\"PrevWeekSales\")*100)\\\n",
    "    .orderBy(\"Year\",\"Week\",\"StoreLocation\",\"ProductCategory\")\n",
    "\n",
    "# Step 5: Select Relevant Columns\n",
    "result=sales_growth.select(\"Year\",\"Week\",\"StoreLocation\",\"ProductCategory\",\"WeeklySales\",\"PrevWeekSales\", \"GrowthRateinPercent\")\n",
    "\n",
    "result.show()\n"
   ]
  },
  {
   "cell_type": "markdown",
   "metadata": {
    "application/vnd.databricks.v1+cell": {
     "cellMetadata": {},
     "inputWidgets": {},
     "nuid": "f0fc8e2b-896b-4d54-a8fd-f900007b963d",
     "showTitle": false,
     "title": ""
    }
   },
   "source": [
    "Citywise KPI"
   ]
  },
  {
   "cell_type": "code",
   "execution_count": 0,
   "metadata": {
    "application/vnd.databricks.v1+cell": {
     "cellMetadata": {
      "byteLimit": 2048000,
      "rowLimit": 10000
     },
     "inputWidgets": {},
     "nuid": "5b709dde-0f43-4890-b817-88bfd287891d",
     "showTitle": false,
     "title": ""
    }
   },
   "outputs": [
    {
     "output_type": "display_data",
     "data": {
      "text/html": [
       "<style scoped>\n",
       "  .table-result-container {\n",
       "    max-height: 300px;\n",
       "    overflow: auto;\n",
       "  }\n",
       "  table, th, td {\n",
       "    border: 1px solid black;\n",
       "    border-collapse: collapse;\n",
       "  }\n",
       "  th, td {\n",
       "    padding: 5px;\n",
       "  }\n",
       "  th {\n",
       "    text-align: left;\n",
       "  }\n",
       "</style><div class='table-result-container'><table class='table-result'><thead style='background-color: white'><tr><th>StoreLocation</th><th>TotalSales</th><th>TotalTransactions</th><th>UniqueCustomers</th><th>AvgTransactionValue</th><th>RetainedCustomers</th><th>RetentionRate</th><th>TopSellingProductCategory</th><th>TopSellingCategorySales</th></tr></thead><tbody><tr><td>New York City</td><td>238.14</td><td>1</td><td>1</td><td>238.14</td><td>0</td><td>0.0</td><td>Cardiovascular Diseases (Prescription)</td><td>238.14</td></tr><tr><td>San Antonio</td><td>530.09</td><td>2</td><td>2</td><td>265.045</td><td>0</td><td>0.0</td><td>Antibiotics (Prescription)</td><td>405.18</td></tr><tr><td>San Jose</td><td>726.66</td><td>4</td><td>4</td><td>181.665</td><td>0</td><td>0.0</td><td>Eye Health (OTC & Prescription)</td><td>446.72999999999996</td></tr><tr><td>Houston</td><td>614.12</td><td>1</td><td>1</td><td>614.12</td><td>0</td><td>0.0</td><td>Eye Health (OTC & Prescription)</td><td>614.12</td></tr><tr><td>Philadelphia</td><td>1660.94</td><td>3</td><td>3</td><td>553.6466666666666</td><td>0</td><td>0.0</td><td>Diabetes (Prescription & OTC)</td><td>813.2</td></tr><tr><td>Phoenix</td><td>1028.76</td><td>2</td><td>2</td><td>514.38</td><td>0</td><td>0.0</td><td>Bone Health (OTC & Prescription)</td><td>1028.76</td></tr><tr><td>Chicago</td><td>2012.6999999999998</td><td>3</td><td>3</td><td>670.9</td><td>0</td><td>0.0</td><td>Neurological Disorders (Prescription)</td><td>1082.34</td></tr><tr><td>Los Angeles</td><td>1782.98</td><td>2</td><td>2</td><td>891.49</td><td>0</td><td>0.0</td><td>Antibiotics (Prescription)</td><td>1321.98</td></tr><tr><td>Dallas</td><td>1352.96</td><td>1</td><td>1</td><td>1352.96</td><td>0</td><td>0.0</td><td>Pain Relief (OTC & Prescription)</td><td>1352.96</td></tr></tbody></table></div>"
      ]
     },
     "metadata": {
      "application/vnd.databricks.v1+output": {
       "addedWidgets": {},
       "aggData": [],
       "aggError": "",
       "aggOverflow": false,
       "aggSchema": [],
       "aggSeriesLimitReached": false,
       "aggType": "",
       "arguments": {},
       "columnCustomDisplayInfos": {},
       "data": [
        [
         "New York City",
         238.14,
         1,
         1,
         238.14,
         0,
         0.0,
         "Cardiovascular Diseases (Prescription)",
         238.14
        ],
        [
         "San Antonio",
         530.09,
         2,
         2,
         265.045,
         0,
         0.0,
         "Antibiotics (Prescription)",
         405.18
        ],
        [
         "San Jose",
         726.66,
         4,
         4,
         181.665,
         0,
         0.0,
         "Eye Health (OTC & Prescription)",
         446.72999999999996
        ],
        [
         "Houston",
         614.12,
         1,
         1,
         614.12,
         0,
         0.0,
         "Eye Health (OTC & Prescription)",
         614.12
        ],
        [
         "Philadelphia",
         1660.94,
         3,
         3,
         553.6466666666666,
         0,
         0.0,
         "Diabetes (Prescription & OTC)",
         813.2
        ],
        [
         "Phoenix",
         1028.76,
         2,
         2,
         514.38,
         0,
         0.0,
         "Bone Health (OTC & Prescription)",
         1028.76
        ],
        [
         "Chicago",
         2012.6999999999998,
         3,
         3,
         670.9,
         0,
         0.0,
         "Neurological Disorders (Prescription)",
         1082.34
        ],
        [
         "Los Angeles",
         1782.98,
         2,
         2,
         891.49,
         0,
         0.0,
         "Antibiotics (Prescription)",
         1321.98
        ],
        [
         "Dallas",
         1352.96,
         1,
         1,
         1352.96,
         0,
         0.0,
         "Pain Relief (OTC & Prescription)",
         1352.96
        ]
       ],
       "datasetInfos": [],
       "dbfsResultPath": null,
       "isJsonSchema": true,
       "metadata": {},
       "overflow": false,
       "plotOptions": {
        "customPlotOptions": {},
        "displayType": "table",
        "pivotAggregation": null,
        "pivotColumns": null,
        "xColumns": null,
        "yColumns": null
       },
       "removedWidgets": [],
       "schema": [
        {
         "metadata": "{}",
         "name": "StoreLocation",
         "type": "\"string\""
        },
        {
         "metadata": "{}",
         "name": "TotalSales",
         "type": "\"double\""
        },
        {
         "metadata": "{}",
         "name": "TotalTransactions",
         "type": "\"long\""
        },
        {
         "metadata": "{}",
         "name": "UniqueCustomers",
         "type": "\"long\""
        },
        {
         "metadata": "{}",
         "name": "AvgTransactionValue",
         "type": "\"double\""
        },
        {
         "metadata": "{}",
         "name": "RetainedCustomers",
         "type": "\"long\""
        },
        {
         "metadata": "{}",
         "name": "RetentionRate",
         "type": "\"double\""
        },
        {
         "metadata": "{}",
         "name": "TopSellingProductCategory",
         "type": "\"string\""
        },
        {
         "metadata": "{}",
         "name": "TopSellingCategorySales",
         "type": "\"double\""
        }
       ],
       "type": "table"
      }
     },
     "output_type": "display_data"
    }
   ],
   "source": [
    "#Citywise KPI Calculation\n",
    "\n",
    "from pyspark.sql import SparkSession\n",
    "from pyspark.sql import functions as F\n",
    "from pyspark.sql import Window\n",
    "\n",
    "\n",
    "\n",
    "# Step 1: Convert Timestamp to Date\n",
    "df_with_date = df_pos_daily_file.withColumn(\"Date\", to_date(col(\"Timestamp\"), \"dd-MM-yyyy HH:mm\"))\n",
    "\n",
    "# Step 2: Calculate Total Sales and Number of Transactions by City\n",
    "citywise_sales = df_with_date.groupBy(\"StoreLocation\") \\\n",
    "    .agg(\n",
    "        F.sum(\"TotalAmount\").alias(\"TotalSales\"),\n",
    "        F.count(\"TransactionID\").alias(\"TotalTransactions\"),\n",
    "        F.countDistinct(\"CustomerID\").alias(\"UniqueCustomers\")\n",
    "    )\n",
    "\n",
    "# Step 3: Calculate Average Transaction Value\n",
    "citywise_sales = citywise_sales.withColumn(\"AvgTransactionValue\", col(\"TotalSales\") / col(\"TotalTransactions\"))\n",
    "\n",
    "# Step 4: Calculate Retained Customers\n",
    "customer_city_purchases = df_with_date.groupBy(\"CustomerID\", \"StoreLocation\") \\\n",
    "    .agg(F.count(\"TransactionID\").alias(\"TotalPurchases\"))\n",
    "\n",
    "retained_customers_city = customer_city_purchases.groupBy(\"StoreLocation\") \\\n",
    "    .agg(F.count(F.when(col(\"TotalPurchases\") > 1, 1)).alias(\"RetainedCustomers\"))\n",
    "\n",
    "# Step 5: Join the retained customers with citywise sales\n",
    "citywise_kpi = citywise_sales.join(retained_customers_city, \"StoreLocation\", \"left\") \\\n",
    "    .fillna(0)\n",
    "\n",
    "# Step 6: Calculate Retention Rate\n",
    "citywise_kpi = citywise_kpi.withColumn(\"RetentionRate\", (col(\"RetainedCustomers\") / col(\"UniqueCustomers\")) * 100)\n",
    "\n",
    "# Step 7: Find Top Selling Product Category by City\n",
    "top_product_category = df_with_date.groupBy(\"StoreLocation\", \"ProductCategory\") \\\n",
    "    .agg(F.sum(\"TotalAmount\").alias(\"CategorySales\")) \\\n",
    "    .withColumn(\"Rank\", F.row_number().over(Window.partitionBy(\"StoreLocation\").orderBy(col(\"CategorySales\").desc()))) \\\n",
    "    .filter(col(\"Rank\") == 1) \\\n",
    "    .select(\"StoreLocation\", \"ProductCategory\", \"CategorySales\")\n",
    "\n",
    "# Step 8: Join Top Selling Product Category with Citywise KPI\n",
    "df_final_city_kpi=citywise_kpi.join(top_product_category, \"StoreLocation\", \"left\") \\\n",
    "    .withColumnRenamed(\"ProductCategory\", \"TopSellingProductCategory\") \\\n",
    "    .withColumnRenamed(\"CategorySales\", \"TopSellingCategorySales\")\\\n",
    "    .orderBy(\"CategorySales\",ascending=True)\n",
    "\n",
    "# Show final KPI results\n",
    "df_final_city_kpi.select(\"StoreLocation\",\"TotalSales\",\"TotalTransactions\",\"AvgTransactionValue\", \n",
    "                 \"UniqueCustomers\",\"RetainedCustomers\",\"RetentionRate\", \n",
    "                 \"TopSellingProductCategory\",\"TopSellingCategorySales\")\n",
    "\n",
    "display(df_final_city_kpi)"
   ]
  },
  {
   "cell_type": "markdown",
   "metadata": {
    "application/vnd.databricks.v1+cell": {
     "cellMetadata": {},
     "inputWidgets": {},
     "nuid": "2140404f-ed12-40ff-890e-620735f7a5db",
     "showTitle": false,
     "title": ""
    }
   },
   "source": [
    "Product Category KPI"
   ]
  },
  {
   "cell_type": "code",
   "execution_count": 0,
   "metadata": {
    "application/vnd.databricks.v1+cell": {
     "cellMetadata": {
      "byteLimit": 2048000,
      "rowLimit": 10000
     },
     "inputWidgets": {},
     "nuid": "f6428e06-dbee-4ea2-a7e1-0930aaa73290",
     "showTitle": false,
     "title": ""
    }
   },
   "outputs": [
    {
     "output_type": "display_data",
     "data": {
      "text/html": [
       "<style scoped>\n",
       "  .table-result-container {\n",
       "    max-height: 300px;\n",
       "    overflow: auto;\n",
       "  }\n",
       "  table, th, td {\n",
       "    border: 1px solid black;\n",
       "    border-collapse: collapse;\n",
       "  }\n",
       "  th, td {\n",
       "    padding: 5px;\n",
       "  }\n",
       "  th {\n",
       "    text-align: left;\n",
       "  }\n",
       "</style><div class='table-result-container'><table class='table-result'><thead style='background-color: white'><tr><th>ProductCategory</th><th>TotalSales</th><th>TotalTransactions</th><th>UniqueCustomers</th><th>AvgTransactionValue</th><th>RetainedCustomers</th><th>RetentionRate</th><th>TopSellingProductID</th><th>TopSellingProductSales</th></tr></thead><tbody><tr><td>AIDS Treatment (Prescription)</td><td>85.89</td><td>1</td><td>1</td><td>85.89</td><td>0</td><td>0.0</td><td>P014</td><td>85.89</td></tr><tr><td>Cardiovascular Diseases (Prescription)</td><td>238.14</td><td>1</td><td>1</td><td>238.14</td><td>0</td><td>0.0</td><td>P041</td><td>238.14</td></tr><tr><td>Gastrointestinal (OTC & Prescription)</td><td>636.6</td><td>2</td><td>2</td><td>318.3</td><td>0</td><td>0.0</td><td>P004</td><td>442.56</td></tr><tr><td>Diabetes (Prescription & OTC)</td><td>813.2</td><td>1</td><td>1</td><td>813.2</td><td>0</td><td>0.0</td><td>P008</td><td>813.2</td></tr><tr><td>Cancer Treatment (Prescription)</td><td>885.88</td><td>2</td><td>2</td><td>442.94</td><td>0</td><td>0.0</td><td>P005</td><td>461.0</td></tr><tr><td>Eye Health (OTC & Prescription)</td><td>1060.85</td><td>3</td><td>3</td><td>353.6166666666666</td><td>0</td><td>0.0</td><td>P010</td><td>614.12</td></tr><tr><td>Neurological Disorders (Prescription)</td><td>1082.34</td><td>1</td><td>1</td><td>1082.34</td><td>0</td><td>0.0</td><td>P002</td><td>1082.34</td></tr><tr><td>Pain Relief (OTC & Prescription)</td><td>1352.96</td><td>1</td><td>1</td><td>1352.96</td><td>0</td><td>0.0</td><td>P034</td><td>1352.96</td></tr><tr><td>Bone Health (OTC & Prescription)</td><td>1576.5300000000002</td><td>4</td><td>4</td><td>394.13250000000005</td><td>0</td><td>0.0</td><td>P029</td><td>839.12</td></tr><tr><td>Antibiotics (Prescription)</td><td>2214.96</td><td>3</td><td>3</td><td>738.32</td><td>0</td><td>0.0</td><td>P032</td><td>1321.98</td></tr></tbody></table></div>"
      ]
     },
     "metadata": {
      "application/vnd.databricks.v1+output": {
       "addedWidgets": {},
       "aggData": [],
       "aggError": "",
       "aggOverflow": false,
       "aggSchema": [],
       "aggSeriesLimitReached": false,
       "aggType": "",
       "arguments": {},
       "columnCustomDisplayInfos": {},
       "data": [
        [
         "AIDS Treatment (Prescription)",
         85.89,
         1,
         1,
         85.89,
         0,
         0.0,
         "P014",
         85.89
        ],
        [
         "Cardiovascular Diseases (Prescription)",
         238.14,
         1,
         1,
         238.14,
         0,
         0.0,
         "P041",
         238.14
        ],
        [
         "Gastrointestinal (OTC & Prescription)",
         636.6,
         2,
         2,
         318.3,
         0,
         0.0,
         "P004",
         442.56
        ],
        [
         "Diabetes (Prescription & OTC)",
         813.2,
         1,
         1,
         813.2,
         0,
         0.0,
         "P008",
         813.2
        ],
        [
         "Cancer Treatment (Prescription)",
         885.88,
         2,
         2,
         442.94,
         0,
         0.0,
         "P005",
         461.0
        ],
        [
         "Eye Health (OTC & Prescription)",
         1060.85,
         3,
         3,
         353.6166666666666,
         0,
         0.0,
         "P010",
         614.12
        ],
        [
         "Neurological Disorders (Prescription)",
         1082.34,
         1,
         1,
         1082.34,
         0,
         0.0,
         "P002",
         1082.34
        ],
        [
         "Pain Relief (OTC & Prescription)",
         1352.96,
         1,
         1,
         1352.96,
         0,
         0.0,
         "P034",
         1352.96
        ],
        [
         "Bone Health (OTC & Prescription)",
         1576.5300000000002,
         4,
         4,
         394.13250000000005,
         0,
         0.0,
         "P029",
         839.12
        ],
        [
         "Antibiotics (Prescription)",
         2214.96,
         3,
         3,
         738.32,
         0,
         0.0,
         "P032",
         1321.98
        ]
       ],
       "datasetInfos": [],
       "dbfsResultPath": null,
       "isJsonSchema": true,
       "metadata": {},
       "overflow": false,
       "plotOptions": {
        "customPlotOptions": {},
        "displayType": "table",
        "pivotAggregation": null,
        "pivotColumns": null,
        "xColumns": null,
        "yColumns": null
       },
       "removedWidgets": [],
       "schema": [
        {
         "metadata": "{}",
         "name": "ProductCategory",
         "type": "\"string\""
        },
        {
         "metadata": "{}",
         "name": "TotalSales",
         "type": "\"double\""
        },
        {
         "metadata": "{}",
         "name": "TotalTransactions",
         "type": "\"long\""
        },
        {
         "metadata": "{}",
         "name": "UniqueCustomers",
         "type": "\"long\""
        },
        {
         "metadata": "{}",
         "name": "AvgTransactionValue",
         "type": "\"double\""
        },
        {
         "metadata": "{}",
         "name": "RetainedCustomers",
         "type": "\"long\""
        },
        {
         "metadata": "{}",
         "name": "RetentionRate",
         "type": "\"double\""
        },
        {
         "metadata": "{}",
         "name": "TopSellingProductID",
         "type": "\"string\""
        },
        {
         "metadata": "{}",
         "name": "TopSellingProductSales",
         "type": "\"double\""
        }
       ],
       "type": "table"
      }
     },
     "output_type": "display_data"
    }
   ],
   "source": [
    "#Product Category KPI Calculation\n",
    "\n",
    "df_with_date = df_pos_daily_file.withColumn(\"Date\", F.to_date(F.col(\"Timestamp\"), \"dd-MM-yyyy HH:mm\"))\n",
    "\n",
    "# Step 2: Calculate Total Sales and Number of Transactions by Product Category\n",
    "categorywise_sales = df_with_date.groupBy(\"ProductCategory\") \\\n",
    "    .agg(\n",
    "        F.sum(\"TotalAmount\").alias(\"TotalSales\"),\n",
    "        F.count(\"TransactionID\").alias(\"TotalTransactions\"),\n",
    "        F.countDistinct(\"CustomerID\").alias(\"UniqueCustomers\")\n",
    "    )\n",
    "\n",
    "# Step 3: Calculate Average Transaction Value\n",
    "categorywise_sales = categorywise_sales.withColumn(\"AvgTransactionValue\", \n",
    "                                                   col(\"TotalSales\") / col(\"TotalTransactions\"))\n",
    "\n",
    "# Step 4: Calculate Retained Customers for Each Product Category\n",
    "customer_category_purchases = df_with_date.groupBy(\"CustomerID\", \"ProductCategory\") \\\n",
    "    .agg(F.count(\"TransactionID\").alias(\"TotalPurchases\"))\n",
    "\n",
    "retained_customers_category = customer_category_purchases.groupBy(\"ProductCategory\") \\\n",
    "    .agg(F.count(F.when(col(\"TotalPurchases\") > 1, 1)).alias(\"RetainedCustomers\"))\n",
    "\n",
    "# Step 5: Join the retained customers with category-wise sales\n",
    "categorywise_kpi = categorywise_sales.join(retained_customers_category, \"ProductCategory\", \"left\") \\\n",
    "    .fillna(0)\n",
    "\n",
    "# Step 6: Calculate Retention Rate\n",
    "categorywise_kpi = categorywise_kpi.withColumn(\"RetentionRate\", \n",
    "                                               (col(\"RetainedCustomers\") / col(\"UniqueCustomers\")) * 100)\n",
    "\n",
    "# Step 7: Find Top Selling Product by Category\n",
    "top_product = df_with_date.groupBy(\"ProductCategory\", \"ProductID\") \\\n",
    "    .agg(F.sum(\"TotalAmount\").alias(\"ProductSales\")) \\\n",
    "    .withColumn(\"Rank\", F.row_number().over(Window.partitionBy(\"ProductCategory\").orderBy(col(\"ProductSales\").desc()))) \\\n",
    "    .filter(col(\"Rank\") == 1) \\\n",
    "    .select(\"ProductCategory\", \"ProductID\", \"ProductSales\")\n",
    "\n",
    "# Step 8: Join Top Selling Product with Categorywise KPI\n",
    "df_final_category_kpi = categorywise_kpi.join(top_product, \"ProductCategory\", \"left\") \\\n",
    "    .withColumnRenamed(\"ProductID\", \"TopSellingProductID\") \\\n",
    "    .withColumnRenamed(\"ProductSales\", \"TopSellingProductSales\")\\\n",
    "    .orderBy(\"TotalSales\",ascending=True)\n",
    "\n",
    "# Show final KPI results\n",
    "df_final_category_kpi.select(\"ProductCategory\", \"TotalSales\", \"TotalTransactions\", \n",
    "                          \"AvgTransactionValue\", \"UniqueCustomers\", \"RetainedCustomers\", \n",
    "                          \"RetentionRate\", \"TopSellingProductID\", \"TopSellingProductSales\")\n",
    "\n",
    "\n",
    "display(df_final_category_kpi)"
   ]
  },
  {
   "cell_type": "markdown",
   "metadata": {
    "application/vnd.databricks.v1+cell": {
     "cellMetadata": {},
     "inputWidgets": {},
     "nuid": "d5382996-10f1-4ff1-87b9-b929df7a54a4",
     "showTitle": false,
     "title": ""
    }
   },
   "source": [
    "Customer Insights KPI"
   ]
  },
  {
   "cell_type": "code",
   "execution_count": 0,
   "metadata": {
    "application/vnd.databricks.v1+cell": {
     "cellMetadata": {
      "byteLimit": 2048000,
      "rowLimit": 10000
     },
     "inputWidgets": {},
     "nuid": "e79c2ecc-eddb-4b80-abdf-0b75c065ca43",
     "showTitle": false,
     "title": ""
    }
   },
   "outputs": [
    {
     "output_type": "display_data",
     "data": {
      "text/html": [
       "<style scoped>\n",
       "  .table-result-container {\n",
       "    max-height: 300px;\n",
       "    overflow: auto;\n",
       "  }\n",
       "  table, th, td {\n",
       "    border: 1px solid black;\n",
       "    border-collapse: collapse;\n",
       "  }\n",
       "  th, td {\n",
       "    padding: 5px;\n",
       "  }\n",
       "  th {\n",
       "    text-align: left;\n",
       "  }\n",
       "</style><div class='table-result-container'><table class='table-result'><thead style='background-color: white'><tr><th>CustomerID</th><th>TotalSpending</th><th>TotalTransactions</th><th>UniqueStores</th><th>AvgSpendingPerTransaction</th><th>RetainedStatus</th><th>RetentionRate</th><th>Jan2024</th><th>Feb2024</th><th>Mar2024</th><th>Apr2024</th><th>May2024</th><th>Jun2024</th><th>Jul2024</th><th>Aug2024</th><th>Sep2024</th><th>Oct2024</th><th>Nov2024</th><th>Dec2024</th><th>TopStoreLocation</th><th>TopStoreSpending</th></tr></thead><tbody><tr><td>U021</td><td>85.89</td><td>1</td><td>1</td><td>85.89</td><td>0</td><td>0.0</td><td>null</td><td>null</td><td>null</td><td>null</td><td>null</td><td>85.89</td><td>null</td><td>null</td><td>null</td><td>null</td><td>null</td><td>null</td><td>San Jose</td><td>85.89</td></tr><tr><td>U097</td><td>124.91</td><td>1</td><td>1</td><td>124.91</td><td>0</td><td>0.0</td><td>null</td><td>null</td><td>null</td><td>null</td><td>null</td><td>null</td><td>null</td><td>124.91</td><td>null</td><td>null</td><td>null</td><td>null</td><td>San Antonio</td><td>124.91</td></tr><tr><td>U019</td><td>162.45</td><td>1</td><td>1</td><td>162.45</td><td>0</td><td>0.0</td><td>null</td><td>null</td><td>null</td><td>null</td><td>null</td><td>null</td><td>162.45</td><td>null</td><td>null</td><td>null</td><td>null</td><td>null</td><td>San Jose</td><td>162.45</td></tr><tr><td>U039</td><td>189.64</td><td>1</td><td>1</td><td>189.64</td><td>0</td><td>0.0</td><td>null</td><td>null</td><td>null</td><td>null</td><td>null</td><td>189.64</td><td>null</td><td>null</td><td>null</td><td>null</td><td>null</td><td>null</td><td>Phoenix</td><td>189.64</td></tr><tr><td>U007</td><td>194.04</td><td>1</td><td>1</td><td>194.04</td><td>0</td><td>0.0</td><td>null</td><td>null</td><td>null</td><td>null</td><td>null</td><td>194.04</td><td>null</td><td>null</td><td>null</td><td>null</td><td>null</td><td>null</td><td>San Jose</td><td>194.04</td></tr><tr><td>U037</td><td>238.14</td><td>1</td><td>1</td><td>238.14</td><td>0</td><td>0.0</td><td>null</td><td>null</td><td>null</td><td>null</td><td>null</td><td>null</td><td>238.14</td><td>null</td><td>null</td><td>null</td><td>null</td><td>null</td><td>New York City</td><td>238.14</td></tr><tr><td>U059</td><td>284.28</td><td>1</td><td>1</td><td>284.28</td><td>0</td><td>0.0</td><td>null</td><td>null</td><td>null</td><td>null</td><td>null</td><td>284.28</td><td>null</td><td>null</td><td>null</td><td>null</td><td>null</td><td>null</td><td>San Jose</td><td>284.28</td></tr><tr><td>U081</td><td>405.18</td><td>1</td><td>1</td><td>405.18</td><td>0</td><td>0.0</td><td>null</td><td>null</td><td>null</td><td>null</td><td>null</td><td>null</td><td>405.18</td><td>null</td><td>null</td><td>null</td><td>null</td><td>null</td><td>San Antonio</td><td>405.18</td></tr><tr><td>U096</td><td>422.86</td><td>1</td><td>1</td><td>422.86</td><td>0</td><td>0.0</td><td>null</td><td>null</td><td>null</td><td>null</td><td>null</td><td>null</td><td>422.86</td><td>null</td><td>null</td><td>null</td><td>null</td><td>null</td><td>Philadelphia</td><td>422.86</td></tr><tr><td>U014</td><td>442.56</td><td>1</td><td>1</td><td>442.56</td><td>0</td><td>0.0</td><td>null</td><td>null</td><td>null</td><td>null</td><td>null</td><td>442.56</td><td>null</td><td>null</td><td>null</td><td>null</td><td>null</td><td>null</td><td>Chicago</td><td>442.56</td></tr><tr><td>U051</td><td>461.0</td><td>1</td><td>1</td><td>461.0</td><td>0</td><td>0.0</td><td>null</td><td>null</td><td>null</td><td>null</td><td>null</td><td>461.0</td><td>null</td><td>null</td><td>null</td><td>null</td><td>null</td><td>null</td><td>Los Angeles</td><td>461.0</td></tr><tr><td>U009</td><td>487.8</td><td>1</td><td>1</td><td>487.8</td><td>0</td><td>0.0</td><td>null</td><td>null</td><td>null</td><td>null</td><td>null</td><td>null</td><td>487.8</td><td>null</td><td>null</td><td>null</td><td>null</td><td>null</td><td>Chicago</td><td>487.8</td></tr><tr><td>U065</td><td>813.2</td><td>1</td><td>1</td><td>813.2</td><td>0</td><td>0.0</td><td>null</td><td>null</td><td>null</td><td>null</td><td>null</td><td>null</td><td>813.2</td><td>null</td><td>null</td><td>null</td><td>null</td><td>null</td><td>Philadelphia</td><td>813.2</td></tr><tr><td>U057</td><td>839.12</td><td>1</td><td>1</td><td>839.12</td><td>0</td><td>0.0</td><td>null</td><td>null</td><td>null</td><td>null</td><td>null</td><td>839.12</td><td>null</td><td>null</td><td>null</td><td>null</td><td>null</td><td>null</td><td>Phoenix</td><td>839.12</td></tr><tr><td>U018</td><td>1039.0</td><td>2</td><td>2</td><td>519.5</td><td>1</td><td>50.0</td><td>null</td><td>null</td><td>null</td><td>null</td><td>null</td><td>424.88</td><td>614.12</td><td>null</td><td>null</td><td>null</td><td>null</td><td>null</td><td>Houston</td><td>614.12</td></tr><tr><td>U053</td><td>1082.34</td><td>1</td><td>1</td><td>1082.34</td><td>0</td><td>0.0</td><td>null</td><td>null</td><td>null</td><td>null</td><td>null</td><td>1082.34</td><td>null</td><td>null</td><td>null</td><td>null</td><td>null</td><td>null</td><td>Chicago</td><td>1082.34</td></tr><tr><td>U091</td><td>1321.98</td><td>1</td><td>1</td><td>1321.98</td><td>0</td><td>0.0</td><td>null</td><td>null</td><td>null</td><td>null</td><td>null</td><td>null</td><td>1321.98</td><td>null</td><td>null</td><td>null</td><td>null</td><td>null</td><td>Los Angeles</td><td>1321.98</td></tr><tr><td>U069</td><td>1352.96</td><td>1</td><td>1</td><td>1352.96</td><td>0</td><td>0.0</td><td>null</td><td>null</td><td>null</td><td>null</td><td>null</td><td>1352.96</td><td>null</td><td>null</td><td>null</td><td>null</td><td>null</td><td>null</td><td>Dallas</td><td>1352.96</td></tr></tbody></table></div>"
      ]
     },
     "metadata": {
      "application/vnd.databricks.v1+output": {
       "addedWidgets": {},
       "aggData": [],
       "aggError": "",
       "aggOverflow": false,
       "aggSchema": [],
       "aggSeriesLimitReached": false,
       "aggType": "",
       "arguments": {},
       "columnCustomDisplayInfos": {},
       "data": [
        [
         "U021",
         85.89,
         1,
         1,
         85.89,
         0,
         0.0,
         null,
         null,
         null,
         null,
         null,
         85.89,
         null,
         null,
         null,
         null,
         null,
         null,
         "San Jose",
         85.89
        ],
        [
         "U097",
         124.91,
         1,
         1,
         124.91,
         0,
         0.0,
         null,
         null,
         null,
         null,
         null,
         null,
         null,
         124.91,
         null,
         null,
         null,
         null,
         "San Antonio",
         124.91
        ],
        [
         "U019",
         162.45,
         1,
         1,
         162.45,
         0,
         0.0,
         null,
         null,
         null,
         null,
         null,
         null,
         162.45,
         null,
         null,
         null,
         null,
         null,
         "San Jose",
         162.45
        ],
        [
         "U039",
         189.64,
         1,
         1,
         189.64,
         0,
         0.0,
         null,
         null,
         null,
         null,
         null,
         189.64,
         null,
         null,
         null,
         null,
         null,
         null,
         "Phoenix",
         189.64
        ],
        [
         "U007",
         194.04,
         1,
         1,
         194.04,
         0,
         0.0,
         null,
         null,
         null,
         null,
         null,
         194.04,
         null,
         null,
         null,
         null,
         null,
         null,
         "San Jose",
         194.04
        ],
        [
         "U037",
         238.14,
         1,
         1,
         238.14,
         0,
         0.0,
         null,
         null,
         null,
         null,
         null,
         null,
         238.14,
         null,
         null,
         null,
         null,
         null,
         "New York City",
         238.14
        ],
        [
         "U059",
         284.28,
         1,
         1,
         284.28,
         0,
         0.0,
         null,
         null,
         null,
         null,
         null,
         284.28,
         null,
         null,
         null,
         null,
         null,
         null,
         "San Jose",
         284.28
        ],
        [
         "U081",
         405.18,
         1,
         1,
         405.18,
         0,
         0.0,
         null,
         null,
         null,
         null,
         null,
         null,
         405.18,
         null,
         null,
         null,
         null,
         null,
         "San Antonio",
         405.18
        ],
        [
         "U096",
         422.86,
         1,
         1,
         422.86,
         0,
         0.0,
         null,
         null,
         null,
         null,
         null,
         null,
         422.86,
         null,
         null,
         null,
         null,
         null,
         "Philadelphia",
         422.86
        ],
        [
         "U014",
         442.56,
         1,
         1,
         442.56,
         0,
         0.0,
         null,
         null,
         null,
         null,
         null,
         442.56,
         null,
         null,
         null,
         null,
         null,
         null,
         "Chicago",
         442.56
        ],
        [
         "U051",
         461.0,
         1,
         1,
         461.0,
         0,
         0.0,
         null,
         null,
         null,
         null,
         null,
         461.0,
         null,
         null,
         null,
         null,
         null,
         null,
         "Los Angeles",
         461.0
        ],
        [
         "U009",
         487.8,
         1,
         1,
         487.8,
         0,
         0.0,
         null,
         null,
         null,
         null,
         null,
         null,
         487.8,
         null,
         null,
         null,
         null,
         null,
         "Chicago",
         487.8
        ],
        [
         "U065",
         813.2,
         1,
         1,
         813.2,
         0,
         0.0,
         null,
         null,
         null,
         null,
         null,
         null,
         813.2,
         null,
         null,
         null,
         null,
         null,
         "Philadelphia",
         813.2
        ],
        [
         "U057",
         839.12,
         1,
         1,
         839.12,
         0,
         0.0,
         null,
         null,
         null,
         null,
         null,
         839.12,
         null,
         null,
         null,
         null,
         null,
         null,
         "Phoenix",
         839.12
        ],
        [
         "U018",
         1039.0,
         2,
         2,
         519.5,
         1,
         50.0,
         null,
         null,
         null,
         null,
         null,
         424.88,
         614.12,
         null,
         null,
         null,
         null,
         null,
         "Houston",
         614.12
        ],
        [
         "U053",
         1082.34,
         1,
         1,
         1082.34,
         0,
         0.0,
         null,
         null,
         null,
         null,
         null,
         1082.34,
         null,
         null,
         null,
         null,
         null,
         null,
         "Chicago",
         1082.34
        ],
        [
         "U091",
         1321.98,
         1,
         1,
         1321.98,
         0,
         0.0,
         null,
         null,
         null,
         null,
         null,
         null,
         1321.98,
         null,
         null,
         null,
         null,
         null,
         "Los Angeles",
         1321.98
        ],
        [
         "U069",
         1352.96,
         1,
         1,
         1352.96,
         0,
         0.0,
         null,
         null,
         null,
         null,
         null,
         1352.96,
         null,
         null,
         null,
         null,
         null,
         null,
         "Dallas",
         1352.96
        ]
       ],
       "datasetInfos": [],
       "dbfsResultPath": null,
       "isJsonSchema": true,
       "metadata": {},
       "overflow": false,
       "plotOptions": {
        "customPlotOptions": {},
        "displayType": "table",
        "pivotAggregation": null,
        "pivotColumns": null,
        "xColumns": null,
        "yColumns": null
       },
       "removedWidgets": [],
       "schema": [
        {
         "metadata": "{}",
         "name": "CustomerID",
         "type": "\"string\""
        },
        {
         "metadata": "{}",
         "name": "TotalSpending",
         "type": "\"double\""
        },
        {
         "metadata": "{}",
         "name": "TotalTransactions",
         "type": "\"long\""
        },
        {
         "metadata": "{}",
         "name": "UniqueStores",
         "type": "\"long\""
        },
        {
         "metadata": "{}",
         "name": "AvgSpendingPerTransaction",
         "type": "\"double\""
        },
        {
         "metadata": "{}",
         "name": "RetainedStatus",
         "type": "\"long\""
        },
        {
         "metadata": "{}",
         "name": "RetentionRate",
         "type": "\"double\""
        },
        {
         "metadata": "{}",
         "name": "Jan2024",
         "type": "\"double\""
        },
        {
         "metadata": "{}",
         "name": "Feb2024",
         "type": "\"double\""
        },
        {
         "metadata": "{}",
         "name": "Mar2024",
         "type": "\"double\""
        },
        {
         "metadata": "{}",
         "name": "Apr2024",
         "type": "\"double\""
        },
        {
         "metadata": "{}",
         "name": "May2024",
         "type": "\"double\""
        },
        {
         "metadata": "{}",
         "name": "Jun2024",
         "type": "\"double\""
        },
        {
         "metadata": "{}",
         "name": "Jul2024",
         "type": "\"double\""
        },
        {
         "metadata": "{}",
         "name": "Aug2024",
         "type": "\"double\""
        },
        {
         "metadata": "{}",
         "name": "Sep2024",
         "type": "\"double\""
        },
        {
         "metadata": "{}",
         "name": "Oct2024",
         "type": "\"double\""
        },
        {
         "metadata": "{}",
         "name": "Nov2024",
         "type": "\"double\""
        },
        {
         "metadata": "{}",
         "name": "Dec2024",
         "type": "\"double\""
        },
        {
         "metadata": "{}",
         "name": "TopStoreLocation",
         "type": "\"string\""
        },
        {
         "metadata": "{}",
         "name": "TopStoreSpending",
         "type": "\"double\""
        }
       ],
       "type": "table"
      }
     },
     "output_type": "display_data"
    }
   ],
   "source": [
    "#Customer Insights KPI Calculation\n",
    "\n",
    "from pyspark.sql import SparkSession\n",
    "from pyspark.sql import functions as F\n",
    "from pyspark.sql import Window\n",
    "from delta.tables import DeltaTable\n",
    "\n",
    "# Step 1: Convert Timestamp to Date and Extract Month\n",
    "df_with_date = df_pos_daily_file.withColumn(\"Date\", F.to_date(F.col(\"Timestamp\"), \"dd-MM-yyyy HH:mm\")) \\\n",
    "                                .withColumn(\"Month\", F.date_format(F.col(\"Date\"), \"MMM-yyyy\"))  # Extract month in 'MMM-yyyy' format\n",
    "\n",
    "# Step 2: Calculate Total Spending and Number of Transactions by Customer\n",
    "customer_kpi = df_with_date.groupBy(\"CustomerID\") \\\n",
    "    .agg(\n",
    "        F.sum(\"TotalAmount\").alias(\"TotalSpending\"),\n",
    "        F.count(\"TransactionID\").alias(\"TotalTransactions\"),\n",
    "        F.countDistinct(\"StoreLocation\").alias(\"UniqueStores\"),\n",
    "    )\n",
    "\n",
    "# Step 3: Calculate Average Spending Per Transaction\n",
    "customer_kpi = customer_kpi.withColumn(\"AvgSpendingPerTransaction\", \n",
    "                                        F.col(\"TotalSpending\") / F.col(\"TotalTransactions\"))\n",
    "\n",
    "# Step 4: Calculate Retained Customers\n",
    "customer_purchases = df_with_date.groupBy(\"CustomerID\") \\\n",
    "    .agg(F.count(\"TransactionID\").alias(\"TotalPurchases\"))\n",
    "\n",
    "retained_customers = customer_purchases.groupBy(\"CustomerID\") \\\n",
    "    .agg(F.count(F.when(F.col(\"TotalPurchases\") > 1, 1)).alias(\"RetainedStatus\"))\n",
    "\n",
    "# Step 5: Join Retained Status with Customer KPI\n",
    "customer_kpi = customer_kpi.join(retained_customers, \"CustomerID\", \"left\") \\\n",
    "    .fillna(0)\n",
    "\n",
    "# Step 6: Calculate Retention Rate\n",
    "customer_kpi = customer_kpi.withColumn(\"RetentionRate\", \n",
    "                                        (F.col(\"RetainedStatus\") / F.col(\"TotalTransactions\")) * 100)\n",
    "\n",
    "# Step 7: Identify Monthly Spending with Month Mapping\n",
    "# Create month-year columns based on the extracted 'Month' from timestamp\n",
    "monthly_spending = df_with_date.groupBy(\"CustomerID\", \"Month\") \\\n",
    "    .agg(F.sum(\"TotalAmount\").alias(\"MonthlySpending\"))\n",
    "\n",
    "# Step 8: Pivot Monthly Spending to Create Separate Columns with Custom Month Names\n",
    "# Define month names based on the extracted 'Month'\n",
    "monthly_spending_pivot = monthly_spending.groupBy(\"CustomerID\") \\\n",
    "    .pivot(\"Month\", [\"Jan-2024\", \"Feb-2024\", \"Mar-2024\", \"Apr-2024\", \"May-2024\", \"Jun-2024\", \n",
    "                     \"Jul-2024\", \"Aug-2024\", \"Sep-2024\", \"Oct-2024\", \"Nov-2024\", \"Dec-2024\"]) \\\n",
    "    .agg(F.sum(\"MonthlySpending\")) \\\n",
    "    .withColumnRenamed(\"Jan-2024\", \"Jan2024\") \\\n",
    "    .withColumnRenamed(\"Feb-2024\", \"Feb2024\") \\\n",
    "    .withColumnRenamed(\"Mar-2024\", \"Mar2024\") \\\n",
    "    .withColumnRenamed(\"Apr-2024\", \"Apr2024\") \\\n",
    "    .withColumnRenamed(\"May-2024\", \"May2024\") \\\n",
    "    .withColumnRenamed(\"Jun-2024\", \"Jun2024\") \\\n",
    "    .withColumnRenamed(\"Jul-2024\", \"Jul2024\") \\\n",
    "    .withColumnRenamed(\"Aug-2024\", \"Aug2024\") \\\n",
    "    .withColumnRenamed(\"Sep-2024\", \"Sep2024\") \\\n",
    "    .withColumnRenamed(\"Oct-2024\", \"Oct2024\") \\\n",
    "    .withColumnRenamed(\"Nov-2024\", \"Nov2024\") \\\n",
    "    .withColumnRenamed(\"Dec-2024\", \"Dec2024\")\n",
    "\n",
    "# Step 9: Join Pivoted Monthly Spending with Customer KPI\n",
    "final_customer_kpi = customer_kpi.join(monthly_spending_pivot, \"CustomerID\", \"left\")\n",
    "\n",
    "# Step 10: Identify Top Store for Each Customer Based on Spending\n",
    "top_store = df_with_date.groupBy(\"CustomerID\", \"StoreLocation\") \\\n",
    "    .agg(F.sum(\"TotalAmount\").alias(\"StoreSpending\")) \\\n",
    "    .withColumn(\"Rank\", F.row_number().over(Window.partitionBy(\"CustomerID\").orderBy(F.col(\"StoreSpending\").desc()))) \\\n",
    "    .filter(F.col(\"Rank\") == 1) \\\n",
    "    .select(\"CustomerID\", \"StoreLocation\", \"StoreSpending\")\n",
    "\n",
    "# Step 11: Final Join with Top Store\n",
    "df_final_customer_kpi_test = final_customer_kpi.join(top_store, \"CustomerID\", \"left\") \\\n",
    "    .withColumnRenamed(\"StoreLocation\", \"TopStoreLocation\") \\\n",
    "    .withColumnRenamed(\"StoreSpending\", \"TopStoreSpending\") \\\n",
    "    .orderBy(\"TotalSpending\", ascending=True)\n",
    "\n",
    "# Show final KPI results with monthly sales columns like Jan2024, Feb2024, etc.\n",
    "df_final_customer_kpi_test.select(\"CustomerID\", \"TotalSpending\", \"TotalTransactions\", \n",
    "                          \"AvgSpendingPerTransaction\", \"UniqueStores\", \n",
    "                          \"RetainedStatus\", \"RetentionRate\", \n",
    "                          \"Jan2024\", \"Feb2024\", \"Mar2024\", \"Apr2024\", \n",
    "                          \"May2024\", \"Jun2024\", \"Jul2024\", \"Aug2024\", \n",
    "                          \"Sep2024\", \"Oct2024\", \"Nov2024\", \"Dec2024\", \n",
    "                          \"TopStoreLocation\", \"TopStoreSpending\")\n",
    "\n",
    "\n",
    "display(df_final_customer_kpi_test)\n"
   ]
  },
  {
   "cell_type": "code",
   "execution_count": 0,
   "metadata": {
    "application/vnd.databricks.v1+cell": {
     "cellMetadata": {
      "byteLimit": 2048000,
      "implicitDf": true,
      "rowLimit": 10000
     },
     "inputWidgets": {},
     "nuid": "60e615cc-d594-4703-882e-d806c6a172af",
     "showTitle": false,
     "title": ""
    }
   },
   "outputs": [
    {
     "output_type": "stream",
     "name": "stdout",
     "output_type": "stream",
     "text": [
      "+-----------------------------+\n|final_customer_kpi_prev_count|\n+-----------------------------+\n|                           18|\n+-----------------------------+\n\n+-----------------------------+\n|final_category_kpi_prev_count|\n+-----------------------------+\n|                           10|\n+-----------------------------+\n\n+-------------------------+\n|final_city_kpi_prev_count|\n+-------------------------+\n|                        9|\n+-------------------------+\n\n"
     ]
    }
   ],
   "source": [
    "#Previous Record Counts\n",
    "\n",
    "cnt_cust_kpi=spark.sql(\"SELECT count(*) as final_customer_kpi_prev_count FROM POS_Sales.final_customer_kpi\")\n",
    "cnt_cust_kpi.show()\n",
    "cnt_category_kpi=spark.sql(\"SELECT count(*) as final_category_kpi_prev_count FROM POS_Sales.final_category_kpi\")\n",
    "cnt_category_kpi.show()\n",
    "cnt_city_kpi=spark.sql(\"SELECT count(*) as final_city_kpi_prev_count FROM POS_Sales.final_city_kpi\")\n",
    "cnt_city_kpi.show()"
   ]
  },
  {
   "cell_type": "markdown",
   "metadata": {
    "application/vnd.databricks.v1+cell": {
     "cellMetadata": {},
     "inputWidgets": {},
     "nuid": "3a3275db-e527-4df7-89d6-7d4747158a94",
     "showTitle": false,
     "title": ""
    }
   },
   "source": [
    "Upsert Operations"
   ]
  },
  {
   "cell_type": "code",
   "execution_count": 0,
   "metadata": {
    "application/vnd.databricks.v1+cell": {
     "cellMetadata": {},
     "inputWidgets": {},
     "nuid": "37b494cc-831f-4555-8b9c-299de3809d26",
     "showTitle": false,
     "title": ""
    }
   },
   "outputs": [],
   "source": [
    "target_delta_table=DeltaTable.forName(spark,\"project_adb.postest.final_customer_kpi_test2\")\n",
    "\n",
    "target_delta_table.alias(\"target\").merge(\n",
    "    source=df_final_customer_kpi_test3.alias(\"source\"),\n",
    "    condition=\"target.CustomerID = source.CustomerID\"\n",
    ").whenMatchedUpdate(\n",
    "    set={\n",
    "        \"TotalSpending\": \"target.TotalSpending + source.TotalSpending\",\n",
    "        \"TotalTransactions\": \"target.TotalTransactions + source.TotalTransactions\",\n",
    "        \"AvgSpendingPerTransaction\": \"(target.TotalSpending + source.TotalSpending) / (target.TotalTransactions + source.TotalTransactions)\",\n",
    "        \"UniqueStores\": \"source.UniqueStores\",\n",
    "        \"RetainedStatus\": \"source.RetainedStatus\",\n",
    "        \"RetentionRate\": \"source.RetentionRate\",\n",
    "        \"TopStoreLocation\": \"source.TopStoreLocation\",\n",
    "        \"TopStoreSpending\": \"source.TopStoreSpending\",\n",
    "        \"Jan2024\": \"COALESCE(target.Jan2024, 0) + COALESCE(source.Jan2024, 0)\",\n",
    "        \"Feb2024\": \"COALESCE(target.Feb2024, 0) + COALESCE(source.Feb2024, 0)\",\n",
    "        \"Mar2024\": \"COALESCE(target.Mar2024, 0) + COALESCE(source.Mar2024, 0)\",\n",
    "        \"Apr2024\": \"COALESCE(target.Apr2024, 0) + COALESCE(source.Apr2024, 0)\",\n",
    "        \"May2024\": \"COALESCE(target.May2024, 0) + COALESCE(source.May2024, 0)\",\n",
    "        \"Jun2024\": \"COALESCE(target.Jun2024, 0) + COALESCE(source.Jun2024, 0)\",\n",
    "        \"Jul2024\": \"COALESCE(target.Jul2024, 0) + COALESCE(source.Jul2024, 0)\",\n",
    "        \"Aug2024\": \"COALESCE(target.Aug2024, 0) + COALESCE(source.Aug2024, 0)\",\n",
    "        \"Sep2024\": \"COALESCE(target.Sep2024, 0) + COALESCE(source.Sep2024, 0)\",\n",
    "        \"Oct2024\": \"COALESCE(target.Oct2024, 0) + COALESCE(source.Oct2024, 0)\",\n",
    "        \"Nov2024\": \"COALESCE(target.Nov2024, 0) + COALESCE(source.Nov2024, 0)\",\n",
    "        \"Dec2024\": \"COALESCE(target.Dec2024, 0) + COALESCE(source.Dec2024, 0)\",\n",
    "    }\n",
    ").whenNotMatchedInsert(\n",
    "    values={\n",
    "        \"CustomerID\": \"source.CustomerID\",\n",
    "        \"TotalSpending\": \"source.TotalSpending\",\n",
    "        \"TotalTransactions\": \"source.TotalTransactions\",\n",
    "        \"AvgSpendingPerTransaction\": \"source.AvgSpendingPerTransaction\",\n",
    "        \"UniqueStores\": \"source.UniqueStores\",\n",
    "        \"RetainedStatus\": \"source.RetainedStatus\",\n",
    "        \"RetentionRate\": \"source.RetentionRate\",\n",
    "        \"TopStoreLocation\": \"source.TopStoreLocation\",\n",
    "        \"TopStoreSpending\": \"source.TopStoreSpending\",\n",
    "        \"Jan2024\": \"source.Jan2024\",\n",
    "        \"Feb2024\": \"source.Feb2024\",\n",
    "        \"Mar2024\": \"source.Mar2024\",\n",
    "        \"Apr2024\": \"source.Apr2024\",\n",
    "        \"May2024\": \"source.May2024\",\n",
    "        \"Jun2024\": \"source.Jun2024\",\n",
    "        \"Jul2024\": \"source.Jul2024\",\n",
    "        \"Aug2024\": \"source.Aug2024\",\n",
    "        \"Sep2024\": \"source.Sep2024\",\n",
    "        \"Oct2024\": \"source.Oct2024\",\n",
    "        \"Nov2024\": \"source.Nov2024\",\n",
    "        \"Dec2024\": \"source.Dec2024\",\n",
    "    }\n",
    ").execute()"
   ]
  },
  {
   "cell_type": "code",
   "execution_count": 0,
   "metadata": {
    "application/vnd.databricks.v1+cell": {
     "cellMetadata": {
      "byteLimit": 2048000,
      "rowLimit": 10000
     },
     "inputWidgets": {},
     "nuid": "197b1704-f8c5-4981-82a6-a43d1f19f280",
     "showTitle": false,
     "title": ""
    }
   },
   "outputs": [
    {
     "output_type": "display_data",
     "data": {
      "text/html": [
       "<style scoped>\n",
       "  .table-result-container {\n",
       "    max-height: 300px;\n",
       "    overflow: auto;\n",
       "  }\n",
       "  table, th, td {\n",
       "    border: 1px solid black;\n",
       "    border-collapse: collapse;\n",
       "  }\n",
       "  th, td {\n",
       "    padding: 5px;\n",
       "  }\n",
       "  th {\n",
       "    text-align: left;\n",
       "  }\n",
       "</style><div class='table-result-container'><table class='table-result'><thead style='background-color: white'><tr><th>CustomerID</th><th>TotalSpending</th><th>TotalTransactions</th><th>UniqueStores</th><th>AvgSpendingPerTransaction</th><th>RetainedStatus</th><th>RetentionRate</th><th>2024-06</th><th>2024-07</th><th>2024-08</th><th>TopStoreLocation</th><th>TopStoreSpending</th></tr></thead><tbody><tr><td>U021</td><td>85.89</td><td>1</td><td>1</td><td>85.89</td><td>0</td><td>0.0</td><td>85.89</td><td>null</td><td>null</td><td>San Jose</td><td>85.89</td></tr><tr><td>U097</td><td>124.91</td><td>1</td><td>1</td><td>124.91</td><td>0</td><td>0.0</td><td>null</td><td>null</td><td>124.91</td><td>San Antonio</td><td>124.91</td></tr><tr><td>U019</td><td>162.45</td><td>1</td><td>1</td><td>162.45</td><td>0</td><td>0.0</td><td>null</td><td>162.45</td><td>null</td><td>San Jose</td><td>162.45</td></tr><tr><td>U039</td><td>189.64</td><td>1</td><td>1</td><td>189.64</td><td>0</td><td>0.0</td><td>189.64</td><td>null</td><td>null</td><td>Phoenix</td><td>189.64</td></tr><tr><td>U007</td><td>194.04</td><td>1</td><td>1</td><td>194.04</td><td>0</td><td>0.0</td><td>194.04</td><td>null</td><td>null</td><td>San Jose</td><td>194.04</td></tr><tr><td>U037</td><td>238.14</td><td>1</td><td>1</td><td>238.14</td><td>0</td><td>0.0</td><td>null</td><td>238.14</td><td>null</td><td>New York City</td><td>238.14</td></tr><tr><td>U059</td><td>284.28</td><td>1</td><td>1</td><td>284.28</td><td>0</td><td>0.0</td><td>284.28</td><td>null</td><td>null</td><td>San Jose</td><td>284.28</td></tr><tr><td>U081</td><td>405.18</td><td>1</td><td>1</td><td>405.18</td><td>0</td><td>0.0</td><td>null</td><td>405.18</td><td>null</td><td>San Antonio</td><td>405.18</td></tr><tr><td>U096</td><td>422.86</td><td>1</td><td>1</td><td>422.86</td><td>0</td><td>0.0</td><td>null</td><td>422.86</td><td>null</td><td>Philadelphia</td><td>422.86</td></tr><tr><td>U014</td><td>442.56</td><td>1</td><td>1</td><td>442.56</td><td>0</td><td>0.0</td><td>442.56</td><td>null</td><td>null</td><td>Chicago</td><td>442.56</td></tr><tr><td>U051</td><td>461.0</td><td>1</td><td>1</td><td>461.0</td><td>0</td><td>0.0</td><td>461.0</td><td>null</td><td>null</td><td>Los Angeles</td><td>461.0</td></tr><tr><td>U009</td><td>487.8</td><td>1</td><td>1</td><td>487.8</td><td>0</td><td>0.0</td><td>null</td><td>487.8</td><td>null</td><td>Chicago</td><td>487.8</td></tr><tr><td>U065</td><td>813.2</td><td>1</td><td>1</td><td>813.2</td><td>0</td><td>0.0</td><td>null</td><td>813.2</td><td>null</td><td>Philadelphia</td><td>813.2</td></tr><tr><td>U057</td><td>839.12</td><td>1</td><td>1</td><td>839.12</td><td>0</td><td>0.0</td><td>839.12</td><td>null</td><td>null</td><td>Phoenix</td><td>839.12</td></tr><tr><td>U018</td><td>1039.0</td><td>2</td><td>2</td><td>519.5</td><td>1</td><td>50.0</td><td>424.88</td><td>614.12</td><td>null</td><td>Houston</td><td>614.12</td></tr><tr><td>U053</td><td>1082.34</td><td>1</td><td>1</td><td>1082.34</td><td>0</td><td>0.0</td><td>1082.34</td><td>null</td><td>null</td><td>Chicago</td><td>1082.34</td></tr><tr><td>U091</td><td>1321.98</td><td>1</td><td>1</td><td>1321.98</td><td>0</td><td>0.0</td><td>null</td><td>1321.98</td><td>null</td><td>Los Angeles</td><td>1321.98</td></tr><tr><td>U069</td><td>1352.96</td><td>1</td><td>1</td><td>1352.96</td><td>0</td><td>0.0</td><td>1352.96</td><td>null</td><td>null</td><td>Dallas</td><td>1352.96</td></tr></tbody></table></div>"
      ]
     },
     "metadata": {
      "application/vnd.databricks.v1+output": {
       "addedWidgets": {},
       "aggData": [],
       "aggError": "",
       "aggOverflow": false,
       "aggSchema": [],
       "aggSeriesLimitReached": false,
       "aggType": "",
       "arguments": {},
       "columnCustomDisplayInfos": {},
       "data": [
        [
         "U021",
         85.89,
         1,
         1,
         85.89,
         0,
         0.0,
         85.89,
         null,
         null,
         "San Jose",
         85.89
        ],
        [
         "U097",
         124.91,
         1,
         1,
         124.91,
         0,
         0.0,
         null,
         null,
         124.91,
         "San Antonio",
         124.91
        ],
        [
         "U019",
         162.45,
         1,
         1,
         162.45,
         0,
         0.0,
         null,
         162.45,
         null,
         "San Jose",
         162.45
        ],
        [
         "U039",
         189.64,
         1,
         1,
         189.64,
         0,
         0.0,
         189.64,
         null,
         null,
         "Phoenix",
         189.64
        ],
        [
         "U007",
         194.04,
         1,
         1,
         194.04,
         0,
         0.0,
         194.04,
         null,
         null,
         "San Jose",
         194.04
        ],
        [
         "U037",
         238.14,
         1,
         1,
         238.14,
         0,
         0.0,
         null,
         238.14,
         null,
         "New York City",
         238.14
        ],
        [
         "U059",
         284.28,
         1,
         1,
         284.28,
         0,
         0.0,
         284.28,
         null,
         null,
         "San Jose",
         284.28
        ],
        [
         "U081",
         405.18,
         1,
         1,
         405.18,
         0,
         0.0,
         null,
         405.18,
         null,
         "San Antonio",
         405.18
        ],
        [
         "U096",
         422.86,
         1,
         1,
         422.86,
         0,
         0.0,
         null,
         422.86,
         null,
         "Philadelphia",
         422.86
        ],
        [
         "U014",
         442.56,
         1,
         1,
         442.56,
         0,
         0.0,
         442.56,
         null,
         null,
         "Chicago",
         442.56
        ],
        [
         "U051",
         461.0,
         1,
         1,
         461.0,
         0,
         0.0,
         461.0,
         null,
         null,
         "Los Angeles",
         461.0
        ],
        [
         "U009",
         487.8,
         1,
         1,
         487.8,
         0,
         0.0,
         null,
         487.8,
         null,
         "Chicago",
         487.8
        ],
        [
         "U065",
         813.2,
         1,
         1,
         813.2,
         0,
         0.0,
         null,
         813.2,
         null,
         "Philadelphia",
         813.2
        ],
        [
         "U057",
         839.12,
         1,
         1,
         839.12,
         0,
         0.0,
         839.12,
         null,
         null,
         "Phoenix",
         839.12
        ],
        [
         "U018",
         1039.0,
         2,
         2,
         519.5,
         1,
         50.0,
         424.88,
         614.12,
         null,
         "Houston",
         614.12
        ],
        [
         "U053",
         1082.34,
         1,
         1,
         1082.34,
         0,
         0.0,
         1082.34,
         null,
         null,
         "Chicago",
         1082.34
        ],
        [
         "U091",
         1321.98,
         1,
         1,
         1321.98,
         0,
         0.0,
         null,
         1321.98,
         null,
         "Los Angeles",
         1321.98
        ],
        [
         "U069",
         1352.96,
         1,
         1,
         1352.96,
         0,
         0.0,
         1352.96,
         null,
         null,
         "Dallas",
         1352.96
        ]
       ],
       "datasetInfos": [],
       "dbfsResultPath": null,
       "isJsonSchema": true,
       "metadata": {},
       "overflow": false,
       "plotOptions": {
        "customPlotOptions": {},
        "displayType": "table",
        "pivotAggregation": null,
        "pivotColumns": null,
        "xColumns": null,
        "yColumns": null
       },
       "removedWidgets": [],
       "schema": [
        {
         "metadata": "{}",
         "name": "CustomerID",
         "type": "\"string\""
        },
        {
         "metadata": "{}",
         "name": "TotalSpending",
         "type": "\"double\""
        },
        {
         "metadata": "{}",
         "name": "TotalTransactions",
         "type": "\"long\""
        },
        {
         "metadata": "{}",
         "name": "UniqueStores",
         "type": "\"long\""
        },
        {
         "metadata": "{}",
         "name": "AvgSpendingPerTransaction",
         "type": "\"double\""
        },
        {
         "metadata": "{}",
         "name": "RetainedStatus",
         "type": "\"long\""
        },
        {
         "metadata": "{}",
         "name": "RetentionRate",
         "type": "\"double\""
        },
        {
         "metadata": "{}",
         "name": "2024-06",
         "type": "\"double\""
        },
        {
         "metadata": "{}",
         "name": "2024-07",
         "type": "\"double\""
        },
        {
         "metadata": "{}",
         "name": "2024-08",
         "type": "\"double\""
        },
        {
         "metadata": "{}",
         "name": "TopStoreLocation",
         "type": "\"string\""
        },
        {
         "metadata": "{}",
         "name": "TopStoreSpending",
         "type": "\"double\""
        }
       ],
       "type": "table"
      }
     },
     "output_type": "display_data"
    }
   ],
   "source": [
    "prev_cust_data_kpi_df=spark.table(\"project_adb.POS_Sales.final_customer_kpi\")\n",
    "display(prev_cust_data_kpi_df)"
   ]
  },
  {
   "cell_type": "code",
   "execution_count": 0,
   "metadata": {
    "application/vnd.databricks.v1+cell": {
     "cellMetadata": {},
     "inputWidgets": {},
     "nuid": "6c3542e7-84f2-4ca3-92bf-e36cda9c8502",
     "showTitle": false,
     "title": ""
    }
   },
   "outputs": [],
   "source": [
    "prev_cust_data_kpi_df.alias(\"target\").merge(\n",
    "    source=df_final_customer_kpi.alias(\"source\"),\n",
    "    condition=\"target.CustomerID = source.CustomerID\",\n",
    ").whenMatchedUpdate(\n",
    "    set={\n",
    "        \"TotalSpending\": \"target.TotalSpending + source.TotalSpending\",\n",
    "        \"TotalTransactions\": \"target.TotalTransactions + source.TotalTransactions\",\n",
    "        \"AvgSpendingPerTransaction\": \"source.AvgSpendingPerTransaction\",\n",
    "        \"UniqueStores\": \"source.UniqueStores\",\n",
    "        \"RetainedStatus\": \"source.RetainedStatus\",\n",
    "        \"RetentionRate\": \"source.RetentionRate\",\n",
    "        \"TopStoreLocation\": \"source.TopStoreLocation\",\n",
    "        \"TopStoreSpending\": \"source.TopStoreSpending\",\n",
    "    }\n",
    ").whenNotMatchedInsert(\n",
    "    values={\n",
    "        \"CustomerID\": \"source.CustomerID\",\n",
    "        \"TotalSpending\": \"source.TotalSpending\",\n",
    "        \"TotalTransactions\": \"source.TotalTransactions\",\n",
    "        \"AvgSpendingPerTransaction\": \"source.AvgSpendingPerTransaction\",\n",
    "        \"UniqueStores\": \"source.UniqueStores\",\n",
    "        \"RetainedStatus\": \"source.RetainedStatus\",\n",
    "        \"RetentionRate\": \"source.RetentionRate\",\n",
    "        \"TopStoreLocation\": \"source.TopStoreLocation\",\n",
    "        \"TopStoreSpending\": \"source.TopStoreSpending\",\n",
    "    }\n",
    ").execute()\n"
   ]
  },
  {
   "cell_type": "code",
   "execution_count": 0,
   "metadata": {
    "application/vnd.databricks.v1+cell": {
     "cellMetadata": {
      "byteLimit": 2048000,
      "rowLimit": 10000
     },
     "inputWidgets": {},
     "nuid": "089ce262-ccdb-4125-9364-a965b8269f0f",
     "showTitle": false,
     "title": ""
    }
   },
   "outputs": [
    {
     "output_type": "display_data",
     "data": {
      "text/html": [
       "<style scoped>\n",
       "  .table-result-container {\n",
       "    max-height: 300px;\n",
       "    overflow: auto;\n",
       "  }\n",
       "  table, th, td {\n",
       "    border: 1px solid black;\n",
       "    border-collapse: collapse;\n",
       "  }\n",
       "  th, td {\n",
       "    padding: 5px;\n",
       "  }\n",
       "  th {\n",
       "    text-align: left;\n",
       "  }\n",
       "</style><div class='table-result-container'><table class='table-result'><thead style='background-color: white'><tr><th>ProductCategory</th><th>TotalSales</th><th>TotalTransactions</th><th>UniqueCustomers</th><th>AvgTransactionValue</th><th>RetainedCustomers</th><th>RetentionRate</th><th>TopSellingProductID</th><th>TopSellingProductSales</th></tr></thead><tbody><tr><td>AIDS Treatment (Prescription)</td><td>85.89</td><td>1</td><td>1</td><td>85.89</td><td>0</td><td>0.0</td><td>P014</td><td>85.89</td></tr><tr><td>Cardiovascular Diseases (Prescription)</td><td>238.14</td><td>1</td><td>1</td><td>238.14</td><td>0</td><td>0.0</td><td>P041</td><td>238.14</td></tr><tr><td>Gastrointestinal (OTC & Prescription)</td><td>636.6</td><td>2</td><td>2</td><td>318.3</td><td>0</td><td>0.0</td><td>P004</td><td>442.56</td></tr><tr><td>Diabetes (Prescription & OTC)</td><td>813.2</td><td>1</td><td>1</td><td>813.2</td><td>0</td><td>0.0</td><td>P008</td><td>813.2</td></tr><tr><td>Cancer Treatment (Prescription)</td><td>885.88</td><td>2</td><td>2</td><td>442.94</td><td>0</td><td>0.0</td><td>P005</td><td>461.0</td></tr><tr><td>Eye Health (OTC & Prescription)</td><td>1060.85</td><td>3</td><td>3</td><td>353.6166666666666</td><td>0</td><td>0.0</td><td>P010</td><td>614.12</td></tr><tr><td>Neurological Disorders (Prescription)</td><td>1082.34</td><td>1</td><td>1</td><td>1082.34</td><td>0</td><td>0.0</td><td>P002</td><td>1082.34</td></tr><tr><td>Pain Relief (OTC & Prescription)</td><td>1352.96</td><td>1</td><td>1</td><td>1352.96</td><td>0</td><td>0.0</td><td>P034</td><td>1352.96</td></tr><tr><td>Bone Health (OTC & Prescription)</td><td>1576.5300000000002</td><td>4</td><td>4</td><td>394.13250000000005</td><td>0</td><td>0.0</td><td>P029</td><td>839.12</td></tr><tr><td>Antibiotics (Prescription)</td><td>2214.96</td><td>3</td><td>3</td><td>738.32</td><td>0</td><td>0.0</td><td>P032</td><td>1321.98</td></tr></tbody></table></div>"
      ]
     },
     "metadata": {
      "application/vnd.databricks.v1+output": {
       "addedWidgets": {},
       "aggData": [],
       "aggError": "",
       "aggOverflow": false,
       "aggSchema": [],
       "aggSeriesLimitReached": false,
       "aggType": "",
       "arguments": {},
       "columnCustomDisplayInfos": {},
       "data": [
        [
         "AIDS Treatment (Prescription)",
         85.89,
         1,
         1,
         85.89,
         0,
         0.0,
         "P014",
         85.89
        ],
        [
         "Cardiovascular Diseases (Prescription)",
         238.14,
         1,
         1,
         238.14,
         0,
         0.0,
         "P041",
         238.14
        ],
        [
         "Gastrointestinal (OTC & Prescription)",
         636.6,
         2,
         2,
         318.3,
         0,
         0.0,
         "P004",
         442.56
        ],
        [
         "Diabetes (Prescription & OTC)",
         813.2,
         1,
         1,
         813.2,
         0,
         0.0,
         "P008",
         813.2
        ],
        [
         "Cancer Treatment (Prescription)",
         885.88,
         2,
         2,
         442.94,
         0,
         0.0,
         "P005",
         461.0
        ],
        [
         "Eye Health (OTC & Prescription)",
         1060.85,
         3,
         3,
         353.6166666666666,
         0,
         0.0,
         "P010",
         614.12
        ],
        [
         "Neurological Disorders (Prescription)",
         1082.34,
         1,
         1,
         1082.34,
         0,
         0.0,
         "P002",
         1082.34
        ],
        [
         "Pain Relief (OTC & Prescription)",
         1352.96,
         1,
         1,
         1352.96,
         0,
         0.0,
         "P034",
         1352.96
        ],
        [
         "Bone Health (OTC & Prescription)",
         1576.5300000000002,
         4,
         4,
         394.13250000000005,
         0,
         0.0,
         "P029",
         839.12
        ],
        [
         "Antibiotics (Prescription)",
         2214.96,
         3,
         3,
         738.32,
         0,
         0.0,
         "P032",
         1321.98
        ]
       ],
       "datasetInfos": [],
       "dbfsResultPath": null,
       "isJsonSchema": true,
       "metadata": {},
       "overflow": false,
       "plotOptions": {
        "customPlotOptions": {},
        "displayType": "table",
        "pivotAggregation": null,
        "pivotColumns": null,
        "xColumns": null,
        "yColumns": null
       },
       "removedWidgets": [],
       "schema": [
        {
         "metadata": "{}",
         "name": "ProductCategory",
         "type": "\"string\""
        },
        {
         "metadata": "{}",
         "name": "TotalSales",
         "type": "\"double\""
        },
        {
         "metadata": "{}",
         "name": "TotalTransactions",
         "type": "\"long\""
        },
        {
         "metadata": "{}",
         "name": "UniqueCustomers",
         "type": "\"long\""
        },
        {
         "metadata": "{}",
         "name": "AvgTransactionValue",
         "type": "\"double\""
        },
        {
         "metadata": "{}",
         "name": "RetainedCustomers",
         "type": "\"long\""
        },
        {
         "metadata": "{}",
         "name": "RetentionRate",
         "type": "\"double\""
        },
        {
         "metadata": "{}",
         "name": "TopSellingProductID",
         "type": "\"string\""
        },
        {
         "metadata": "{}",
         "name": "TopSellingProductSales",
         "type": "\"double\""
        }
       ],
       "type": "table"
      }
     },
     "output_type": "display_data"
    }
   ],
   "source": [
    "prev_category_data_kpi_df=spark.table(\"project_adb.POS_Sales.final_category_kpi\")\n",
    "display(prev_category_data_kpi_df)"
   ]
  },
  {
   "cell_type": "code",
   "execution_count": 0,
   "metadata": {
    "application/vnd.databricks.v1+cell": {
     "cellMetadata": {
      "byteLimit": 2048000,
      "rowLimit": 10000
     },
     "inputWidgets": {},
     "nuid": "48266b57-8a51-44b6-8dc1-e169d7e31496",
     "showTitle": false,
     "title": ""
    }
   },
   "outputs": [
    {
     "output_type": "display_data",
     "data": {
      "text/html": [
       "<style scoped>\n",
       "  .table-result-container {\n",
       "    max-height: 300px;\n",
       "    overflow: auto;\n",
       "  }\n",
       "  table, th, td {\n",
       "    border: 1px solid black;\n",
       "    border-collapse: collapse;\n",
       "  }\n",
       "  th, td {\n",
       "    padding: 5px;\n",
       "  }\n",
       "  th {\n",
       "    text-align: left;\n",
       "  }\n",
       "</style><div class='table-result-container'><table class='table-result'><thead style='background-color: white'><tr><th>StoreLocation</th><th>TotalSales</th><th>TotalTransactions</th><th>UniqueCustomers</th><th>AvgTransactionValue</th><th>RetainedCustomers</th><th>RetentionRate</th><th>TopSellingProductCategory</th><th>TopSellingCategorySales</th></tr></thead><tbody><tr><td>New York City</td><td>238.14</td><td>1</td><td>1</td><td>238.14</td><td>0</td><td>0.0</td><td>Cardiovascular Diseases (Prescription)</td><td>238.14</td></tr><tr><td>San Antonio</td><td>530.09</td><td>2</td><td>2</td><td>265.045</td><td>0</td><td>0.0</td><td>Antibiotics (Prescription)</td><td>405.18</td></tr><tr><td>San Jose</td><td>726.66</td><td>4</td><td>4</td><td>181.665</td><td>0</td><td>0.0</td><td>Eye Health (OTC & Prescription)</td><td>446.72999999999996</td></tr><tr><td>Houston</td><td>614.12</td><td>1</td><td>1</td><td>614.12</td><td>0</td><td>0.0</td><td>Eye Health (OTC & Prescription)</td><td>614.12</td></tr><tr><td>Philadelphia</td><td>1660.94</td><td>3</td><td>3</td><td>553.6466666666666</td><td>0</td><td>0.0</td><td>Diabetes (Prescription & OTC)</td><td>813.2</td></tr><tr><td>Phoenix</td><td>1028.76</td><td>2</td><td>2</td><td>514.38</td><td>0</td><td>0.0</td><td>Bone Health (OTC & Prescription)</td><td>1028.76</td></tr><tr><td>Chicago</td><td>2012.6999999999998</td><td>3</td><td>3</td><td>670.9</td><td>0</td><td>0.0</td><td>Neurological Disorders (Prescription)</td><td>1082.34</td></tr><tr><td>Los Angeles</td><td>1782.98</td><td>2</td><td>2</td><td>891.49</td><td>0</td><td>0.0</td><td>Antibiotics (Prescription)</td><td>1321.98</td></tr><tr><td>Dallas</td><td>1352.96</td><td>1</td><td>1</td><td>1352.96</td><td>0</td><td>0.0</td><td>Pain Relief (OTC & Prescription)</td><td>1352.96</td></tr></tbody></table></div>"
      ]
     },
     "metadata": {
      "application/vnd.databricks.v1+output": {
       "addedWidgets": {},
       "aggData": [],
       "aggError": "",
       "aggOverflow": false,
       "aggSchema": [],
       "aggSeriesLimitReached": false,
       "aggType": "",
       "arguments": {},
       "columnCustomDisplayInfos": {},
       "data": [
        [
         "New York City",
         238.14,
         1,
         1,
         238.14,
         0,
         0.0,
         "Cardiovascular Diseases (Prescription)",
         238.14
        ],
        [
         "San Antonio",
         530.09,
         2,
         2,
         265.045,
         0,
         0.0,
         "Antibiotics (Prescription)",
         405.18
        ],
        [
         "San Jose",
         726.66,
         4,
         4,
         181.665,
         0,
         0.0,
         "Eye Health (OTC & Prescription)",
         446.72999999999996
        ],
        [
         "Houston",
         614.12,
         1,
         1,
         614.12,
         0,
         0.0,
         "Eye Health (OTC & Prescription)",
         614.12
        ],
        [
         "Philadelphia",
         1660.94,
         3,
         3,
         553.6466666666666,
         0,
         0.0,
         "Diabetes (Prescription & OTC)",
         813.2
        ],
        [
         "Phoenix",
         1028.76,
         2,
         2,
         514.38,
         0,
         0.0,
         "Bone Health (OTC & Prescription)",
         1028.76
        ],
        [
         "Chicago",
         2012.6999999999998,
         3,
         3,
         670.9,
         0,
         0.0,
         "Neurological Disorders (Prescription)",
         1082.34
        ],
        [
         "Los Angeles",
         1782.98,
         2,
         2,
         891.49,
         0,
         0.0,
         "Antibiotics (Prescription)",
         1321.98
        ],
        [
         "Dallas",
         1352.96,
         1,
         1,
         1352.96,
         0,
         0.0,
         "Pain Relief (OTC & Prescription)",
         1352.96
        ]
       ],
       "datasetInfos": [],
       "dbfsResultPath": null,
       "isJsonSchema": true,
       "metadata": {},
       "overflow": false,
       "plotOptions": {
        "customPlotOptions": {},
        "displayType": "table",
        "pivotAggregation": null,
        "pivotColumns": null,
        "xColumns": null,
        "yColumns": null
       },
       "removedWidgets": [],
       "schema": [
        {
         "metadata": "{}",
         "name": "StoreLocation",
         "type": "\"string\""
        },
        {
         "metadata": "{}",
         "name": "TotalSales",
         "type": "\"double\""
        },
        {
         "metadata": "{}",
         "name": "TotalTransactions",
         "type": "\"long\""
        },
        {
         "metadata": "{}",
         "name": "UniqueCustomers",
         "type": "\"long\""
        },
        {
         "metadata": "{}",
         "name": "AvgTransactionValue",
         "type": "\"double\""
        },
        {
         "metadata": "{}",
         "name": "RetainedCustomers",
         "type": "\"long\""
        },
        {
         "metadata": "{}",
         "name": "RetentionRate",
         "type": "\"double\""
        },
        {
         "metadata": "{}",
         "name": "TopSellingProductCategory",
         "type": "\"string\""
        },
        {
         "metadata": "{}",
         "name": "TopSellingCategorySales",
         "type": "\"double\""
        }
       ],
       "type": "table"
      }
     },
     "output_type": "display_data"
    }
   ],
   "source": [
    "prev_city_data_kpi_df=spark.table(\"project_adb.POS_Sales.final_city_kpi\")\n",
    "display(prev_city_data_kpi_df)"
   ]
  },
  {
   "cell_type": "code",
   "execution_count": 0,
   "metadata": {
    "application/vnd.databricks.v1+cell": {
     "cellMetadata": {},
     "inputWidgets": {},
     "nuid": "e83f5e67-4349-4ec1-8da9-a18dbe6f4e66",
     "showTitle": false,
     "title": ""
    }
   },
   "outputs": [],
   "source": []
  },
  {
   "cell_type": "markdown",
   "metadata": {
    "application/vnd.databricks.v1+cell": {
     "cellMetadata": {},
     "inputWidgets": {},
     "nuid": "77d13f1a-d099-454e-903a-18a5434e7c87",
     "showTitle": false,
     "title": ""
    }
   },
   "source": [
    "After Upsert Record Count Checking"
   ]
  },
  {
   "cell_type": "code",
   "execution_count": 0,
   "metadata": {
    "application/vnd.databricks.v1+cell": {
     "cellMetadata": {
      "byteLimit": 2048000,
      "rowLimit": 10000
     },
     "inputWidgets": {},
     "nuid": "f4b01b66-f6af-479f-96f8-289b0d3294e5",
     "showTitle": false,
     "title": ""
    }
   },
   "outputs": [
    {
     "output_type": "stream",
     "name": "stdout",
     "output_type": "stream",
     "text": [
      "+--------------------------------+\n|final_customer_kpi_updated_count|\n+--------------------------------+\n|                              18|\n+--------------------------------+\n\n+--------------------------------+\n|final_category_kpi_updated_count|\n+--------------------------------+\n|                              10|\n+--------------------------------+\n\n+----------------------------+\n|final_city_kpi_updated_count|\n+----------------------------+\n|                           9|\n+----------------------------+\n\n"
     ]
    }
   ],
   "source": [
    "#Updated Record Counts after Upsert Operations\n",
    "\n",
    "cnt_cust_kpi=spark.sql(\"SELECT count(*) as final_customer_kpi_updated_count FROM POS_Sales.final_customer_kpi\")\n",
    "cnt_cust_kpi.show()\n",
    "cnt_category_kpi=spark.sql(\"SELECT count(*) as final_category_kpi_updated_count FROM POS_Sales.final_category_kpi\")\n",
    "cnt_category_kpi.show()\n",
    "cnt_city_kpi=spark.sql(\"SELECT count(*) as final_city_kpi_updated_count FROM POS_Sales.final_city_kpi\")\n",
    "cnt_city_kpi.show()"
   ]
  }
 ],
 "metadata": {
  "application/vnd.databricks.v1+notebook": {
   "dashboards": [],
   "environmentMetadata": null,
   "language": "python",
   "notebookMetadata": {
    "mostRecentlyExecutedCommandWithImplicitDF": {
     "commandId": -1,
     "dataframes": [
      "_sqldf"
     ]
    },
    "pythonIndentUnit": 4
   },
   "notebookName": "POS_Daily_Transaction_File_Processing",
   "widgets": {}
  }
 },
 "nbformat": 4,
 "nbformat_minor": 0
}
