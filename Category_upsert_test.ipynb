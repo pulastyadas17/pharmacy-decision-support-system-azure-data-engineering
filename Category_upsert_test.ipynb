{
 "cells": [
  {
   "cell_type": "code",
   "execution_count": 0,
   "metadata": {
    "application/vnd.databricks.v1+cell": {
     "cellMetadata": {
      "byteLimit": 2048000,
      "rowLimit": 10000
     },
     "inputWidgets": {},
     "nuid": "2621eb6d-ad15-4f60-a130-ce10812e50b5",
     "showTitle": false,
     "title": ""
    }
   },
   "outputs": [],
   "source": [
    "from pyspark.sql import SparkSession\n",
    "from pyspark.dbutils import DBUtils\n",
    "from datetime import datetime\n",
    "from pyspark.sql.functions import *\n",
    "from pyspark.sql.types import *\n",
    "spark=SparkSession.builder.appName(\"PROJECT\").getOrCreate()"
   ]
  },
  {
   "cell_type": "code",
   "execution_count": 0,
   "metadata": {
    "application/vnd.databricks.v1+cell": {
     "cellMetadata": {
      "byteLimit": 2048000,
      "rowLimit": 10000
     },
     "inputWidgets": {},
     "nuid": "2479e466-cee5-40d2-be3e-f52b520dfd42",
     "showTitle": false,
     "title": ""
    }
   },
   "outputs": [],
   "source": [
    "import logging\n",
    "from pyspark.dbutils import DBUtils\n",
    "from datetime import datetime\n",
    "from pyspark.sql.functions import *\n",
    "from pyspark.sql.types import *\n",
    "spark=SparkSession.builder.appName(\"POS_Daily_Transaction_File_Processing\").getOrCreate()"
   ]
  },
  {
   "cell_type": "code",
   "execution_count": 0,
   "metadata": {
    "application/vnd.databricks.v1+cell": {
     "cellMetadata": {
      "byteLimit": 2048000,
      "rowLimit": 10000
     },
     "inputWidgets": {},
     "nuid": "0b512da7-ee0c-4e4f-b62d-37977e699685",
     "showTitle": false,
     "title": ""
    }
   },
   "outputs": [
    {
     "output_type": "stream",
     "name": "stdout",
     "output_type": "stream",
     "text": [
      "Mount point /mnt/pos_data_testing already exists. No action taken.\n"
     ]
    }
   ],
   "source": [
    "# Function to check if mountpoint exists\n",
    "\n",
    "def mount_exists(mount_point):\n",
    "    mounts = [mount.mountPoint for mount in dbutils.fs.mounts()]\n",
    "    return mount_point in mounts\n",
    "\n",
    "\n",
    "# Define the mount point and storage details\n",
    "\n",
    "mount_point=\"/mnt/pos_data_testing\"\n",
    "storage_account_name=\"pharmacydata2024\"\n",
    "container_name=\"test\"\n",
    "sas_token=\"DECBZEPbRnh8pmQGIHIRyH9QpredTuDf6nlHoQOn8pHqb1YBPzBHDrvo1uKIojLYh226lFaNS62B+AStdZxCCw==\"\n",
    "\n",
    "\n",
    "# Only create the mount if it doesn't already exist\n",
    "\n",
    "if not mount_exists(mount_point):\n",
    "    print(f\"Mount point {mount_point} does not exist,creating mount.\")\n",
    "\n",
    "    dbutils.fs.mount(\n",
    "        source = f\"wasbs://{container_name}@{storage_account_name}.blob.core.windows.net\",\n",
    "        mount_point=mount_point,\n",
    "        extra_configs={\"fs.azure.account.key.pharmacydata2024.blob.core.windows.net\":sas_token}\n",
    "    )\n",
    "    \n",
    "    print(f\"Mount point {mount_point} created successfully.\")\n",
    "else:\n",
    "    print(f\"Mount point {mount_point} already exists. No action taken.\")\n"
   ]
  },
  {
   "cell_type": "code",
   "execution_count": 0,
   "metadata": {
    "application/vnd.databricks.v1+cell": {
     "cellMetadata": {
      "byteLimit": 2048000,
      "rowLimit": 10000
     },
     "inputWidgets": {},
     "nuid": "78f4b110-7f65-46d0-9bc3-95a21382cef9",
     "showTitle": false,
     "title": ""
    }
   },
   "outputs": [
    {
     "output_type": "execute_result",
     "data": {
      "text/plain": [
       "[FileInfo(path='dbfs:/mnt/pos_data_testing/POS_Sales_Data_2024_demo_testing1.csv', name='POS_Sales_Data_2024_demo_testing1.csv', size=1054, modificationTime=1727337016000),\n",
       " FileInfo(path='dbfs:/mnt/pos_data_testing/test-date-processed-output/', name='test-date-processed-output/', size=0, modificationTime=0)]"
      ]
     },
     "execution_count": 44,
     "metadata": {},
     "output_type": "execute_result"
    }
   ],
   "source": [
    "dbutils.fs.ls(mount_point)"
   ]
  },
  {
   "cell_type": "code",
   "execution_count": 0,
   "metadata": {
    "application/vnd.databricks.v1+cell": {
     "cellMetadata": {
      "byteLimit": 2048000,
      "implicitDf": true,
      "rowLimit": 10000
     },
     "inputWidgets": {},
     "nuid": "4adc5e66-3b9f-41da-9f7b-2609f48a9ef4",
     "showTitle": false,
     "title": ""
    }
   },
   "outputs": [
    {
     "output_type": "display_data",
     "data": {
      "text/html": [
       "<style scoped>\n",
       "  .table-result-container {\n",
       "    max-height: 300px;\n",
       "    overflow: auto;\n",
       "  }\n",
       "  table, th, td {\n",
       "    border: 1px solid black;\n",
       "    border-collapse: collapse;\n",
       "  }\n",
       "  th, td {\n",
       "    padding: 5px;\n",
       "  }\n",
       "  th {\n",
       "    text-align: left;\n",
       "  }\n",
       "</style><div class='table-result-container'><table class='table-result'><thead style='background-color: white'><tr></tr></thead><tbody></tbody></table></div>"
      ]
     },
     "metadata": {
      "application/vnd.databricks.v1+output": {
       "addedWidgets": {},
       "aggData": [],
       "aggError": "",
       "aggOverflow": false,
       "aggSchema": [],
       "aggSeriesLimitReached": false,
       "aggType": "",
       "arguments": {},
       "columnCustomDisplayInfos": {},
       "data": [],
       "datasetInfos": [],
       "dbfsResultPath": null,
       "isJsonSchema": true,
       "metadata": {
        "dataframeName": null
       },
       "overflow": false,
       "plotOptions": {
        "customPlotOptions": {},
        "displayType": "table",
        "pivotAggregation": null,
        "pivotColumns": null,
        "xColumns": null,
        "yColumns": null
       },
       "removedWidgets": [],
       "schema": [],
       "type": "table"
      }
     },
     "output_type": "display_data"
    }
   ],
   "source": [
    "%sql\n",
    "CREATE DATABASE IF NOT EXISTS postest"
   ]
  },
  {
   "cell_type": "code",
   "execution_count": 0,
   "metadata": {
    "application/vnd.databricks.v1+cell": {
     "cellMetadata": {
      "byteLimit": 2048000,
      "implicitDf": true,
      "rowLimit": 10000
     },
     "inputWidgets": {},
     "nuid": "9fe387d6-998c-4b15-8700-7bbcb2e6fc12",
     "showTitle": false,
     "title": ""
    }
   },
   "outputs": [
    {
     "output_type": "display_data",
     "data": {
      "text/html": [
       "<style scoped>\n",
       "  .table-result-container {\n",
       "    max-height: 300px;\n",
       "    overflow: auto;\n",
       "  }\n",
       "  table, th, td {\n",
       "    border: 1px solid black;\n",
       "    border-collapse: collapse;\n",
       "  }\n",
       "  th, td {\n",
       "    padding: 5px;\n",
       "  }\n",
       "  th {\n",
       "    text-align: left;\n",
       "  }\n",
       "</style><div class='table-result-container'><table class='table-result'><thead style='background-color: white'><tr></tr></thead><tbody></tbody></table></div>"
      ]
     },
     "metadata": {
      "application/vnd.databricks.v1+output": {
       "addedWidgets": {},
       "aggData": [],
       "aggError": "",
       "aggOverflow": false,
       "aggSchema": [],
       "aggSeriesLimitReached": false,
       "aggType": "",
       "arguments": {},
       "columnCustomDisplayInfos": {},
       "data": [],
       "datasetInfos": [],
       "dbfsResultPath": null,
       "isJsonSchema": true,
       "metadata": {
        "dataframeName": null
       },
       "overflow": false,
       "plotOptions": {
        "customPlotOptions": {},
        "displayType": "table",
        "pivotAggregation": null,
        "pivotColumns": null,
        "xColumns": null,
        "yColumns": null
       },
       "removedWidgets": [],
       "schema": [],
       "type": "table"
      }
     },
     "output_type": "display_data"
    }
   ],
   "source": [
    "%sql\n",
    "CREATE TABLE IF NOT EXISTS project_adb.postest.final_cat_kpi_test2 (\n",
    "  ProductCategory STRING,\n",
    "  TotalSales DOUBLE,\n",
    "  TotalTransactions BIGINT,\n",
    "  AvgTransactionValue DOUBLE,\n",
    "  UniqueCustomers BIGINT,\n",
    "  RetainedCustomers BIGINT,\n",
    "  RetentionRate DOUBLE,\n",
    "  TopSellingProductID STRING,\n",
    "  TopSellingProductSales DOUBLE\n",
    ") \n",
    "USING DELTA;\n"
   ]
  },
  {
   "cell_type": "code",
   "execution_count": 0,
   "metadata": {
    "application/vnd.databricks.v1+cell": {
     "cellMetadata": {
      "byteLimit": 2048000,
      "implicitDf": true,
      "rowLimit": 10000
     },
     "inputWidgets": {},
     "nuid": "034f2707-252a-4ca0-82de-338ac427b626",
     "showTitle": false,
     "title": ""
    }
   },
   "outputs": [
    {
     "output_type": "display_data",
     "data": {
      "text/html": [
       "<style scoped>\n",
       "  .table-result-container {\n",
       "    max-height: 300px;\n",
       "    overflow: auto;\n",
       "  }\n",
       "  table, th, td {\n",
       "    border: 1px solid black;\n",
       "    border-collapse: collapse;\n",
       "  }\n",
       "  th, td {\n",
       "    padding: 5px;\n",
       "  }\n",
       "  th {\n",
       "    text-align: left;\n",
       "  }\n",
       "</style><div class='table-result-container'><table class='table-result'><thead style='background-color: white'><tr><th>ProductCategory</th><th>TotalSales</th><th>TotalTransactions</th><th>AvgTransactionValue</th><th>UniqueCustomers</th><th>RetainedCustomers</th><th>RetentionRate</th><th>TopSellingProductID</th><th>TopSellingProductSales</th></tr></thead><tbody></tbody></table></div>"
      ]
     },
     "metadata": {
      "application/vnd.databricks.v1+output": {
       "addedWidgets": {},
       "aggData": [],
       "aggError": "",
       "aggOverflow": false,
       "aggSchema": [],
       "aggSeriesLimitReached": false,
       "aggType": "",
       "arguments": {},
       "columnCustomDisplayInfos": {},
       "data": [],
       "datasetInfos": [],
       "dbfsResultPath": null,
       "isJsonSchema": true,
       "metadata": {
        "createTempViewForImplicitDf": true,
        "dataframeName": "_sqldf",
        "executionCount": 45
       },
       "overflow": false,
       "plotOptions": {
        "customPlotOptions": {},
        "displayType": "table",
        "pivotAggregation": null,
        "pivotColumns": null,
        "xColumns": null,
        "yColumns": null
       },
       "removedWidgets": [],
       "schema": [
        {
         "metadata": "{}",
         "name": "ProductCategory",
         "type": "\"string\""
        },
        {
         "metadata": "{}",
         "name": "TotalSales",
         "type": "\"double\""
        },
        {
         "metadata": "{}",
         "name": "TotalTransactions",
         "type": "\"long\""
        },
        {
         "metadata": "{}",
         "name": "AvgTransactionValue",
         "type": "\"double\""
        },
        {
         "metadata": "{}",
         "name": "UniqueCustomers",
         "type": "\"long\""
        },
        {
         "metadata": "{}",
         "name": "RetainedCustomers",
         "type": "\"long\""
        },
        {
         "metadata": "{}",
         "name": "RetentionRate",
         "type": "\"double\""
        },
        {
         "metadata": "{}",
         "name": "TopSellingProductID",
         "type": "\"string\""
        },
        {
         "metadata": "{}",
         "name": "TopSellingProductSales",
         "type": "\"double\""
        }
       ],
       "type": "table"
      }
     },
     "output_type": "display_data"
    }
   ],
   "source": [
    "%sql\n",
    "SELECT * FROM project_adb.postest.final_cat_kpi_test2;"
   ]
  },
  {
   "cell_type": "code",
   "execution_count": 0,
   "metadata": {
    "application/vnd.databricks.v1+cell": {
     "cellMetadata": {
      "byteLimit": 2048000,
      "implicitDf": true,
      "rowLimit": 10000
     },
     "inputWidgets": {},
     "nuid": "973e7885-613c-4d21-8252-2fcc7d76190e",
     "showTitle": false,
     "title": ""
    }
   },
   "outputs": [
    {
     "output_type": "display_data",
     "data": {
      "text/html": [
       "<style scoped>\n",
       "  .table-result-container {\n",
       "    max-height: 300px;\n",
       "    overflow: auto;\n",
       "  }\n",
       "  table, th, td {\n",
       "    border: 1px solid black;\n",
       "    border-collapse: collapse;\n",
       "  }\n",
       "  th, td {\n",
       "    padding: 5px;\n",
       "  }\n",
       "  th {\n",
       "    text-align: left;\n",
       "  }\n",
       "</style><div class='table-result-container'><table class='table-result'><thead style='background-color: white'><tr><th>PREV_COUNT</th></tr></thead><tbody><tr><td>0</td></tr></tbody></table></div>"
      ]
     },
     "metadata": {
      "application/vnd.databricks.v1+output": {
       "addedWidgets": {},
       "aggData": [],
       "aggError": "",
       "aggOverflow": false,
       "aggSchema": [],
       "aggSeriesLimitReached": false,
       "aggType": "",
       "arguments": {},
       "columnCustomDisplayInfos": {},
       "data": [
        [
         0
        ]
       ],
       "datasetInfos": [],
       "dbfsResultPath": null,
       "isJsonSchema": true,
       "metadata": {
        "createTempViewForImplicitDf": true,
        "dataframeName": "_sqldf",
        "executionCount": 46
       },
       "overflow": false,
       "plotOptions": {
        "customPlotOptions": {},
        "displayType": "table",
        "pivotAggregation": null,
        "pivotColumns": null,
        "xColumns": null,
        "yColumns": null
       },
       "removedWidgets": [],
       "schema": [
        {
         "metadata": "{}",
         "name": "PREV_COUNT",
         "type": "\"long\""
        }
       ],
       "type": "table"
      }
     },
     "output_type": "display_data"
    }
   ],
   "source": [
    "%sql\n",
    "SELECT count(*) AS PREV_COUNT FROM project_adb.postest.final_cat_kpi_test2"
   ]
  },
  {
   "cell_type": "code",
   "execution_count": 0,
   "metadata": {
    "application/vnd.databricks.v1+cell": {
     "cellMetadata": {
      "byteLimit": 2048000,
      "implicitDf": true,
      "rowLimit": 10000
     },
     "inputWidgets": {},
     "nuid": "fe4171af-cabe-4d6b-ba47-11467c6ad164",
     "showTitle": false,
     "title": ""
    }
   },
   "outputs": [
    {
     "output_type": "display_data",
     "data": {
      "text/html": [
       "<style scoped>\n",
       "  .table-result-container {\n",
       "    max-height: 300px;\n",
       "    overflow: auto;\n",
       "  }\n",
       "  table, th, td {\n",
       "    border: 1px solid black;\n",
       "    border-collapse: collapse;\n",
       "  }\n",
       "  th, td {\n",
       "    padding: 5px;\n",
       "  }\n",
       "  th {\n",
       "    text-align: left;\n",
       "  }\n",
       "</style><div class='table-result-container'><table class='table-result'><thead style='background-color: white'><tr><th>num_affected_rows</th><th>num_inserted_rows</th></tr></thead><tbody><tr><td>1</td><td>1</td></tr></tbody></table></div>"
      ]
     },
     "metadata": {
      "application/vnd.databricks.v1+output": {
       "addedWidgets": {},
       "aggData": [],
       "aggError": "",
       "aggOverflow": false,
       "aggSchema": [],
       "aggSeriesLimitReached": false,
       "aggType": "",
       "arguments": {},
       "columnCustomDisplayInfos": {},
       "data": [
        [
         1,
         1
        ]
       ],
       "datasetInfos": [],
       "dbfsResultPath": null,
       "isJsonSchema": true,
       "metadata": {
        "createTempViewForImplicitDf": true,
        "dataframeName": "_sqldf",
        "executionCount": 47
       },
       "overflow": false,
       "plotOptions": {
        "customPlotOptions": {},
        "displayType": "table",
        "pivotAggregation": null,
        "pivotColumns": null,
        "xColumns": null,
        "yColumns": null
       },
       "removedWidgets": [],
       "schema": [
        {
         "metadata": "{}",
         "name": "num_affected_rows",
         "type": "\"long\""
        },
        {
         "metadata": "{}",
         "name": "num_inserted_rows",
         "type": "\"long\""
        }
       ],
       "type": "table"
      }
     },
     "output_type": "display_data"
    }
   ],
   "source": [
    "%sql\n",
    "INSERT INTO project_adb.postest.final_cat_kpi_test2\n",
    "VALUES \n",
    "(\"AIDS Treatment (Prescription)\",0,0,0,0,0,0,null,0\n",
    ");\n"
   ]
  },
  {
   "cell_type": "code",
   "execution_count": 0,
   "metadata": {
    "application/vnd.databricks.v1+cell": {
     "cellMetadata": {
      "byteLimit": 2048000,
      "implicitDf": true,
      "rowLimit": 10000
     },
     "inputWidgets": {},
     "nuid": "e0a82f6e-185c-4817-bd20-08b8c4dae929",
     "showTitle": false,
     "title": ""
    }
   },
   "outputs": [
    {
     "output_type": "display_data",
     "data": {
      "text/html": [
       "<style scoped>\n",
       "  .table-result-container {\n",
       "    max-height: 300px;\n",
       "    overflow: auto;\n",
       "  }\n",
       "  table, th, td {\n",
       "    border: 1px solid black;\n",
       "    border-collapse: collapse;\n",
       "  }\n",
       "  th, td {\n",
       "    padding: 5px;\n",
       "  }\n",
       "  th {\n",
       "    text-align: left;\n",
       "  }\n",
       "</style><div class='table-result-container'><table class='table-result'><thead style='background-color: white'><tr><th>ProductCategory</th><th>TotalSales</th><th>TotalTransactions</th><th>AvgTransactionValue</th><th>UniqueCustomers</th><th>RetainedCustomers</th><th>RetentionRate</th><th>TopSellingProductID</th><th>TopSellingProductSales</th></tr></thead><tbody><tr><td>AIDS Treatment (Prescription)</td><td>0.0</td><td>0</td><td>0.0</td><td>0</td><td>0</td><td>0.0</td><td>null</td><td>0.0</td></tr></tbody></table></div>"
      ]
     },
     "metadata": {
      "application/vnd.databricks.v1+output": {
       "addedWidgets": {},
       "aggData": [],
       "aggError": "",
       "aggOverflow": false,
       "aggSchema": [],
       "aggSeriesLimitReached": false,
       "aggType": "",
       "arguments": {},
       "columnCustomDisplayInfos": {},
       "data": [
        [
         "AIDS Treatment (Prescription)",
         0.0,
         0,
         0.0,
         0,
         0,
         0.0,
         null,
         0.0
        ]
       ],
       "datasetInfos": [],
       "dbfsResultPath": null,
       "isJsonSchema": true,
       "metadata": {
        "createTempViewForImplicitDf": true,
        "dataframeName": "_sqldf",
        "executionCount": 48
       },
       "overflow": false,
       "plotOptions": {
        "customPlotOptions": {},
        "displayType": "table",
        "pivotAggregation": null,
        "pivotColumns": null,
        "xColumns": null,
        "yColumns": null
       },
       "removedWidgets": [],
       "schema": [
        {
         "metadata": "{}",
         "name": "ProductCategory",
         "type": "\"string\""
        },
        {
         "metadata": "{}",
         "name": "TotalSales",
         "type": "\"double\""
        },
        {
         "metadata": "{}",
         "name": "TotalTransactions",
         "type": "\"long\""
        },
        {
         "metadata": "{}",
         "name": "AvgTransactionValue",
         "type": "\"double\""
        },
        {
         "metadata": "{}",
         "name": "UniqueCustomers",
         "type": "\"long\""
        },
        {
         "metadata": "{}",
         "name": "RetainedCustomers",
         "type": "\"long\""
        },
        {
         "metadata": "{}",
         "name": "RetentionRate",
         "type": "\"double\""
        },
        {
         "metadata": "{}",
         "name": "TopSellingProductID",
         "type": "\"string\""
        },
        {
         "metadata": "{}",
         "name": "TopSellingProductSales",
         "type": "\"double\""
        }
       ],
       "type": "table"
      }
     },
     "output_type": "display_data"
    }
   ],
   "source": [
    "%sql\n",
    "SELECT * FROM project_adb.postest.final_cat_kpi_test2"
   ]
  },
  {
   "cell_type": "code",
   "execution_count": 0,
   "metadata": {
    "application/vnd.databricks.v1+cell": {
     "cellMetadata": {
      "byteLimit": 2048000,
      "rowLimit": 10000
     },
     "inputWidgets": {},
     "nuid": "6b40f605-bee1-424e-a21e-8c634cbd6e10",
     "showTitle": false,
     "title": ""
    }
   },
   "outputs": [
    {
     "output_type": "display_data",
     "data": {
      "text/html": [
       "<style scoped>\n",
       "  .table-result-container {\n",
       "    max-height: 300px;\n",
       "    overflow: auto;\n",
       "  }\n",
       "  table, th, td {\n",
       "    border: 1px solid black;\n",
       "    border-collapse: collapse;\n",
       "  }\n",
       "  th, td {\n",
       "    padding: 5px;\n",
       "  }\n",
       "  th {\n",
       "    text-align: left;\n",
       "  }\n",
       "</style><div class='table-result-container'><table class='table-result'><thead style='background-color: white'><tr><th>TransactionID</th><th>StoreID</th><th>StoreLocation</th><th>CashierID</th><th>CustomerID</th><th>CustomerAge</th><th>CustomerGender</th><th>ProductID</th><th>ProductCategory</th><th>ProductName</th><th>Quantity</th><th>UnitPrice</th><th>Timestamp</th><th>TotalAmount</th><th>DiscountApplied</th><th>TaxAmount</th><th>TotalAmountAfterTax</th></tr></thead><tbody><tr><td>T00140</td><td>S001</td><td>San Jose</td><td>C002</td><td>U021</td><td>50</td><td>Female</td><td>P014</td><td>AIDS Treatment (Prescription)</td><td>Diazepam</td><td>5</td><td>30.0</td><td>04-07-2024 02:33</td><td>150.0</td><td>50.0</td><td>10.0</td><td>110.0</td></tr><tr><td>T0015</td><td>S007</td><td>New York City</td><td>C003</td><td>U037</td><td>36</td><td>Male</td><td>P041</td><td>Cardiovascular Diseases (Prescription)</td><td>Lisinopril</td><td>1</td><td>238.14</td><td>12-07-2024 00:16</td><td>238.14</td><td>29.24</td><td>16.6698</td><td>225.5698</td></tr><tr><td>T0016</td><td>S009</td><td>Chicago</td><td>C005</td><td>U009</td><td>41</td><td>Male</td><td>P005</td><td>Antibiotics (Prescription)</td><td>Ciprofloxacin</td><td>4</td><td>121.95</td><td>23-07-2024 18:28</td><td>487.8</td><td>10.21</td><td>34.146</td><td>511.736</td></tr><tr><td>T0017</td><td>S008</td><td>Phoenix</td><td>C004</td><td>U039</td><td>58</td><td>Female</td><td>P010</td><td>Bone Health (OTC & Prescription)</td><td>Cisplatin</td><td>2</td><td>94.82</td><td>10-06-2024 11:59</td><td>189.64</td><td>14.22</td><td>13.2748</td><td>188.6948</td></tr><tr><td>T0018</td><td>S010</td><td>San Jose</td><td>C005</td><td>U059</td><td>36</td><td>Female</td><td>P027</td><td>Eye Health (OTC & Prescription)</td><td>Vitamin D</td><td>2</td><td>142.14</td><td>24-06-2024 07:49</td><td>284.28</td><td>37.58</td><td>19.8996</td><td>266.5996</td></tr><tr><td>T0019</td><td>S005</td><td>Philadelphia</td><td>C005</td><td>U065</td><td>53</td><td>Female</td><td>P008</td><td>Diabetes (Prescription & OTC)</td><td>Olopatadine</td><td>4</td><td>203.3</td><td>19-07-2024 01:52</td><td>813.2</td><td>0.01</td><td>56.924</td><td>870.114</td></tr></tbody></table></div>"
      ]
     },
     "metadata": {
      "application/vnd.databricks.v1+output": {
       "addedWidgets": {},
       "aggData": [],
       "aggError": "",
       "aggOverflow": false,
       "aggSchema": [],
       "aggSeriesLimitReached": false,
       "aggType": "",
       "arguments": {},
       "columnCustomDisplayInfos": {},
       "data": [
        [
         "T00140",
         "S001",
         "San Jose",
         "C002",
         "U021",
         50,
         "Female",
         "P014",
         "AIDS Treatment (Prescription)",
         "Diazepam",
         5,
         30.0,
         "04-07-2024 02:33",
         150.0,
         50.0,
         10.0,
         110.0
        ],
        [
         "T0015",
         "S007",
         "New York City",
         "C003",
         "U037",
         36,
         "Male",
         "P041",
         "Cardiovascular Diseases (Prescription)",
         "Lisinopril",
         1,
         238.14,
         "12-07-2024 00:16",
         238.14,
         29.24,
         16.6698,
         225.5698
        ],
        [
         "T0016",
         "S009",
         "Chicago",
         "C005",
         "U009",
         41,
         "Male",
         "P005",
         "Antibiotics (Prescription)",
         "Ciprofloxacin",
         4,
         121.95,
         "23-07-2024 18:28",
         487.8,
         10.21,
         34.146,
         511.736
        ],
        [
         "T0017",
         "S008",
         "Phoenix",
         "C004",
         "U039",
         58,
         "Female",
         "P010",
         "Bone Health (OTC & Prescription)",
         "Cisplatin",
         2,
         94.82,
         "10-06-2024 11:59",
         189.64,
         14.22,
         13.2748,
         188.6948
        ],
        [
         "T0018",
         "S010",
         "San Jose",
         "C005",
         "U059",
         36,
         "Female",
         "P027",
         "Eye Health (OTC & Prescription)",
         "Vitamin D",
         2,
         142.14,
         "24-06-2024 07:49",
         284.28,
         37.58,
         19.8996,
         266.5996
        ],
        [
         "T0019",
         "S005",
         "Philadelphia",
         "C005",
         "U065",
         53,
         "Female",
         "P008",
         "Diabetes (Prescription & OTC)",
         "Olopatadine",
         4,
         203.3,
         "19-07-2024 01:52",
         813.2,
         0.01,
         56.924,
         870.114
        ]
       ],
       "datasetInfos": [],
       "dbfsResultPath": null,
       "isJsonSchema": true,
       "metadata": {},
       "overflow": false,
       "plotOptions": {
        "customPlotOptions": {},
        "displayType": "table",
        "pivotAggregation": null,
        "pivotColumns": null,
        "xColumns": null,
        "yColumns": null
       },
       "removedWidgets": [],
       "schema": [
        {
         "metadata": "{}",
         "name": "TransactionID",
         "type": "\"string\""
        },
        {
         "metadata": "{}",
         "name": "StoreID",
         "type": "\"string\""
        },
        {
         "metadata": "{}",
         "name": "StoreLocation",
         "type": "\"string\""
        },
        {
         "metadata": "{}",
         "name": "CashierID",
         "type": "\"string\""
        },
        {
         "metadata": "{}",
         "name": "CustomerID",
         "type": "\"string\""
        },
        {
         "metadata": "{}",
         "name": "CustomerAge",
         "type": "\"integer\""
        },
        {
         "metadata": "{}",
         "name": "CustomerGender",
         "type": "\"string\""
        },
        {
         "metadata": "{}",
         "name": "ProductID",
         "type": "\"string\""
        },
        {
         "metadata": "{}",
         "name": "ProductCategory",
         "type": "\"string\""
        },
        {
         "metadata": "{}",
         "name": "ProductName",
         "type": "\"string\""
        },
        {
         "metadata": "{}",
         "name": "Quantity",
         "type": "\"integer\""
        },
        {
         "metadata": "{}",
         "name": "UnitPrice",
         "type": "\"double\""
        },
        {
         "metadata": "{}",
         "name": "Timestamp",
         "type": "\"string\""
        },
        {
         "metadata": "{}",
         "name": "TotalAmount",
         "type": "\"double\""
        },
        {
         "metadata": "{}",
         "name": "DiscountApplied",
         "type": "\"double\""
        },
        {
         "metadata": "{}",
         "name": "TaxAmount",
         "type": "\"double\""
        },
        {
         "metadata": "{}",
         "name": "TotalAmountAfterTax",
         "type": "\"double\""
        }
       ],
       "type": "table"
      }
     },
     "output_type": "display_data"
    }
   ],
   "source": [
    "pos_daily_file=\"/mnt/pos_data_testing/POS_Sales_Data_2024_demo_testing1.csv\"\n",
    "pos_daily_file_test=spark.read.format(\"csv\").option(\"header\",\"true\").option(\"inferSchema\",\"true\").load(pos_daily_file)\n",
    "display(pos_daily_file_test)"
   ]
  },
  {
   "cell_type": "code",
   "execution_count": 0,
   "metadata": {
    "application/vnd.databricks.v1+cell": {
     "cellMetadata": {
      "byteLimit": 2048000,
      "rowLimit": 10000
     },
     "inputWidgets": {},
     "nuid": "277f142c-d165-49ee-aded-51dd6d9e9842",
     "showTitle": false,
     "title": ""
    }
   },
   "outputs": [
    {
     "output_type": "display_data",
     "data": {
      "text/html": [
       "<style scoped>\n",
       "  .table-result-container {\n",
       "    max-height: 300px;\n",
       "    overflow: auto;\n",
       "  }\n",
       "  table, th, td {\n",
       "    border: 1px solid black;\n",
       "    border-collapse: collapse;\n",
       "  }\n",
       "  th, td {\n",
       "    padding: 5px;\n",
       "  }\n",
       "  th {\n",
       "    text-align: left;\n",
       "  }\n",
       "</style><div class='table-result-container'><table class='table-result'><thead style='background-color: white'><tr><th>TransactionID</th><th>StoreID</th><th>StoreLocation</th><th>CashierID</th><th>CustomerID</th><th>CustomerAge</th><th>CustomerGender</th><th>ProductID</th><th>ProductCategory</th><th>ProductName</th><th>Quantity</th><th>UnitPrice</th><th>Timestamp</th><th>TotalAmount</th><th>DiscountApplied</th><th>TaxAmount</th><th>TotalAmountAfterTax</th></tr></thead><tbody><tr><td>T00140</td><td>S001</td><td>San Jose</td><td>C002</td><td>U021</td><td>50</td><td>Female</td><td>P014</td><td>AIDS Treatment (Prescription)</td><td>Diazepam</td><td>5</td><td>30.0</td><td>04-07-2024 02:33</td><td>150.0</td><td>50.0</td><td>10.0</td><td>110.0</td></tr><tr><td>T0015</td><td>S007</td><td>New York City</td><td>C003</td><td>U037</td><td>36</td><td>Male</td><td>P041</td><td>Cardiovascular Diseases (Prescription)</td><td>Lisinopril</td><td>1</td><td>238.14</td><td>12-07-2024 00:16</td><td>238.14</td><td>29.24</td><td>16.6698</td><td>225.5698</td></tr><tr><td>T0016</td><td>S009</td><td>Chicago</td><td>C005</td><td>U009</td><td>41</td><td>Male</td><td>P005</td><td>Antibiotics (Prescription)</td><td>Ciprofloxacin</td><td>4</td><td>121.95</td><td>23-07-2024 18:28</td><td>487.8</td><td>10.21</td><td>34.146</td><td>511.736</td></tr><tr><td>T0017</td><td>S008</td><td>Phoenix</td><td>C004</td><td>U039</td><td>58</td><td>Female</td><td>P010</td><td>Bone Health (OTC & Prescription)</td><td>Cisplatin</td><td>2</td><td>94.82</td><td>10-06-2024 11:59</td><td>189.64</td><td>14.22</td><td>13.2748</td><td>188.6948</td></tr><tr><td>T0018</td><td>S010</td><td>San Jose</td><td>C005</td><td>U059</td><td>36</td><td>Female</td><td>P027</td><td>Eye Health (OTC & Prescription)</td><td>Vitamin D</td><td>2</td><td>142.14</td><td>24-06-2024 07:49</td><td>284.28</td><td>37.58</td><td>19.8996</td><td>266.5996</td></tr><tr><td>T0019</td><td>S005</td><td>Philadelphia</td><td>C005</td><td>U065</td><td>53</td><td>Female</td><td>P008</td><td>Diabetes (Prescription & OTC)</td><td>Olopatadine</td><td>4</td><td>203.3</td><td>19-07-2024 01:52</td><td>813.2</td><td>0.01</td><td>56.924</td><td>870.114</td></tr></tbody></table></div>"
      ]
     },
     "metadata": {
      "application/vnd.databricks.v1+output": {
       "addedWidgets": {},
       "aggData": [],
       "aggError": "",
       "aggOverflow": false,
       "aggSchema": [],
       "aggSeriesLimitReached": false,
       "aggType": "",
       "arguments": {},
       "columnCustomDisplayInfos": {},
       "data": [
        [
         "T00140",
         "S001",
         "San Jose",
         "C002",
         "U021",
         50,
         "Female",
         "P014",
         "AIDS Treatment (Prescription)",
         "Diazepam",
         5,
         30.0,
         "04-07-2024 02:33",
         150.0,
         50.0,
         10.0,
         110.0
        ],
        [
         "T0015",
         "S007",
         "New York City",
         "C003",
         "U037",
         36,
         "Male",
         "P041",
         "Cardiovascular Diseases (Prescription)",
         "Lisinopril",
         1,
         238.14,
         "12-07-2024 00:16",
         238.14,
         29.24,
         16.6698,
         225.5698
        ],
        [
         "T0016",
         "S009",
         "Chicago",
         "C005",
         "U009",
         41,
         "Male",
         "P005",
         "Antibiotics (Prescription)",
         "Ciprofloxacin",
         4,
         121.95,
         "23-07-2024 18:28",
         487.8,
         10.21,
         34.146,
         511.736
        ],
        [
         "T0017",
         "S008",
         "Phoenix",
         "C004",
         "U039",
         58,
         "Female",
         "P010",
         "Bone Health (OTC & Prescription)",
         "Cisplatin",
         2,
         94.82,
         "10-06-2024 11:59",
         189.64,
         14.22,
         13.2748,
         188.6948
        ],
        [
         "T0018",
         "S010",
         "San Jose",
         "C005",
         "U059",
         36,
         "Female",
         "P027",
         "Eye Health (OTC & Prescription)",
         "Vitamin D",
         2,
         142.14,
         "24-06-2024 07:49",
         284.28,
         37.58,
         19.8996,
         266.5996
        ],
        [
         "T0019",
         "S005",
         "Philadelphia",
         "C005",
         "U065",
         53,
         "Female",
         "P008",
         "Diabetes (Prescription & OTC)",
         "Olopatadine",
         4,
         203.3,
         "19-07-2024 01:52",
         813.2,
         0.01,
         56.924,
         870.114
        ]
       ],
       "datasetInfos": [],
       "dbfsResultPath": null,
       "isJsonSchema": true,
       "metadata": {},
       "overflow": false,
       "plotOptions": {
        "customPlotOptions": {},
        "displayType": "table",
        "pivotAggregation": null,
        "pivotColumns": null,
        "xColumns": null,
        "yColumns": null
       },
       "removedWidgets": [],
       "schema": [
        {
         "metadata": "{}",
         "name": "TransactionID",
         "type": "\"string\""
        },
        {
         "metadata": "{}",
         "name": "StoreID",
         "type": "\"string\""
        },
        {
         "metadata": "{}",
         "name": "StoreLocation",
         "type": "\"string\""
        },
        {
         "metadata": "{}",
         "name": "CashierID",
         "type": "\"string\""
        },
        {
         "metadata": "{}",
         "name": "CustomerID",
         "type": "\"string\""
        },
        {
         "metadata": "{}",
         "name": "CustomerAge",
         "type": "\"integer\""
        },
        {
         "metadata": "{}",
         "name": "CustomerGender",
         "type": "\"string\""
        },
        {
         "metadata": "{}",
         "name": "ProductID",
         "type": "\"string\""
        },
        {
         "metadata": "{}",
         "name": "ProductCategory",
         "type": "\"string\""
        },
        {
         "metadata": "{}",
         "name": "ProductName",
         "type": "\"string\""
        },
        {
         "metadata": "{}",
         "name": "Quantity",
         "type": "\"integer\""
        },
        {
         "metadata": "{}",
         "name": "UnitPrice",
         "type": "\"double\""
        },
        {
         "metadata": "{}",
         "name": "Timestamp",
         "type": "\"string\""
        },
        {
         "metadata": "{}",
         "name": "TotalAmount",
         "type": "\"double\""
        },
        {
         "metadata": "{}",
         "name": "DiscountApplied",
         "type": "\"double\""
        },
        {
         "metadata": "{}",
         "name": "TaxAmount",
         "type": "\"double\""
        },
        {
         "metadata": "{}",
         "name": "TotalAmountAfterTax",
         "type": "\"double\""
        }
       ],
       "type": "table"
      }
     },
     "output_type": "display_data"
    }
   ],
   "source": [
    "df_pos_daily_file=pos_daily_file_test.dropna()\n",
    "display(df_pos_daily_file)"
   ]
  },
  {
   "cell_type": "code",
   "execution_count": 0,
   "metadata": {
    "application/vnd.databricks.v1+cell": {
     "cellMetadata": {
      "byteLimit": 2048000,
      "rowLimit": 10000
     },
     "inputWidgets": {},
     "nuid": "2cb7723a-d49e-4ab0-aee4-018720d0ebe1",
     "showTitle": false,
     "title": ""
    }
   },
   "outputs": [
    {
     "output_type": "display_data",
     "data": {
      "text/html": [
       "<style scoped>\n",
       "  .table-result-container {\n",
       "    max-height: 300px;\n",
       "    overflow: auto;\n",
       "  }\n",
       "  table, th, td {\n",
       "    border: 1px solid black;\n",
       "    border-collapse: collapse;\n",
       "  }\n",
       "  th, td {\n",
       "    padding: 5px;\n",
       "  }\n",
       "  th {\n",
       "    text-align: left;\n",
       "  }\n",
       "</style><div class='table-result-container'><table class='table-result'><thead style='background-color: white'><tr><th>ProductCategory</th><th>TotalSales</th><th>TotalTransactions</th><th>UniqueCustomers</th><th>AvgTransactionValue</th><th>RetainedCustomers</th><th>RetentionRate</th><th>TopSellingProductID</th><th>TopSellingProductSales</th></tr></thead><tbody><tr><td>AIDS Treatment (Prescription)</td><td>150.0</td><td>1</td><td>1</td><td>150.0</td><td>0</td><td>0.0</td><td>P014</td><td>150.0</td></tr><tr><td>Bone Health (OTC & Prescription)</td><td>189.64</td><td>1</td><td>1</td><td>189.64</td><td>0</td><td>0.0</td><td>P010</td><td>189.64</td></tr><tr><td>Cardiovascular Diseases (Prescription)</td><td>238.14</td><td>1</td><td>1</td><td>238.14</td><td>0</td><td>0.0</td><td>P041</td><td>238.14</td></tr><tr><td>Eye Health (OTC & Prescription)</td><td>284.28</td><td>1</td><td>1</td><td>284.28</td><td>0</td><td>0.0</td><td>P027</td><td>284.28</td></tr><tr><td>Antibiotics (Prescription)</td><td>487.8</td><td>1</td><td>1</td><td>487.8</td><td>0</td><td>0.0</td><td>P005</td><td>487.8</td></tr><tr><td>Diabetes (Prescription & OTC)</td><td>813.2</td><td>1</td><td>1</td><td>813.2</td><td>0</td><td>0.0</td><td>P008</td><td>813.2</td></tr></tbody></table></div>"
      ]
     },
     "metadata": {
      "application/vnd.databricks.v1+output": {
       "addedWidgets": {},
       "aggData": [],
       "aggError": "",
       "aggOverflow": false,
       "aggSchema": [],
       "aggSeriesLimitReached": false,
       "aggType": "",
       "arguments": {},
       "columnCustomDisplayInfos": {},
       "data": [
        [
         "AIDS Treatment (Prescription)",
         150.0,
         1,
         1,
         150.0,
         0,
         0.0,
         "P014",
         150.0
        ],
        [
         "Bone Health (OTC & Prescription)",
         189.64,
         1,
         1,
         189.64,
         0,
         0.0,
         "P010",
         189.64
        ],
        [
         "Cardiovascular Diseases (Prescription)",
         238.14,
         1,
         1,
         238.14,
         0,
         0.0,
         "P041",
         238.14
        ],
        [
         "Eye Health (OTC & Prescription)",
         284.28,
         1,
         1,
         284.28,
         0,
         0.0,
         "P027",
         284.28
        ],
        [
         "Antibiotics (Prescription)",
         487.8,
         1,
         1,
         487.8,
         0,
         0.0,
         "P005",
         487.8
        ],
        [
         "Diabetes (Prescription & OTC)",
         813.2,
         1,
         1,
         813.2,
         0,
         0.0,
         "P008",
         813.2
        ]
       ],
       "datasetInfos": [],
       "dbfsResultPath": null,
       "isJsonSchema": true,
       "metadata": {},
       "overflow": false,
       "plotOptions": {
        "customPlotOptions": {},
        "displayType": "table",
        "pivotAggregation": null,
        "pivotColumns": null,
        "xColumns": null,
        "yColumns": null
       },
       "removedWidgets": [],
       "schema": [
        {
         "metadata": "{}",
         "name": "ProductCategory",
         "type": "\"string\""
        },
        {
         "metadata": "{}",
         "name": "TotalSales",
         "type": "\"double\""
        },
        {
         "metadata": "{}",
         "name": "TotalTransactions",
         "type": "\"long\""
        },
        {
         "metadata": "{}",
         "name": "UniqueCustomers",
         "type": "\"long\""
        },
        {
         "metadata": "{}",
         "name": "AvgTransactionValue",
         "type": "\"double\""
        },
        {
         "metadata": "{}",
         "name": "RetainedCustomers",
         "type": "\"long\""
        },
        {
         "metadata": "{}",
         "name": "RetentionRate",
         "type": "\"double\""
        },
        {
         "metadata": "{}",
         "name": "TopSellingProductID",
         "type": "\"string\""
        },
        {
         "metadata": "{}",
         "name": "TopSellingProductSales",
         "type": "\"double\""
        }
       ],
       "type": "table"
      }
     },
     "output_type": "display_data"
    }
   ],
   "source": [
    "#Product Category KPI Calculation\n",
    "\n",
    "from pyspark.sql import SparkSession\n",
    "from pyspark.sql import functions as F\n",
    "from pyspark.sql import Window\n",
    "\n",
    "df_with_date = df_pos_daily_file.withColumn(\"Date\", F.to_date(F.col(\"Timestamp\"),\"dd-MM-yyyy HH:mm\"))\n",
    "\n",
    "# Step 2: Calculate Total Sales and Number of Transactions by Product Category\n",
    "categorywise_sales = df_with_date.groupBy(\"ProductCategory\") \\\n",
    "    .agg(\n",
    "        F.sum(\"TotalAmount\").alias(\"TotalSales\"),\n",
    "        F.count(\"TransactionID\").alias(\"TotalTransactions\"),\n",
    "        F.countDistinct(\"CustomerID\").alias(\"UniqueCustomers\")\n",
    "    )\n",
    "\n",
    "# Step 3: Calculate Average Transaction Value\n",
    "categorywise_sales = categorywise_sales.withColumn(\"AvgTransactionValue\", \n",
    "                                                   col(\"TotalSales\") / col(\"TotalTransactions\"))\n",
    "\n",
    "# Step 4: Calculate Retained Customers for Each Product Category\n",
    "customer_category_purchases = df_with_date.groupBy(\"CustomerID\", \"ProductCategory\") \\\n",
    "    .agg(F.count(\"TransactionID\").alias(\"TotalPurchases\"))\n",
    "\n",
    "retained_customers_category = customer_category_purchases.groupBy(\"ProductCategory\") \\\n",
    "    .agg(F.count(F.when(col(\"TotalPurchases\") > 1, 1)).alias(\"RetainedCustomers\"))\n",
    "\n",
    "# Step 5: Join the retained customers with category-wise sales\n",
    "categorywise_kpi = categorywise_sales.join(retained_customers_category, \"ProductCategory\", \"left\") \\\n",
    "    .fillna(0)\n",
    "\n",
    "# Step 6: Calculate Retention Rate\n",
    "categorywise_kpi = categorywise_kpi.withColumn(\"RetentionRate\", \n",
    "                                               (col(\"RetainedCustomers\") / col(\"UniqueCustomers\")) * 100)\n",
    "\n",
    "# Step 7: Find Top Selling Product by Category\n",
    "top_product = df_with_date.groupBy(\"ProductCategory\", \"ProductID\") \\\n",
    "    .agg(F.sum(\"TotalAmount\").alias(\"ProductSales\")) \\\n",
    "    .withColumn(\"Rank\", F.row_number().over(Window.partitionBy(\"ProductCategory\").orderBy(col(\"ProductSales\").desc()))) \\\n",
    "    .filter(col(\"Rank\") == 1) \\\n",
    "    .select(\"ProductCategory\", \"ProductID\", \"ProductSales\")\n",
    "\n",
    "# Step 8: Join Top Selling Product with Categorywise KPI\n",
    "df_final_category_kpi_test = categorywise_kpi.join(top_product, \"ProductCategory\", \"left\") \\\n",
    "    .withColumnRenamed(\"ProductID\", \"TopSellingProductID\") \\\n",
    "    .withColumnRenamed(\"ProductSales\", \"TopSellingProductSales\")\\\n",
    "    .orderBy(\"TotalSales\",ascending=True)\n",
    "\n",
    "# Show final KPI results\n",
    "df_final_category_kpi_test.select(\"ProductCategory\", \"TotalSales\", \"TotalTransactions\", \n",
    "                          \"AvgTransactionValue\", \"UniqueCustomers\", \"RetainedCustomers\", \n",
    "                          \"RetentionRate\", \"TopSellingProductID\", \"TopSellingProductSales\")\n",
    "\n",
    "\n",
    "display(df_final_category_kpi_test)"
   ]
  },
  {
   "cell_type": "code",
   "execution_count": 0,
   "metadata": {
    "application/vnd.databricks.v1+cell": {
     "cellMetadata": {
      "byteLimit": 2048000,
      "rowLimit": 10000
     },
     "inputWidgets": {},
     "nuid": "2b1e6e43-c351-489a-bd97-c9494665dd5b",
     "showTitle": false,
     "title": ""
    }
   },
   "outputs": [
    {
     "output_type": "display_data",
     "data": {
      "text/html": [
       "<style scoped>\n",
       "  .table-result-container {\n",
       "    max-height: 300px;\n",
       "    overflow: auto;\n",
       "  }\n",
       "  table, th, td {\n",
       "    border: 1px solid black;\n",
       "    border-collapse: collapse;\n",
       "  }\n",
       "  th, td {\n",
       "    padding: 5px;\n",
       "  }\n",
       "  th {\n",
       "    text-align: left;\n",
       "  }\n",
       "</style><div class='table-result-container'><table class='table-result'><thead style='background-color: white'><tr><th>ProductCategory</th><th>TotalSales</th><th>TotalTransactions</th><th>AvgTransactionValue</th><th>UniqueCustomers</th><th>RetainedCustomers</th><th>RetentionRate</th><th>TopSellingProductID</th><th>TopSellingProductSales</th></tr></thead><tbody><tr><td>AIDS Treatment (Prescription)</td><td>0.0</td><td>0</td><td>0.0</td><td>0</td><td>0</td><td>0.0</td><td>null</td><td>0.0</td></tr></tbody></table></div>"
      ]
     },
     "metadata": {
      "application/vnd.databricks.v1+output": {
       "addedWidgets": {},
       "aggData": [],
       "aggError": "",
       "aggOverflow": false,
       "aggSchema": [],
       "aggSeriesLimitReached": false,
       "aggType": "",
       "arguments": {},
       "columnCustomDisplayInfos": {},
       "data": [
        [
         "AIDS Treatment (Prescription)",
         0.0,
         0,
         0.0,
         0,
         0,
         0.0,
         null,
         0.0
        ]
       ],
       "datasetInfos": [],
       "dbfsResultPath": null,
       "isJsonSchema": true,
       "metadata": {},
       "overflow": false,
       "plotOptions": {
        "customPlotOptions": {},
        "displayType": "table",
        "pivotAggregation": null,
        "pivotColumns": null,
        "xColumns": null,
        "yColumns": null
       },
       "removedWidgets": [],
       "schema": [
        {
         "metadata": "{}",
         "name": "ProductCategory",
         "type": "\"string\""
        },
        {
         "metadata": "{}",
         "name": "TotalSales",
         "type": "\"double\""
        },
        {
         "metadata": "{}",
         "name": "TotalTransactions",
         "type": "\"long\""
        },
        {
         "metadata": "{}",
         "name": "AvgTransactionValue",
         "type": "\"double\""
        },
        {
         "metadata": "{}",
         "name": "UniqueCustomers",
         "type": "\"long\""
        },
        {
         "metadata": "{}",
         "name": "RetainedCustomers",
         "type": "\"long\""
        },
        {
         "metadata": "{}",
         "name": "RetentionRate",
         "type": "\"double\""
        },
        {
         "metadata": "{}",
         "name": "TopSellingProductID",
         "type": "\"string\""
        },
        {
         "metadata": "{}",
         "name": "TopSellingProductSales",
         "type": "\"double\""
        }
       ],
       "type": "table"
      }
     },
     "output_type": "display_data"
    }
   ],
   "source": [
    "prev_cat_data_kpi_df_test2=spark.table(\"project_adb.postest.final_cat_kpi_test2\")\n",
    "display(prev_cat_data_kpi_df_test2)"
   ]
  },
  {
   "cell_type": "code",
   "execution_count": 0,
   "metadata": {
    "application/vnd.databricks.v1+cell": {
     "cellMetadata": {
      "byteLimit": 2048000,
      "rowLimit": 10000
     },
     "inputWidgets": {},
     "nuid": "ec206357-3956-49ae-b029-384ab8c31f24",
     "showTitle": false,
     "title": ""
    }
   },
   "outputs": [],
   "source": [
    "from delta.tables import DeltaTable"
   ]
  },
  {
   "cell_type": "code",
   "execution_count": 0,
   "metadata": {
    "application/vnd.databricks.v1+cell": {
     "cellMetadata": {
      "byteLimit": 2048000,
      "rowLimit": 10000
     },
     "inputWidgets": {},
     "nuid": "f438dc9e-a840-410d-9d8d-acd7eb778aa5",
     "showTitle": false,
     "title": ""
    }
   },
   "outputs": [],
   "source": [
    "# Load the existing non-Delta table into a DataFrame\n",
    "df_non_delta2 = spark.table(\"project_adb.postest.final_cat_kpi_test2\")\n",
    "\n",
    "# Overwrite the existing table with Delta format\n",
    "df_non_delta2.write.format(\"delta\").mode(\"overwrite\").saveAsTable(\"project_adb.postest.final_cat_kpi_test2\")\n"
   ]
  },
  {
   "cell_type": "code",
   "execution_count": 0,
   "metadata": {
    "application/vnd.databricks.v1+cell": {
     "cellMetadata": {
      "byteLimit": 2048000,
      "rowLimit": 10000
     },
     "inputWidgets": {},
     "nuid": "e61589ab-07e7-4ebe-a041-9e5b579cf93d",
     "showTitle": false,
     "title": ""
    }
   },
   "outputs": [],
   "source": [
    "from delta.tables import *\n",
    "\n",
    "# Assuming delta_kpi_table is your Delta table containing the existing KPI metrics\n",
    "target_delta_table=DeltaTable.forName(spark,\"project_adb.postest.final_cat_kpi_test2\")\n",
    "\n",
    "target_delta_table.alias(\"target\").merge(\n",
    "    source=df_final_category_kpi_test.alias(\"source\"),\n",
    "    condition=\"target.ProductCategory=source.ProductCategory\",\n",
    ").whenMatchedUpdate(\n",
    "    set={\n",
    "        # Add new values to the existing ones for numeric fields\n",
    "        \"TotalSales\": \"COALESCE(target.TotalSales,0)+COALESCE(source.TotalSales,0)\",\n",
    "        \"TotalTransactions\": \"COALESCE(target.TotalTransactions,0)+COALESCE(source.TotalTransactions,0)\",\n",
    "        \"AvgTransactionValue\":\"(target.TotalTransactions+source.TotalTransactions)/(target.TotalTransactions+source.TotalTransactions)\",\n",
    "        \"UniqueCustomers\": \"source.UniqueCustomers\",\n",
    "        \"RetainedCustomers\":\"source.RetainedCustomers\",\n",
    "        \"RetentionRate\": \"source.RetentionRate\",\n",
    "\n",
    "\n",
    "        \"TopSellingProductID\":\"COALESCE(source.TopSellingProductID, target.TopSellingProductID)\",\n",
    "        \"TopSellingProductSales\":\"COALESCE(target.TopSellingProductSales,0)+COALESCE(source.TopSellingProductSales,0)\"\n",
    "    }\n",
    ").whenNotMatchedInsert(\n",
    "    values={\n",
    "        \"ProductCategory\": \"source.ProductCategory\",\n",
    "        \"TotalSales\": \"source.TotalSales\",\n",
    "        \"TotalTransactions\": \"source.TotalTransactions\",\n",
    "        \"AvgTransactionValue\": \"source.AvgTransactionValue\",\n",
    "        \"UniqueCustomers\": \"source.UniqueCustomers\",\n",
    "        \"RetainedCustomers\": \"source.RetainedCustomers\",\n",
    "        \"RetentionRate\": \"source.RetentionRate\",\n",
    "        \"TopSellingProductID\": \"source.TopSellingProductID\",\n",
    "        \"TopSellingProductSales\": \"source.TopSellingProductSales\"\n",
    "    }\n",
    ").execute()\n"
   ]
  },
  {
   "cell_type": "code",
   "execution_count": 0,
   "metadata": {
    "application/vnd.databricks.v1+cell": {
     "cellMetadata": {
      "byteLimit": 2048000,
      "implicitDf": true,
      "rowLimit": 10000
     },
     "inputWidgets": {},
     "nuid": "bcdaef19-f4fa-4d00-a356-a94167f62b9e",
     "showTitle": false,
     "title": ""
    }
   },
   "outputs": [
    {
     "output_type": "display_data",
     "data": {
      "text/html": [
       "<style scoped>\n",
       "  .table-result-container {\n",
       "    max-height: 300px;\n",
       "    overflow: auto;\n",
       "  }\n",
       "  table, th, td {\n",
       "    border: 1px solid black;\n",
       "    border-collapse: collapse;\n",
       "  }\n",
       "  th, td {\n",
       "    padding: 5px;\n",
       "  }\n",
       "  th {\n",
       "    text-align: left;\n",
       "  }\n",
       "</style><div class='table-result-container'><table class='table-result'><thead style='background-color: white'><tr><th>ProductCategory</th><th>TotalSales</th><th>TotalTransactions</th><th>AvgTransactionValue</th><th>UniqueCustomers</th><th>RetainedCustomers</th><th>RetentionRate</th><th>TopSellingProductID</th><th>TopSellingProductSales</th></tr></thead><tbody><tr><td>AIDS Treatment (Prescription)</td><td>150.0</td><td>1</td><td>1.0</td><td>1</td><td>0</td><td>0.0</td><td>P014</td><td>150.0</td></tr><tr><td>Bone Health (OTC & Prescription)</td><td>189.64</td><td>1</td><td>189.64</td><td>1</td><td>0</td><td>0.0</td><td>P010</td><td>189.64</td></tr><tr><td>Cardiovascular Diseases (Prescription)</td><td>238.14</td><td>1</td><td>238.14</td><td>1</td><td>0</td><td>0.0</td><td>P041</td><td>238.14</td></tr><tr><td>Eye Health (OTC & Prescription)</td><td>284.28</td><td>1</td><td>284.28</td><td>1</td><td>0</td><td>0.0</td><td>P027</td><td>284.28</td></tr><tr><td>Antibiotics (Prescription)</td><td>487.8</td><td>1</td><td>487.8</td><td>1</td><td>0</td><td>0.0</td><td>P005</td><td>487.8</td></tr><tr><td>Diabetes (Prescription & OTC)</td><td>813.2</td><td>1</td><td>813.2</td><td>1</td><td>0</td><td>0.0</td><td>P008</td><td>813.2</td></tr></tbody></table></div>"
      ]
     },
     "metadata": {
      "application/vnd.databricks.v1+output": {
       "addedWidgets": {},
       "aggData": [],
       "aggError": "",
       "aggOverflow": false,
       "aggSchema": [],
       "aggSeriesLimitReached": false,
       "aggType": "",
       "arguments": {},
       "columnCustomDisplayInfos": {},
       "data": [
        [
         "AIDS Treatment (Prescription)",
         150.0,
         1,
         1.0,
         1,
         0,
         0.0,
         "P014",
         150.0
        ],
        [
         "Bone Health (OTC & Prescription)",
         189.64,
         1,
         189.64,
         1,
         0,
         0.0,
         "P010",
         189.64
        ],
        [
         "Cardiovascular Diseases (Prescription)",
         238.14,
         1,
         238.14,
         1,
         0,
         0.0,
         "P041",
         238.14
        ],
        [
         "Eye Health (OTC & Prescription)",
         284.28,
         1,
         284.28,
         1,
         0,
         0.0,
         "P027",
         284.28
        ],
        [
         "Antibiotics (Prescription)",
         487.8,
         1,
         487.8,
         1,
         0,
         0.0,
         "P005",
         487.8
        ],
        [
         "Diabetes (Prescription & OTC)",
         813.2,
         1,
         813.2,
         1,
         0,
         0.0,
         "P008",
         813.2
        ]
       ],
       "datasetInfos": [],
       "dbfsResultPath": null,
       "isJsonSchema": true,
       "metadata": {
        "createTempViewForImplicitDf": true,
        "dataframeName": "_sqldf",
        "executionCount": 56
       },
       "overflow": false,
       "plotOptions": {
        "customPlotOptions": {},
        "displayType": "table",
        "pivotAggregation": null,
        "pivotColumns": null,
        "xColumns": null,
        "yColumns": null
       },
       "removedWidgets": [],
       "schema": [
        {
         "metadata": "{}",
         "name": "ProductCategory",
         "type": "\"string\""
        },
        {
         "metadata": "{}",
         "name": "TotalSales",
         "type": "\"double\""
        },
        {
         "metadata": "{}",
         "name": "TotalTransactions",
         "type": "\"long\""
        },
        {
         "metadata": "{}",
         "name": "AvgTransactionValue",
         "type": "\"double\""
        },
        {
         "metadata": "{}",
         "name": "UniqueCustomers",
         "type": "\"long\""
        },
        {
         "metadata": "{}",
         "name": "RetainedCustomers",
         "type": "\"long\""
        },
        {
         "metadata": "{}",
         "name": "RetentionRate",
         "type": "\"double\""
        },
        {
         "metadata": "{}",
         "name": "TopSellingProductID",
         "type": "\"string\""
        },
        {
         "metadata": "{}",
         "name": "TopSellingProductSales",
         "type": "\"double\""
        }
       ],
       "type": "table"
      }
     },
     "output_type": "display_data"
    }
   ],
   "source": [
    "%sql\n",
    "SELECT * FROM project_adb.postest.final_cat_kpi_test2"
   ]
  },
  {
   "cell_type": "code",
   "execution_count": 0,
   "metadata": {
    "application/vnd.databricks.v1+cell": {
     "cellMetadata": {
      "byteLimit": 2048000,
      "implicitDf": true,
      "rowLimit": 10000
     },
     "inputWidgets": {},
     "nuid": "35ed4a68-c85f-4c98-ab70-08fceff30ff7",
     "showTitle": false,
     "title": ""
    }
   },
   "outputs": [
    {
     "output_type": "display_data",
     "data": {
      "text/html": [
       "<style scoped>\n",
       "  .table-result-container {\n",
       "    max-height: 300px;\n",
       "    overflow: auto;\n",
       "  }\n",
       "  table, th, td {\n",
       "    border: 1px solid black;\n",
       "    border-collapse: collapse;\n",
       "  }\n",
       "  th, td {\n",
       "    padding: 5px;\n",
       "  }\n",
       "  th {\n",
       "    text-align: left;\n",
       "  }\n",
       "</style><div class='table-result-container'><table class='table-result'><thead style='background-color: white'><tr><th>UPDATED_COUNT</th></tr></thead><tbody><tr><td>6</td></tr></tbody></table></div>"
      ]
     },
     "metadata": {
      "application/vnd.databricks.v1+output": {
       "addedWidgets": {},
       "aggData": [],
       "aggError": "",
       "aggOverflow": false,
       "aggSchema": [],
       "aggSeriesLimitReached": false,
       "aggType": "",
       "arguments": {},
       "columnCustomDisplayInfos": {},
       "data": [
        [
         6
        ]
       ],
       "datasetInfos": [],
       "dbfsResultPath": null,
       "isJsonSchema": true,
       "metadata": {
        "createTempViewForImplicitDf": true,
        "dataframeName": "_sqldf",
        "executionCount": 57
       },
       "overflow": false,
       "plotOptions": {
        "customPlotOptions": {},
        "displayType": "table",
        "pivotAggregation": null,
        "pivotColumns": null,
        "xColumns": null,
        "yColumns": null
       },
       "removedWidgets": [],
       "schema": [
        {
         "metadata": "{}",
         "name": "UPDATED_COUNT",
         "type": "\"long\""
        }
       ],
       "type": "table"
      }
     },
     "output_type": "display_data"
    }
   ],
   "source": [
    "%sql\n",
    "SELECT count(*) AS UPDATED_COUNT FROM project_adb.postest.final_cat_kpi_test2"
   ]
  },
  {
   "cell_type": "code",
   "execution_count": 0,
   "metadata": {
    "application/vnd.databricks.v1+cell": {
     "cellMetadata": {
      "byteLimit": 2048000,
      "rowLimit": 10000
     },
     "inputWidgets": {},
     "nuid": "56287ed1-3986-47fa-965e-5669fbf42db9",
     "showTitle": false,
     "title": ""
    }
   },
   "outputs": [],
   "source": [
    "#Save output file in different file formats with name like 'part-00000' in adls\n",
    "\n",
    "df2=spark.table(\"project_adb.postest.final_cat_kpi_test2\")\n",
    "df2.write.mode(\"overwrite\").format(\"csv\").save(\"/mnt/pos_data_testing/df_category_filtered.csv\",header=True)"
   ]
  },
  {
   "cell_type": "code",
   "execution_count": 0,
   "metadata": {
    "application/vnd.databricks.v1+cell": {
     "cellMetadata": {
      "byteLimit": 2048000,
      "rowLimit": 10000
     },
     "inputWidgets": {},
     "nuid": "69620ba7-1a9f-417d-a756-a0d86f95c51f",
     "showTitle": false,
     "title": ""
    }
   },
   "outputs": [
    {
     "output_type": "stream",
     "name": "stdout",
     "output_type": "stream",
     "text": [
      "2024-09-26\n"
     ]
    }
   ],
   "source": [
    "from pyspark.sql.functions import current_date\n",
    "\n",
    "# Get the current date in 'yyyy-MM-dd' format\n",
    "current_date_value = spark.sql(\"SELECT date_format(current_date(), 'yyyy-MM-dd')\").collect()[0][0]\n",
    "print(current_date_value)\n",
    "\n",
    "# Create the directory for today's date\n",
    "dbutils.fs.mkdirs(f\"dbfs:/mnt/pos_data_testing/test-date-processed-output-cat/{current_date_value}\")\n",
    "\n",
    "# Define the destination path for saving the DataFrame\n",
    "destination_path_csv = f\"dbfs:/mnt/pos_data_testing/test-date-processed-output-cat/{current_date_value}/output_file\"\n",
    "\n",
    "# Write the DataFrame to CSV\n",
    "df2.write.mode(\"overwrite\").format(\"csv\").save(destination_path_csv, header=True)\n",
    "\n",
    "# List files in the source directory\n",
    "files = dbutils.fs.ls(\"dbfs:/mnt/dss-project-works/project-data/test_output_from_adb/delta-table-test-output/\")\n",
    "\n",
    "# Define custom file name for the copied file\n",
    "custom_file_name = f\"category_kpi_{current_date_value}.csv\"\n",
    "\n",
    "# Copy the relevant file(s) to the destination directory with the custom name\n",
    "for file in files:\n",
    "    if \"part-00000-tid-\" in file.name:\n",
    "        # Copy the file to the destination with the custom name\n",
    "        dbutils.fs.cp(file.path, f\"dbfs:/mnt/pos_data_testing/test-date-processed-output-cat/{current_date_value}/{custom_file_name}\")\n",
    "        break\n",
    "\n",
    "# Now, move the entire output directory to a new name\n",
    "new_directory_path = f\"dbfs:/mnt/pos_data_testing/test-date-processed-output-cat/{current_date_value}/output_file_temp\"\n",
    "dbutils.fs.mv(destination_path_csv,new_directory_path, recurse=True)\n",
    "\n",
    "# Rename part files within the new directory to the custom file name\n",
    "part_files = dbutils.fs.ls(new_directory_path)\n",
    "\n",
    "# Move part files to the new custom name\n",
    "for part_file in part_files:\n",
    "    if part_file.name.startswith(\"part-\"):\n",
    "        dbutils.fs.mv(part_file.path, f\"dbfs:/mnt/pos_data_testing/test-date-processed-output-cat/{current_date_value}/{custom_file_name}\",recurse=True)\n"
   ]
  },
  {
   "cell_type": "code",
   "execution_count": 0,
   "metadata": {
    "application/vnd.databricks.v1+cell": {
     "cellMetadata": {
      "byteLimit": 2048000,
      "implicitDf": true,
      "rowLimit": 10000
     },
     "inputWidgets": {},
     "nuid": "16c8556c-8fe3-4308-97c4-6dface4ab6e4",
     "showTitle": false,
     "title": ""
    }
   },
   "outputs": [
    {
     "output_type": "display_data",
     "data": {
      "text/plain": [
       "\u001B[0;31m---------------------------------------------------------------------------\u001B[0m\n",
       "\u001B[0;31mExecutionError\u001B[0m                            Traceback (most recent call last)\n",
       "File \u001B[0;32m<command-632148721269157>, line 31\u001B[0m\n",
       "\u001B[1;32m     29\u001B[0m \u001B[38;5;66;03m# Now, move the entire output directory to a new name\u001B[39;00m\n",
       "\u001B[1;32m     30\u001B[0m new_directory_path \u001B[38;5;241m=\u001B[39m \u001B[38;5;124mf\u001B[39m\u001B[38;5;124m\"\u001B[39m\u001B[38;5;124mdbfs:/mnt/pos_data_testing/test-date-processed-output/\u001B[39m\u001B[38;5;132;01m{\u001B[39;00mcurrent_date_value\u001B[38;5;132;01m}\u001B[39;00m\u001B[38;5;124m/output_file_temp\u001B[39m\u001B[38;5;124m\"\u001B[39m\n",
       "\u001B[0;32m---> 31\u001B[0m dbutils\u001B[38;5;241m.\u001B[39mfs\u001B[38;5;241m.\u001B[39mmv(destination_path_csv, new_directory_path, recurse\u001B[38;5;241m=\u001B[39m\u001B[38;5;28;01mTrue\u001B[39;00m)\n",
       "\u001B[1;32m     33\u001B[0m \u001B[38;5;66;03m# Rename part files within the new directory to the custom file name\u001B[39;00m\n",
       "\u001B[1;32m     34\u001B[0m part_files \u001B[38;5;241m=\u001B[39m dbutils\u001B[38;5;241m.\u001B[39mfs\u001B[38;5;241m.\u001B[39mls(new_directory_path)\n",
       "\n",
       "File \u001B[0;32m/databricks/python_shell/dbruntime/dbutils.py:158\u001B[0m, in \u001B[0;36mprettify_exception_message.<locals>.f_with_exception_handling\u001B[0;34m(*args, **kwargs)\u001B[0m\n",
       "\u001B[1;32m    156\u001B[0m exc\u001B[38;5;241m.\u001B[39m__context__ \u001B[38;5;241m=\u001B[39m \u001B[38;5;28;01mNone\u001B[39;00m\n",
       "\u001B[1;32m    157\u001B[0m exc\u001B[38;5;241m.\u001B[39m__cause__ \u001B[38;5;241m=\u001B[39m \u001B[38;5;28;01mNone\u001B[39;00m\n",
       "\u001B[0;32m--> 158\u001B[0m \u001B[38;5;28;01mraise\u001B[39;00m exc\n",
       "\n",
       "\u001B[0;31mExecutionError\u001B[0m: An error occurred while calling o698.mv.\n",
       ": java.io.IOException: Non-recursive delete of non-empty directory /test-date-processed-output/2024-09-26/output_file\n",
       "\tat shaded.databricks.org.apache.hadoop.fs.azure.NativeAzureFileSystem.deleteWithInstrumentation(NativeAzureFileSystem.java:2266)\n",
       "\tat shaded.databricks.org.apache.hadoop.fs.azure.NativeAzureFileSystem.delete(NativeAzureFileSystem.java:2026)\n",
       "\tat shaded.databricks.org.apache.hadoop.fs.azure.NativeAzureFileSystem.delete(NativeAzureFileSystem.java:1999)\n",
       "\tat com.databricks.common.filesystem.LokiFileSystem.delete(LokiFileSystem.scala:310)\n",
       "\tat com.databricks.backend.daemon.data.client.DatabricksFileSystemV2.$anonfun$delete$3(DatabricksFileSystemV2.scala:1118)\n",
       "\tat scala.runtime.java8.JFunction0$mcZ$sp.apply(JFunction0$mcZ$sp.java:23)\n",
       "\tat com.databricks.s3a.S3AExceptionUtils$.convertAWSExceptionToJavaIOException(DatabricksStreamUtils.scala:66)\n",
       "\tat com.databricks.backend.daemon.data.client.DatabricksFileSystemV2.$anonfun$delete$2(DatabricksFileSystemV2.scala:1116)\n",
       "\tat scala.runtime.java8.JFunction0$mcZ$sp.apply(JFunction0$mcZ$sp.java:23)\n",
       "\tat com.databricks.backend.daemon.data.client.DatabricksFileSystemV2.$anonfun$withUserContextRecorded$2(DatabricksFileSystemV2.scala:1376)\n",
       "\tat com.databricks.logging.AttributionContextTracing.$anonfun$withAttributionContext$1(AttributionContextTracing.scala:48)\n",
       "\tat com.databricks.logging.AttributionContext$.$anonfun$withValue$1(AttributionContext.scala:276)\n",
       "\tat scala.util.DynamicVariable.withValue(DynamicVariable.scala:62)\n",
       "\tat com.databricks.logging.AttributionContext$.withValue(AttributionContext.scala:272)\n",
       "\tat com.databricks.logging.AttributionContextTracing.withAttributionContext(AttributionContextTracing.scala:46)\n",
       "\tat com.databricks.logging.AttributionContextTracing.withAttributionContext$(AttributionContextTracing.scala:43)\n",
       "\tat com.databricks.backend.daemon.data.client.DatabricksFileSystemV2.withAttributionContext(DatabricksFileSystemV2.scala:741)\n",
       "\tat com.databricks.logging.AttributionContextTracing.withAttributionTags(AttributionContextTracing.scala:95)\n",
       "\tat com.databricks.logging.AttributionContextTracing.withAttributionTags$(AttributionContextTracing.scala:76)\n",
       "\tat com.databricks.backend.daemon.data.client.DatabricksFileSystemV2.withAttributionTags(DatabricksFileSystemV2.scala:741)\n",
       "\tat com.databricks.backend.daemon.data.client.DatabricksFileSystemV2.withUserContextRecorded(DatabricksFileSystemV2.scala:1349)\n",
       "\tat com.databricks.backend.daemon.data.client.DatabricksFileSystemV2.$anonfun$delete$1(DatabricksFileSystemV2.scala:1114)\n",
       "\tat scala.runtime.java8.JFunction0$mcZ$sp.apply(JFunction0$mcZ$sp.java:23)\n",
       "\tat com.databricks.logging.UsageLogging.$anonfun$recordOperation$1(UsageLogging.scala:527)\n",
       "\tat com.databricks.logging.UsageLogging.executeThunkAndCaptureResultTags$1(UsageLogging.scala:631)\n",
       "\tat com.databricks.logging.UsageLogging.$anonfun$recordOperationWithResultTags$4(UsageLogging.scala:651)\n",
       "\tat com.databricks.logging.AttributionContextTracing.$anonfun$withAttributionContext$1(AttributionContextTracing.scala:48)\n",
       "\tat com.databricks.logging.AttributionContext$.$anonfun$withValue$1(AttributionContext.scala:276)\n",
       "\tat scala.util.DynamicVariable.withValue(DynamicVariable.scala:62)\n",
       "\tat com.databricks.logging.AttributionContext$.withValue(AttributionContext.scala:272)\n",
       "\tat com.databricks.logging.AttributionContextTracing.withAttributionContext(AttributionContextTracing.scala:46)\n",
       "\tat com.databricks.logging.AttributionContextTracing.withAttributionContext$(AttributionContextTracing.scala:43)\n",
       "\tat com.databricks.backend.daemon.data.client.DatabricksFileSystemV2.withAttributionContext(DatabricksFileSystemV2.scala:741)\n",
       "\tat com.databricks.logging.AttributionContextTracing.withAttributionTags(AttributionContextTracing.scala:95)\n",
       "\tat com.databricks.logging.AttributionContextTracing.withAttributionTags$(AttributionContextTracing.scala:76)\n",
       "\tat com.databricks.backend.daemon.data.client.DatabricksFileSystemV2.withAttributionTags(DatabricksFileSystemV2.scala:741)\n",
       "\tat com.databricks.logging.UsageLogging.recordOperationWithResultTags(UsageLogging.scala:626)\n",
       "\tat com.databricks.logging.UsageLogging.recordOperationWithResultTags$(UsageLogging.scala:536)\n",
       "\tat com.databricks.backend.daemon.data.client.DatabricksFileSystemV2.recordOperationWithResultTags(DatabricksFileSystemV2.scala:741)\n",
       "\tat com.databricks.logging.UsageLogging.recordOperation(UsageLogging.scala:528)\n",
       "\tat com.databricks.logging.UsageLogging.recordOperation$(UsageLogging.scala:496)\n",
       "\tat com.databricks.backend.daemon.data.client.DatabricksFileSystemV2.recordOperation(DatabricksFileSystemV2.scala:741)\n",
       "\tat com.databricks.backend.daemon.data.client.DatabricksFileSystemV2.delete(DatabricksFileSystemV2.scala:1110)\n",
       "\tat com.databricks.backend.daemon.data.client.DatabricksFileSystem.delete(DatabricksFileSystem.scala:157)\n",
       "\tat com.databricks.backend.daemon.dbutils.FSUtils.cpRecursive(DBUtilsCore.scala:459)\n",
       "\tat com.databricks.backend.daemon.dbutils.FSUtils.$anonfun$mv$3(DBUtilsCore.scala:415)\n",
       "\tat com.databricks.backend.daemon.dbutils.FSUtils.$anonfun$withMvSafetyChecks$2(DBUtilsCore.scala:230)\n",
       "\tat com.databricks.backend.daemon.dbutils.FSUtils.withFsSafetyCheck(DBUtilsCore.scala:152)\n",
       "\tat com.databricks.backend.daemon.dbutils.FSUtils.$anonfun$withMvSafetyChecks$1(DBUtilsCore.scala:184)\n",
       "\tat com.databricks.backend.daemon.dbutils.FSUtils.withFsSafetyCheck(DBUtilsCore.scala:152)\n",
       "\tat com.databricks.backend.daemon.dbutils.FSUtils.withMvSafetyChecks(DBUtilsCore.scala:184)\n",
       "\tat com.databricks.backend.daemon.dbutils.FSUtils.$anonfun$mv$2(DBUtilsCore.scala:412)\n",
       "\tat com.databricks.backend.daemon.dbutils.FSUtils.checkPermission(DBUtilsCore.scala:147)\n",
       "\tat com.databricks.backend.daemon.dbutils.FSUtils.$anonfun$mv$1(DBUtilsCore.scala:412)\n",
       "\tat com.databricks.logging.UsageLogging.$anonfun$recordOperation$1(UsageLogging.scala:527)\n",
       "\tat com.databricks.logging.UsageLogging.executeThunkAndCaptureResultTags$1(UsageLogging.scala:631)\n",
       "\tat com.databricks.logging.UsageLogging.$anonfun$recordOperationWithResultTags$4(UsageLogging.scala:651)\n",
       "\tat com.databricks.logging.AttributionContextTracing.$anonfun$withAttributionContext$1(AttributionContextTracing.scala:48)\n",
       "\tat com.databricks.logging.AttributionContext$.$anonfun$withValue$1(AttributionContext.scala:276)\n",
       "\tat scala.util.DynamicVariable.withValue(DynamicVariable.scala:62)\n",
       "\tat com.databricks.logging.AttributionContext$.withValue(AttributionContext.scala:272)\n",
       "\tat com.databricks.logging.AttributionContextTracing.withAttributionContext(AttributionContextTracing.scala:46)\n",
       "\tat com.databricks.logging.AttributionContextTracing.withAttributionContext$(AttributionContextTracing.scala:43)\n",
       "\tat com.databricks.backend.daemon.dbutils.FSUtils.withAttributionContext(DBUtilsCore.scala:74)\n",
       "\tat com.databricks.logging.AttributionContextTracing.withAttributionTags(AttributionContextTracing.scala:95)\n",
       "\tat com.databricks.logging.AttributionContextTracing.withAttributionTags$(AttributionContextTracing.scala:76)\n",
       "\tat com.databricks.backend.daemon.dbutils.FSUtils.withAttributionTags(DBUtilsCore.scala:74)\n",
       "\tat com.databricks.logging.UsageLogging.recordOperationWithResultTags(UsageLogging.scala:626)\n",
       "\tat com.databricks.logging.UsageLogging.recordOperationWithResultTags$(UsageLogging.scala:536)\n",
       "\tat com.databricks.backend.daemon.dbutils.FSUtils.recordOperationWithResultTags(DBUtilsCore.scala:74)\n",
       "\tat com.databricks.logging.UsageLogging.recordOperation(UsageLogging.scala:528)\n",
       "\tat com.databricks.logging.UsageLogging.recordOperation$(UsageLogging.scala:496)\n",
       "\tat com.databricks.backend.daemon.dbutils.FSUtils.recordOperation(DBUtilsCore.scala:74)\n",
       "\tat com.databricks.backend.daemon.dbutils.FSUtils.recordDbutilsFsOp(DBUtilsCore.scala:138)\n",
       "\tat com.databricks.backend.daemon.dbutils.FSUtils.mv(DBUtilsCore.scala:411)\n",
       "\tat sun.reflect.NativeMethodAccessorImpl.invoke0(Native Method)\n",
       "\tat sun.reflect.NativeMethodAccessorImpl.invoke(NativeMethodAccessorImpl.java:62)\n",
       "\tat sun.reflect.DelegatingMethodAccessorImpl.invoke(DelegatingMethodAccessorImpl.java:43)\n",
       "\tat java.lang.reflect.Method.invoke(Method.java:498)\n",
       "\tat py4j.reflection.MethodInvoker.invoke(MethodInvoker.java:244)\n",
       "\tat py4j.reflection.ReflectionEngine.invoke(ReflectionEngine.java:397)\n",
       "\tat py4j.Gateway.invoke(Gateway.java:306)\n",
       "\tat py4j.commands.AbstractCommand.invokeMethod(AbstractCommand.java:132)\n",
       "\tat py4j.commands.CallCommand.execute(CallCommand.java:79)\n",
       "\tat py4j.ClientServerConnection.waitForCommands(ClientServerConnection.java:199)\n",
       "\tat py4j.ClientServerConnection.run(ClientServerConnection.java:119)\n",
       "\tat java.lang.Thread.run(Thread.java:750)\n"
      ]
     },
     "metadata": {
      "application/vnd.databricks.v1+output": {
       "addedWidgets": {},
       "arguments": {},
       "datasetInfos": [],
       "jupyterProps": {
        "ename": "ExecutionError",
        "evalue": "An error occurred while calling o698.mv.\n: java.io.IOException: Non-recursive delete of non-empty directory /test-date-processed-output/2024-09-26/output_file\n\tat shaded.databricks.org.apache.hadoop.fs.azure.NativeAzureFileSystem.deleteWithInstrumentation(NativeAzureFileSystem.java:2266)\n\tat shaded.databricks.org.apache.hadoop.fs.azure.NativeAzureFileSystem.delete(NativeAzureFileSystem.java:2026)\n\tat shaded.databricks.org.apache.hadoop.fs.azure.NativeAzureFileSystem.delete(NativeAzureFileSystem.java:1999)\n\tat com.databricks.common.filesystem.LokiFileSystem.delete(LokiFileSystem.scala:310)\n\tat com.databricks.backend.daemon.data.client.DatabricksFileSystemV2.$anonfun$delete$3(DatabricksFileSystemV2.scala:1118)\n\tat scala.runtime.java8.JFunction0$mcZ$sp.apply(JFunction0$mcZ$sp.java:23)\n\tat com.databricks.s3a.S3AExceptionUtils$.convertAWSExceptionToJavaIOException(DatabricksStreamUtils.scala:66)\n\tat com.databricks.backend.daemon.data.client.DatabricksFileSystemV2.$anonfun$delete$2(DatabricksFileSystemV2.scala:1116)\n\tat scala.runtime.java8.JFunction0$mcZ$sp.apply(JFunction0$mcZ$sp.java:23)\n\tat com.databricks.backend.daemon.data.client.DatabricksFileSystemV2.$anonfun$withUserContextRecorded$2(DatabricksFileSystemV2.scala:1376)\n\tat com.databricks.logging.AttributionContextTracing.$anonfun$withAttributionContext$1(AttributionContextTracing.scala:48)\n\tat com.databricks.logging.AttributionContext$.$anonfun$withValue$1(AttributionContext.scala:276)\n\tat scala.util.DynamicVariable.withValue(DynamicVariable.scala:62)\n\tat com.databricks.logging.AttributionContext$.withValue(AttributionContext.scala:272)\n\tat com.databricks.logging.AttributionContextTracing.withAttributionContext(AttributionContextTracing.scala:46)\n\tat com.databricks.logging.AttributionContextTracing.withAttributionContext$(AttributionContextTracing.scala:43)\n\tat com.databricks.backend.daemon.data.client.DatabricksFileSystemV2.withAttributionContext(DatabricksFileSystemV2.scala:741)\n\tat com.databricks.logging.AttributionContextTracing.withAttributionTags(AttributionContextTracing.scala:95)\n\tat com.databricks.logging.AttributionContextTracing.withAttributionTags$(AttributionContextTracing.scala:76)\n\tat com.databricks.backend.daemon.data.client.DatabricksFileSystemV2.withAttributionTags(DatabricksFileSystemV2.scala:741)\n\tat com.databricks.backend.daemon.data.client.DatabricksFileSystemV2.withUserContextRecorded(DatabricksFileSystemV2.scala:1349)\n\tat com.databricks.backend.daemon.data.client.DatabricksFileSystemV2.$anonfun$delete$1(DatabricksFileSystemV2.scala:1114)\n\tat scala.runtime.java8.JFunction0$mcZ$sp.apply(JFunction0$mcZ$sp.java:23)\n\tat com.databricks.logging.UsageLogging.$anonfun$recordOperation$1(UsageLogging.scala:527)\n\tat com.databricks.logging.UsageLogging.executeThunkAndCaptureResultTags$1(UsageLogging.scala:631)\n\tat com.databricks.logging.UsageLogging.$anonfun$recordOperationWithResultTags$4(UsageLogging.scala:651)\n\tat com.databricks.logging.AttributionContextTracing.$anonfun$withAttributionContext$1(AttributionContextTracing.scala:48)\n\tat com.databricks.logging.AttributionContext$.$anonfun$withValue$1(AttributionContext.scala:276)\n\tat scala.util.DynamicVariable.withValue(DynamicVariable.scala:62)\n\tat com.databricks.logging.AttributionContext$.withValue(AttributionContext.scala:272)\n\tat com.databricks.logging.AttributionContextTracing.withAttributionContext(AttributionContextTracing.scala:46)\n\tat com.databricks.logging.AttributionContextTracing.withAttributionContext$(AttributionContextTracing.scala:43)\n\tat com.databricks.backend.daemon.data.client.DatabricksFileSystemV2.withAttributionContext(DatabricksFileSystemV2.scala:741)\n\tat com.databricks.logging.AttributionContextTracing.withAttributionTags(AttributionContextTracing.scala:95)\n\tat com.databricks.logging.AttributionContextTracing.withAttributionTags$(AttributionContextTracing.scala:76)\n\tat com.databricks.backend.daemon.data.client.DatabricksFileSystemV2.withAttributionTags(DatabricksFileSystemV2.scala:741)\n\tat com.databricks.logging.UsageLogging.recordOperationWithResultTags(UsageLogging.scala:626)\n\tat com.databricks.logging.UsageLogging.recordOperationWithResultTags$(UsageLogging.scala:536)\n\tat com.databricks.backend.daemon.data.client.DatabricksFileSystemV2.recordOperationWithResultTags(DatabricksFileSystemV2.scala:741)\n\tat com.databricks.logging.UsageLogging.recordOperation(UsageLogging.scala:528)\n\tat com.databricks.logging.UsageLogging.recordOperation$(UsageLogging.scala:496)\n\tat com.databricks.backend.daemon.data.client.DatabricksFileSystemV2.recordOperation(DatabricksFileSystemV2.scala:741)\n\tat com.databricks.backend.daemon.data.client.DatabricksFileSystemV2.delete(DatabricksFileSystemV2.scala:1110)\n\tat com.databricks.backend.daemon.data.client.DatabricksFileSystem.delete(DatabricksFileSystem.scala:157)\n\tat com.databricks.backend.daemon.dbutils.FSUtils.cpRecursive(DBUtilsCore.scala:459)\n\tat com.databricks.backend.daemon.dbutils.FSUtils.$anonfun$mv$3(DBUtilsCore.scala:415)\n\tat com.databricks.backend.daemon.dbutils.FSUtils.$anonfun$withMvSafetyChecks$2(DBUtilsCore.scala:230)\n\tat com.databricks.backend.daemon.dbutils.FSUtils.withFsSafetyCheck(DBUtilsCore.scala:152)\n\tat com.databricks.backend.daemon.dbutils.FSUtils.$anonfun$withMvSafetyChecks$1(DBUtilsCore.scala:184)\n\tat com.databricks.backend.daemon.dbutils.FSUtils.withFsSafetyCheck(DBUtilsCore.scala:152)\n\tat com.databricks.backend.daemon.dbutils.FSUtils.withMvSafetyChecks(DBUtilsCore.scala:184)\n\tat com.databricks.backend.daemon.dbutils.FSUtils.$anonfun$mv$2(DBUtilsCore.scala:412)\n\tat com.databricks.backend.daemon.dbutils.FSUtils.checkPermission(DBUtilsCore.scala:147)\n\tat com.databricks.backend.daemon.dbutils.FSUtils.$anonfun$mv$1(DBUtilsCore.scala:412)\n\tat com.databricks.logging.UsageLogging.$anonfun$recordOperation$1(UsageLogging.scala:527)\n\tat com.databricks.logging.UsageLogging.executeThunkAndCaptureResultTags$1(UsageLogging.scala:631)\n\tat com.databricks.logging.UsageLogging.$anonfun$recordOperationWithResultTags$4(UsageLogging.scala:651)\n\tat com.databricks.logging.AttributionContextTracing.$anonfun$withAttributionContext$1(AttributionContextTracing.scala:48)\n\tat com.databricks.logging.AttributionContext$.$anonfun$withValue$1(AttributionContext.scala:276)\n\tat scala.util.DynamicVariable.withValue(DynamicVariable.scala:62)\n\tat com.databricks.logging.AttributionContext$.withValue(AttributionContext.scala:272)\n\tat com.databricks.logging.AttributionContextTracing.withAttributionContext(AttributionContextTracing.scala:46)\n\tat com.databricks.logging.AttributionContextTracing.withAttributionContext$(AttributionContextTracing.scala:43)\n\tat com.databricks.backend.daemon.dbutils.FSUtils.withAttributionContext(DBUtilsCore.scala:74)\n\tat com.databricks.logging.AttributionContextTracing.withAttributionTags(AttributionContextTracing.scala:95)\n\tat com.databricks.logging.AttributionContextTracing.withAttributionTags$(AttributionContextTracing.scala:76)\n\tat com.databricks.backend.daemon.dbutils.FSUtils.withAttributionTags(DBUtilsCore.scala:74)\n\tat com.databricks.logging.UsageLogging.recordOperationWithResultTags(UsageLogging.scala:626)\n\tat com.databricks.logging.UsageLogging.recordOperationWithResultTags$(UsageLogging.scala:536)\n\tat com.databricks.backend.daemon.dbutils.FSUtils.recordOperationWithResultTags(DBUtilsCore.scala:74)\n\tat com.databricks.logging.UsageLogging.recordOperation(UsageLogging.scala:528)\n\tat com.databricks.logging.UsageLogging.recordOperation$(UsageLogging.scala:496)\n\tat com.databricks.backend.daemon.dbutils.FSUtils.recordOperation(DBUtilsCore.scala:74)\n\tat com.databricks.backend.daemon.dbutils.FSUtils.recordDbutilsFsOp(DBUtilsCore.scala:138)\n\tat com.databricks.backend.daemon.dbutils.FSUtils.mv(DBUtilsCore.scala:411)\n\tat sun.reflect.NativeMethodAccessorImpl.invoke0(Native Method)\n\tat sun.reflect.NativeMethodAccessorImpl.invoke(NativeMethodAccessorImpl.java:62)\n\tat sun.reflect.DelegatingMethodAccessorImpl.invoke(DelegatingMethodAccessorImpl.java:43)\n\tat java.lang.reflect.Method.invoke(Method.java:498)\n\tat py4j.reflection.MethodInvoker.invoke(MethodInvoker.java:244)\n\tat py4j.reflection.ReflectionEngine.invoke(ReflectionEngine.java:397)\n\tat py4j.Gateway.invoke(Gateway.java:306)\n\tat py4j.commands.AbstractCommand.invokeMethod(AbstractCommand.java:132)\n\tat py4j.commands.CallCommand.execute(CallCommand.java:79)\n\tat py4j.ClientServerConnection.waitForCommands(ClientServerConnection.java:199)\n\tat py4j.ClientServerConnection.run(ClientServerConnection.java:119)\n\tat java.lang.Thread.run(Thread.java:750)\n"
       },
       "metadata": {
        "errorSummary": "Command skipped"
       },
       "removedWidgets": [],
       "sqlProps": null,
       "stackFrames": [
        "\u001B[0;31m---------------------------------------------------------------------------\u001B[0m",
        "\u001B[0;31mExecutionError\u001B[0m                            Traceback (most recent call last)",
        "File \u001B[0;32m<command-632148721269157>, line 31\u001B[0m\n\u001B[1;32m     29\u001B[0m \u001B[38;5;66;03m# Now, move the entire output directory to a new name\u001B[39;00m\n\u001B[1;32m     30\u001B[0m new_directory_path \u001B[38;5;241m=\u001B[39m \u001B[38;5;124mf\u001B[39m\u001B[38;5;124m\"\u001B[39m\u001B[38;5;124mdbfs:/mnt/pos_data_testing/test-date-processed-output/\u001B[39m\u001B[38;5;132;01m{\u001B[39;00mcurrent_date_value\u001B[38;5;132;01m}\u001B[39;00m\u001B[38;5;124m/output_file_temp\u001B[39m\u001B[38;5;124m\"\u001B[39m\n\u001B[0;32m---> 31\u001B[0m dbutils\u001B[38;5;241m.\u001B[39mfs\u001B[38;5;241m.\u001B[39mmv(destination_path_csv, new_directory_path, recurse\u001B[38;5;241m=\u001B[39m\u001B[38;5;28;01mTrue\u001B[39;00m)\n\u001B[1;32m     33\u001B[0m \u001B[38;5;66;03m# Rename part files within the new directory to the custom file name\u001B[39;00m\n\u001B[1;32m     34\u001B[0m part_files \u001B[38;5;241m=\u001B[39m dbutils\u001B[38;5;241m.\u001B[39mfs\u001B[38;5;241m.\u001B[39mls(new_directory_path)\n",
        "File \u001B[0;32m/databricks/python_shell/dbruntime/dbutils.py:158\u001B[0m, in \u001B[0;36mprettify_exception_message.<locals>.f_with_exception_handling\u001B[0;34m(*args, **kwargs)\u001B[0m\n\u001B[1;32m    156\u001B[0m exc\u001B[38;5;241m.\u001B[39m__context__ \u001B[38;5;241m=\u001B[39m \u001B[38;5;28;01mNone\u001B[39;00m\n\u001B[1;32m    157\u001B[0m exc\u001B[38;5;241m.\u001B[39m__cause__ \u001B[38;5;241m=\u001B[39m \u001B[38;5;28;01mNone\u001B[39;00m\n\u001B[0;32m--> 158\u001B[0m \u001B[38;5;28;01mraise\u001B[39;00m exc\n",
        "\u001B[0;31mExecutionError\u001B[0m: An error occurred while calling o698.mv.\n: java.io.IOException: Non-recursive delete of non-empty directory /test-date-processed-output/2024-09-26/output_file\n\tat shaded.databricks.org.apache.hadoop.fs.azure.NativeAzureFileSystem.deleteWithInstrumentation(NativeAzureFileSystem.java:2266)\n\tat shaded.databricks.org.apache.hadoop.fs.azure.NativeAzureFileSystem.delete(NativeAzureFileSystem.java:2026)\n\tat shaded.databricks.org.apache.hadoop.fs.azure.NativeAzureFileSystem.delete(NativeAzureFileSystem.java:1999)\n\tat com.databricks.common.filesystem.LokiFileSystem.delete(LokiFileSystem.scala:310)\n\tat com.databricks.backend.daemon.data.client.DatabricksFileSystemV2.$anonfun$delete$3(DatabricksFileSystemV2.scala:1118)\n\tat scala.runtime.java8.JFunction0$mcZ$sp.apply(JFunction0$mcZ$sp.java:23)\n\tat com.databricks.s3a.S3AExceptionUtils$.convertAWSExceptionToJavaIOException(DatabricksStreamUtils.scala:66)\n\tat com.databricks.backend.daemon.data.client.DatabricksFileSystemV2.$anonfun$delete$2(DatabricksFileSystemV2.scala:1116)\n\tat scala.runtime.java8.JFunction0$mcZ$sp.apply(JFunction0$mcZ$sp.java:23)\n\tat com.databricks.backend.daemon.data.client.DatabricksFileSystemV2.$anonfun$withUserContextRecorded$2(DatabricksFileSystemV2.scala:1376)\n\tat com.databricks.logging.AttributionContextTracing.$anonfun$withAttributionContext$1(AttributionContextTracing.scala:48)\n\tat com.databricks.logging.AttributionContext$.$anonfun$withValue$1(AttributionContext.scala:276)\n\tat scala.util.DynamicVariable.withValue(DynamicVariable.scala:62)\n\tat com.databricks.logging.AttributionContext$.withValue(AttributionContext.scala:272)\n\tat com.databricks.logging.AttributionContextTracing.withAttributionContext(AttributionContextTracing.scala:46)\n\tat com.databricks.logging.AttributionContextTracing.withAttributionContext$(AttributionContextTracing.scala:43)\n\tat com.databricks.backend.daemon.data.client.DatabricksFileSystemV2.withAttributionContext(DatabricksFileSystemV2.scala:741)\n\tat com.databricks.logging.AttributionContextTracing.withAttributionTags(AttributionContextTracing.scala:95)\n\tat com.databricks.logging.AttributionContextTracing.withAttributionTags$(AttributionContextTracing.scala:76)\n\tat com.databricks.backend.daemon.data.client.DatabricksFileSystemV2.withAttributionTags(DatabricksFileSystemV2.scala:741)\n\tat com.databricks.backend.daemon.data.client.DatabricksFileSystemV2.withUserContextRecorded(DatabricksFileSystemV2.scala:1349)\n\tat com.databricks.backend.daemon.data.client.DatabricksFileSystemV2.$anonfun$delete$1(DatabricksFileSystemV2.scala:1114)\n\tat scala.runtime.java8.JFunction0$mcZ$sp.apply(JFunction0$mcZ$sp.java:23)\n\tat com.databricks.logging.UsageLogging.$anonfun$recordOperation$1(UsageLogging.scala:527)\n\tat com.databricks.logging.UsageLogging.executeThunkAndCaptureResultTags$1(UsageLogging.scala:631)\n\tat com.databricks.logging.UsageLogging.$anonfun$recordOperationWithResultTags$4(UsageLogging.scala:651)\n\tat com.databricks.logging.AttributionContextTracing.$anonfun$withAttributionContext$1(AttributionContextTracing.scala:48)\n\tat com.databricks.logging.AttributionContext$.$anonfun$withValue$1(AttributionContext.scala:276)\n\tat scala.util.DynamicVariable.withValue(DynamicVariable.scala:62)\n\tat com.databricks.logging.AttributionContext$.withValue(AttributionContext.scala:272)\n\tat com.databricks.logging.AttributionContextTracing.withAttributionContext(AttributionContextTracing.scala:46)\n\tat com.databricks.logging.AttributionContextTracing.withAttributionContext$(AttributionContextTracing.scala:43)\n\tat com.databricks.backend.daemon.data.client.DatabricksFileSystemV2.withAttributionContext(DatabricksFileSystemV2.scala:741)\n\tat com.databricks.logging.AttributionContextTracing.withAttributionTags(AttributionContextTracing.scala:95)\n\tat com.databricks.logging.AttributionContextTracing.withAttributionTags$(AttributionContextTracing.scala:76)\n\tat com.databricks.backend.daemon.data.client.DatabricksFileSystemV2.withAttributionTags(DatabricksFileSystemV2.scala:741)\n\tat com.databricks.logging.UsageLogging.recordOperationWithResultTags(UsageLogging.scala:626)\n\tat com.databricks.logging.UsageLogging.recordOperationWithResultTags$(UsageLogging.scala:536)\n\tat com.databricks.backend.daemon.data.client.DatabricksFileSystemV2.recordOperationWithResultTags(DatabricksFileSystemV2.scala:741)\n\tat com.databricks.logging.UsageLogging.recordOperation(UsageLogging.scala:528)\n\tat com.databricks.logging.UsageLogging.recordOperation$(UsageLogging.scala:496)\n\tat com.databricks.backend.daemon.data.client.DatabricksFileSystemV2.recordOperation(DatabricksFileSystemV2.scala:741)\n\tat com.databricks.backend.daemon.data.client.DatabricksFileSystemV2.delete(DatabricksFileSystemV2.scala:1110)\n\tat com.databricks.backend.daemon.data.client.DatabricksFileSystem.delete(DatabricksFileSystem.scala:157)\n\tat com.databricks.backend.daemon.dbutils.FSUtils.cpRecursive(DBUtilsCore.scala:459)\n\tat com.databricks.backend.daemon.dbutils.FSUtils.$anonfun$mv$3(DBUtilsCore.scala:415)\n\tat com.databricks.backend.daemon.dbutils.FSUtils.$anonfun$withMvSafetyChecks$2(DBUtilsCore.scala:230)\n\tat com.databricks.backend.daemon.dbutils.FSUtils.withFsSafetyCheck(DBUtilsCore.scala:152)\n\tat com.databricks.backend.daemon.dbutils.FSUtils.$anonfun$withMvSafetyChecks$1(DBUtilsCore.scala:184)\n\tat com.databricks.backend.daemon.dbutils.FSUtils.withFsSafetyCheck(DBUtilsCore.scala:152)\n\tat com.databricks.backend.daemon.dbutils.FSUtils.withMvSafetyChecks(DBUtilsCore.scala:184)\n\tat com.databricks.backend.daemon.dbutils.FSUtils.$anonfun$mv$2(DBUtilsCore.scala:412)\n\tat com.databricks.backend.daemon.dbutils.FSUtils.checkPermission(DBUtilsCore.scala:147)\n\tat com.databricks.backend.daemon.dbutils.FSUtils.$anonfun$mv$1(DBUtilsCore.scala:412)\n\tat com.databricks.logging.UsageLogging.$anonfun$recordOperation$1(UsageLogging.scala:527)\n\tat com.databricks.logging.UsageLogging.executeThunkAndCaptureResultTags$1(UsageLogging.scala:631)\n\tat com.databricks.logging.UsageLogging.$anonfun$recordOperationWithResultTags$4(UsageLogging.scala:651)\n\tat com.databricks.logging.AttributionContextTracing.$anonfun$withAttributionContext$1(AttributionContextTracing.scala:48)\n\tat com.databricks.logging.AttributionContext$.$anonfun$withValue$1(AttributionContext.scala:276)\n\tat scala.util.DynamicVariable.withValue(DynamicVariable.scala:62)\n\tat com.databricks.logging.AttributionContext$.withValue(AttributionContext.scala:272)\n\tat com.databricks.logging.AttributionContextTracing.withAttributionContext(AttributionContextTracing.scala:46)\n\tat com.databricks.logging.AttributionContextTracing.withAttributionContext$(AttributionContextTracing.scala:43)\n\tat com.databricks.backend.daemon.dbutils.FSUtils.withAttributionContext(DBUtilsCore.scala:74)\n\tat com.databricks.logging.AttributionContextTracing.withAttributionTags(AttributionContextTracing.scala:95)\n\tat com.databricks.logging.AttributionContextTracing.withAttributionTags$(AttributionContextTracing.scala:76)\n\tat com.databricks.backend.daemon.dbutils.FSUtils.withAttributionTags(DBUtilsCore.scala:74)\n\tat com.databricks.logging.UsageLogging.recordOperationWithResultTags(UsageLogging.scala:626)\n\tat com.databricks.logging.UsageLogging.recordOperationWithResultTags$(UsageLogging.scala:536)\n\tat com.databricks.backend.daemon.dbutils.FSUtils.recordOperationWithResultTags(DBUtilsCore.scala:74)\n\tat com.databricks.logging.UsageLogging.recordOperation(UsageLogging.scala:528)\n\tat com.databricks.logging.UsageLogging.recordOperation$(UsageLogging.scala:496)\n\tat com.databricks.backend.daemon.dbutils.FSUtils.recordOperation(DBUtilsCore.scala:74)\n\tat com.databricks.backend.daemon.dbutils.FSUtils.recordDbutilsFsOp(DBUtilsCore.scala:138)\n\tat com.databricks.backend.daemon.dbutils.FSUtils.mv(DBUtilsCore.scala:411)\n\tat sun.reflect.NativeMethodAccessorImpl.invoke0(Native Method)\n\tat sun.reflect.NativeMethodAccessorImpl.invoke(NativeMethodAccessorImpl.java:62)\n\tat sun.reflect.DelegatingMethodAccessorImpl.invoke(DelegatingMethodAccessorImpl.java:43)\n\tat java.lang.reflect.Method.invoke(Method.java:498)\n\tat py4j.reflection.MethodInvoker.invoke(MethodInvoker.java:244)\n\tat py4j.reflection.ReflectionEngine.invoke(ReflectionEngine.java:397)\n\tat py4j.Gateway.invoke(Gateway.java:306)\n\tat py4j.commands.AbstractCommand.invokeMethod(AbstractCommand.java:132)\n\tat py4j.commands.CallCommand.execute(CallCommand.java:79)\n\tat py4j.ClientServerConnection.waitForCommands(ClientServerConnection.java:199)\n\tat py4j.ClientServerConnection.run(ClientServerConnection.java:119)\n\tat java.lang.Thread.run(Thread.java:750)\n"
       ],
       "type": "baseError"
      }
     },
     "output_type": "display_data"
    }
   ],
   "source": [
    "# %sql\n",
    "# TRUNCATE TABLE project_adb.postest.final_cat_kpi_test2"
   ]
  }
 ],
 "metadata": {
  "application/vnd.databricks.v1+notebook": {
   "dashboards": [],
   "environmentMetadata": null,
   "language": "python",
   "notebookMetadata": {
    "mostRecentlyExecutedCommandWithImplicitDF": {
     "commandId": 632148721269155,
     "dataframes": [
      "_sqldf"
     ]
    },
    "pythonIndentUnit": 4
   },
   "notebookName": "Category_upsert_test",
   "widgets": {}
  }
 },
 "nbformat": 4,
 "nbformat_minor": 0
}
