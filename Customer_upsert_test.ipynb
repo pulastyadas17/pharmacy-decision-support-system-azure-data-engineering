{
 "cells": [
  {
   "cell_type": "code",
   "execution_count": 0,
   "metadata": {
    "application/vnd.databricks.v1+cell": {
     "cellMetadata": {
      "byteLimit": 2048000,
      "rowLimit": 10000
     },
     "inputWidgets": {},
     "nuid": "2621eb6d-ad15-4f60-a130-ce10812e50b5",
     "showTitle": false,
     "title": ""
    }
   },
   "outputs": [],
   "source": [
    "from pyspark.sql import SparkSession\n",
    "from pyspark.dbutils import DBUtils\n",
    "from datetime import datetime\n",
    "from pyspark.sql.functions import *\n",
    "from pyspark.sql.types import *\n",
    "spark=SparkSession.builder.appName(\"PROJECT\").getOrCreate()"
   ]
  },
  {
   "cell_type": "code",
   "execution_count": 0,
   "metadata": {
    "application/vnd.databricks.v1+cell": {
     "cellMetadata": {
      "byteLimit": 2048000,
      "rowLimit": 10000
     },
     "inputWidgets": {},
     "nuid": "2479e466-cee5-40d2-be3e-f52b520dfd42",
     "showTitle": false,
     "title": ""
    }
   },
   "outputs": [],
   "source": [
    "import logging\n",
    "from pyspark.sql import SparkSession\n",
    "from pyspark.dbutils import DBUtils\n",
    "from datetime import datetime\n",
    "from pyspark.sql.functions import *\n",
    "from pyspark.sql.types import *\n",
    "spark=SparkSession.builder.appName(\"POS_Daily_Transaction_File_Processing\").getOrCreate()"
   ]
  },
  {
   "cell_type": "code",
   "execution_count": 0,
   "metadata": {
    "application/vnd.databricks.v1+cell": {
     "cellMetadata": {
      "byteLimit": 2048000,
      "rowLimit": 10000
     },
     "inputWidgets": {},
     "nuid": "0b512da7-ee0c-4e4f-b62d-37977e699685",
     "showTitle": false,
     "title": ""
    }
   },
   "outputs": [
    {
     "output_type": "stream",
     "name": "stdout",
     "output_type": "stream",
     "text": [
      "Mount point /mnt/pos_data_testing already exists. No action taken.\n"
     ]
    }
   ],
   "source": [
    "# Function to check if mountpoint exists\n",
    "\n",
    "def mount_exists(mount_point):\n",
    "    mounts = [mount.mountPoint for mount in dbutils.fs.mounts()]\n",
    "    return mount_point in mounts\n",
    "\n",
    "\n",
    "# Define the mount point and storage details\n",
    "\n",
    "mount_point=\"/mnt/pos_data_testing\"\n",
    "storage_account_name=\"pharmacydata2024\"\n",
    "container_name=\"test\"\n",
    "sas_token=\"DECBZEPbRnh8pmQGIHIRyH9QpredTuDf6nlHoQOn8pHqb1YBPzBHDrvo1uKIojLYh226lFaNS62B+AStdZxCCw==\"\n",
    "\n",
    "\n",
    "# Only create the mount if it doesn't already exist\n",
    "\n",
    "if not mount_exists(mount_point):\n",
    "    print(f\"Mount point {mount_point} does not exist,creating mount.\")\n",
    "\n",
    "    dbutils.fs.mount(\n",
    "        source = f\"wasbs://{container_name}@{storage_account_name}.blob.core.windows.net\",\n",
    "        mount_point=mount_point,\n",
    "        extra_configs={\"fs.azure.account.key.pharmacydata2024.blob.core.windows.net\":sas_token}\n",
    "    )\n",
    "    \n",
    "    print(f\"Mount point {mount_point} created successfully.\")\n",
    "else:\n",
    "    print(f\"Mount point {mount_point} already exists. No action taken.\")\n"
   ]
  },
  {
   "cell_type": "code",
   "execution_count": 0,
   "metadata": {
    "application/vnd.databricks.v1+cell": {
     "cellMetadata": {
      "byteLimit": 2048000,
      "rowLimit": 10000
     },
     "inputWidgets": {},
     "nuid": "78f4b110-7f65-46d0-9bc3-95a21382cef9",
     "showTitle": false,
     "title": ""
    }
   },
   "outputs": [
    {
     "output_type": "execute_result",
     "data": {
      "text/plain": [
       "[FileInfo(path='dbfs:/mnt/pos_data_testing/POS_Sales_Data_2024_demo_testing1.csv', name='POS_Sales_Data_2024_demo_testing1.csv', size=1054, modificationTime=1727337016000),\n",
       " FileInfo(path='dbfs:/mnt/pos_data_testing/test-date-processed-output/', name='test-date-processed-output/', size=0, modificationTime=0)]"
      ]
     },
     "execution_count": 41,
     "metadata": {},
     "output_type": "execute_result"
    }
   ],
   "source": [
    "dbutils.fs.ls(mount_point)"
   ]
  },
  {
   "cell_type": "code",
   "execution_count": 0,
   "metadata": {
    "application/vnd.databricks.v1+cell": {
     "cellMetadata": {
      "byteLimit": 2048000,
      "implicitDf": true,
      "rowLimit": 10000
     },
     "inputWidgets": {},
     "nuid": "4adc5e66-3b9f-41da-9f7b-2609f48a9ef4",
     "showTitle": false,
     "title": ""
    }
   },
   "outputs": [
    {
     "output_type": "display_data",
     "data": {
      "text/html": [
       "<style scoped>\n",
       "  .table-result-container {\n",
       "    max-height: 300px;\n",
       "    overflow: auto;\n",
       "  }\n",
       "  table, th, td {\n",
       "    border: 1px solid black;\n",
       "    border-collapse: collapse;\n",
       "  }\n",
       "  th, td {\n",
       "    padding: 5px;\n",
       "  }\n",
       "  th {\n",
       "    text-align: left;\n",
       "  }\n",
       "</style><div class='table-result-container'><table class='table-result'><thead style='background-color: white'><tr></tr></thead><tbody></tbody></table></div>"
      ]
     },
     "metadata": {
      "application/vnd.databricks.v1+output": {
       "addedWidgets": {},
       "aggData": [],
       "aggError": "",
       "aggOverflow": false,
       "aggSchema": [],
       "aggSeriesLimitReached": false,
       "aggType": "",
       "arguments": {},
       "columnCustomDisplayInfos": {},
       "data": [],
       "datasetInfos": [],
       "dbfsResultPath": null,
       "isJsonSchema": true,
       "metadata": {
        "dataframeName": null
       },
       "overflow": false,
       "plotOptions": {
        "customPlotOptions": {},
        "displayType": "table",
        "pivotAggregation": null,
        "pivotColumns": null,
        "xColumns": null,
        "yColumns": null
       },
       "removedWidgets": [],
       "schema": [],
       "type": "table"
      }
     },
     "output_type": "display_data"
    }
   ],
   "source": [
    "%sql\n",
    "CREATE DATABASE IF NOT EXISTS postest"
   ]
  },
  {
   "cell_type": "code",
   "execution_count": 0,
   "metadata": {
    "application/vnd.databricks.v1+cell": {
     "cellMetadata": {
      "byteLimit": 2048000,
      "implicitDf": true,
      "rowLimit": 10000
     },
     "inputWidgets": {},
     "nuid": "9fe387d6-998c-4b15-8700-7bbcb2e6fc12",
     "showTitle": false,
     "title": ""
    }
   },
   "outputs": [
    {
     "output_type": "display_data",
     "data": {
      "text/html": [
       "<style scoped>\n",
       "  .table-result-container {\n",
       "    max-height: 300px;\n",
       "    overflow: auto;\n",
       "  }\n",
       "  table, th, td {\n",
       "    border: 1px solid black;\n",
       "    border-collapse: collapse;\n",
       "  }\n",
       "  th, td {\n",
       "    padding: 5px;\n",
       "  }\n",
       "  th {\n",
       "    text-align: left;\n",
       "  }\n",
       "</style><div class='table-result-container'><table class='table-result'><thead style='background-color: white'><tr></tr></thead><tbody></tbody></table></div>"
      ]
     },
     "metadata": {
      "application/vnd.databricks.v1+output": {
       "addedWidgets": {},
       "aggData": [],
       "aggError": "",
       "aggOverflow": false,
       "aggSchema": [],
       "aggSeriesLimitReached": false,
       "aggType": "",
       "arguments": {},
       "columnCustomDisplayInfos": {},
       "data": [],
       "datasetInfos": [],
       "dbfsResultPath": null,
       "isJsonSchema": true,
       "metadata": {
        "dataframeName": null
       },
       "overflow": false,
       "plotOptions": {
        "customPlotOptions": {},
        "displayType": "table",
        "pivotAggregation": null,
        "pivotColumns": null,
        "xColumns": null,
        "yColumns": null
       },
       "removedWidgets": [],
       "schema": [],
       "type": "table"
      }
     },
     "output_type": "display_data"
    }
   ],
   "source": [
    "%sql\n",
    "CREATE TABLE IF NOT EXISTS project_adb.postest.final_customer_kpi_test2 (\n",
    "  CustomerID STRING,\n",
    "  TotalSpending DOUBLE,\n",
    "  TotalTransactions BIGINT,\n",
    "  AvgSpendingPerTransaction DOUBLE,\n",
    "  UniqueStores BIGINT,\n",
    "  RetainedStatus BIGINT,\n",
    "  RetentionRate DOUBLE,\n",
    "  Jan2024 DOUBLE,\n",
    "  Feb2024 DOUBLE,\n",
    "  Mar2024 DOUBLE,\n",
    "  Apr2024 DOUBLE,\n",
    "  May2024 DOUBLE,\n",
    "  Jun2024 DOUBLE,\n",
    "  Jul2024 DOUBLE,\n",
    "  Aug2024 DOUBLE,\n",
    "  Sep2024 DOUBLE,\n",
    "  Oct2024 DOUBLE,\n",
    "  Nov2024 DOUBLE,\n",
    "  Dec2024 DOUBLE,\n",
    "  TopStoreLocation STRING,\n",
    "  TopStoreSpending DOUBLE\n",
    ") \n",
    "USING DELTA;\n"
   ]
  },
  {
   "cell_type": "code",
   "execution_count": 0,
   "metadata": {
    "application/vnd.databricks.v1+cell": {
     "cellMetadata": {
      "byteLimit": 2048000,
      "implicitDf": true,
      "rowLimit": 10000
     },
     "inputWidgets": {},
     "nuid": "034f2707-252a-4ca0-82de-338ac427b626",
     "showTitle": false,
     "title": ""
    }
   },
   "outputs": [
    {
     "output_type": "display_data",
     "data": {
      "text/html": [
       "<style scoped>\n",
       "  .table-result-container {\n",
       "    max-height: 300px;\n",
       "    overflow: auto;\n",
       "  }\n",
       "  table, th, td {\n",
       "    border: 1px solid black;\n",
       "    border-collapse: collapse;\n",
       "  }\n",
       "  th, td {\n",
       "    padding: 5px;\n",
       "  }\n",
       "  th {\n",
       "    text-align: left;\n",
       "  }\n",
       "</style><div class='table-result-container'><table class='table-result'><thead style='background-color: white'><tr><th>CustomerID</th><th>TotalSpending</th><th>TotalTransactions</th><th>AvgSpendingPerTransaction</th><th>UniqueStores</th><th>RetainedStatus</th><th>RetentionRate</th><th>Jan2024</th><th>Feb2024</th><th>Mar2024</th><th>Apr2024</th><th>May2024</th><th>Jun2024</th><th>Jul2024</th><th>Aug2024</th><th>Sep2024</th><th>Oct2024</th><th>Nov2024</th><th>Dec2024</th><th>TopStoreLocation</th><th>TopStoreSpending</th></tr></thead><tbody></tbody></table></div>"
      ]
     },
     "metadata": {
      "application/vnd.databricks.v1+output": {
       "addedWidgets": {},
       "aggData": [],
       "aggError": "",
       "aggOverflow": false,
       "aggSchema": [],
       "aggSeriesLimitReached": false,
       "aggType": "",
       "arguments": {},
       "columnCustomDisplayInfos": {},
       "data": [],
       "datasetInfos": [],
       "dbfsResultPath": null,
       "isJsonSchema": true,
       "metadata": {
        "createTempViewForImplicitDf": true,
        "dataframeName": "_sqldf",
        "executionCount": 42
       },
       "overflow": false,
       "plotOptions": {
        "customPlotOptions": {},
        "displayType": "table",
        "pivotAggregation": null,
        "pivotColumns": null,
        "xColumns": null,
        "yColumns": null
       },
       "removedWidgets": [],
       "schema": [
        {
         "metadata": "{}",
         "name": "CustomerID",
         "type": "\"string\""
        },
        {
         "metadata": "{}",
         "name": "TotalSpending",
         "type": "\"double\""
        },
        {
         "metadata": "{}",
         "name": "TotalTransactions",
         "type": "\"long\""
        },
        {
         "metadata": "{}",
         "name": "AvgSpendingPerTransaction",
         "type": "\"double\""
        },
        {
         "metadata": "{}",
         "name": "UniqueStores",
         "type": "\"long\""
        },
        {
         "metadata": "{}",
         "name": "RetainedStatus",
         "type": "\"long\""
        },
        {
         "metadata": "{}",
         "name": "RetentionRate",
         "type": "\"double\""
        },
        {
         "metadata": "{}",
         "name": "Jan2024",
         "type": "\"double\""
        },
        {
         "metadata": "{}",
         "name": "Feb2024",
         "type": "\"double\""
        },
        {
         "metadata": "{}",
         "name": "Mar2024",
         "type": "\"double\""
        },
        {
         "metadata": "{}",
         "name": "Apr2024",
         "type": "\"double\""
        },
        {
         "metadata": "{}",
         "name": "May2024",
         "type": "\"double\""
        },
        {
         "metadata": "{}",
         "name": "Jun2024",
         "type": "\"double\""
        },
        {
         "metadata": "{}",
         "name": "Jul2024",
         "type": "\"double\""
        },
        {
         "metadata": "{}",
         "name": "Aug2024",
         "type": "\"double\""
        },
        {
         "metadata": "{}",
         "name": "Sep2024",
         "type": "\"double\""
        },
        {
         "metadata": "{}",
         "name": "Oct2024",
         "type": "\"double\""
        },
        {
         "metadata": "{}",
         "name": "Nov2024",
         "type": "\"double\""
        },
        {
         "metadata": "{}",
         "name": "Dec2024",
         "type": "\"double\""
        },
        {
         "metadata": "{}",
         "name": "TopStoreLocation",
         "type": "\"string\""
        },
        {
         "metadata": "{}",
         "name": "TopStoreSpending",
         "type": "\"double\""
        }
       ],
       "type": "table"
      }
     },
     "output_type": "display_data"
    }
   ],
   "source": [
    "%sql\n",
    "SELECT * FROM project_adb.postest.final_customer_kpi_test2;"
   ]
  },
  {
   "cell_type": "code",
   "execution_count": 0,
   "metadata": {
    "application/vnd.databricks.v1+cell": {
     "cellMetadata": {
      "byteLimit": 2048000,
      "implicitDf": true,
      "rowLimit": 10000
     },
     "inputWidgets": {},
     "nuid": "973e7885-613c-4d21-8252-2fcc7d76190e",
     "showTitle": false,
     "title": ""
    }
   },
   "outputs": [
    {
     "output_type": "display_data",
     "data": {
      "text/html": [
       "<style scoped>\n",
       "  .table-result-container {\n",
       "    max-height: 300px;\n",
       "    overflow: auto;\n",
       "  }\n",
       "  table, th, td {\n",
       "    border: 1px solid black;\n",
       "    border-collapse: collapse;\n",
       "  }\n",
       "  th, td {\n",
       "    padding: 5px;\n",
       "  }\n",
       "  th {\n",
       "    text-align: left;\n",
       "  }\n",
       "</style><div class='table-result-container'><table class='table-result'><thead style='background-color: white'><tr><th>PREV_COUNT</th></tr></thead><tbody><tr><td>0</td></tr></tbody></table></div>"
      ]
     },
     "metadata": {
      "application/vnd.databricks.v1+output": {
       "addedWidgets": {},
       "aggData": [],
       "aggError": "",
       "aggOverflow": false,
       "aggSchema": [],
       "aggSeriesLimitReached": false,
       "aggType": "",
       "arguments": {},
       "columnCustomDisplayInfos": {},
       "data": [
        [
         0
        ]
       ],
       "datasetInfos": [],
       "dbfsResultPath": null,
       "isJsonSchema": true,
       "metadata": {
        "createTempViewForImplicitDf": true,
        "dataframeName": "_sqldf",
        "executionCount": 43
       },
       "overflow": false,
       "plotOptions": {
        "customPlotOptions": {},
        "displayType": "table",
        "pivotAggregation": null,
        "pivotColumns": null,
        "xColumns": null,
        "yColumns": null
       },
       "removedWidgets": [],
       "schema": [
        {
         "metadata": "{}",
         "name": "PREV_COUNT",
         "type": "\"long\""
        }
       ],
       "type": "table"
      }
     },
     "output_type": "display_data"
    }
   ],
   "source": [
    "%sql\n",
    "SELECT count(*) AS PREV_COUNT FROM project_adb.postest.final_customer_kpi_test2"
   ]
  },
  {
   "cell_type": "code",
   "execution_count": 0,
   "metadata": {
    "application/vnd.databricks.v1+cell": {
     "cellMetadata": {
      "byteLimit": 2048000,
      "implicitDf": true,
      "rowLimit": 10000
     },
     "inputWidgets": {},
     "nuid": "fe4171af-cabe-4d6b-ba47-11467c6ad164",
     "showTitle": false,
     "title": ""
    }
   },
   "outputs": [
    {
     "output_type": "display_data",
     "data": {
      "text/html": [
       "<style scoped>\n",
       "  .table-result-container {\n",
       "    max-height: 300px;\n",
       "    overflow: auto;\n",
       "  }\n",
       "  table, th, td {\n",
       "    border: 1px solid black;\n",
       "    border-collapse: collapse;\n",
       "  }\n",
       "  th, td {\n",
       "    padding: 5px;\n",
       "  }\n",
       "  th {\n",
       "    text-align: left;\n",
       "  }\n",
       "</style><div class='table-result-container'><table class='table-result'><thead style='background-color: white'><tr><th>num_affected_rows</th><th>num_inserted_rows</th></tr></thead><tbody><tr><td>2</td><td>2</td></tr></tbody></table></div>"
      ]
     },
     "metadata": {
      "application/vnd.databricks.v1+output": {
       "addedWidgets": {},
       "aggData": [],
       "aggError": "",
       "aggOverflow": false,
       "aggSchema": [],
       "aggSeriesLimitReached": false,
       "aggType": "",
       "arguments": {},
       "columnCustomDisplayInfos": {},
       "data": [
        [
         2,
         2
        ]
       ],
       "datasetInfos": [],
       "dbfsResultPath": null,
       "isJsonSchema": true,
       "metadata": {
        "createTempViewForImplicitDf": true,
        "dataframeName": "_sqldf",
        "executionCount": 44
       },
       "overflow": false,
       "plotOptions": {
        "customPlotOptions": {},
        "displayType": "table",
        "pivotAggregation": null,
        "pivotColumns": null,
        "xColumns": null,
        "yColumns": null
       },
       "removedWidgets": [],
       "schema": [
        {
         "metadata": "{}",
         "name": "num_affected_rows",
         "type": "\"long\""
        },
        {
         "metadata": "{}",
         "name": "num_inserted_rows",
         "type": "\"long\""
        }
       ],
       "type": "table"
      }
     },
     "output_type": "display_data"
    }
   ],
   "source": [
    "%sql\n",
    "INSERT INTO project_adb.postest.final_customer_kpi_test2\n",
    "VALUES \n",
    "('U021',85.89,1,1,85.89,0,0,NULL,NULL,NULL,NULL,NULL,85.89,NULL,NULL,NULL,NULL,NULL,NULL,'San Jose',85.89\n",
    "),\n",
    "('U097',124.91,1,1,124.91,0,0,NULL,NULL,NULL,NULL,NULL,NULL,NULL,124.91,NULL,NULL,NULL,NULL,'San Antonio',124.91\n",
    ");\n"
   ]
  },
  {
   "cell_type": "code",
   "execution_count": 0,
   "metadata": {
    "application/vnd.databricks.v1+cell": {
     "cellMetadata": {
      "byteLimit": 2048000,
      "implicitDf": true,
      "rowLimit": 10000
     },
     "inputWidgets": {},
     "nuid": "e0a82f6e-185c-4817-bd20-08b8c4dae929",
     "showTitle": false,
     "title": ""
    }
   },
   "outputs": [
    {
     "output_type": "display_data",
     "data": {
      "text/html": [
       "<style scoped>\n",
       "  .table-result-container {\n",
       "    max-height: 300px;\n",
       "    overflow: auto;\n",
       "  }\n",
       "  table, th, td {\n",
       "    border: 1px solid black;\n",
       "    border-collapse: collapse;\n",
       "  }\n",
       "  th, td {\n",
       "    padding: 5px;\n",
       "  }\n",
       "  th {\n",
       "    text-align: left;\n",
       "  }\n",
       "</style><div class='table-result-container'><table class='table-result'><thead style='background-color: white'><tr><th>CustomerID</th><th>TotalSpending</th><th>TotalTransactions</th><th>AvgSpendingPerTransaction</th><th>UniqueStores</th><th>RetainedStatus</th><th>RetentionRate</th><th>Jan2024</th><th>Feb2024</th><th>Mar2024</th><th>Apr2024</th><th>May2024</th><th>Jun2024</th><th>Jul2024</th><th>Aug2024</th><th>Sep2024</th><th>Oct2024</th><th>Nov2024</th><th>Dec2024</th><th>TopStoreLocation</th><th>TopStoreSpending</th></tr></thead><tbody><tr><td>U021</td><td>85.89</td><td>1</td><td>1.0</td><td>85</td><td>0</td><td>0.0</td><td>null</td><td>null</td><td>null</td><td>null</td><td>null</td><td>85.89</td><td>null</td><td>null</td><td>null</td><td>null</td><td>null</td><td>null</td><td>San Jose</td><td>85.89</td></tr><tr><td>U097</td><td>124.91</td><td>1</td><td>1.0</td><td>124</td><td>0</td><td>0.0</td><td>null</td><td>null</td><td>null</td><td>null</td><td>null</td><td>null</td><td>null</td><td>124.91</td><td>null</td><td>null</td><td>null</td><td>null</td><td>San Antonio</td><td>124.91</td></tr></tbody></table></div>"
      ]
     },
     "metadata": {
      "application/vnd.databricks.v1+output": {
       "addedWidgets": {},
       "aggData": [],
       "aggError": "",
       "aggOverflow": false,
       "aggSchema": [],
       "aggSeriesLimitReached": false,
       "aggType": "",
       "arguments": {},
       "columnCustomDisplayInfos": {},
       "data": [
        [
         "U021",
         85.89,
         1,
         1.0,
         85,
         0,
         0.0,
         null,
         null,
         null,
         null,
         null,
         85.89,
         null,
         null,
         null,
         null,
         null,
         null,
         "San Jose",
         85.89
        ],
        [
         "U097",
         124.91,
         1,
         1.0,
         124,
         0,
         0.0,
         null,
         null,
         null,
         null,
         null,
         null,
         null,
         124.91,
         null,
         null,
         null,
         null,
         "San Antonio",
         124.91
        ]
       ],
       "datasetInfos": [],
       "dbfsResultPath": null,
       "isJsonSchema": true,
       "metadata": {
        "createTempViewForImplicitDf": true,
        "dataframeName": "_sqldf",
        "executionCount": 45
       },
       "overflow": false,
       "plotOptions": {
        "customPlotOptions": {},
        "displayType": "table",
        "pivotAggregation": null,
        "pivotColumns": null,
        "xColumns": null,
        "yColumns": null
       },
       "removedWidgets": [],
       "schema": [
        {
         "metadata": "{}",
         "name": "CustomerID",
         "type": "\"string\""
        },
        {
         "metadata": "{}",
         "name": "TotalSpending",
         "type": "\"double\""
        },
        {
         "metadata": "{}",
         "name": "TotalTransactions",
         "type": "\"long\""
        },
        {
         "metadata": "{}",
         "name": "AvgSpendingPerTransaction",
         "type": "\"double\""
        },
        {
         "metadata": "{}",
         "name": "UniqueStores",
         "type": "\"long\""
        },
        {
         "metadata": "{}",
         "name": "RetainedStatus",
         "type": "\"long\""
        },
        {
         "metadata": "{}",
         "name": "RetentionRate",
         "type": "\"double\""
        },
        {
         "metadata": "{}",
         "name": "Jan2024",
         "type": "\"double\""
        },
        {
         "metadata": "{}",
         "name": "Feb2024",
         "type": "\"double\""
        },
        {
         "metadata": "{}",
         "name": "Mar2024",
         "type": "\"double\""
        },
        {
         "metadata": "{}",
         "name": "Apr2024",
         "type": "\"double\""
        },
        {
         "metadata": "{}",
         "name": "May2024",
         "type": "\"double\""
        },
        {
         "metadata": "{}",
         "name": "Jun2024",
         "type": "\"double\""
        },
        {
         "metadata": "{}",
         "name": "Jul2024",
         "type": "\"double\""
        },
        {
         "metadata": "{}",
         "name": "Aug2024",
         "type": "\"double\""
        },
        {
         "metadata": "{}",
         "name": "Sep2024",
         "type": "\"double\""
        },
        {
         "metadata": "{}",
         "name": "Oct2024",
         "type": "\"double\""
        },
        {
         "metadata": "{}",
         "name": "Nov2024",
         "type": "\"double\""
        },
        {
         "metadata": "{}",
         "name": "Dec2024",
         "type": "\"double\""
        },
        {
         "metadata": "{}",
         "name": "TopStoreLocation",
         "type": "\"string\""
        },
        {
         "metadata": "{}",
         "name": "TopStoreSpending",
         "type": "\"double\""
        }
       ],
       "type": "table"
      }
     },
     "output_type": "display_data"
    }
   ],
   "source": [
    "%sql\n",
    "SELECT * FROM project_adb.postest.final_customer_kpi_test2"
   ]
  },
  {
   "cell_type": "code",
   "execution_count": 0,
   "metadata": {
    "application/vnd.databricks.v1+cell": {
     "cellMetadata": {
      "byteLimit": 2048000,
      "rowLimit": 10000
     },
     "inputWidgets": {},
     "nuid": "6b40f605-bee1-424e-a21e-8c634cbd6e10",
     "showTitle": false,
     "title": ""
    }
   },
   "outputs": [
    {
     "output_type": "display_data",
     "data": {
      "text/html": [
       "<style scoped>\n",
       "  .table-result-container {\n",
       "    max-height: 300px;\n",
       "    overflow: auto;\n",
       "  }\n",
       "  table, th, td {\n",
       "    border: 1px solid black;\n",
       "    border-collapse: collapse;\n",
       "  }\n",
       "  th, td {\n",
       "    padding: 5px;\n",
       "  }\n",
       "  th {\n",
       "    text-align: left;\n",
       "  }\n",
       "</style><div class='table-result-container'><table class='table-result'><thead style='background-color: white'><tr><th>TransactionID</th><th>StoreID</th><th>StoreLocation</th><th>CashierID</th><th>CustomerID</th><th>CustomerAge</th><th>CustomerGender</th><th>ProductID</th><th>ProductCategory</th><th>ProductName</th><th>Quantity</th><th>UnitPrice</th><th>Timestamp</th><th>TotalAmount</th><th>DiscountApplied</th><th>TaxAmount</th><th>TotalAmountAfterTax</th></tr></thead><tbody><tr><td>T00140</td><td>S001</td><td>San Jose</td><td>C002</td><td>U021</td><td>50</td><td>Female</td><td>P014</td><td>AIDS Treatment (Prescription)</td><td>Diazepam</td><td>5</td><td>30.0</td><td>04-07-2024 02:33</td><td>150.0</td><td>50.0</td><td>10.0</td><td>110.0</td></tr><tr><td>T0015</td><td>S007</td><td>New York City</td><td>C003</td><td>U037</td><td>36</td><td>Male</td><td>P041</td><td>Cardiovascular Diseases (Prescription)</td><td>Lisinopril</td><td>1</td><td>238.14</td><td>12-07-2024 00:16</td><td>238.14</td><td>29.24</td><td>16.6698</td><td>225.5698</td></tr><tr><td>T0016</td><td>S009</td><td>Chicago</td><td>C005</td><td>U009</td><td>41</td><td>Male</td><td>P005</td><td>Antibiotics (Prescription)</td><td>Ciprofloxacin</td><td>4</td><td>121.95</td><td>23-07-2024 18:28</td><td>487.8</td><td>10.21</td><td>34.146</td><td>511.736</td></tr><tr><td>T0017</td><td>S008</td><td>Phoenix</td><td>C004</td><td>U039</td><td>58</td><td>Female</td><td>P010</td><td>Bone Health (OTC & Prescription)</td><td>Cisplatin</td><td>2</td><td>94.82</td><td>10-06-2024 11:59</td><td>189.64</td><td>14.22</td><td>13.2748</td><td>188.6948</td></tr><tr><td>T0018</td><td>S010</td><td>San Jose</td><td>C005</td><td>U059</td><td>36</td><td>Female</td><td>P027</td><td>Eye Health (OTC & Prescription)</td><td>Vitamin D</td><td>2</td><td>142.14</td><td>24-06-2024 07:49</td><td>284.28</td><td>37.58</td><td>19.8996</td><td>266.5996</td></tr><tr><td>T0019</td><td>S005</td><td>Philadelphia</td><td>C005</td><td>U065</td><td>53</td><td>Female</td><td>P008</td><td>Diabetes (Prescription & OTC)</td><td>Olopatadine</td><td>4</td><td>203.3</td><td>19-07-2024 01:52</td><td>813.2</td><td>0.01</td><td>56.924</td><td>870.114</td></tr></tbody></table></div>"
      ]
     },
     "metadata": {
      "application/vnd.databricks.v1+output": {
       "addedWidgets": {},
       "aggData": [],
       "aggError": "",
       "aggOverflow": false,
       "aggSchema": [],
       "aggSeriesLimitReached": false,
       "aggType": "",
       "arguments": {},
       "columnCustomDisplayInfos": {},
       "data": [
        [
         "T00140",
         "S001",
         "San Jose",
         "C002",
         "U021",
         50,
         "Female",
         "P014",
         "AIDS Treatment (Prescription)",
         "Diazepam",
         5,
         30.0,
         "04-07-2024 02:33",
         150.0,
         50.0,
         10.0,
         110.0
        ],
        [
         "T0015",
         "S007",
         "New York City",
         "C003",
         "U037",
         36,
         "Male",
         "P041",
         "Cardiovascular Diseases (Prescription)",
         "Lisinopril",
         1,
         238.14,
         "12-07-2024 00:16",
         238.14,
         29.24,
         16.6698,
         225.5698
        ],
        [
         "T0016",
         "S009",
         "Chicago",
         "C005",
         "U009",
         41,
         "Male",
         "P005",
         "Antibiotics (Prescription)",
         "Ciprofloxacin",
         4,
         121.95,
         "23-07-2024 18:28",
         487.8,
         10.21,
         34.146,
         511.736
        ],
        [
         "T0017",
         "S008",
         "Phoenix",
         "C004",
         "U039",
         58,
         "Female",
         "P010",
         "Bone Health (OTC & Prescription)",
         "Cisplatin",
         2,
         94.82,
         "10-06-2024 11:59",
         189.64,
         14.22,
         13.2748,
         188.6948
        ],
        [
         "T0018",
         "S010",
         "San Jose",
         "C005",
         "U059",
         36,
         "Female",
         "P027",
         "Eye Health (OTC & Prescription)",
         "Vitamin D",
         2,
         142.14,
         "24-06-2024 07:49",
         284.28,
         37.58,
         19.8996,
         266.5996
        ],
        [
         "T0019",
         "S005",
         "Philadelphia",
         "C005",
         "U065",
         53,
         "Female",
         "P008",
         "Diabetes (Prescription & OTC)",
         "Olopatadine",
         4,
         203.3,
         "19-07-2024 01:52",
         813.2,
         0.01,
         56.924,
         870.114
        ]
       ],
       "datasetInfos": [],
       "dbfsResultPath": null,
       "isJsonSchema": true,
       "metadata": {},
       "overflow": false,
       "plotOptions": {
        "customPlotOptions": {},
        "displayType": "table",
        "pivotAggregation": null,
        "pivotColumns": null,
        "xColumns": null,
        "yColumns": null
       },
       "removedWidgets": [],
       "schema": [
        {
         "metadata": "{}",
         "name": "TransactionID",
         "type": "\"string\""
        },
        {
         "metadata": "{}",
         "name": "StoreID",
         "type": "\"string\""
        },
        {
         "metadata": "{}",
         "name": "StoreLocation",
         "type": "\"string\""
        },
        {
         "metadata": "{}",
         "name": "CashierID",
         "type": "\"string\""
        },
        {
         "metadata": "{}",
         "name": "CustomerID",
         "type": "\"string\""
        },
        {
         "metadata": "{}",
         "name": "CustomerAge",
         "type": "\"integer\""
        },
        {
         "metadata": "{}",
         "name": "CustomerGender",
         "type": "\"string\""
        },
        {
         "metadata": "{}",
         "name": "ProductID",
         "type": "\"string\""
        },
        {
         "metadata": "{}",
         "name": "ProductCategory",
         "type": "\"string\""
        },
        {
         "metadata": "{}",
         "name": "ProductName",
         "type": "\"string\""
        },
        {
         "metadata": "{}",
         "name": "Quantity",
         "type": "\"integer\""
        },
        {
         "metadata": "{}",
         "name": "UnitPrice",
         "type": "\"double\""
        },
        {
         "metadata": "{}",
         "name": "Timestamp",
         "type": "\"string\""
        },
        {
         "metadata": "{}",
         "name": "TotalAmount",
         "type": "\"double\""
        },
        {
         "metadata": "{}",
         "name": "DiscountApplied",
         "type": "\"double\""
        },
        {
         "metadata": "{}",
         "name": "TaxAmount",
         "type": "\"double\""
        },
        {
         "metadata": "{}",
         "name": "TotalAmountAfterTax",
         "type": "\"double\""
        }
       ],
       "type": "table"
      }
     },
     "output_type": "display_data"
    }
   ],
   "source": [
    "pos_daily_file=\"/mnt/pos_data_testing/POS_Sales_Data_2024_demo_testing1.csv\"\n",
    "pos_daily_file_test=spark.read.format(\"csv\").option(\"header\",\"true\").option(\"inferSchema\",\"true\").load(pos_daily_file)\n",
    "display(pos_daily_file_test)"
   ]
  },
  {
   "cell_type": "code",
   "execution_count": 0,
   "metadata": {
    "application/vnd.databricks.v1+cell": {
     "cellMetadata": {
      "byteLimit": 2048000,
      "rowLimit": 10000
     },
     "inputWidgets": {},
     "nuid": "277f142c-d165-49ee-aded-51dd6d9e9842",
     "showTitle": false,
     "title": ""
    }
   },
   "outputs": [
    {
     "output_type": "display_data",
     "data": {
      "text/html": [
       "<style scoped>\n",
       "  .table-result-container {\n",
       "    max-height: 300px;\n",
       "    overflow: auto;\n",
       "  }\n",
       "  table, th, td {\n",
       "    border: 1px solid black;\n",
       "    border-collapse: collapse;\n",
       "  }\n",
       "  th, td {\n",
       "    padding: 5px;\n",
       "  }\n",
       "  th {\n",
       "    text-align: left;\n",
       "  }\n",
       "</style><div class='table-result-container'><table class='table-result'><thead style='background-color: white'><tr><th>TransactionID</th><th>StoreID</th><th>StoreLocation</th><th>CashierID</th><th>CustomerID</th><th>CustomerAge</th><th>CustomerGender</th><th>ProductID</th><th>ProductCategory</th><th>ProductName</th><th>Quantity</th><th>UnitPrice</th><th>Timestamp</th><th>TotalAmount</th><th>DiscountApplied</th><th>TaxAmount</th><th>TotalAmountAfterTax</th></tr></thead><tbody><tr><td>T00140</td><td>S001</td><td>San Jose</td><td>C002</td><td>U021</td><td>50</td><td>Female</td><td>P014</td><td>AIDS Treatment (Prescription)</td><td>Diazepam</td><td>5</td><td>30.0</td><td>04-07-2024 02:33</td><td>150.0</td><td>50.0</td><td>10.0</td><td>110.0</td></tr><tr><td>T0015</td><td>S007</td><td>New York City</td><td>C003</td><td>U037</td><td>36</td><td>Male</td><td>P041</td><td>Cardiovascular Diseases (Prescription)</td><td>Lisinopril</td><td>1</td><td>238.14</td><td>12-07-2024 00:16</td><td>238.14</td><td>29.24</td><td>16.6698</td><td>225.5698</td></tr><tr><td>T0016</td><td>S009</td><td>Chicago</td><td>C005</td><td>U009</td><td>41</td><td>Male</td><td>P005</td><td>Antibiotics (Prescription)</td><td>Ciprofloxacin</td><td>4</td><td>121.95</td><td>23-07-2024 18:28</td><td>487.8</td><td>10.21</td><td>34.146</td><td>511.736</td></tr><tr><td>T0017</td><td>S008</td><td>Phoenix</td><td>C004</td><td>U039</td><td>58</td><td>Female</td><td>P010</td><td>Bone Health (OTC & Prescription)</td><td>Cisplatin</td><td>2</td><td>94.82</td><td>10-06-2024 11:59</td><td>189.64</td><td>14.22</td><td>13.2748</td><td>188.6948</td></tr><tr><td>T0018</td><td>S010</td><td>San Jose</td><td>C005</td><td>U059</td><td>36</td><td>Female</td><td>P027</td><td>Eye Health (OTC & Prescription)</td><td>Vitamin D</td><td>2</td><td>142.14</td><td>24-06-2024 07:49</td><td>284.28</td><td>37.58</td><td>19.8996</td><td>266.5996</td></tr><tr><td>T0019</td><td>S005</td><td>Philadelphia</td><td>C005</td><td>U065</td><td>53</td><td>Female</td><td>P008</td><td>Diabetes (Prescription & OTC)</td><td>Olopatadine</td><td>4</td><td>203.3</td><td>19-07-2024 01:52</td><td>813.2</td><td>0.01</td><td>56.924</td><td>870.114</td></tr></tbody></table></div>"
      ]
     },
     "metadata": {
      "application/vnd.databricks.v1+output": {
       "addedWidgets": {},
       "aggData": [],
       "aggError": "",
       "aggOverflow": false,
       "aggSchema": [],
       "aggSeriesLimitReached": false,
       "aggType": "",
       "arguments": {},
       "columnCustomDisplayInfos": {},
       "data": [
        [
         "T00140",
         "S001",
         "San Jose",
         "C002",
         "U021",
         50,
         "Female",
         "P014",
         "AIDS Treatment (Prescription)",
         "Diazepam",
         5,
         30.0,
         "04-07-2024 02:33",
         150.0,
         50.0,
         10.0,
         110.0
        ],
        [
         "T0015",
         "S007",
         "New York City",
         "C003",
         "U037",
         36,
         "Male",
         "P041",
         "Cardiovascular Diseases (Prescription)",
         "Lisinopril",
         1,
         238.14,
         "12-07-2024 00:16",
         238.14,
         29.24,
         16.6698,
         225.5698
        ],
        [
         "T0016",
         "S009",
         "Chicago",
         "C005",
         "U009",
         41,
         "Male",
         "P005",
         "Antibiotics (Prescription)",
         "Ciprofloxacin",
         4,
         121.95,
         "23-07-2024 18:28",
         487.8,
         10.21,
         34.146,
         511.736
        ],
        [
         "T0017",
         "S008",
         "Phoenix",
         "C004",
         "U039",
         58,
         "Female",
         "P010",
         "Bone Health (OTC & Prescription)",
         "Cisplatin",
         2,
         94.82,
         "10-06-2024 11:59",
         189.64,
         14.22,
         13.2748,
         188.6948
        ],
        [
         "T0018",
         "S010",
         "San Jose",
         "C005",
         "U059",
         36,
         "Female",
         "P027",
         "Eye Health (OTC & Prescription)",
         "Vitamin D",
         2,
         142.14,
         "24-06-2024 07:49",
         284.28,
         37.58,
         19.8996,
         266.5996
        ],
        [
         "T0019",
         "S005",
         "Philadelphia",
         "C005",
         "U065",
         53,
         "Female",
         "P008",
         "Diabetes (Prescription & OTC)",
         "Olopatadine",
         4,
         203.3,
         "19-07-2024 01:52",
         813.2,
         0.01,
         56.924,
         870.114
        ]
       ],
       "datasetInfos": [],
       "dbfsResultPath": null,
       "isJsonSchema": true,
       "metadata": {},
       "overflow": false,
       "plotOptions": {
        "customPlotOptions": {},
        "displayType": "table",
        "pivotAggregation": null,
        "pivotColumns": null,
        "xColumns": null,
        "yColumns": null
       },
       "removedWidgets": [],
       "schema": [
        {
         "metadata": "{}",
         "name": "TransactionID",
         "type": "\"string\""
        },
        {
         "metadata": "{}",
         "name": "StoreID",
         "type": "\"string\""
        },
        {
         "metadata": "{}",
         "name": "StoreLocation",
         "type": "\"string\""
        },
        {
         "metadata": "{}",
         "name": "CashierID",
         "type": "\"string\""
        },
        {
         "metadata": "{}",
         "name": "CustomerID",
         "type": "\"string\""
        },
        {
         "metadata": "{}",
         "name": "CustomerAge",
         "type": "\"integer\""
        },
        {
         "metadata": "{}",
         "name": "CustomerGender",
         "type": "\"string\""
        },
        {
         "metadata": "{}",
         "name": "ProductID",
         "type": "\"string\""
        },
        {
         "metadata": "{}",
         "name": "ProductCategory",
         "type": "\"string\""
        },
        {
         "metadata": "{}",
         "name": "ProductName",
         "type": "\"string\""
        },
        {
         "metadata": "{}",
         "name": "Quantity",
         "type": "\"integer\""
        },
        {
         "metadata": "{}",
         "name": "UnitPrice",
         "type": "\"double\""
        },
        {
         "metadata": "{}",
         "name": "Timestamp",
         "type": "\"string\""
        },
        {
         "metadata": "{}",
         "name": "TotalAmount",
         "type": "\"double\""
        },
        {
         "metadata": "{}",
         "name": "DiscountApplied",
         "type": "\"double\""
        },
        {
         "metadata": "{}",
         "name": "TaxAmount",
         "type": "\"double\""
        },
        {
         "metadata": "{}",
         "name": "TotalAmountAfterTax",
         "type": "\"double\""
        }
       ],
       "type": "table"
      }
     },
     "output_type": "display_data"
    }
   ],
   "source": [
    "df_pos_daily_file=pos_daily_file_test.dropna()\n",
    "display(df_pos_daily_file)"
   ]
  },
  {
   "cell_type": "code",
   "execution_count": 0,
   "metadata": {
    "application/vnd.databricks.v1+cell": {
     "cellMetadata": {
      "byteLimit": 2048000,
      "rowLimit": 10000
     },
     "inputWidgets": {},
     "nuid": "2cb7723a-d49e-4ab0-aee4-018720d0ebe1",
     "showTitle": false,
     "title": ""
    }
   },
   "outputs": [
    {
     "output_type": "display_data",
     "data": {
      "text/html": [
       "<style scoped>\n",
       "  .table-result-container {\n",
       "    max-height: 300px;\n",
       "    overflow: auto;\n",
       "  }\n",
       "  table, th, td {\n",
       "    border: 1px solid black;\n",
       "    border-collapse: collapse;\n",
       "  }\n",
       "  th, td {\n",
       "    padding: 5px;\n",
       "  }\n",
       "  th {\n",
       "    text-align: left;\n",
       "  }\n",
       "</style><div class='table-result-container'><table class='table-result'><thead style='background-color: white'><tr><th>CustomerID</th><th>TotalSpending</th><th>TotalTransactions</th><th>UniqueStores</th><th>AvgSpendingPerTransaction</th><th>RetainedStatus</th><th>RetentionRate</th><th>Jan2024</th><th>Feb2024</th><th>Mar2024</th><th>Apr2024</th><th>May2024</th><th>Jun2024</th><th>Jul2024</th><th>Aug2024</th><th>Sep2024</th><th>Oct2024</th><th>Nov2024</th><th>Dec2024</th><th>TopStoreLocation</th><th>TopStoreSpending</th></tr></thead><tbody><tr><td>U021</td><td>150.0</td><td>1</td><td>1</td><td>150.0</td><td>0</td><td>0.0</td><td>null</td><td>null</td><td>null</td><td>null</td><td>null</td><td>null</td><td>150.0</td><td>null</td><td>null</td><td>null</td><td>null</td><td>null</td><td>San Jose</td><td>150.0</td></tr><tr><td>U039</td><td>189.64</td><td>1</td><td>1</td><td>189.64</td><td>0</td><td>0.0</td><td>null</td><td>null</td><td>null</td><td>null</td><td>null</td><td>189.64</td><td>null</td><td>null</td><td>null</td><td>null</td><td>null</td><td>null</td><td>Phoenix</td><td>189.64</td></tr><tr><td>U037</td><td>238.14</td><td>1</td><td>1</td><td>238.14</td><td>0</td><td>0.0</td><td>null</td><td>null</td><td>null</td><td>null</td><td>null</td><td>null</td><td>238.14</td><td>null</td><td>null</td><td>null</td><td>null</td><td>null</td><td>New York City</td><td>238.14</td></tr><tr><td>U059</td><td>284.28</td><td>1</td><td>1</td><td>284.28</td><td>0</td><td>0.0</td><td>null</td><td>null</td><td>null</td><td>null</td><td>null</td><td>284.28</td><td>null</td><td>null</td><td>null</td><td>null</td><td>null</td><td>null</td><td>San Jose</td><td>284.28</td></tr><tr><td>U009</td><td>487.8</td><td>1</td><td>1</td><td>487.8</td><td>0</td><td>0.0</td><td>null</td><td>null</td><td>null</td><td>null</td><td>null</td><td>null</td><td>487.8</td><td>null</td><td>null</td><td>null</td><td>null</td><td>null</td><td>Chicago</td><td>487.8</td></tr><tr><td>U065</td><td>813.2</td><td>1</td><td>1</td><td>813.2</td><td>0</td><td>0.0</td><td>null</td><td>null</td><td>null</td><td>null</td><td>null</td><td>null</td><td>813.2</td><td>null</td><td>null</td><td>null</td><td>null</td><td>null</td><td>Philadelphia</td><td>813.2</td></tr></tbody></table></div>"
      ]
     },
     "metadata": {
      "application/vnd.databricks.v1+output": {
       "addedWidgets": {},
       "aggData": [],
       "aggError": "",
       "aggOverflow": false,
       "aggSchema": [],
       "aggSeriesLimitReached": false,
       "aggType": "",
       "arguments": {},
       "columnCustomDisplayInfos": {},
       "data": [
        [
         "U021",
         150.0,
         1,
         1,
         150.0,
         0,
         0.0,
         null,
         null,
         null,
         null,
         null,
         null,
         150.0,
         null,
         null,
         null,
         null,
         null,
         "San Jose",
         150.0
        ],
        [
         "U039",
         189.64,
         1,
         1,
         189.64,
         0,
         0.0,
         null,
         null,
         null,
         null,
         null,
         189.64,
         null,
         null,
         null,
         null,
         null,
         null,
         "Phoenix",
         189.64
        ],
        [
         "U037",
         238.14,
         1,
         1,
         238.14,
         0,
         0.0,
         null,
         null,
         null,
         null,
         null,
         null,
         238.14,
         null,
         null,
         null,
         null,
         null,
         "New York City",
         238.14
        ],
        [
         "U059",
         284.28,
         1,
         1,
         284.28,
         0,
         0.0,
         null,
         null,
         null,
         null,
         null,
         284.28,
         null,
         null,
         null,
         null,
         null,
         null,
         "San Jose",
         284.28
        ],
        [
         "U009",
         487.8,
         1,
         1,
         487.8,
         0,
         0.0,
         null,
         null,
         null,
         null,
         null,
         null,
         487.8,
         null,
         null,
         null,
         null,
         null,
         "Chicago",
         487.8
        ],
        [
         "U065",
         813.2,
         1,
         1,
         813.2,
         0,
         0.0,
         null,
         null,
         null,
         null,
         null,
         null,
         813.2,
         null,
         null,
         null,
         null,
         null,
         "Philadelphia",
         813.2
        ]
       ],
       "datasetInfos": [],
       "dbfsResultPath": null,
       "isJsonSchema": true,
       "metadata": {},
       "overflow": false,
       "plotOptions": {
        "customPlotOptions": {},
        "displayType": "table",
        "pivotAggregation": null,
        "pivotColumns": null,
        "xColumns": null,
        "yColumns": null
       },
       "removedWidgets": [],
       "schema": [
        {
         "metadata": "{}",
         "name": "CustomerID",
         "type": "\"string\""
        },
        {
         "metadata": "{}",
         "name": "TotalSpending",
         "type": "\"double\""
        },
        {
         "metadata": "{}",
         "name": "TotalTransactions",
         "type": "\"long\""
        },
        {
         "metadata": "{}",
         "name": "UniqueStores",
         "type": "\"long\""
        },
        {
         "metadata": "{}",
         "name": "AvgSpendingPerTransaction",
         "type": "\"double\""
        },
        {
         "metadata": "{}",
         "name": "RetainedStatus",
         "type": "\"long\""
        },
        {
         "metadata": "{}",
         "name": "RetentionRate",
         "type": "\"double\""
        },
        {
         "metadata": "{}",
         "name": "Jan2024",
         "type": "\"double\""
        },
        {
         "metadata": "{}",
         "name": "Feb2024",
         "type": "\"double\""
        },
        {
         "metadata": "{}",
         "name": "Mar2024",
         "type": "\"double\""
        },
        {
         "metadata": "{}",
         "name": "Apr2024",
         "type": "\"double\""
        },
        {
         "metadata": "{}",
         "name": "May2024",
         "type": "\"double\""
        },
        {
         "metadata": "{}",
         "name": "Jun2024",
         "type": "\"double\""
        },
        {
         "metadata": "{}",
         "name": "Jul2024",
         "type": "\"double\""
        },
        {
         "metadata": "{}",
         "name": "Aug2024",
         "type": "\"double\""
        },
        {
         "metadata": "{}",
         "name": "Sep2024",
         "type": "\"double\""
        },
        {
         "metadata": "{}",
         "name": "Oct2024",
         "type": "\"double\""
        },
        {
         "metadata": "{}",
         "name": "Nov2024",
         "type": "\"double\""
        },
        {
         "metadata": "{}",
         "name": "Dec2024",
         "type": "\"double\""
        },
        {
         "metadata": "{}",
         "name": "TopStoreLocation",
         "type": "\"string\""
        },
        {
         "metadata": "{}",
         "name": "TopStoreSpending",
         "type": "\"double\""
        }
       ],
       "type": "table"
      }
     },
     "output_type": "display_data"
    }
   ],
   "source": [
    "from pyspark.sql import SparkSession\n",
    "from pyspark.sql import functions as F\n",
    "from pyspark.sql import Window\n",
    "\n",
    "# Step 1: Convert Timestamp to Date and Extract Month\n",
    "df_with_date = df_pos_daily_file.withColumn(\"Date\", F.to_date(F.col(\"Timestamp\"), \"dd-MM-yyyy HH:mm\")) \\\n",
    "                                .withColumn(\"Month\", F.date_format(F.col(\"Date\"), \"MMM-yyyy\"))  # Extract month in 'MMM-yyyy' format\n",
    "\n",
    "# Step 2: Calculate Total Spending and Number of Transactions by Customer\n",
    "customer_kpi = df_with_date.groupBy(\"CustomerID\") \\\n",
    "    .agg(\n",
    "        F.sum(\"TotalAmount\").alias(\"TotalSpending\"),\n",
    "        F.count(\"TransactionID\").alias(\"TotalTransactions\"),\n",
    "        F.countDistinct(\"StoreLocation\").alias(\"UniqueStores\"),\n",
    "    )\n",
    "\n",
    "# Step 3: Calculate Average Spending Per Transaction\n",
    "customer_kpi = customer_kpi.withColumn(\"AvgSpendingPerTransaction\", \n",
    "                                        F.col(\"TotalSpending\") / F.col(\"TotalTransactions\"))\n",
    "\n",
    "# Step 4: Calculate Retained Customers\n",
    "customer_purchases = df_with_date.groupBy(\"CustomerID\") \\\n",
    "    .agg(F.count(\"TransactionID\").alias(\"TotalPurchases\"))\n",
    "\n",
    "retained_customers = customer_purchases.groupBy(\"CustomerID\") \\\n",
    "    .agg(F.count(F.when(F.col(\"TotalPurchases\") > 1, 1)).alias(\"RetainedStatus\"))\n",
    "\n",
    "# Step 5: Join Retained Status with Customer KPI\n",
    "customer_kpi = customer_kpi.join(retained_customers, \"CustomerID\", \"left\") \\\n",
    "    .fillna(0)\n",
    "\n",
    "# Step 6: Calculate Retention Rate\n",
    "customer_kpi = customer_kpi.withColumn(\"RetentionRate\", \n",
    "                                        (F.col(\"RetainedStatus\") / F.col(\"TotalTransactions\")) * 100)\n",
    "\n",
    "# Step 7: Identify Monthly Spending with Month Mapping\n",
    "# Create month-year columns based on the extracted 'Month' from timestamp\n",
    "monthly_spending = df_with_date.groupBy(\"CustomerID\", \"Month\") \\\n",
    "    .agg(F.sum(\"TotalAmount\").alias(\"MonthlySpending\"))\n",
    "\n",
    "# Step 8: Pivot Monthly Spending to Create Separate Columns with Custom Month Names\n",
    "# Define month names based on the extracted 'Month'\n",
    "monthly_spending_pivot = monthly_spending.groupBy(\"CustomerID\") \\\n",
    "    .pivot(\"Month\", [\"Jan-2024\", \"Feb-2024\", \"Mar-2024\", \"Apr-2024\", \"May-2024\", \"Jun-2024\", \n",
    "                     \"Jul-2024\", \"Aug-2024\", \"Sep-2024\", \"Oct-2024\", \"Nov-2024\", \"Dec-2024\"]) \\\n",
    "    .agg(F.sum(\"MonthlySpending\")) \\\n",
    "    .withColumnRenamed(\"Jan-2024\", \"Jan2024\") \\\n",
    "    .withColumnRenamed(\"Feb-2024\", \"Feb2024\") \\\n",
    "    .withColumnRenamed(\"Mar-2024\", \"Mar2024\") \\\n",
    "    .withColumnRenamed(\"Apr-2024\", \"Apr2024\") \\\n",
    "    .withColumnRenamed(\"May-2024\", \"May2024\") \\\n",
    "    .withColumnRenamed(\"Jun-2024\", \"Jun2024\") \\\n",
    "    .withColumnRenamed(\"Jul-2024\", \"Jul2024\") \\\n",
    "    .withColumnRenamed(\"Aug-2024\", \"Aug2024\") \\\n",
    "    .withColumnRenamed(\"Sep-2024\", \"Sep2024\") \\\n",
    "    .withColumnRenamed(\"Oct-2024\", \"Oct2024\") \\\n",
    "    .withColumnRenamed(\"Nov-2024\", \"Nov2024\") \\\n",
    "    .withColumnRenamed(\"Dec-2024\", \"Dec2024\")\n",
    "\n",
    "# Step 9: Join Pivoted Monthly Spending with Customer KPI\n",
    "final_customer_kpi = customer_kpi.join(monthly_spending_pivot, \"CustomerID\", \"left\")\n",
    "\n",
    "# Step 10: Identify Top Store for Each Customer Based on Spending\n",
    "top_store = df_with_date.groupBy(\"CustomerID\", \"StoreLocation\") \\\n",
    "    .agg(F.sum(\"TotalAmount\").alias(\"StoreSpending\")) \\\n",
    "    .withColumn(\"Rank\", F.row_number().over(Window.partitionBy(\"CustomerID\").orderBy(F.col(\"StoreSpending\").desc()))) \\\n",
    "    .filter(F.col(\"Rank\") == 1) \\\n",
    "    .select(\"CustomerID\", \"StoreLocation\", \"StoreSpending\")\n",
    "\n",
    "# Step 11: Final Join with Top Store\n",
    "df_final_customer_kpi_test3 = final_customer_kpi.join(top_store, \"CustomerID\", \"left\") \\\n",
    "    .withColumnRenamed(\"StoreLocation\", \"TopStoreLocation\") \\\n",
    "    .withColumnRenamed(\"StoreSpending\", \"TopStoreSpending\") \\\n",
    "    .orderBy(\"TotalSpending\", ascending=True)\n",
    "\n",
    "# Show final KPI results with monthly sales columns like Jan2024, Feb2024, etc.\n",
    "df_final_customer_kpi_test3.select(\"CustomerID\", \"TotalSpending\", \"TotalTransactions\", \n",
    "                          \"AvgSpendingPerTransaction\", \"UniqueStores\", \n",
    "                          \"RetainedStatus\", \"RetentionRate\", \n",
    "                          \"Jan2024\", \"Feb2024\", \"Mar2024\", \"Apr2024\", \n",
    "                          \"May2024\", \"Jun2024\", \"Jul2024\", \"Aug2024\", \n",
    "                          \"Sep2024\", \"Oct2024\", \"Nov2024\", \"Dec2024\", \n",
    "                          \"TopStoreLocation\", \"TopStoreSpending\")\n",
    "\n",
    "\n",
    "display(df_final_customer_kpi_test3)\n"
   ]
  },
  {
   "cell_type": "code",
   "execution_count": 0,
   "metadata": {
    "application/vnd.databricks.v1+cell": {
     "cellMetadata": {
      "byteLimit": 2048000,
      "rowLimit": 10000
     },
     "inputWidgets": {},
     "nuid": "2b1e6e43-c351-489a-bd97-c9494665dd5b",
     "showTitle": false,
     "title": ""
    }
   },
   "outputs": [
    {
     "output_type": "display_data",
     "data": {
      "text/html": [
       "<style scoped>\n",
       "  .table-result-container {\n",
       "    max-height: 300px;\n",
       "    overflow: auto;\n",
       "  }\n",
       "  table, th, td {\n",
       "    border: 1px solid black;\n",
       "    border-collapse: collapse;\n",
       "  }\n",
       "  th, td {\n",
       "    padding: 5px;\n",
       "  }\n",
       "  th {\n",
       "    text-align: left;\n",
       "  }\n",
       "</style><div class='table-result-container'><table class='table-result'><thead style='background-color: white'><tr><th>CustomerID</th><th>TotalSpending</th><th>TotalTransactions</th><th>AvgSpendingPerTransaction</th><th>UniqueStores</th><th>RetainedStatus</th><th>RetentionRate</th><th>Jan2024</th><th>Feb2024</th><th>Mar2024</th><th>Apr2024</th><th>May2024</th><th>Jun2024</th><th>Jul2024</th><th>Aug2024</th><th>Sep2024</th><th>Oct2024</th><th>Nov2024</th><th>Dec2024</th><th>TopStoreLocation</th><th>TopStoreSpending</th></tr></thead><tbody><tr><td>U021</td><td>85.89</td><td>1</td><td>1.0</td><td>85</td><td>0</td><td>0.0</td><td>null</td><td>null</td><td>null</td><td>null</td><td>null</td><td>85.89</td><td>null</td><td>null</td><td>null</td><td>null</td><td>null</td><td>null</td><td>San Jose</td><td>85.89</td></tr><tr><td>U097</td><td>124.91</td><td>1</td><td>1.0</td><td>124</td><td>0</td><td>0.0</td><td>null</td><td>null</td><td>null</td><td>null</td><td>null</td><td>null</td><td>null</td><td>124.91</td><td>null</td><td>null</td><td>null</td><td>null</td><td>San Antonio</td><td>124.91</td></tr></tbody></table></div>"
      ]
     },
     "metadata": {
      "application/vnd.databricks.v1+output": {
       "addedWidgets": {},
       "aggData": [],
       "aggError": "",
       "aggOverflow": false,
       "aggSchema": [],
       "aggSeriesLimitReached": false,
       "aggType": "",
       "arguments": {},
       "columnCustomDisplayInfos": {},
       "data": [
        [
         "U021",
         85.89,
         1,
         1.0,
         85,
         0,
         0.0,
         null,
         null,
         null,
         null,
         null,
         85.89,
         null,
         null,
         null,
         null,
         null,
         null,
         "San Jose",
         85.89
        ],
        [
         "U097",
         124.91,
         1,
         1.0,
         124,
         0,
         0.0,
         null,
         null,
         null,
         null,
         null,
         null,
         null,
         124.91,
         null,
         null,
         null,
         null,
         "San Antonio",
         124.91
        ]
       ],
       "datasetInfos": [],
       "dbfsResultPath": null,
       "isJsonSchema": true,
       "metadata": {},
       "overflow": false,
       "plotOptions": {
        "customPlotOptions": {},
        "displayType": "table",
        "pivotAggregation": null,
        "pivotColumns": null,
        "xColumns": null,
        "yColumns": null
       },
       "removedWidgets": [],
       "schema": [
        {
         "metadata": "{}",
         "name": "CustomerID",
         "type": "\"string\""
        },
        {
         "metadata": "{}",
         "name": "TotalSpending",
         "type": "\"double\""
        },
        {
         "metadata": "{}",
         "name": "TotalTransactions",
         "type": "\"long\""
        },
        {
         "metadata": "{}",
         "name": "AvgSpendingPerTransaction",
         "type": "\"double\""
        },
        {
         "metadata": "{}",
         "name": "UniqueStores",
         "type": "\"long\""
        },
        {
         "metadata": "{}",
         "name": "RetainedStatus",
         "type": "\"long\""
        },
        {
         "metadata": "{}",
         "name": "RetentionRate",
         "type": "\"double\""
        },
        {
         "metadata": "{}",
         "name": "Jan2024",
         "type": "\"double\""
        },
        {
         "metadata": "{}",
         "name": "Feb2024",
         "type": "\"double\""
        },
        {
         "metadata": "{}",
         "name": "Mar2024",
         "type": "\"double\""
        },
        {
         "metadata": "{}",
         "name": "Apr2024",
         "type": "\"double\""
        },
        {
         "metadata": "{}",
         "name": "May2024",
         "type": "\"double\""
        },
        {
         "metadata": "{}",
         "name": "Jun2024",
         "type": "\"double\""
        },
        {
         "metadata": "{}",
         "name": "Jul2024",
         "type": "\"double\""
        },
        {
         "metadata": "{}",
         "name": "Aug2024",
         "type": "\"double\""
        },
        {
         "metadata": "{}",
         "name": "Sep2024",
         "type": "\"double\""
        },
        {
         "metadata": "{}",
         "name": "Oct2024",
         "type": "\"double\""
        },
        {
         "metadata": "{}",
         "name": "Nov2024",
         "type": "\"double\""
        },
        {
         "metadata": "{}",
         "name": "Dec2024",
         "type": "\"double\""
        },
        {
         "metadata": "{}",
         "name": "TopStoreLocation",
         "type": "\"string\""
        },
        {
         "metadata": "{}",
         "name": "TopStoreSpending",
         "type": "\"double\""
        }
       ],
       "type": "table"
      }
     },
     "output_type": "display_data"
    }
   ],
   "source": [
    "prev_cust_data_kpi_df_test2=spark.table(\"project_adb.postest.final_customer_kpi_test2\")\n",
    "display(prev_cust_data_kpi_df_test2)"
   ]
  },
  {
   "cell_type": "code",
   "execution_count": 0,
   "metadata": {
    "application/vnd.databricks.v1+cell": {
     "cellMetadata": {
      "byteLimit": 2048000,
      "rowLimit": 10000
     },
     "inputWidgets": {},
     "nuid": "ec206357-3956-49ae-b029-384ab8c31f24",
     "showTitle": false,
     "title": ""
    }
   },
   "outputs": [],
   "source": [
    "from delta.tables import DeltaTable"
   ]
  },
  {
   "cell_type": "code",
   "execution_count": 0,
   "metadata": {
    "application/vnd.databricks.v1+cell": {
     "cellMetadata": {
      "byteLimit": 2048000,
      "rowLimit": 10000
     },
     "inputWidgets": {},
     "nuid": "f438dc9e-a840-410d-9d8d-acd7eb778aa5",
     "showTitle": false,
     "title": ""
    }
   },
   "outputs": [],
   "source": [
    "# Load the existing non-Delta table into a DataFrame\n",
    "df_non_delta2 = spark.table(\"project_adb.postest.final_customer_kpi_test2\")\n",
    "\n",
    "# Overwrite the existing table with Delta format\n",
    "df_non_delta2.write.format(\"delta\").mode(\"overwrite\").saveAsTable(\"project_adb.postest.final_customer_kpi_test2\")\n"
   ]
  },
  {
   "cell_type": "code",
   "execution_count": 0,
   "metadata": {
    "application/vnd.databricks.v1+cell": {
     "cellMetadata": {
      "byteLimit": 2048000,
      "rowLimit": 10000
     },
     "inputWidgets": {},
     "nuid": "6829b5d3-4670-406c-9919-1f4579b81a77",
     "showTitle": false,
     "title": ""
    }
   },
   "outputs": [],
   "source": [
    "target_delta_table=DeltaTable.forName(spark,\"project_adb.postest.final_customer_kpi_test2\")\n",
    "\n",
    "# Perform the merge operation\n",
    "target_delta_table.alias(\"target\").merge(\n",
    "    source=df_final_customer_kpi_test3.alias(\"source\"),\n",
    "    condition=\"target.CustomerID = source.CustomerID\"\n",
    ").whenMatchedUpdate(\n",
    "    set={\n",
    "        \"TotalSpending\": \"target.TotalSpending + source.TotalSpending\",\n",
    "        \"TotalTransactions\": \"target.TotalTransactions + source.TotalTransactions\",\n",
    "        \"AvgSpendingPerTransaction\": \"(target.TotalSpending + source.TotalSpending) / (target.TotalTransactions + source.TotalTransactions)\",\n",
    "        \"UniqueStores\": \"source.UniqueStores\",\n",
    "        \"RetainedStatus\": \"source.RetainedStatus\",\n",
    "        \"RetentionRate\": \"source.RetentionRate\",\n",
    "        \"TopStoreLocation\": \"source.TopStoreLocation\",\n",
    "        \"TopStoreSpending\": \"source.TopStoreSpending\",\n",
    "        # Update monthly spending columns\n",
    "        \"Jan2024\": \"COALESCE(target.Jan2024, 0) + COALESCE(source.Jan2024, 0)\",\n",
    "        \"Feb2024\": \"COALESCE(target.Feb2024, 0) + COALESCE(source.Feb2024, 0)\",\n",
    "        \"Mar2024\": \"COALESCE(target.Mar2024, 0) + COALESCE(source.Mar2024, 0)\",\n",
    "        \"Apr2024\": \"COALESCE(target.Apr2024, 0) + COALESCE(source.Apr2024, 0)\",\n",
    "        \"May2024\": \"COALESCE(target.May2024, 0) + COALESCE(source.May2024, 0)\",\n",
    "        \"Jun2024\": \"COALESCE(target.Jun2024, 0) + COALESCE(source.Jun2024, 0)\",\n",
    "        \"Jul2024\": \"COALESCE(target.Jul2024, 0) + COALESCE(source.Jul2024, 0)\",\n",
    "        \"Aug2024\": \"COALESCE(target.Aug2024, 0) + COALESCE(source.Aug2024, 0)\",\n",
    "        \"Sep2024\": \"COALESCE(target.Sep2024, 0) + COALESCE(source.Sep2024, 0)\",\n",
    "        \"Oct2024\": \"COALESCE(target.Oct2024, 0) + COALESCE(source.Oct2024, 0)\",\n",
    "        \"Nov2024\": \"COALESCE(target.Nov2024, 0) + COALESCE(source.Nov2024, 0)\",\n",
    "        \"Dec2024\": \"COALESCE(target.Dec2024, 0) + COALESCE(source.Dec2024, 0)\",\n",
    "    }\n",
    ").whenNotMatchedInsert(\n",
    "    values={\n",
    "        \"CustomerID\": \"source.CustomerID\",\n",
    "        \"TotalSpending\": \"source.TotalSpending\",\n",
    "        \"TotalTransactions\": \"source.TotalTransactions\",\n",
    "        \"AvgSpendingPerTransaction\": \"source.AvgSpendingPerTransaction\",\n",
    "        \"UniqueStores\": \"source.UniqueStores\",\n",
    "        \"RetainedStatus\": \"source.RetainedStatus\",\n",
    "        \"RetentionRate\": \"source.RetentionRate\",\n",
    "        \"TopStoreLocation\": \"source.TopStoreLocation\",\n",
    "        \"TopStoreSpending\": \"source.TopStoreSpending\",\n",
    "        # Insert monthly spending columns\n",
    "        \"Jan2024\": \"source.Jan2024\",\n",
    "        \"Feb2024\": \"source.Feb2024\",\n",
    "        \"Mar2024\": \"source.Mar2024\",\n",
    "        \"Apr2024\": \"source.Apr2024\",\n",
    "        \"May2024\": \"source.May2024\",\n",
    "        \"Jun2024\": \"source.Jun2024\",\n",
    "        \"Jul2024\": \"source.Jul2024\",\n",
    "        \"Aug2024\": \"source.Aug2024\",\n",
    "        \"Sep2024\": \"source.Sep2024\",\n",
    "        \"Oct2024\": \"source.Oct2024\",\n",
    "        \"Nov2024\": \"source.Nov2024\",\n",
    "        \"Dec2024\": \"source.Dec2024\",\n",
    "    }\n",
    ").execute()\n"
   ]
  },
  {
   "cell_type": "code",
   "execution_count": 0,
   "metadata": {
    "application/vnd.databricks.v1+cell": {
     "cellMetadata": {
      "byteLimit": 2048000,
      "implicitDf": true,
      "rowLimit": 10000
     },
     "inputWidgets": {},
     "nuid": "bcdaef19-f4fa-4d00-a356-a94167f62b9e",
     "showTitle": false,
     "title": ""
    }
   },
   "outputs": [
    {
     "output_type": "display_data",
     "data": {
      "text/html": [
       "<style scoped>\n",
       "  .table-result-container {\n",
       "    max-height: 300px;\n",
       "    overflow: auto;\n",
       "  }\n",
       "  table, th, td {\n",
       "    border: 1px solid black;\n",
       "    border-collapse: collapse;\n",
       "  }\n",
       "  th, td {\n",
       "    padding: 5px;\n",
       "  }\n",
       "  th {\n",
       "    text-align: left;\n",
       "  }\n",
       "</style><div class='table-result-container'><table class='table-result'><thead style='background-color: white'><tr><th>CustomerID</th><th>TotalSpending</th><th>TotalTransactions</th><th>AvgSpendingPerTransaction</th><th>UniqueStores</th><th>RetainedStatus</th><th>RetentionRate</th><th>Jan2024</th><th>Feb2024</th><th>Mar2024</th><th>Apr2024</th><th>May2024</th><th>Jun2024</th><th>Jul2024</th><th>Aug2024</th><th>Sep2024</th><th>Oct2024</th><th>Nov2024</th><th>Dec2024</th><th>TopStoreLocation</th><th>TopStoreSpending</th></tr></thead><tbody><tr><td>U021</td><td>235.89</td><td>2</td><td>117.945</td><td>1</td><td>0</td><td>0.0</td><td>0.0</td><td>0.0</td><td>0.0</td><td>0.0</td><td>0.0</td><td>85.89</td><td>150.0</td><td>0.0</td><td>0.0</td><td>0.0</td><td>0.0</td><td>0.0</td><td>San Jose</td><td>150.0</td></tr><tr><td>U039</td><td>189.64</td><td>1</td><td>189.64</td><td>1</td><td>0</td><td>0.0</td><td>null</td><td>null</td><td>null</td><td>null</td><td>null</td><td>189.64</td><td>null</td><td>null</td><td>null</td><td>null</td><td>null</td><td>null</td><td>Phoenix</td><td>189.64</td></tr><tr><td>U037</td><td>238.14</td><td>1</td><td>238.14</td><td>1</td><td>0</td><td>0.0</td><td>null</td><td>null</td><td>null</td><td>null</td><td>null</td><td>null</td><td>238.14</td><td>null</td><td>null</td><td>null</td><td>null</td><td>null</td><td>New York City</td><td>238.14</td></tr><tr><td>U059</td><td>284.28</td><td>1</td><td>284.28</td><td>1</td><td>0</td><td>0.0</td><td>null</td><td>null</td><td>null</td><td>null</td><td>null</td><td>284.28</td><td>null</td><td>null</td><td>null</td><td>null</td><td>null</td><td>null</td><td>San Jose</td><td>284.28</td></tr><tr><td>U009</td><td>487.8</td><td>1</td><td>487.8</td><td>1</td><td>0</td><td>0.0</td><td>null</td><td>null</td><td>null</td><td>null</td><td>null</td><td>null</td><td>487.8</td><td>null</td><td>null</td><td>null</td><td>null</td><td>null</td><td>Chicago</td><td>487.8</td></tr><tr><td>U065</td><td>813.2</td><td>1</td><td>813.2</td><td>1</td><td>0</td><td>0.0</td><td>null</td><td>null</td><td>null</td><td>null</td><td>null</td><td>null</td><td>813.2</td><td>null</td><td>null</td><td>null</td><td>null</td><td>null</td><td>Philadelphia</td><td>813.2</td></tr><tr><td>U097</td><td>124.91</td><td>1</td><td>1.0</td><td>124</td><td>0</td><td>0.0</td><td>null</td><td>null</td><td>null</td><td>null</td><td>null</td><td>null</td><td>null</td><td>124.91</td><td>null</td><td>null</td><td>null</td><td>null</td><td>San Antonio</td><td>124.91</td></tr></tbody></table></div>"
      ]
     },
     "metadata": {
      "application/vnd.databricks.v1+output": {
       "addedWidgets": {},
       "aggData": [],
       "aggError": "",
       "aggOverflow": false,
       "aggSchema": [],
       "aggSeriesLimitReached": false,
       "aggType": "",
       "arguments": {},
       "columnCustomDisplayInfos": {},
       "data": [
        [
         "U021",
         235.89,
         2,
         117.945,
         1,
         0,
         0.0,
         0.0,
         0.0,
         0.0,
         0.0,
         0.0,
         85.89,
         150.0,
         0.0,
         0.0,
         0.0,
         0.0,
         0.0,
         "San Jose",
         150.0
        ],
        [
         "U039",
         189.64,
         1,
         189.64,
         1,
         0,
         0.0,
         null,
         null,
         null,
         null,
         null,
         189.64,
         null,
         null,
         null,
         null,
         null,
         null,
         "Phoenix",
         189.64
        ],
        [
         "U037",
         238.14,
         1,
         238.14,
         1,
         0,
         0.0,
         null,
         null,
         null,
         null,
         null,
         null,
         238.14,
         null,
         null,
         null,
         null,
         null,
         "New York City",
         238.14
        ],
        [
         "U059",
         284.28,
         1,
         284.28,
         1,
         0,
         0.0,
         null,
         null,
         null,
         null,
         null,
         284.28,
         null,
         null,
         null,
         null,
         null,
         null,
         "San Jose",
         284.28
        ],
        [
         "U009",
         487.8,
         1,
         487.8,
         1,
         0,
         0.0,
         null,
         null,
         null,
         null,
         null,
         null,
         487.8,
         null,
         null,
         null,
         null,
         null,
         "Chicago",
         487.8
        ],
        [
         "U065",
         813.2,
         1,
         813.2,
         1,
         0,
         0.0,
         null,
         null,
         null,
         null,
         null,
         null,
         813.2,
         null,
         null,
         null,
         null,
         null,
         "Philadelphia",
         813.2
        ],
        [
         "U097",
         124.91,
         1,
         1.0,
         124,
         0,
         0.0,
         null,
         null,
         null,
         null,
         null,
         null,
         null,
         124.91,
         null,
         null,
         null,
         null,
         "San Antonio",
         124.91
        ]
       ],
       "datasetInfos": [],
       "dbfsResultPath": null,
       "isJsonSchema": true,
       "metadata": {
        "createTempViewForImplicitDf": true,
        "dataframeName": "_sqldf",
        "executionCount": 53
       },
       "overflow": false,
       "plotOptions": {
        "customPlotOptions": {},
        "displayType": "table",
        "pivotAggregation": null,
        "pivotColumns": null,
        "xColumns": null,
        "yColumns": null
       },
       "removedWidgets": [],
       "schema": [
        {
         "metadata": "{}",
         "name": "CustomerID",
         "type": "\"string\""
        },
        {
         "metadata": "{}",
         "name": "TotalSpending",
         "type": "\"double\""
        },
        {
         "metadata": "{}",
         "name": "TotalTransactions",
         "type": "\"long\""
        },
        {
         "metadata": "{}",
         "name": "AvgSpendingPerTransaction",
         "type": "\"double\""
        },
        {
         "metadata": "{}",
         "name": "UniqueStores",
         "type": "\"long\""
        },
        {
         "metadata": "{}",
         "name": "RetainedStatus",
         "type": "\"long\""
        },
        {
         "metadata": "{}",
         "name": "RetentionRate",
         "type": "\"double\""
        },
        {
         "metadata": "{}",
         "name": "Jan2024",
         "type": "\"double\""
        },
        {
         "metadata": "{}",
         "name": "Feb2024",
         "type": "\"double\""
        },
        {
         "metadata": "{}",
         "name": "Mar2024",
         "type": "\"double\""
        },
        {
         "metadata": "{}",
         "name": "Apr2024",
         "type": "\"double\""
        },
        {
         "metadata": "{}",
         "name": "May2024",
         "type": "\"double\""
        },
        {
         "metadata": "{}",
         "name": "Jun2024",
         "type": "\"double\""
        },
        {
         "metadata": "{}",
         "name": "Jul2024",
         "type": "\"double\""
        },
        {
         "metadata": "{}",
         "name": "Aug2024",
         "type": "\"double\""
        },
        {
         "metadata": "{}",
         "name": "Sep2024",
         "type": "\"double\""
        },
        {
         "metadata": "{}",
         "name": "Oct2024",
         "type": "\"double\""
        },
        {
         "metadata": "{}",
         "name": "Nov2024",
         "type": "\"double\""
        },
        {
         "metadata": "{}",
         "name": "Dec2024",
         "type": "\"double\""
        },
        {
         "metadata": "{}",
         "name": "TopStoreLocation",
         "type": "\"string\""
        },
        {
         "metadata": "{}",
         "name": "TopStoreSpending",
         "type": "\"double\""
        }
       ],
       "type": "table"
      }
     },
     "output_type": "display_data"
    }
   ],
   "source": [
    "%sql\n",
    "SELECT * FROM project_adb.postest.final_customer_kpi_test2"
   ]
  },
  {
   "cell_type": "code",
   "execution_count": 0,
   "metadata": {
    "application/vnd.databricks.v1+cell": {
     "cellMetadata": {
      "byteLimit": 2048000,
      "implicitDf": true,
      "rowLimit": 10000
     },
     "inputWidgets": {},
     "nuid": "35ed4a68-c85f-4c98-ab70-08fceff30ff7",
     "showTitle": false,
     "title": ""
    }
   },
   "outputs": [
    {
     "output_type": "display_data",
     "data": {
      "text/html": [
       "<style scoped>\n",
       "  .table-result-container {\n",
       "    max-height: 300px;\n",
       "    overflow: auto;\n",
       "  }\n",
       "  table, th, td {\n",
       "    border: 1px solid black;\n",
       "    border-collapse: collapse;\n",
       "  }\n",
       "  th, td {\n",
       "    padding: 5px;\n",
       "  }\n",
       "  th {\n",
       "    text-align: left;\n",
       "  }\n",
       "</style><div class='table-result-container'><table class='table-result'><thead style='background-color: white'><tr><th>UPDATED_COUNT</th></tr></thead><tbody><tr><td>7</td></tr></tbody></table></div>"
      ]
     },
     "metadata": {
      "application/vnd.databricks.v1+output": {
       "addedWidgets": {},
       "aggData": [],
       "aggError": "",
       "aggOverflow": false,
       "aggSchema": [],
       "aggSeriesLimitReached": false,
       "aggType": "",
       "arguments": {},
       "columnCustomDisplayInfos": {},
       "data": [
        [
         7
        ]
       ],
       "datasetInfos": [],
       "dbfsResultPath": null,
       "isJsonSchema": true,
       "metadata": {
        "createTempViewForImplicitDf": true,
        "dataframeName": "_sqldf",
        "executionCount": 54
       },
       "overflow": false,
       "plotOptions": {
        "customPlotOptions": {},
        "displayType": "table",
        "pivotAggregation": null,
        "pivotColumns": null,
        "xColumns": null,
        "yColumns": null
       },
       "removedWidgets": [],
       "schema": [
        {
         "metadata": "{}",
         "name": "UPDATED_COUNT",
         "type": "\"long\""
        }
       ],
       "type": "table"
      }
     },
     "output_type": "display_data"
    }
   ],
   "source": [
    "%sql\n",
    "SELECT count(*) AS UPDATED_COUNT FROM project_adb.postest.final_customer_kpi_test2"
   ]
  },
  {
   "cell_type": "code",
   "execution_count": 0,
   "metadata": {
    "application/vnd.databricks.v1+cell": {
     "cellMetadata": {
      "byteLimit": 2048000,
      "rowLimit": 10000
     },
     "inputWidgets": {},
     "nuid": "56287ed1-3986-47fa-965e-5669fbf42db9",
     "showTitle": false,
     "title": ""
    }
   },
   "outputs": [],
   "source": [
    "#Save output file in different file formats with name like 'part-00000' in adls\n",
    "\n",
    "df2=spark.table(\"project_adb.postest.final_customer_kpi_test2\")\n",
    "df2.write.mode(\"overwrite\").format(\"csv\").save(\"/mnt/pos_data_testing/df_customer_filtered.csv\",header=True)"
   ]
  },
  {
   "cell_type": "code",
   "execution_count": 0,
   "metadata": {
    "application/vnd.databricks.v1+cell": {
     "cellMetadata": {
      "byteLimit": 2048000,
      "rowLimit": 10000
     },
     "inputWidgets": {},
     "nuid": "69620ba7-1a9f-417d-a756-a0d86f95c51f",
     "showTitle": false,
     "title": ""
    }
   },
   "outputs": [
    {
     "output_type": "stream",
     "name": "stdout",
     "output_type": "stream",
     "text": [
      "2024-09-26\n"
     ]
    }
   ],
   "source": [
    "from pyspark.sql.functions import current_date\n",
    "\n",
    "# Get the current date in 'yyyy-MM-dd' format\n",
    "current_date_value = spark.sql(\"SELECT date_format(current_date(), 'yyyy-MM-dd')\").collect()[0][0]\n",
    "print(current_date_value)\n",
    "\n",
    "# Create the directory for today's date\n",
    "dbutils.fs.mkdirs(f\"dbfs:/mnt/pos_data_testing/test-date-processed-output-cust/{current_date_value}\")\n",
    "\n",
    "# Define the destination path for saving the DataFrame\n",
    "destination_path_csv = f\"dbfs:/mnt/pos_data_testing/test-date-processed-output-cust/{current_date_value}/output_file\"\n",
    "\n",
    "# Write the DataFrame to CSV\n",
    "df2.write.mode(\"overwrite\").format(\"csv\").save(destination_path_csv, header=True)\n",
    "\n",
    "# List files in the source directory\n",
    "files = dbutils.fs.ls(\"dbfs:/mnt/dss-project-works/project-data/test_output_from_adb/delta-table-test-output/\")\n",
    "\n",
    "# Define custom file name for the copied file\n",
    "custom_file_name = f\"customer_kpi_{current_date_value}.csv\"\n",
    "\n",
    "# Copy the relevant file(s) to the destination directory with the custom name\n",
    "for file in files:\n",
    "    if \"part-00000-tid-\" in file.name:\n",
    "        # Copy the file to the destination with the custom name\n",
    "        dbutils.fs.cp(file.path, f\"dbfs:/mnt/pos_data_testing/test-date-processed-output-cust/{current_date_value}/{custom_file_name}\")\n",
    "        break\n",
    "\n",
    "# Now, move the entire output directory to a new name\n",
    "new_directory_path = f\"dbfs:/mnt/pos_data_testing/test-date-processed-output/{current_date_value}/output_file_temp\"\n",
    "dbutils.fs.mv(destination_path_csv, new_directory_path, recurse=True)\n",
    "\n",
    "# Rename part files within the new directory to the custom file name\n",
    "part_files = dbutils.fs.ls(new_directory_path)\n",
    "\n",
    "# Move part files to the new custom name\n",
    "for part_file in part_files:\n",
    "    if part_file.name.startswith(\"part-\"):\n",
    "        dbutils.fs.mv(part_file.path, f\"dbfs:/mnt/pos_data_testing/test-date-processed-output/{current_date_value}/{custom_file_name}\",recurse=True)\n"
   ]
  },
  {
   "cell_type": "code",
   "execution_count": 0,
   "metadata": {
    "application/vnd.databricks.v1+cell": {
     "cellMetadata": {
      "byteLimit": 2048000,
      "implicitDf": true,
      "rowLimit": 10000
     },
     "inputWidgets": {},
     "nuid": "16c8556c-8fe3-4308-97c4-6dface4ab6e4",
     "showTitle": false,
     "title": ""
    }
   },
   "outputs": [],
   "source": [
    "# %sql\n",
    "# TRUNCATE TABLE project_adb.postest.final_customer_kpi_test2"
   ]
  },
  {
   "cell_type": "code",
   "execution_count": 0,
   "metadata": {
    "application/vnd.databricks.v1+cell": {
     "cellMetadata": {
      "byteLimit": 2048000,
      "rowLimit": 10000
     },
     "inputWidgets": {},
     "nuid": "1ce624d5-872f-432a-adf7-1df8f8b15f60",
     "showTitle": false,
     "title": ""
    }
   },
   "outputs": [],
   "source": [
    "\n",
    "# ------------`recurse=True` ---------\n",
    "# option in Databricks (and in many file system operations) allows you to perform actions on a directory and all its contents, including subdirectories and files, recursively.\n",
    "\n",
    "\n",
    "# 1. **Moving Directories**: When you move a directory, setting `recurse=True` ensures that all files and subdirectories within that directory are also moved to the new location. If `recurse` is not set to `True`, the operation will fail if the source is a directory with contents.\n",
    "\n",
    "# 2. **Deleting Directories**: When deleting a directory, `recurse=True` allows the deletion of the directory along with all its contents, rather than just the directory itself.\n",
    "\n",
    "# 3. **Copying Directories**: Similarly, when copying, it allows you to copy the entire directory structure, including all nested files and subdirectories.\n",
    "\n",
    "# ### Example:\n",
    "# - **Without `recurse=True`**:\n",
    "#   - If you try to move a directory without `recurse=True`, and that directory contains files or subdirectories, you’ll get an error saying that you cannot move a non-empty directory.\n",
    "  \n",
    "# - **With `recurse=True`**:\n",
    "#   - It allows the move to proceed, transferring all files and subdirectories to the new location.\n",
    "\n",
    "# In summary, `recurse=True` is crucial when you want to manipulate directories that contain multiple files and subdirectories, ensuring that your operations encompass everything within the specified directory.\n",
    "# '''"
   ]
  }
 ],
 "metadata": {
  "application/vnd.databricks.v1+notebook": {
   "dashboards": [],
   "environmentMetadata": null,
   "language": "python",
   "notebookMetadata": {
    "mostRecentlyExecutedCommandWithImplicitDF": {
     "commandId": 594723328958152,
     "dataframes": [
      "_sqldf"
     ]
    },
    "pythonIndentUnit": 4
   },
   "notebookName": "Customer_upsert_test",
   "widgets": {}
  }
 },
 "nbformat": 4,
 "nbformat_minor": 0
}
