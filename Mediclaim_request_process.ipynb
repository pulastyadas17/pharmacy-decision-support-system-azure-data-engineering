{
 "cells": [
  {
   "cell_type": "code",
   "execution_count": 0,
   "metadata": {
    "application/vnd.databricks.v1+cell": {
     "cellMetadata": {
      "byteLimit": 2048000,
      "rowLimit": 10000
     },
     "inputWidgets": {},
     "nuid": "2785f1c6-6e28-49ed-907f-530d992211b5",
     "showTitle": false,
     "title": ""
    }
   },
   "outputs": [],
   "source": [
    "from pyspark.sql import SparkSession\n",
    "from pyspark.dbutils import DBUtils\n",
    "from datetime import datetime\n",
    "from pyspark.sql.functions import *\n",
    "from pyspark.sql.types import *\n",
    "import logging\n",
    "from pyspark.dbutils import DBUtils\n",
    "from pyspark.sql import functions as F\n",
    "from datetime import datetime, timedelta\n",
    "from pyspark.sql import functions as F\n",
    "from datetime import date\n",
    "\n",
    "spark=SparkSession.builder.appName(\"PROJECT\").getOrCreate()"
   ]
  },
  {
   "cell_type": "code",
   "execution_count": 0,
   "metadata": {
    "application/vnd.databricks.v1+cell": {
     "cellMetadata": {
      "byteLimit": 2048000,
      "rowLimit": 10000
     },
     "inputWidgets": {},
     "nuid": "5956e986-61a8-4d6b-ab49-2fc72b780f5a",
     "showTitle": false,
     "title": ""
    }
   },
   "outputs": [],
   "source": [
    "jdbcHostname = \"dss-database.database.windows.net\"\n",
    "jdbcDatabase = \"dss-db\"\n",
    "jdbcPort = 1433\n",
    "jdbcUsername = \"dss-database\"\n",
    "jdbcPassword = \"**********\"\n",
    "\n",
    "jdbcUrl = f\"jdbc:sqlserver://{jdbcHostname}:{jdbcPort};database={jdbcDatabase};user={jdbcUsername};password={jdbcPassword};encrypt=true;trustServerCertificate=false;hostNameInCertificate=*.database.windows.net;loginTimeout=30;\"\n"
   ]
  },
  {
   "cell_type": "code",
   "execution_count": 0,
   "metadata": {
    "application/vnd.databricks.v1+cell": {
     "cellMetadata": {
      "byteLimit": 2048000,
      "rowLimit": 10000
     },
     "inputWidgets": {},
     "nuid": "3e622eb6-489e-4b2a-a4a0-0a426ed39e1a",
     "showTitle": false,
     "title": ""
    }
   },
   "outputs": [
    {
     "output_type": "display_data",
     "data": {
      "text/html": [
       "<style scoped>\n",
       "  .table-result-container {\n",
       "    max-height: 300px;\n",
       "    overflow: auto;\n",
       "  }\n",
       "  table, th, td {\n",
       "    border: 1px solid black;\n",
       "    border-collapse: collapse;\n",
       "  }\n",
       "  th, td {\n",
       "    padding: 5px;\n",
       "  }\n",
       "  th {\n",
       "    text-align: left;\n",
       "  }\n",
       "</style><div class='table-result-container'><table class='table-result'><thead style='background-color: white'><tr><th>EndDate</th><th>Customer_ID</th><th>Medicine</th><th>Claim_Amount</th><th>Service_Date</th><th>Submission_Date</th><th>Status</th><th>Required_Docs</th><th>Insurance_Coverage</th><th>Remaining_Coverage</th></tr></thead><tbody><tr><td>2024-09-28</td><td>U017</td><td>Metformin</td><td>70.00</td><td>2024-09-27</td><td>2024-09-28</td><td>submitted</td><td>null</td><td>1500.00</td><td>200.00</td></tr><tr><td>2024-09-28</td><td>U022</td><td>Aspirin</td><td>1100.00</td><td>2024-06-03</td><td>2024-09-27</td><td>submitted</td><td>Yes</td><td>1000.00</td><td>100.00</td></tr><tr><td>2024-09-28</td><td>U049</td><td>Aspirin</td><td>800.00</td><td>2024-09-20</td><td>2024-09-21</td><td>submitted</td><td>null</td><td>600.00</td><td>200.00</td></tr><tr><td>2024-09-28</td><td>U065</td><td>Ciprofloxacin</td><td>180.00</td><td>2024-09-20</td><td>2024-09-27</td><td>submitted</td><td>Yes</td><td>1000.00</td><td>200.00</td></tr><tr><td>2024-09-28</td><td>U087</td><td>Emtricitabine</td><td>111.00</td><td>2024-09-20</td><td>2024-09-24</td><td>submitted</td><td>Yes</td><td>2200.00</td><td>300.00</td></tr></tbody></table></div>"
      ]
     },
     "metadata": {
      "application/vnd.databricks.v1+output": {
       "addedWidgets": {},
       "aggData": [],
       "aggError": "",
       "aggOverflow": false,
       "aggSchema": [],
       "aggSeriesLimitReached": false,
       "aggType": "",
       "arguments": {},
       "columnCustomDisplayInfos": {},
       "data": [
        [
         "2024-09-28",
         "U017",
         "Metformin",
         "70.00",
         "2024-09-27",
         "2024-09-28",
         "submitted",
         null,
         "1500.00",
         "200.00"
        ],
        [
         "2024-09-28",
         "U022",
         "Aspirin",
         "1100.00",
         "2024-06-03",
         "2024-09-27",
         "submitted",
         "Yes",
         "1000.00",
         "100.00"
        ],
        [
         "2024-09-28",
         "U049",
         "Aspirin",
         "800.00",
         "2024-09-20",
         "2024-09-21",
         "submitted",
         null,
         "600.00",
         "200.00"
        ],
        [
         "2024-09-28",
         "U065",
         "Ciprofloxacin",
         "180.00",
         "2024-09-20",
         "2024-09-27",
         "submitted",
         "Yes",
         "1000.00",
         "200.00"
        ],
        [
         "2024-09-28",
         "U087",
         "Emtricitabine",
         "111.00",
         "2024-09-20",
         "2024-09-24",
         "submitted",
         "Yes",
         "2200.00",
         "300.00"
        ]
       ],
       "datasetInfos": [],
       "dbfsResultPath": null,
       "isJsonSchema": true,
       "metadata": {},
       "overflow": false,
       "plotOptions": {
        "customPlotOptions": {},
        "displayType": "table",
        "pivotAggregation": null,
        "pivotColumns": null,
        "xColumns": null,
        "yColumns": null
       },
       "removedWidgets": [],
       "schema": [
        {
         "metadata": "{\"isTimestampNTZ\":false,\"signed\":false,\"scale\":0}",
         "name": "EndDate",
         "type": "\"date\""
        },
        {
         "metadata": "{\"isTimestampNTZ\":false,\"__CHAR_VARCHAR_TYPE_STRING\":\"varchar(50)\",\"signed\":false,\"scale\":0}",
         "name": "Customer_ID",
         "type": "\"string\""
        },
        {
         "metadata": "{\"isTimestampNTZ\":false,\"__CHAR_VARCHAR_TYPE_STRING\":\"varchar(100)\",\"signed\":false,\"scale\":0}",
         "name": "Medicine",
         "type": "\"string\""
        },
        {
         "metadata": "{\"isTimestampNTZ\":false,\"signed\":true,\"scale\":2}",
         "name": "Claim_Amount",
         "type": "\"decimal(10,2)\""
        },
        {
         "metadata": "{\"isTimestampNTZ\":false,\"signed\":false,\"scale\":0}",
         "name": "Service_Date",
         "type": "\"date\""
        },
        {
         "metadata": "{\"isTimestampNTZ\":false,\"signed\":false,\"scale\":0}",
         "name": "Submission_Date",
         "type": "\"date\""
        },
        {
         "metadata": "{\"isTimestampNTZ\":false,\"__CHAR_VARCHAR_TYPE_STRING\":\"varchar(50)\",\"signed\":false,\"scale\":0}",
         "name": "Status",
         "type": "\"string\""
        },
        {
         "metadata": "{\"isTimestampNTZ\":false,\"__CHAR_VARCHAR_TYPE_STRING\":\"varchar(50)\",\"signed\":false,\"scale\":0}",
         "name": "Required_Docs",
         "type": "\"string\""
        },
        {
         "metadata": "{\"isTimestampNTZ\":false,\"signed\":true,\"scale\":2}",
         "name": "Insurance_Coverage",
         "type": "\"decimal(10,2)\""
        },
        {
         "metadata": "{\"isTimestampNTZ\":false,\"signed\":true,\"scale\":2}",
         "name": "Remaining_Coverage",
         "type": "\"decimal(10,2)\""
        }
       ],
       "type": "table"
      }
     },
     "output_type": "display_data"
    }
   ],
   "source": [
    "query = \"(SELECT * FROM DailyClaimsRequests) AS df\"\n",
    "\n",
    "df=spark.read \\\n",
    "    .format(\"jdbc\") \\\n",
    "    .option(\"url\", jdbcUrl) \\\n",
    "    .option(\"dbtable\", query) \\\n",
    "    .option(\"user\", jdbcUsername) \\\n",
    "    .option(\"password\", jdbcPassword) \\\n",
    "    .load()\n",
    "\n",
    "today_date=date.today().strftime('%Y-%m-%d')\n",
    "df1=df.filter(F.col('EndDate')==today_date)\n",
    "display(df1)"
   ]
  },
  {
   "cell_type": "code",
   "execution_count": 0,
   "metadata": {
    "application/vnd.databricks.v1+cell": {
     "cellMetadata": {
      "byteLimit": 2048000,
      "rowLimit": 10000
     },
     "inputWidgets": {},
     "nuid": "0a7ce657-9b71-409e-9c20-87a2350e6e04",
     "showTitle": false,
     "title": ""
    }
   },
   "outputs": [
    {
     "output_type": "display_data",
     "data": {
      "text/html": [
       "<style scoped>\n",
       "  .table-result-container {\n",
       "    max-height: 300px;\n",
       "    overflow: auto;\n",
       "  }\n",
       "  table, th, td {\n",
       "    border: 1px solid black;\n",
       "    border-collapse: collapse;\n",
       "  }\n",
       "  th, td {\n",
       "    padding: 5px;\n",
       "  }\n",
       "  th {\n",
       "    text-align: left;\n",
       "  }\n",
       "</style><div class='table-result-container'><table class='table-result'><thead style='background-color: white'><tr><th>Processed_Date</th><th>Customer_ID</th><th>Medicine</th><th>Claim_Amount</th><th>Service_Date</th><th>Submission_Date</th><th>Status</th><th>Insurance_Coverage</th><th>Remaining_Coverage</th></tr></thead><tbody><tr><td>2024-09-28</td><td>U065</td><td>Ciprofloxacin</td><td>180.00</td><td>2024-09-20</td><td>2024-09-27</td><td>Processed</td><td>1000.00</td><td>20.00</td></tr></tbody></table></div>"
      ]
     },
     "metadata": {
      "application/vnd.databricks.v1+output": {
       "addedWidgets": {},
       "aggData": [],
       "aggError": "",
       "aggOverflow": false,
       "aggSchema": [],
       "aggSeriesLimitReached": false,
       "aggType": "",
       "arguments": {},
       "columnCustomDisplayInfos": {},
       "data": [
        [
         "2024-09-28",
         "U065",
         "Ciprofloxacin",
         "180.00",
         "2024-09-20",
         "2024-09-27",
         "Processed",
         "1000.00",
         "20.00"
        ]
       ],
       "datasetInfos": [],
       "dbfsResultPath": null,
       "isJsonSchema": true,
       "metadata": {},
       "overflow": false,
       "plotOptions": {
        "customPlotOptions": {},
        "displayType": "table",
        "pivotAggregation": null,
        "pivotColumns": null,
        "xColumns": null,
        "yColumns": null
       },
       "removedWidgets": [],
       "schema": [
        {
         "metadata": "{}",
         "name": "Processed_Date",
         "type": "\"date\""
        },
        {
         "metadata": "{\"isTimestampNTZ\":false,\"__CHAR_VARCHAR_TYPE_STRING\":\"varchar(50)\",\"signed\":false,\"scale\":0}",
         "name": "Customer_ID",
         "type": "\"string\""
        },
        {
         "metadata": "{\"isTimestampNTZ\":false,\"__CHAR_VARCHAR_TYPE_STRING\":\"varchar(100)\",\"signed\":false,\"scale\":0}",
         "name": "Medicine",
         "type": "\"string\""
        },
        {
         "metadata": "{\"isTimestampNTZ\":false,\"signed\":true,\"scale\":2}",
         "name": "Claim_Amount",
         "type": "\"decimal(10,2)\""
        },
        {
         "metadata": "{\"isTimestampNTZ\":false,\"signed\":false,\"scale\":0}",
         "name": "Service_Date",
         "type": "\"date\""
        },
        {
         "metadata": "{\"isTimestampNTZ\":false,\"signed\":false,\"scale\":0}",
         "name": "Submission_Date",
         "type": "\"date\""
        },
        {
         "metadata": "{}",
         "name": "Status",
         "type": "\"string\""
        },
        {
         "metadata": "{\"isTimestampNTZ\":false,\"signed\":true,\"scale\":2}",
         "name": "Insurance_Coverage",
         "type": "\"decimal(10,2)\""
        },
        {
         "metadata": "{}",
         "name": "Remaining_Coverage",
         "type": "\"decimal(11,2)\""
        }
       ],
       "type": "table"
      }
     },
     "output_type": "display_data"
    }
   ],
   "source": [
    "#Process Valid Claims\n",
    "\n",
    "# Define the claimable medications list\n",
    "medications_list = {\n",
    "    'Cardiovascular Diseases': ['Atenolol', 'Lisinopril', 'Metoprolol'],\n",
    "    'Diabetes': ['Metformin', 'Insulin', 'Glyburide', 'Glipizide'],\n",
    "    'Pain Relief': ['Ibuprofen', 'Aspirin', 'Acetaminophen', 'Oxycodone'],\n",
    "    'Respiratory Diseases': ['Albuterol', 'Fluticasone', 'Montelukast'],\n",
    "    'Gastrointestinal': ['Omeprazole', 'Loperamide', 'Ranitidine'],\n",
    "    'Antibiotics': ['Amoxicillin', 'Ciprofloxacin', 'Azithromycin']\n",
    "}\n",
    "\n",
    "\n",
    "medications_flat = [med for meds in medications_list.values() for med in meds]\n",
    "\n",
    "today=F.current_date()\n",
    "\n",
    "# Filter and process claims\n",
    "processed_claims_df = df1.filter(\n",
    "    (df1.Remaining_Coverage >= df1.Claim_Amount) &  # Enough remaining coverage\n",
    "    (df1.Submission_Date >= df1.Service_Date) &  # Submission date must be after service date\n",
    "    (df1.Submission_Date <= F.date_add(df1.Service_Date,90)) &  # Submission within 90 days\n",
    "    (df1.Required_Docs == \"Yes\") &  # Required documents must be Yes\n",
    "    (df1.Medicine.isin(medications_flat))  # Medicine must be claimable\n",
    ")\n",
    "\n",
    "# Update Remaining Coverage and Status\n",
    "updated_claims_df = processed_claims_df.withColumn(\"Remaining_Coverage\", \n",
    "    col(\"Remaining_Coverage\") - col(\"Claim_Amount\")\n",
    ").withColumn(\"Status\", \n",
    "    F.lit(\"Processed\")\n",
    ").withColumn(\"Processed_Date\", \n",
    "    today\n",
    ")\n",
    "\n",
    "updated_claims_df1=updated_claims_df.select(\"Processed_Date\",\"Customer_ID\",\"Medicine\",\"Claim_Amount\",\"Service_Date\", \"Submission_Date\",\"Status\",\"Insurance_Coverage\",\"Remaining_Coverage\")\n",
    "\n",
    "display(updated_claims_df1)\n",
    "\n",
    "#Load Processed Claims to SQL Database\n",
    "updated_claims_df1.write \\\n",
    "    .format(\"jdbc\") \\\n",
    "    .option(\"url\", jdbcUrl) \\\n",
    "    .option(\"dbtable\",\"ProcessedClaims\") \\\n",
    "    .option(\"user\",jdbcUsername) \\\n",
    "    .option(\"password\",jdbcPassword) \\\n",
    "    .mode(\"append\") \\\n",
    "    .save()"
   ]
  },
  {
   "cell_type": "code",
   "execution_count": 0,
   "metadata": {
    "application/vnd.databricks.v1+cell": {
     "cellMetadata": {
      "byteLimit": 2048000,
      "rowLimit": 10000
     },
     "inputWidgets": {},
     "nuid": "35649124-7832-4403-abaa-0584a2a2b3da",
     "showTitle": false,
     "title": ""
    }
   },
   "outputs": [
    {
     "output_type": "display_data",
     "data": {
      "text/html": [
       "<style scoped>\n",
       "  .table-result-container {\n",
       "    max-height: 300px;\n",
       "    overflow: auto;\n",
       "  }\n",
       "  table, th, td {\n",
       "    border: 1px solid black;\n",
       "    border-collapse: collapse;\n",
       "  }\n",
       "  th, td {\n",
       "    padding: 5px;\n",
       "  }\n",
       "  th {\n",
       "    text-align: left;\n",
       "  }\n",
       "</style><div class='table-result-container'><table class='table-result'><thead style='background-color: white'><tr><th>Rejected_Date</th><th>Customer_ID</th><th>Medicine</th><th>Claim_Amount</th><th>Service_Date</th><th>Submission_Date</th><th>Status</th><th>Insurance_Coverage</th><th>Remaining_Coverage</th></tr></thead><tbody><tr><td>2024-09-28</td><td>U017</td><td>Metformin</td><td>70.00</td><td>2024-09-27</td><td>2024-09-28</td><td>Rejected due to invalid documents. Do manual process at store.</td><td>1500.00</td><td>200.00</td></tr><tr><td>2024-09-28</td><td>U022</td><td>Aspirin</td><td>1100.00</td><td>2024-06-03</td><td>2024-09-27</td><td>Rejected due to outdated claim</td><td>1000.00</td><td>100.00</td></tr><tr><td>2024-09-28</td><td>U049</td><td>Aspirin</td><td>800.00</td><td>2024-09-20</td><td>2024-09-21</td><td>Rejected due to invalid documents. Do manual process at store.</td><td>600.00</td><td>200.00</td></tr><tr><td>2024-09-28</td><td>U087</td><td>Emtricitabine</td><td>111.00</td><td>2024-09-20</td><td>2024-09-24</td><td>Rejected due to unclaimable medicine</td><td>2200.00</td><td>300.00</td></tr></tbody></table></div>"
      ]
     },
     "metadata": {
      "application/vnd.databricks.v1+output": {
       "addedWidgets": {},
       "aggData": [],
       "aggError": "",
       "aggOverflow": false,
       "aggSchema": [],
       "aggSeriesLimitReached": false,
       "aggType": "",
       "arguments": {},
       "columnCustomDisplayInfos": {},
       "data": [
        [
         "2024-09-28",
         "U017",
         "Metformin",
         "70.00",
         "2024-09-27",
         "2024-09-28",
         "Rejected due to invalid documents. Do manual process at store.",
         "1500.00",
         "200.00"
        ],
        [
         "2024-09-28",
         "U022",
         "Aspirin",
         "1100.00",
         "2024-06-03",
         "2024-09-27",
         "Rejected due to outdated claim",
         "1000.00",
         "100.00"
        ],
        [
         "2024-09-28",
         "U049",
         "Aspirin",
         "800.00",
         "2024-09-20",
         "2024-09-21",
         "Rejected due to invalid documents. Do manual process at store.",
         "600.00",
         "200.00"
        ],
        [
         "2024-09-28",
         "U087",
         "Emtricitabine",
         "111.00",
         "2024-09-20",
         "2024-09-24",
         "Rejected due to unclaimable medicine",
         "2200.00",
         "300.00"
        ]
       ],
       "datasetInfos": [],
       "dbfsResultPath": null,
       "isJsonSchema": true,
       "metadata": {},
       "overflow": false,
       "plotOptions": {
        "customPlotOptions": {},
        "displayType": "table",
        "pivotAggregation": null,
        "pivotColumns": null,
        "xColumns": null,
        "yColumns": null
       },
       "removedWidgets": [],
       "schema": [
        {
         "metadata": "{}",
         "name": "Rejected_Date",
         "type": "\"date\""
        },
        {
         "metadata": "{\"isTimestampNTZ\":false,\"__CHAR_VARCHAR_TYPE_STRING\":\"varchar(50)\",\"signed\":false,\"scale\":0}",
         "name": "Customer_ID",
         "type": "\"string\""
        },
        {
         "metadata": "{\"isTimestampNTZ\":false,\"__CHAR_VARCHAR_TYPE_STRING\":\"varchar(100)\",\"signed\":false,\"scale\":0}",
         "name": "Medicine",
         "type": "\"string\""
        },
        {
         "metadata": "{\"isTimestampNTZ\":false,\"signed\":true,\"scale\":2}",
         "name": "Claim_Amount",
         "type": "\"decimal(10,2)\""
        },
        {
         "metadata": "{\"isTimestampNTZ\":false,\"signed\":false,\"scale\":0}",
         "name": "Service_Date",
         "type": "\"date\""
        },
        {
         "metadata": "{\"isTimestampNTZ\":false,\"signed\":false,\"scale\":0}",
         "name": "Submission_Date",
         "type": "\"date\""
        },
        {
         "metadata": "{}",
         "name": "Status",
         "type": "\"string\""
        },
        {
         "metadata": "{\"isTimestampNTZ\":false,\"signed\":true,\"scale\":2}",
         "name": "Insurance_Coverage",
         "type": "\"decimal(10,2)\""
        },
        {
         "metadata": "{\"isTimestampNTZ\":false,\"signed\":true,\"scale\":2}",
         "name": "Remaining_Coverage",
         "type": "\"decimal(10,2)\""
        }
       ],
       "type": "table"
      }
     },
     "output_type": "display_data"
    }
   ],
   "source": [
    "#Filter and Categorize Rejected Claims\n",
    "\n",
    "# Categorize claims and add today's date\n",
    "categorized_claims_df = df1.withColumn(\"Status\",\n",
    "    F.when(col(\"Required_Docs\").isNull(), \"Rejected due to invalid documents. Do manual process at store.\")\n",
    "    .when(col(\"Submission_Date\") > F.date_add(col(\"Service_Date\"), 90), \"Rejected due to outdated claim\")\n",
    "    .when(col(\"Remaining_Coverage\") < col(\"Claim_Amount\"), \"Not Processed due to inadequate remaining coverage\")\n",
    "    .when(~col(\"Medicine\").isin(medications_flat), \"Rejected due to unclaimable medicine\")\n",
    "    .otherwise(col(\"Status\"))\n",
    ").withColumn(\"Today\", F.current_date())  # Add today's date\n",
    "\n",
    "# Filter out submitted claims\n",
    "categorized_claims_df2 = categorized_claims_df.filter(col(\"Status\") != \"submitted\")\n",
    "\n",
    "# Display the filtered DataFrame\n",
    "categorized_claims_df3=categorized_claims_df2.withColumnRenamed(\"Today\",\"Rejected_Date\")\n",
    "\n",
    "categorized_claims_df4=categorized_claims_df3.select(\"Rejected_Date\",\"Customer_ID\",\"Medicine\",\"Claim_Amount\",\"Service_Date\", \"Submission_Date\", \"Status\",\"Insurance_Coverage\", \"Remaining_Coverage\")\n",
    "\n",
    "display(categorized_claims_df4)\n",
    "\n",
    "#Load Rejected Claims to SQL Database\n",
    "\n",
    "categorized_claims_df4.write \\\n",
    "    .format(\"jdbc\") \\\n",
    "    .option(\"url\",jdbcUrl) \\\n",
    "    .option(\"dbtable\",\"RejectedClaims\") \\\n",
    "    .option(\"user\",jdbcUsername) \\\n",
    "    .option(\"password\",jdbcPassword) \\\n",
    "    .mode(\"append\") \\\n",
    "    .save()"
   ]
  }
 ],
 "metadata": {
  "application/vnd.databricks.v1+notebook": {
   "dashboards": [],
   "environmentMetadata": null,
   "language": "python",
   "notebookMetadata": {
    "pythonIndentUnit": 4
   },
   "notebookName": "Mediclaim_request_process",
   "widgets": {}
  }
 },
 "nbformat": 4,
 "nbformat_minor": 0
}
