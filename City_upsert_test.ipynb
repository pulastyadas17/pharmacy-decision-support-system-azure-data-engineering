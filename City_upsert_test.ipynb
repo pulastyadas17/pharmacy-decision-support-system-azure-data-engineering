{
 "cells": [
  {
   "cell_type": "code",
   "execution_count": 0,
   "metadata": {
    "application/vnd.databricks.v1+cell": {
     "cellMetadata": {
      "byteLimit": 2048000,
      "rowLimit": 10000
     },
     "inputWidgets": {},
     "nuid": "2621eb6d-ad15-4f60-a130-ce10812e50b5",
     "showTitle": false,
     "title": ""
    }
   },
   "outputs": [],
   "source": [
    "from pyspark.sql import SparkSession\n",
    "from pyspark.dbutils import DBUtils\n",
    "from datetime import datetime\n",
    "from pyspark.sql.functions import *\n",
    "from pyspark.sql.types import *\n",
    "spark=SparkSession.builder.appName(\"PROJECT\").getOrCreate()"
   ]
  },
  {
   "cell_type": "code",
   "execution_count": 0,
   "metadata": {
    "application/vnd.databricks.v1+cell": {
     "cellMetadata": {
      "byteLimit": 2048000,
      "rowLimit": 10000
     },
     "inputWidgets": {},
     "nuid": "2479e466-cee5-40d2-be3e-f52b520dfd42",
     "showTitle": false,
     "title": ""
    }
   },
   "outputs": [],
   "source": [
    "import logging\n",
    "from pyspark.dbutils import DBUtils\n",
    "from datetime import datetime\n",
    "from pyspark.sql.functions import *\n",
    "from pyspark.sql.types import *\n",
    "spark=SparkSession.builder.appName(\"POS_Daily_Transaction_File_Processing\").getOrCreate()"
   ]
  },
  {
   "cell_type": "code",
   "execution_count": 0,
   "metadata": {
    "application/vnd.databricks.v1+cell": {
     "cellMetadata": {
      "byteLimit": 2048000,
      "rowLimit": 10000
     },
     "inputWidgets": {},
     "nuid": "0b512da7-ee0c-4e4f-b62d-37977e699685",
     "showTitle": false,
     "title": ""
    }
   },
   "outputs": [
    {
     "output_type": "stream",
     "name": "stdout",
     "output_type": "stream",
     "text": [
      "Mount point /mnt/pos_data_testing already exists. No action taken.\n"
     ]
    }
   ],
   "source": [
    "# Function to check if mountpoint exists\n",
    "\n",
    "def mount_exists(mount_point):\n",
    "    mounts = [mount.mountPoint for mount in dbutils.fs.mounts()]\n",
    "    return mount_point in mounts\n",
    "\n",
    "\n",
    "# Define the mount point and storage details\n",
    "\n",
    "mount_point=\"/mnt/pos_data_testing\"\n",
    "storage_account_name=\"pharmacydata2024\"\n",
    "container_name=\"test\"\n",
    "sas_token=\"DECBZEPbRnh8pmQGIHIRyH9QpredTuDf6nlHoQOn8pHqb1YBPzBHDrvo1uKIojLYh226lFaNS62B+AStdZxCCw==\"\n",
    "\n",
    "\n",
    "# Only create the mount if it doesn't already exist\n",
    "\n",
    "if not mount_exists(mount_point):\n",
    "    print(f\"Mount point {mount_point} does not exist,creating mount.\")\n",
    "\n",
    "    dbutils.fs.mount(\n",
    "        source = f\"wasbs://{container_name}@{storage_account_name}.blob.core.windows.net\",\n",
    "        mount_point=mount_point,\n",
    "        extra_configs={\"fs.azure.account.key.pharmacydata2024.blob.core.windows.net\":sas_token}\n",
    "    )\n",
    "    \n",
    "    print(f\"Mount point {mount_point} created successfully.\")\n",
    "else:\n",
    "    print(f\"Mount point {mount_point} already exists. No action taken.\")\n"
   ]
  },
  {
   "cell_type": "code",
   "execution_count": 0,
   "metadata": {
    "application/vnd.databricks.v1+cell": {
     "cellMetadata": {
      "byteLimit": 2048000,
      "rowLimit": 10000
     },
     "inputWidgets": {},
     "nuid": "78f4b110-7f65-46d0-9bc3-95a21382cef9",
     "showTitle": false,
     "title": ""
    }
   },
   "outputs": [
    {
     "output_type": "execute_result",
     "data": {
      "text/plain": [
       "[FileInfo(path='dbfs:/mnt/pos_data_testing/POS_Sales_Data_2024_demo_testing1.csv', name='POS_Sales_Data_2024_demo_testing1.csv', size=1054, modificationTime=1727337016000),\n",
       " FileInfo(path='dbfs:/mnt/pos_data_testing/test-date-processed-output/', name='test-date-processed-output/', size=0, modificationTime=0)]"
      ]
     },
     "execution_count": 66,
     "metadata": {},
     "output_type": "execute_result"
    }
   ],
   "source": [
    "dbutils.fs.ls(mount_point)"
   ]
  },
  {
   "cell_type": "code",
   "execution_count": 0,
   "metadata": {
    "application/vnd.databricks.v1+cell": {
     "cellMetadata": {
      "byteLimit": 2048000,
      "implicitDf": true,
      "rowLimit": 10000
     },
     "inputWidgets": {},
     "nuid": "4adc5e66-3b9f-41da-9f7b-2609f48a9ef4",
     "showTitle": false,
     "title": ""
    }
   },
   "outputs": [
    {
     "output_type": "display_data",
     "data": {
      "text/html": [
       "<style scoped>\n",
       "  .table-result-container {\n",
       "    max-height: 300px;\n",
       "    overflow: auto;\n",
       "  }\n",
       "  table, th, td {\n",
       "    border: 1px solid black;\n",
       "    border-collapse: collapse;\n",
       "  }\n",
       "  th, td {\n",
       "    padding: 5px;\n",
       "  }\n",
       "  th {\n",
       "    text-align: left;\n",
       "  }\n",
       "</style><div class='table-result-container'><table class='table-result'><thead style='background-color: white'><tr></tr></thead><tbody></tbody></table></div>"
      ]
     },
     "metadata": {
      "application/vnd.databricks.v1+output": {
       "addedWidgets": {},
       "aggData": [],
       "aggError": "",
       "aggOverflow": false,
       "aggSchema": [],
       "aggSeriesLimitReached": false,
       "aggType": "",
       "arguments": {},
       "columnCustomDisplayInfos": {},
       "data": [],
       "datasetInfos": [],
       "dbfsResultPath": null,
       "isJsonSchema": true,
       "metadata": {
        "dataframeName": null
       },
       "overflow": false,
       "plotOptions": {
        "customPlotOptions": {},
        "displayType": "table",
        "pivotAggregation": null,
        "pivotColumns": null,
        "xColumns": null,
        "yColumns": null
       },
       "removedWidgets": [],
       "schema": [],
       "type": "table"
      }
     },
     "output_type": "display_data"
    }
   ],
   "source": [
    "%sql\n",
    "CREATE DATABASE IF NOT EXISTS postest"
   ]
  },
  {
   "cell_type": "code",
   "execution_count": 0,
   "metadata": {
    "application/vnd.databricks.v1+cell": {
     "cellMetadata": {
      "byteLimit": 2048000,
      "implicitDf": true,
      "rowLimit": 10000
     },
     "inputWidgets": {},
     "nuid": "9fe387d6-998c-4b15-8700-7bbcb2e6fc12",
     "showTitle": false,
     "title": ""
    }
   },
   "outputs": [
    {
     "output_type": "display_data",
     "data": {
      "text/html": [
       "<style scoped>\n",
       "  .table-result-container {\n",
       "    max-height: 300px;\n",
       "    overflow: auto;\n",
       "  }\n",
       "  table, th, td {\n",
       "    border: 1px solid black;\n",
       "    border-collapse: collapse;\n",
       "  }\n",
       "  th, td {\n",
       "    padding: 5px;\n",
       "  }\n",
       "  th {\n",
       "    text-align: left;\n",
       "  }\n",
       "</style><div class='table-result-container'><table class='table-result'><thead style='background-color: white'><tr></tr></thead><tbody></tbody></table></div>"
      ]
     },
     "metadata": {
      "application/vnd.databricks.v1+output": {
       "addedWidgets": {},
       "aggData": [],
       "aggError": "",
       "aggOverflow": false,
       "aggSchema": [],
       "aggSeriesLimitReached": false,
       "aggType": "",
       "arguments": {},
       "columnCustomDisplayInfos": {},
       "data": [],
       "datasetInfos": [],
       "dbfsResultPath": null,
       "isJsonSchema": true,
       "metadata": {
        "dataframeName": null
       },
       "overflow": false,
       "plotOptions": {
        "customPlotOptions": {},
        "displayType": "table",
        "pivotAggregation": null,
        "pivotColumns": null,
        "xColumns": null,
        "yColumns": null
       },
       "removedWidgets": [],
       "schema": [],
       "type": "table"
      }
     },
     "output_type": "display_data"
    }
   ],
   "source": [
    "%sql\n",
    "CREATE TABLE IF NOT EXISTS project_adb.postest.final_city_kpi_test3 (\n",
    "  StoreLocation STRING,\n",
    "  TotalSales DOUBLE,\n",
    "  TotalTransactions BIGINT,\n",
    "  UniqueCustomers BIGINT,\n",
    "  AvgTransactionValue DOUBLE,\n",
    "  RetainedCustomers BIGINT,\n",
    "  RetentionRate DOUBLE,\n",
    "  TopSellingProductCategory STRING,\n",
    "  TopSellingCategorySales DOUBLE\n",
    ") \n",
    "USING DELTA;\n"
   ]
  },
  {
   "cell_type": "code",
   "execution_count": 0,
   "metadata": {
    "application/vnd.databricks.v1+cell": {
     "cellMetadata": {
      "byteLimit": 2048000,
      "implicitDf": true,
      "rowLimit": 10000
     },
     "inputWidgets": {},
     "nuid": "034f2707-252a-4ca0-82de-338ac427b626",
     "showTitle": false,
     "title": ""
    }
   },
   "outputs": [
    {
     "output_type": "display_data",
     "data": {
      "text/html": [
       "<style scoped>\n",
       "  .table-result-container {\n",
       "    max-height: 300px;\n",
       "    overflow: auto;\n",
       "  }\n",
       "  table, th, td {\n",
       "    border: 1px solid black;\n",
       "    border-collapse: collapse;\n",
       "  }\n",
       "  th, td {\n",
       "    padding: 5px;\n",
       "  }\n",
       "  th {\n",
       "    text-align: left;\n",
       "  }\n",
       "</style><div class='table-result-container'><table class='table-result'><thead style='background-color: white'><tr><th>StoreLocation</th><th>TotalSales</th><th>TotalTransactions</th><th>UniqueCustomers</th><th>AvgTransactionValue</th><th>RetainedCustomers</th><th>RetentionRate</th><th>TopSellingProductCategory</th><th>TopSellingCategorySales</th></tr></thead><tbody></tbody></table></div>"
      ]
     },
     "metadata": {
      "application/vnd.databricks.v1+output": {
       "addedWidgets": {},
       "aggData": [],
       "aggError": "",
       "aggOverflow": false,
       "aggSchema": [],
       "aggSeriesLimitReached": false,
       "aggType": "",
       "arguments": {},
       "columnCustomDisplayInfos": {},
       "data": [],
       "datasetInfos": [],
       "dbfsResultPath": null,
       "isJsonSchema": true,
       "metadata": {
        "createTempViewForImplicitDf": true,
        "dataframeName": "_sqldf",
        "executionCount": 67
       },
       "overflow": false,
       "plotOptions": {
        "customPlotOptions": {},
        "displayType": "table",
        "pivotAggregation": null,
        "pivotColumns": null,
        "xColumns": null,
        "yColumns": null
       },
       "removedWidgets": [],
       "schema": [
        {
         "metadata": "{}",
         "name": "StoreLocation",
         "type": "\"string\""
        },
        {
         "metadata": "{}",
         "name": "TotalSales",
         "type": "\"double\""
        },
        {
         "metadata": "{}",
         "name": "TotalTransactions",
         "type": "\"long\""
        },
        {
         "metadata": "{}",
         "name": "UniqueCustomers",
         "type": "\"long\""
        },
        {
         "metadata": "{}",
         "name": "AvgTransactionValue",
         "type": "\"double\""
        },
        {
         "metadata": "{}",
         "name": "RetainedCustomers",
         "type": "\"long\""
        },
        {
         "metadata": "{}",
         "name": "RetentionRate",
         "type": "\"double\""
        },
        {
         "metadata": "{}",
         "name": "TopSellingProductCategory",
         "type": "\"string\""
        },
        {
         "metadata": "{}",
         "name": "TopSellingCategorySales",
         "type": "\"double\""
        }
       ],
       "type": "table"
      }
     },
     "output_type": "display_data"
    }
   ],
   "source": [
    "%sql\n",
    "SELECT * FROM project_adb.postest.final_city_kpi_test3;"
   ]
  },
  {
   "cell_type": "code",
   "execution_count": 0,
   "metadata": {
    "application/vnd.databricks.v1+cell": {
     "cellMetadata": {
      "byteLimit": 2048000,
      "implicitDf": true,
      "rowLimit": 10000
     },
     "inputWidgets": {},
     "nuid": "973e7885-613c-4d21-8252-2fcc7d76190e",
     "showTitle": false,
     "title": ""
    }
   },
   "outputs": [
    {
     "output_type": "display_data",
     "data": {
      "text/html": [
       "<style scoped>\n",
       "  .table-result-container {\n",
       "    max-height: 300px;\n",
       "    overflow: auto;\n",
       "  }\n",
       "  table, th, td {\n",
       "    border: 1px solid black;\n",
       "    border-collapse: collapse;\n",
       "  }\n",
       "  th, td {\n",
       "    padding: 5px;\n",
       "  }\n",
       "  th {\n",
       "    text-align: left;\n",
       "  }\n",
       "</style><div class='table-result-container'><table class='table-result'><thead style='background-color: white'><tr><th>PREV_COUNT</th></tr></thead><tbody><tr><td>0</td></tr></tbody></table></div>"
      ]
     },
     "metadata": {
      "application/vnd.databricks.v1+output": {
       "addedWidgets": {},
       "aggData": [],
       "aggError": "",
       "aggOverflow": false,
       "aggSchema": [],
       "aggSeriesLimitReached": false,
       "aggType": "",
       "arguments": {},
       "columnCustomDisplayInfos": {},
       "data": [
        [
         0
        ]
       ],
       "datasetInfos": [],
       "dbfsResultPath": null,
       "isJsonSchema": true,
       "metadata": {
        "createTempViewForImplicitDf": true,
        "dataframeName": "_sqldf",
        "executionCount": 68
       },
       "overflow": false,
       "plotOptions": {
        "customPlotOptions": {},
        "displayType": "table",
        "pivotAggregation": null,
        "pivotColumns": null,
        "xColumns": null,
        "yColumns": null
       },
       "removedWidgets": [],
       "schema": [
        {
         "metadata": "{}",
         "name": "PREV_COUNT",
         "type": "\"long\""
        }
       ],
       "type": "table"
      }
     },
     "output_type": "display_data"
    }
   ],
   "source": [
    "%sql\n",
    "SELECT count(*) AS PREV_COUNT FROM project_adb.postest.final_city_kpi_test3;"
   ]
  },
  {
   "cell_type": "code",
   "execution_count": 0,
   "metadata": {
    "application/vnd.databricks.v1+cell": {
     "cellMetadata": {
      "byteLimit": 2048000,
      "implicitDf": true,
      "rowLimit": 10000
     },
     "inputWidgets": {},
     "nuid": "30329ae3-8a7a-4120-a322-5607380b7ef1",
     "showTitle": false,
     "title": ""
    }
   },
   "outputs": [
    {
     "output_type": "display_data",
     "data": {
      "text/html": [
       "<style scoped>\n",
       "  .table-result-container {\n",
       "    max-height: 300px;\n",
       "    overflow: auto;\n",
       "  }\n",
       "  table, th, td {\n",
       "    border: 1px solid black;\n",
       "    border-collapse: collapse;\n",
       "  }\n",
       "  th, td {\n",
       "    padding: 5px;\n",
       "  }\n",
       "  th {\n",
       "    text-align: left;\n",
       "  }\n",
       "</style><div class='table-result-container'><table class='table-result'><thead style='background-color: white'><tr><th>col_name</th><th>data_type</th><th>comment</th></tr></thead><tbody><tr><td>StoreLocation</td><td>string</td><td>null</td></tr><tr><td>TotalSales</td><td>double</td><td>null</td></tr><tr><td>TotalTransactions</td><td>bigint</td><td>null</td></tr><tr><td>UniqueCustomers</td><td>bigint</td><td>null</td></tr><tr><td>AvgTransactionValue</td><td>double</td><td>null</td></tr><tr><td>RetainedCustomers</td><td>bigint</td><td>null</td></tr><tr><td>RetentionRate</td><td>double</td><td>null</td></tr><tr><td>TopSellingProductCategory</td><td>string</td><td>null</td></tr><tr><td>TopSellingCategorySales</td><td>double</td><td>null</td></tr></tbody></table></div>"
      ]
     },
     "metadata": {
      "application/vnd.databricks.v1+output": {
       "addedWidgets": {},
       "aggData": [],
       "aggError": "",
       "aggOverflow": false,
       "aggSchema": [],
       "aggSeriesLimitReached": false,
       "aggType": "",
       "arguments": {},
       "columnCustomDisplayInfos": {},
       "data": [
        [
         "StoreLocation",
         "string",
         null
        ],
        [
         "TotalSales",
         "double",
         null
        ],
        [
         "TotalTransactions",
         "bigint",
         null
        ],
        [
         "UniqueCustomers",
         "bigint",
         null
        ],
        [
         "AvgTransactionValue",
         "double",
         null
        ],
        [
         "RetainedCustomers",
         "bigint",
         null
        ],
        [
         "RetentionRate",
         "double",
         null
        ],
        [
         "TopSellingProductCategory",
         "string",
         null
        ],
        [
         "TopSellingCategorySales",
         "double",
         null
        ]
       ],
       "datasetInfos": [],
       "dbfsResultPath": null,
       "isJsonSchema": true,
       "metadata": {
        "createTempViewForImplicitDf": true,
        "dataframeName": "_sqldf",
        "executionCount": 69
       },
       "overflow": false,
       "plotOptions": {
        "customPlotOptions": {},
        "displayType": "table",
        "pivotAggregation": null,
        "pivotColumns": null,
        "xColumns": null,
        "yColumns": null
       },
       "removedWidgets": [],
       "schema": [
        {
         "metadata": "{\"comment\":\"name of the column\"}",
         "name": "col_name",
         "type": "\"string\""
        },
        {
         "metadata": "{\"comment\":\"data type of the column\"}",
         "name": "data_type",
         "type": "\"string\""
        },
        {
         "metadata": "{\"comment\":\"comment of the column\"}",
         "name": "comment",
         "type": "\"string\""
        }
       ],
       "type": "table"
      }
     },
     "output_type": "display_data"
    }
   ],
   "source": [
    "%sql\n",
    "DESCRIBE project_adb.postest.final_city_kpi_test3;\n"
   ]
  },
  {
   "cell_type": "code",
   "execution_count": 0,
   "metadata": {
    "application/vnd.databricks.v1+cell": {
     "cellMetadata": {
      "byteLimit": 2048000,
      "implicitDf": true,
      "rowLimit": 10000
     },
     "inputWidgets": {},
     "nuid": "fe4171af-cabe-4d6b-ba47-11467c6ad164",
     "showTitle": false,
     "title": ""
    }
   },
   "outputs": [
    {
     "output_type": "display_data",
     "data": {
      "text/html": [
       "<style scoped>\n",
       "  .table-result-container {\n",
       "    max-height: 300px;\n",
       "    overflow: auto;\n",
       "  }\n",
       "  table, th, td {\n",
       "    border: 1px solid black;\n",
       "    border-collapse: collapse;\n",
       "  }\n",
       "  th, td {\n",
       "    padding: 5px;\n",
       "  }\n",
       "  th {\n",
       "    text-align: left;\n",
       "  }\n",
       "</style><div class='table-result-container'><table class='table-result'><thead style='background-color: white'><tr><th>num_affected_rows</th><th>num_inserted_rows</th></tr></thead><tbody><tr><td>1</td><td>1</td></tr></tbody></table></div>"
      ]
     },
     "metadata": {
      "application/vnd.databricks.v1+output": {
       "addedWidgets": {},
       "aggData": [],
       "aggError": "",
       "aggOverflow": false,
       "aggSchema": [],
       "aggSeriesLimitReached": false,
       "aggType": "",
       "arguments": {},
       "columnCustomDisplayInfos": {},
       "data": [
        [
         1,
         1
        ]
       ],
       "datasetInfos": [],
       "dbfsResultPath": null,
       "isJsonSchema": true,
       "metadata": {
        "createTempViewForImplicitDf": true,
        "dataframeName": "_sqldf",
        "executionCount": 70
       },
       "overflow": false,
       "plotOptions": {
        "customPlotOptions": {},
        "displayType": "table",
        "pivotAggregation": null,
        "pivotColumns": null,
        "xColumns": null,
        "yColumns": null
       },
       "removedWidgets": [],
       "schema": [
        {
         "metadata": "{}",
         "name": "num_affected_rows",
         "type": "\"long\""
        },
        {
         "metadata": "{}",
         "name": "num_inserted_rows",
         "type": "\"long\""
        }
       ],
       "type": "table"
      }
     },
     "output_type": "display_data"
    }
   ],
   "source": [
    "%sql\n",
    "INSERT INTO project_adb.postest.final_city_kpi_test3 (\n",
    "    StoreLocation,\n",
    "    TotalSales,\n",
    "    TotalTransactions,\n",
    "    AvgTransactionValue,\n",
    "    UniqueCustomers,\n",
    "    RetainedCustomers,\n",
    "    RetentionRate,\n",
    "    TopSellingProductCategory,\n",
    "    TopSellingCategorySales\n",
    ") VALUES (\n",
    "    'Chicago',            -- Example StoreLocation\n",
    "    0,                  -- TotalSales\n",
    "    0,                    -- TotalTransactions\n",
    "    0,                  -- AvgTransactionValue\n",
    "    0,                    -- UniqueCustomers\n",
    "    0,                    -- RetainedCustomers\n",
    "    0,                  -- RetentionRate\n",
    "    NULL,                 -- TopSellingProductCategory (this can be NULL)\n",
    "    0                  -- TopSellingCategorySales\n",
    ");\n"
   ]
  },
  {
   "cell_type": "code",
   "execution_count": 0,
   "metadata": {
    "application/vnd.databricks.v1+cell": {
     "cellMetadata": {
      "byteLimit": 2048000,
      "implicitDf": true,
      "rowLimit": 10000
     },
     "inputWidgets": {},
     "nuid": "e0a82f6e-185c-4817-bd20-08b8c4dae929",
     "showTitle": false,
     "title": ""
    }
   },
   "outputs": [
    {
     "output_type": "display_data",
     "data": {
      "text/html": [
       "<style scoped>\n",
       "  .table-result-container {\n",
       "    max-height: 300px;\n",
       "    overflow: auto;\n",
       "  }\n",
       "  table, th, td {\n",
       "    border: 1px solid black;\n",
       "    border-collapse: collapse;\n",
       "  }\n",
       "  th, td {\n",
       "    padding: 5px;\n",
       "  }\n",
       "  th {\n",
       "    text-align: left;\n",
       "  }\n",
       "</style><div class='table-result-container'><table class='table-result'><thead style='background-color: white'><tr><th>StoreLocation</th><th>TotalSales</th><th>TotalTransactions</th><th>UniqueCustomers</th><th>AvgTransactionValue</th><th>RetainedCustomers</th><th>RetentionRate</th><th>TopSellingProductCategory</th><th>TopSellingCategorySales</th></tr></thead><tbody><tr><td>Chicago</td><td>0.0</td><td>0</td><td>0</td><td>0.0</td><td>0</td><td>0.0</td><td>null</td><td>0.0</td></tr></tbody></table></div>"
      ]
     },
     "metadata": {
      "application/vnd.databricks.v1+output": {
       "addedWidgets": {},
       "aggData": [],
       "aggError": "",
       "aggOverflow": false,
       "aggSchema": [],
       "aggSeriesLimitReached": false,
       "aggType": "",
       "arguments": {},
       "columnCustomDisplayInfos": {},
       "data": [
        [
         "Chicago",
         0.0,
         0,
         0,
         0.0,
         0,
         0.0,
         null,
         0.0
        ]
       ],
       "datasetInfos": [],
       "dbfsResultPath": null,
       "isJsonSchema": true,
       "metadata": {
        "createTempViewForImplicitDf": true,
        "dataframeName": "_sqldf",
        "executionCount": 71
       },
       "overflow": false,
       "plotOptions": {
        "customPlotOptions": {},
        "displayType": "table",
        "pivotAggregation": null,
        "pivotColumns": null,
        "xColumns": null,
        "yColumns": null
       },
       "removedWidgets": [],
       "schema": [
        {
         "metadata": "{}",
         "name": "StoreLocation",
         "type": "\"string\""
        },
        {
         "metadata": "{}",
         "name": "TotalSales",
         "type": "\"double\""
        },
        {
         "metadata": "{}",
         "name": "TotalTransactions",
         "type": "\"long\""
        },
        {
         "metadata": "{}",
         "name": "UniqueCustomers",
         "type": "\"long\""
        },
        {
         "metadata": "{}",
         "name": "AvgTransactionValue",
         "type": "\"double\""
        },
        {
         "metadata": "{}",
         "name": "RetainedCustomers",
         "type": "\"long\""
        },
        {
         "metadata": "{}",
         "name": "RetentionRate",
         "type": "\"double\""
        },
        {
         "metadata": "{}",
         "name": "TopSellingProductCategory",
         "type": "\"string\""
        },
        {
         "metadata": "{}",
         "name": "TopSellingCategorySales",
         "type": "\"double\""
        }
       ],
       "type": "table"
      }
     },
     "output_type": "display_data"
    }
   ],
   "source": [
    "%sql\n",
    "SELECT * FROM project_adb.postest.final_city_kpi_test3"
   ]
  },
  {
   "cell_type": "code",
   "execution_count": 0,
   "metadata": {
    "application/vnd.databricks.v1+cell": {
     "cellMetadata": {
      "byteLimit": 2048000,
      "rowLimit": 10000
     },
     "inputWidgets": {},
     "nuid": "6b40f605-bee1-424e-a21e-8c634cbd6e10",
     "showTitle": false,
     "title": ""
    }
   },
   "outputs": [
    {
     "output_type": "display_data",
     "data": {
      "text/html": [
       "<style scoped>\n",
       "  .table-result-container {\n",
       "    max-height: 300px;\n",
       "    overflow: auto;\n",
       "  }\n",
       "  table, th, td {\n",
       "    border: 1px solid black;\n",
       "    border-collapse: collapse;\n",
       "  }\n",
       "  th, td {\n",
       "    padding: 5px;\n",
       "  }\n",
       "  th {\n",
       "    text-align: left;\n",
       "  }\n",
       "</style><div class='table-result-container'><table class='table-result'><thead style='background-color: white'><tr><th>TransactionID</th><th>StoreID</th><th>StoreLocation</th><th>CashierID</th><th>CustomerID</th><th>CustomerAge</th><th>CustomerGender</th><th>ProductID</th><th>ProductCategory</th><th>ProductName</th><th>Quantity</th><th>UnitPrice</th><th>Timestamp</th><th>TotalAmount</th><th>DiscountApplied</th><th>TaxAmount</th><th>TotalAmountAfterTax</th></tr></thead><tbody><tr><td>T00140</td><td>S001</td><td>San Jose</td><td>C002</td><td>U021</td><td>50</td><td>Female</td><td>P014</td><td>AIDS Treatment (Prescription)</td><td>Diazepam</td><td>5</td><td>30.0</td><td>04-07-2024 02:33</td><td>150.0</td><td>50.0</td><td>10.0</td><td>110.0</td></tr><tr><td>T0015</td><td>S007</td><td>New York City</td><td>C003</td><td>U037</td><td>36</td><td>Male</td><td>P041</td><td>Cardiovascular Diseases (Prescription)</td><td>Lisinopril</td><td>1</td><td>238.14</td><td>12-07-2024 00:16</td><td>238.14</td><td>29.24</td><td>16.6698</td><td>225.5698</td></tr><tr><td>T0016</td><td>S009</td><td>Chicago</td><td>C005</td><td>U009</td><td>41</td><td>Male</td><td>P005</td><td>Antibiotics (Prescription)</td><td>Ciprofloxacin</td><td>4</td><td>121.95</td><td>23-07-2024 18:28</td><td>487.8</td><td>10.21</td><td>34.146</td><td>511.736</td></tr><tr><td>T0017</td><td>S008</td><td>Phoenix</td><td>C004</td><td>U039</td><td>58</td><td>Female</td><td>P010</td><td>Bone Health (OTC & Prescription)</td><td>Cisplatin</td><td>2</td><td>94.82</td><td>10-06-2024 11:59</td><td>189.64</td><td>14.22</td><td>13.2748</td><td>188.6948</td></tr><tr><td>T0018</td><td>S010</td><td>San Jose</td><td>C005</td><td>U059</td><td>36</td><td>Female</td><td>P027</td><td>Eye Health (OTC & Prescription)</td><td>Vitamin D</td><td>2</td><td>142.14</td><td>24-06-2024 07:49</td><td>284.28</td><td>37.58</td><td>19.8996</td><td>266.5996</td></tr><tr><td>T0019</td><td>S005</td><td>Philadelphia</td><td>C005</td><td>U065</td><td>53</td><td>Female</td><td>P008</td><td>Diabetes (Prescription & OTC)</td><td>Olopatadine</td><td>4</td><td>203.3</td><td>19-07-2024 01:52</td><td>813.2</td><td>0.01</td><td>56.924</td><td>870.114</td></tr></tbody></table></div>"
      ]
     },
     "metadata": {
      "application/vnd.databricks.v1+output": {
       "addedWidgets": {},
       "aggData": [],
       "aggError": "",
       "aggOverflow": false,
       "aggSchema": [],
       "aggSeriesLimitReached": false,
       "aggType": "",
       "arguments": {},
       "columnCustomDisplayInfos": {},
       "data": [
        [
         "T00140",
         "S001",
         "San Jose",
         "C002",
         "U021",
         50,
         "Female",
         "P014",
         "AIDS Treatment (Prescription)",
         "Diazepam",
         5,
         30.0,
         "04-07-2024 02:33",
         150.0,
         50.0,
         10.0,
         110.0
        ],
        [
         "T0015",
         "S007",
         "New York City",
         "C003",
         "U037",
         36,
         "Male",
         "P041",
         "Cardiovascular Diseases (Prescription)",
         "Lisinopril",
         1,
         238.14,
         "12-07-2024 00:16",
         238.14,
         29.24,
         16.6698,
         225.5698
        ],
        [
         "T0016",
         "S009",
         "Chicago",
         "C005",
         "U009",
         41,
         "Male",
         "P005",
         "Antibiotics (Prescription)",
         "Ciprofloxacin",
         4,
         121.95,
         "23-07-2024 18:28",
         487.8,
         10.21,
         34.146,
         511.736
        ],
        [
         "T0017",
         "S008",
         "Phoenix",
         "C004",
         "U039",
         58,
         "Female",
         "P010",
         "Bone Health (OTC & Prescription)",
         "Cisplatin",
         2,
         94.82,
         "10-06-2024 11:59",
         189.64,
         14.22,
         13.2748,
         188.6948
        ],
        [
         "T0018",
         "S010",
         "San Jose",
         "C005",
         "U059",
         36,
         "Female",
         "P027",
         "Eye Health (OTC & Prescription)",
         "Vitamin D",
         2,
         142.14,
         "24-06-2024 07:49",
         284.28,
         37.58,
         19.8996,
         266.5996
        ],
        [
         "T0019",
         "S005",
         "Philadelphia",
         "C005",
         "U065",
         53,
         "Female",
         "P008",
         "Diabetes (Prescription & OTC)",
         "Olopatadine",
         4,
         203.3,
         "19-07-2024 01:52",
         813.2,
         0.01,
         56.924,
         870.114
        ]
       ],
       "datasetInfos": [],
       "dbfsResultPath": null,
       "isJsonSchema": true,
       "metadata": {},
       "overflow": false,
       "plotOptions": {
        "customPlotOptions": {},
        "displayType": "table",
        "pivotAggregation": null,
        "pivotColumns": null,
        "xColumns": null,
        "yColumns": null
       },
       "removedWidgets": [],
       "schema": [
        {
         "metadata": "{}",
         "name": "TransactionID",
         "type": "\"string\""
        },
        {
         "metadata": "{}",
         "name": "StoreID",
         "type": "\"string\""
        },
        {
         "metadata": "{}",
         "name": "StoreLocation",
         "type": "\"string\""
        },
        {
         "metadata": "{}",
         "name": "CashierID",
         "type": "\"string\""
        },
        {
         "metadata": "{}",
         "name": "CustomerID",
         "type": "\"string\""
        },
        {
         "metadata": "{}",
         "name": "CustomerAge",
         "type": "\"integer\""
        },
        {
         "metadata": "{}",
         "name": "CustomerGender",
         "type": "\"string\""
        },
        {
         "metadata": "{}",
         "name": "ProductID",
         "type": "\"string\""
        },
        {
         "metadata": "{}",
         "name": "ProductCategory",
         "type": "\"string\""
        },
        {
         "metadata": "{}",
         "name": "ProductName",
         "type": "\"string\""
        },
        {
         "metadata": "{}",
         "name": "Quantity",
         "type": "\"integer\""
        },
        {
         "metadata": "{}",
         "name": "UnitPrice",
         "type": "\"double\""
        },
        {
         "metadata": "{}",
         "name": "Timestamp",
         "type": "\"string\""
        },
        {
         "metadata": "{}",
         "name": "TotalAmount",
         "type": "\"double\""
        },
        {
         "metadata": "{}",
         "name": "DiscountApplied",
         "type": "\"double\""
        },
        {
         "metadata": "{}",
         "name": "TaxAmount",
         "type": "\"double\""
        },
        {
         "metadata": "{}",
         "name": "TotalAmountAfterTax",
         "type": "\"double\""
        }
       ],
       "type": "table"
      }
     },
     "output_type": "display_data"
    }
   ],
   "source": [
    "pos_daily_file=\"/mnt/pos_data_testing/POS_Sales_Data_2024_demo_testing1.csv\"\n",
    "pos_daily_file_test=spark.read.format(\"csv\").option(\"header\",\"true\").option(\"inferSchema\",\"true\").load(pos_daily_file)\n",
    "display(pos_daily_file_test)"
   ]
  },
  {
   "cell_type": "code",
   "execution_count": 0,
   "metadata": {
    "application/vnd.databricks.v1+cell": {
     "cellMetadata": {
      "byteLimit": 2048000,
      "rowLimit": 10000
     },
     "inputWidgets": {},
     "nuid": "277f142c-d165-49ee-aded-51dd6d9e9842",
     "showTitle": false,
     "title": ""
    }
   },
   "outputs": [
    {
     "output_type": "display_data",
     "data": {
      "text/html": [
       "<style scoped>\n",
       "  .table-result-container {\n",
       "    max-height: 300px;\n",
       "    overflow: auto;\n",
       "  }\n",
       "  table, th, td {\n",
       "    border: 1px solid black;\n",
       "    border-collapse: collapse;\n",
       "  }\n",
       "  th, td {\n",
       "    padding: 5px;\n",
       "  }\n",
       "  th {\n",
       "    text-align: left;\n",
       "  }\n",
       "</style><div class='table-result-container'><table class='table-result'><thead style='background-color: white'><tr><th>TransactionID</th><th>StoreID</th><th>StoreLocation</th><th>CashierID</th><th>CustomerID</th><th>CustomerAge</th><th>CustomerGender</th><th>ProductID</th><th>ProductCategory</th><th>ProductName</th><th>Quantity</th><th>UnitPrice</th><th>Timestamp</th><th>TotalAmount</th><th>DiscountApplied</th><th>TaxAmount</th><th>TotalAmountAfterTax</th></tr></thead><tbody><tr><td>T00140</td><td>S001</td><td>San Jose</td><td>C002</td><td>U021</td><td>50</td><td>Female</td><td>P014</td><td>AIDS Treatment (Prescription)</td><td>Diazepam</td><td>5</td><td>30.0</td><td>04-07-2024 02:33</td><td>150.0</td><td>50.0</td><td>10.0</td><td>110.0</td></tr><tr><td>T0015</td><td>S007</td><td>New York City</td><td>C003</td><td>U037</td><td>36</td><td>Male</td><td>P041</td><td>Cardiovascular Diseases (Prescription)</td><td>Lisinopril</td><td>1</td><td>238.14</td><td>12-07-2024 00:16</td><td>238.14</td><td>29.24</td><td>16.6698</td><td>225.5698</td></tr><tr><td>T0016</td><td>S009</td><td>Chicago</td><td>C005</td><td>U009</td><td>41</td><td>Male</td><td>P005</td><td>Antibiotics (Prescription)</td><td>Ciprofloxacin</td><td>4</td><td>121.95</td><td>23-07-2024 18:28</td><td>487.8</td><td>10.21</td><td>34.146</td><td>511.736</td></tr><tr><td>T0017</td><td>S008</td><td>Phoenix</td><td>C004</td><td>U039</td><td>58</td><td>Female</td><td>P010</td><td>Bone Health (OTC & Prescription)</td><td>Cisplatin</td><td>2</td><td>94.82</td><td>10-06-2024 11:59</td><td>189.64</td><td>14.22</td><td>13.2748</td><td>188.6948</td></tr><tr><td>T0018</td><td>S010</td><td>San Jose</td><td>C005</td><td>U059</td><td>36</td><td>Female</td><td>P027</td><td>Eye Health (OTC & Prescription)</td><td>Vitamin D</td><td>2</td><td>142.14</td><td>24-06-2024 07:49</td><td>284.28</td><td>37.58</td><td>19.8996</td><td>266.5996</td></tr><tr><td>T0019</td><td>S005</td><td>Philadelphia</td><td>C005</td><td>U065</td><td>53</td><td>Female</td><td>P008</td><td>Diabetes (Prescription & OTC)</td><td>Olopatadine</td><td>4</td><td>203.3</td><td>19-07-2024 01:52</td><td>813.2</td><td>0.01</td><td>56.924</td><td>870.114</td></tr></tbody></table></div>"
      ]
     },
     "metadata": {
      "application/vnd.databricks.v1+output": {
       "addedWidgets": {},
       "aggData": [],
       "aggError": "",
       "aggOverflow": false,
       "aggSchema": [],
       "aggSeriesLimitReached": false,
       "aggType": "",
       "arguments": {},
       "columnCustomDisplayInfos": {},
       "data": [
        [
         "T00140",
         "S001",
         "San Jose",
         "C002",
         "U021",
         50,
         "Female",
         "P014",
         "AIDS Treatment (Prescription)",
         "Diazepam",
         5,
         30.0,
         "04-07-2024 02:33",
         150.0,
         50.0,
         10.0,
         110.0
        ],
        [
         "T0015",
         "S007",
         "New York City",
         "C003",
         "U037",
         36,
         "Male",
         "P041",
         "Cardiovascular Diseases (Prescription)",
         "Lisinopril",
         1,
         238.14,
         "12-07-2024 00:16",
         238.14,
         29.24,
         16.6698,
         225.5698
        ],
        [
         "T0016",
         "S009",
         "Chicago",
         "C005",
         "U009",
         41,
         "Male",
         "P005",
         "Antibiotics (Prescription)",
         "Ciprofloxacin",
         4,
         121.95,
         "23-07-2024 18:28",
         487.8,
         10.21,
         34.146,
         511.736
        ],
        [
         "T0017",
         "S008",
         "Phoenix",
         "C004",
         "U039",
         58,
         "Female",
         "P010",
         "Bone Health (OTC & Prescription)",
         "Cisplatin",
         2,
         94.82,
         "10-06-2024 11:59",
         189.64,
         14.22,
         13.2748,
         188.6948
        ],
        [
         "T0018",
         "S010",
         "San Jose",
         "C005",
         "U059",
         36,
         "Female",
         "P027",
         "Eye Health (OTC & Prescription)",
         "Vitamin D",
         2,
         142.14,
         "24-06-2024 07:49",
         284.28,
         37.58,
         19.8996,
         266.5996
        ],
        [
         "T0019",
         "S005",
         "Philadelphia",
         "C005",
         "U065",
         53,
         "Female",
         "P008",
         "Diabetes (Prescription & OTC)",
         "Olopatadine",
         4,
         203.3,
         "19-07-2024 01:52",
         813.2,
         0.01,
         56.924,
         870.114
        ]
       ],
       "datasetInfos": [],
       "dbfsResultPath": null,
       "isJsonSchema": true,
       "metadata": {},
       "overflow": false,
       "plotOptions": {
        "customPlotOptions": {},
        "displayType": "table",
        "pivotAggregation": null,
        "pivotColumns": null,
        "xColumns": null,
        "yColumns": null
       },
       "removedWidgets": [],
       "schema": [
        {
         "metadata": "{}",
         "name": "TransactionID",
         "type": "\"string\""
        },
        {
         "metadata": "{}",
         "name": "StoreID",
         "type": "\"string\""
        },
        {
         "metadata": "{}",
         "name": "StoreLocation",
         "type": "\"string\""
        },
        {
         "metadata": "{}",
         "name": "CashierID",
         "type": "\"string\""
        },
        {
         "metadata": "{}",
         "name": "CustomerID",
         "type": "\"string\""
        },
        {
         "metadata": "{}",
         "name": "CustomerAge",
         "type": "\"integer\""
        },
        {
         "metadata": "{}",
         "name": "CustomerGender",
         "type": "\"string\""
        },
        {
         "metadata": "{}",
         "name": "ProductID",
         "type": "\"string\""
        },
        {
         "metadata": "{}",
         "name": "ProductCategory",
         "type": "\"string\""
        },
        {
         "metadata": "{}",
         "name": "ProductName",
         "type": "\"string\""
        },
        {
         "metadata": "{}",
         "name": "Quantity",
         "type": "\"integer\""
        },
        {
         "metadata": "{}",
         "name": "UnitPrice",
         "type": "\"double\""
        },
        {
         "metadata": "{}",
         "name": "Timestamp",
         "type": "\"string\""
        },
        {
         "metadata": "{}",
         "name": "TotalAmount",
         "type": "\"double\""
        },
        {
         "metadata": "{}",
         "name": "DiscountApplied",
         "type": "\"double\""
        },
        {
         "metadata": "{}",
         "name": "TaxAmount",
         "type": "\"double\""
        },
        {
         "metadata": "{}",
         "name": "TotalAmountAfterTax",
         "type": "\"double\""
        }
       ],
       "type": "table"
      }
     },
     "output_type": "display_data"
    }
   ],
   "source": [
    "df_pos_daily_file=pos_daily_file_test.dropna()\n",
    "display(df_pos_daily_file)"
   ]
  },
  {
   "cell_type": "code",
   "execution_count": 0,
   "metadata": {
    "application/vnd.databricks.v1+cell": {
     "cellMetadata": {
      "byteLimit": 2048000,
      "rowLimit": 10000
     },
     "inputWidgets": {},
     "nuid": "2cb7723a-d49e-4ab0-aee4-018720d0ebe1",
     "showTitle": false,
     "title": ""
    }
   },
   "outputs": [
    {
     "output_type": "display_data",
     "data": {
      "text/html": [
       "<style scoped>\n",
       "  .table-result-container {\n",
       "    max-height: 300px;\n",
       "    overflow: auto;\n",
       "  }\n",
       "  table, th, td {\n",
       "    border: 1px solid black;\n",
       "    border-collapse: collapse;\n",
       "  }\n",
       "  th, td {\n",
       "    padding: 5px;\n",
       "  }\n",
       "  th {\n",
       "    text-align: left;\n",
       "  }\n",
       "</style><div class='table-result-container'><table class='table-result'><thead style='background-color: white'><tr><th>StoreLocation</th><th>TotalSales</th><th>TotalTransactions</th><th>UniqueCustomers</th><th>AvgTransactionValue</th><th>RetainedCustomers</th><th>RetentionRate</th><th>TopSellingProductCategory</th><th>TopSellingCategorySales</th></tr></thead><tbody><tr><td>Phoenix</td><td>189.64</td><td>1</td><td>1</td><td>189.64</td><td>0</td><td>0.0</td><td>Bone Health (OTC & Prescription)</td><td>189.64</td></tr><tr><td>New York City</td><td>238.14</td><td>1</td><td>1</td><td>238.14</td><td>0</td><td>0.0</td><td>Cardiovascular Diseases (Prescription)</td><td>238.14</td></tr><tr><td>San Jose</td><td>434.28</td><td>2</td><td>2</td><td>217.14</td><td>0</td><td>0.0</td><td>Eye Health (OTC & Prescription)</td><td>284.28</td></tr><tr><td>Chicago</td><td>487.8</td><td>1</td><td>1</td><td>487.8</td><td>0</td><td>0.0</td><td>Antibiotics (Prescription)</td><td>487.8</td></tr><tr><td>Philadelphia</td><td>813.2</td><td>1</td><td>1</td><td>813.2</td><td>0</td><td>0.0</td><td>Diabetes (Prescription & OTC)</td><td>813.2</td></tr></tbody></table></div>"
      ]
     },
     "metadata": {
      "application/vnd.databricks.v1+output": {
       "addedWidgets": {},
       "aggData": [],
       "aggError": "",
       "aggOverflow": false,
       "aggSchema": [],
       "aggSeriesLimitReached": false,
       "aggType": "",
       "arguments": {},
       "columnCustomDisplayInfos": {},
       "data": [
        [
         "Phoenix",
         189.64,
         1,
         1,
         189.64,
         0,
         0.0,
         "Bone Health (OTC & Prescription)",
         189.64
        ],
        [
         "New York City",
         238.14,
         1,
         1,
         238.14,
         0,
         0.0,
         "Cardiovascular Diseases (Prescription)",
         238.14
        ],
        [
         "San Jose",
         434.28,
         2,
         2,
         217.14,
         0,
         0.0,
         "Eye Health (OTC & Prescription)",
         284.28
        ],
        [
         "Chicago",
         487.8,
         1,
         1,
         487.8,
         0,
         0.0,
         "Antibiotics (Prescription)",
         487.8
        ],
        [
         "Philadelphia",
         813.2,
         1,
         1,
         813.2,
         0,
         0.0,
         "Diabetes (Prescription & OTC)",
         813.2
        ]
       ],
       "datasetInfos": [],
       "dbfsResultPath": null,
       "isJsonSchema": true,
       "metadata": {},
       "overflow": false,
       "plotOptions": {
        "customPlotOptions": {},
        "displayType": "table",
        "pivotAggregation": null,
        "pivotColumns": null,
        "xColumns": null,
        "yColumns": null
       },
       "removedWidgets": [],
       "schema": [
        {
         "metadata": "{}",
         "name": "StoreLocation",
         "type": "\"string\""
        },
        {
         "metadata": "{}",
         "name": "TotalSales",
         "type": "\"double\""
        },
        {
         "metadata": "{}",
         "name": "TotalTransactions",
         "type": "\"long\""
        },
        {
         "metadata": "{}",
         "name": "UniqueCustomers",
         "type": "\"long\""
        },
        {
         "metadata": "{}",
         "name": "AvgTransactionValue",
         "type": "\"double\""
        },
        {
         "metadata": "{}",
         "name": "RetainedCustomers",
         "type": "\"long\""
        },
        {
         "metadata": "{}",
         "name": "RetentionRate",
         "type": "\"double\""
        },
        {
         "metadata": "{}",
         "name": "TopSellingProductCategory",
         "type": "\"string\""
        },
        {
         "metadata": "{}",
         "name": "TopSellingCategorySales",
         "type": "\"double\""
        }
       ],
       "type": "table"
      }
     },
     "output_type": "display_data"
    }
   ],
   "source": [
    "#Citywise KPI Calculation\n",
    "\n",
    "from pyspark.sql import SparkSession\n",
    "from pyspark.sql import functions as F\n",
    "from pyspark.sql import Window\n",
    "\n",
    "# Step 1: Convert Timestamp to Date\n",
    "df_with_date = df_pos_daily_file.withColumn(\"Date\", to_date(col(\"Timestamp\"), \"dd-MM-yyyy HH:mm\"))\n",
    "\n",
    "# Step 2: Calculate Total Sales and Number of Transactions by City\n",
    "citywise_sales = df_with_date.groupBy(\"StoreLocation\") \\\n",
    "    .agg(\n",
    "        F.sum(\"TotalAmount\").alias(\"TotalSales\"),\n",
    "        F.count(\"TransactionID\").alias(\"TotalTransactions\"),\n",
    "        F.countDistinct(\"CustomerID\").alias(\"UniqueCustomers\")\n",
    "    )\n",
    "\n",
    "# Step 3: Calculate Average Transaction Value\n",
    "citywise_sales = citywise_sales.withColumn(\"AvgTransactionValue\", col(\"TotalSales\") / col(\"TotalTransactions\"))\n",
    "\n",
    "# Step 4: Calculate Retained Customers\n",
    "customer_city_purchases = df_with_date.groupBy(\"CustomerID\", \"StoreLocation\") \\\n",
    "    .agg(F.count(\"TransactionID\").alias(\"TotalPurchases\"))\n",
    "\n",
    "retained_customers_city = customer_city_purchases.groupBy(\"StoreLocation\") \\\n",
    "    .agg(F.count(F.when(col(\"TotalPurchases\") > 1, 1)).alias(\"RetainedCustomers\"))\n",
    "\n",
    "# Step 5: Join the retained customers with citywise sales\n",
    "citywise_kpi = citywise_sales.join(retained_customers_city, \"StoreLocation\", \"left\") \\\n",
    "    .fillna(0)\n",
    "\n",
    "# Step 6: Calculate Retention Rate\n",
    "citywise_kpi = citywise_kpi.withColumn(\"RetentionRate\", (col(\"RetainedCustomers\") / col(\"UniqueCustomers\")) * 100)\n",
    "\n",
    "# Step 7: Find Top Selling Product Category by City\n",
    "top_product_category = df_with_date.groupBy(\"StoreLocation\", \"ProductCategory\") \\\n",
    "    .agg(F.sum(\"TotalAmount\").alias(\"CategorySales\")) \\\n",
    "    .withColumn(\"Rank\", F.row_number().over(Window.partitionBy(\"StoreLocation\").orderBy(col(\"CategorySales\").desc()))) \\\n",
    "    .filter(col(\"Rank\") == 1) \\\n",
    "    .select(\"StoreLocation\", \"ProductCategory\", \"CategorySales\")\n",
    "\n",
    "# Step 8: Join Top Selling Product Category with Citywise KPI\n",
    "df_final_city_kpi_test=citywise_kpi.join(top_product_category, \"StoreLocation\", \"left\") \\\n",
    "    .withColumnRenamed(\"ProductCategory\", \"TopSellingProductCategory\") \\\n",
    "    .withColumnRenamed(\"CategorySales\", \"TopSellingCategorySales\")\\\n",
    "    .orderBy(\"CategorySales\",ascending=True)\n",
    "\n",
    "# Show final KPI results\n",
    "df_final_city_kpi_test.select(\"StoreLocation\",\"TotalSales\",\"TotalTransactions\",\"AvgTransactionValue\", \n",
    "                 \"UniqueCustomers\",\"RetainedCustomers\",\"RetentionRate\", \n",
    "                 \"TopSellingProductCategory\",\"TopSellingCategorySales\")\n",
    "\n",
    "display(df_final_city_kpi_test)"
   ]
  },
  {
   "cell_type": "code",
   "execution_count": 0,
   "metadata": {
    "application/vnd.databricks.v1+cell": {
     "cellMetadata": {
      "byteLimit": 2048000,
      "rowLimit": 10000
     },
     "inputWidgets": {},
     "nuid": "2b1e6e43-c351-489a-bd97-c9494665dd5b",
     "showTitle": false,
     "title": ""
    }
   },
   "outputs": [
    {
     "output_type": "display_data",
     "data": {
      "text/html": [
       "<style scoped>\n",
       "  .table-result-container {\n",
       "    max-height: 300px;\n",
       "    overflow: auto;\n",
       "  }\n",
       "  table, th, td {\n",
       "    border: 1px solid black;\n",
       "    border-collapse: collapse;\n",
       "  }\n",
       "  th, td {\n",
       "    padding: 5px;\n",
       "  }\n",
       "  th {\n",
       "    text-align: left;\n",
       "  }\n",
       "</style><div class='table-result-container'><table class='table-result'><thead style='background-color: white'><tr><th>StoreLocation</th><th>TotalSales</th><th>TotalTransactions</th><th>UniqueCustomers</th><th>AvgTransactionValue</th><th>RetainedCustomers</th><th>RetentionRate</th><th>TopSellingProductCategory</th><th>TopSellingCategorySales</th></tr></thead><tbody><tr><td>Chicago</td><td>0.0</td><td>0</td><td>0</td><td>0.0</td><td>0</td><td>0.0</td><td>null</td><td>0.0</td></tr></tbody></table></div>"
      ]
     },
     "metadata": {
      "application/vnd.databricks.v1+output": {
       "addedWidgets": {},
       "aggData": [],
       "aggError": "",
       "aggOverflow": false,
       "aggSchema": [],
       "aggSeriesLimitReached": false,
       "aggType": "",
       "arguments": {},
       "columnCustomDisplayInfos": {},
       "data": [
        [
         "Chicago",
         0.0,
         0,
         0,
         0.0,
         0,
         0.0,
         null,
         0.0
        ]
       ],
       "datasetInfos": [],
       "dbfsResultPath": null,
       "isJsonSchema": true,
       "metadata": {},
       "overflow": false,
       "plotOptions": {
        "customPlotOptions": {},
        "displayType": "table",
        "pivotAggregation": null,
        "pivotColumns": null,
        "xColumns": null,
        "yColumns": null
       },
       "removedWidgets": [],
       "schema": [
        {
         "metadata": "{}",
         "name": "StoreLocation",
         "type": "\"string\""
        },
        {
         "metadata": "{}",
         "name": "TotalSales",
         "type": "\"double\""
        },
        {
         "metadata": "{}",
         "name": "TotalTransactions",
         "type": "\"long\""
        },
        {
         "metadata": "{}",
         "name": "UniqueCustomers",
         "type": "\"long\""
        },
        {
         "metadata": "{}",
         "name": "AvgTransactionValue",
         "type": "\"double\""
        },
        {
         "metadata": "{}",
         "name": "RetainedCustomers",
         "type": "\"long\""
        },
        {
         "metadata": "{}",
         "name": "RetentionRate",
         "type": "\"double\""
        },
        {
         "metadata": "{}",
         "name": "TopSellingProductCategory",
         "type": "\"string\""
        },
        {
         "metadata": "{}",
         "name": "TopSellingCategorySales",
         "type": "\"double\""
        }
       ],
       "type": "table"
      }
     },
     "output_type": "display_data"
    }
   ],
   "source": [
    "prev_city_data_kpi_df_test2=spark.table(\"project_adb.postest.final_city_kpi_test3\")\n",
    "display(prev_city_data_kpi_df_test2)"
   ]
  },
  {
   "cell_type": "code",
   "execution_count": 0,
   "metadata": {
    "application/vnd.databricks.v1+cell": {
     "cellMetadata": {
      "byteLimit": 2048000,
      "rowLimit": 10000
     },
     "inputWidgets": {},
     "nuid": "ec206357-3956-49ae-b029-384ab8c31f24",
     "showTitle": false,
     "title": ""
    }
   },
   "outputs": [],
   "source": [
    "from delta.tables import DeltaTable"
   ]
  },
  {
   "cell_type": "code",
   "execution_count": 0,
   "metadata": {
    "application/vnd.databricks.v1+cell": {
     "cellMetadata": {
      "byteLimit": 2048000,
      "rowLimit": 10000
     },
     "inputWidgets": {},
     "nuid": "f438dc9e-a840-410d-9d8d-acd7eb778aa5",
     "showTitle": false,
     "title": ""
    }
   },
   "outputs": [],
   "source": [
    "# Load the existing non-Delta table into a DataFrame\n",
    "df_non_delta2 = spark.table(\"project_adb.postest.final_city_kpi_test3\")\n",
    "\n",
    "# Overwrite the existing table with Delta format\n",
    "df_non_delta2.write.format(\"delta\").mode(\"overwrite\").saveAsTable(\"project_adb.postest.final_city_kpi_test3\")\n"
   ]
  },
  {
   "cell_type": "code",
   "execution_count": 0,
   "metadata": {
    "application/vnd.databricks.v1+cell": {
     "cellMetadata": {
      "byteLimit": 2048000,
      "rowLimit": 10000
     },
     "inputWidgets": {},
     "nuid": "e61589ab-07e7-4ebe-a041-9e5b579cf93d",
     "showTitle": false,
     "title": ""
    }
   },
   "outputs": [],
   "source": [
    "from delta.tables import *\n",
    "from pyspark.sql import functions as F\n",
    "\n",
    "# Assuming df_final_city_kpi_test is your DataFrame containing the new KPI metrics\n",
    "\n",
    "# Initialize the target Delta table\n",
    "target_delta_table = DeltaTable.forName(spark, \"project_adb.postest.final_city_kpi_test3\")\n",
    "\n",
    "# Perform the merge operation\n",
    "target_delta_table.alias(\"target\").merge(\n",
    "    source=df_final_city_kpi_test.alias(\"source\"),\n",
    "    condition=\"target.StoreLocation = source.StoreLocation\"  # Match on StoreLocation\n",
    ").whenMatchedUpdate(\n",
    "    set={\n",
    "        \"TotalSales\": \"COALESCE(target.TotalSales, 0) + COALESCE(source.TotalSales, 0)\",\n",
    "        \"TotalTransactions\": \"COALESCE(target.TotalTransactions, 0) + COALESCE(source.TotalTransactions, 0)\",\n",
    "        \"AvgTransactionValue\": (\n",
    "            \"CASE WHEN COALESCE(target.TotalTransactions, 0) + COALESCE(source.TotalTransactions, 0) > 0 \"\n",
    "            \"THEN (COALESCE(target.TotalSales, 0) + COALESCE(source.TotalSales, 0)) / \"\n",
    "            \"(COALESCE(target.TotalTransactions, 0) + COALESCE(source.TotalTransactions, 0)) \"\n",
    "            \"ELSE 0 END\"\n",
    "        ),\n",
    "        \"UniqueCustomers\": \"source.UniqueCustomers\",\n",
    "        \"RetainedCustomers\": \"source.RetainedCustomers\",\n",
    "        \"RetentionRate\": \"source.RetentionRate\",\n",
    "        \"TopSellingProductCategory\": \"source.TopSellingProductCategory\",  # Keep existing value\n",
    "        \"TopSellingCategorySales\": \"source.TopSellingCategorySales\"\n",
    "    }\n",
    ").whenNotMatchedInsert(\n",
    "    values={\n",
    "        \"StoreLocation\": \"source.StoreLocation\",\n",
    "        \"TotalSales\": \"source.TotalSales\",\n",
    "        \"TotalTransactions\": \"source.TotalTransactions\",\n",
    "        \"AvgTransactionValue\": \"source.AvgTransactionValue\",\n",
    "        \"UniqueCustomers\": \"source.UniqueCustomers\",\n",
    "        \"RetainedCustomers\": \"source.RetainedCustomers\",\n",
    "        \"RetentionRate\": \"source.RetentionRate\",\n",
    "        \"TopSellingProductCategory\": \"source.TopSellingProductCategory\",\n",
    "        \"TopSellingCategorySales\": \"source.TopSellingCategorySales\"\n",
    "    }\n",
    ").execute()\n",
    "\n",
    "# If the DataFrame is empty and you want to ensure that something is inserted, consider adding a default row\n",
    "if df_final_city_kpi_test.count() == 0:\n",
    "    # Define a default row if no data exists\n",
    "    default_row = spark.createDataFrame([{\n",
    "        \"StoreLocation\": \"Default Location\",\n",
    "        \"TotalSales\": 0,\n",
    "        \"TotalTransactions\": 0,\n",
    "        \"AvgTransactionValue\": 0,\n",
    "        \"UniqueCustomers\": 0,\n",
    "        \"RetainedCustomers\": 0,\n",
    "        \"RetentionRate\": 0,\n",
    "        \"TopSellingProductCategory\": \"None\",\n",
    "        \"TopSellingCategorySales\": 0\n",
    "    }])\n",
    "\n",
    "    # Insert the default row into the Delta table\n",
    "    default_row.write.format(\"delta\").mode(\"append\").saveAsTable(\"project_adb.postest.final_city_kpi_test2\")\n"
   ]
  },
  {
   "cell_type": "code",
   "execution_count": 0,
   "metadata": {
    "application/vnd.databricks.v1+cell": {
     "cellMetadata": {
      "byteLimit": 2048000,
      "implicitDf": true,
      "rowLimit": 10000
     },
     "inputWidgets": {},
     "nuid": "bcdaef19-f4fa-4d00-a356-a94167f62b9e",
     "showTitle": false,
     "title": ""
    }
   },
   "outputs": [
    {
     "output_type": "display_data",
     "data": {
      "text/html": [
       "<style scoped>\n",
       "  .table-result-container {\n",
       "    max-height: 300px;\n",
       "    overflow: auto;\n",
       "  }\n",
       "  table, th, td {\n",
       "    border: 1px solid black;\n",
       "    border-collapse: collapse;\n",
       "  }\n",
       "  th, td {\n",
       "    padding: 5px;\n",
       "  }\n",
       "  th {\n",
       "    text-align: left;\n",
       "  }\n",
       "</style><div class='table-result-container'><table class='table-result'><thead style='background-color: white'><tr><th>StoreLocation</th><th>TotalSales</th><th>TotalTransactions</th><th>UniqueCustomers</th><th>AvgTransactionValue</th><th>RetainedCustomers</th><th>RetentionRate</th><th>TopSellingProductCategory</th><th>TopSellingCategorySales</th></tr></thead><tbody><tr><td>Phoenix</td><td>189.64</td><td>1</td><td>1</td><td>189.64</td><td>0</td><td>0.0</td><td>Bone Health (OTC & Prescription)</td><td>189.64</td></tr><tr><td>New York City</td><td>238.14</td><td>1</td><td>1</td><td>238.14</td><td>0</td><td>0.0</td><td>Cardiovascular Diseases (Prescription)</td><td>238.14</td></tr><tr><td>San Jose</td><td>434.28</td><td>2</td><td>2</td><td>217.14</td><td>0</td><td>0.0</td><td>Eye Health (OTC & Prescription)</td><td>284.28</td></tr><tr><td>Chicago</td><td>487.8</td><td>1</td><td>1</td><td>487.8</td><td>0</td><td>0.0</td><td>Antibiotics (Prescription)</td><td>487.8</td></tr><tr><td>Philadelphia</td><td>813.2</td><td>1</td><td>1</td><td>813.2</td><td>0</td><td>0.0</td><td>Diabetes (Prescription & OTC)</td><td>813.2</td></tr></tbody></table></div>"
      ]
     },
     "metadata": {
      "application/vnd.databricks.v1+output": {
       "addedWidgets": {},
       "aggData": [],
       "aggError": "",
       "aggOverflow": false,
       "aggSchema": [],
       "aggSeriesLimitReached": false,
       "aggType": "",
       "arguments": {},
       "columnCustomDisplayInfos": {},
       "data": [
        [
         "Phoenix",
         189.64,
         1,
         1,
         189.64,
         0,
         0.0,
         "Bone Health (OTC & Prescription)",
         189.64
        ],
        [
         "New York City",
         238.14,
         1,
         1,
         238.14,
         0,
         0.0,
         "Cardiovascular Diseases (Prescription)",
         238.14
        ],
        [
         "San Jose",
         434.28,
         2,
         2,
         217.14,
         0,
         0.0,
         "Eye Health (OTC & Prescription)",
         284.28
        ],
        [
         "Chicago",
         487.8,
         1,
         1,
         487.8,
         0,
         0.0,
         "Antibiotics (Prescription)",
         487.8
        ],
        [
         "Philadelphia",
         813.2,
         1,
         1,
         813.2,
         0,
         0.0,
         "Diabetes (Prescription & OTC)",
         813.2
        ]
       ],
       "datasetInfos": [],
       "dbfsResultPath": null,
       "isJsonSchema": true,
       "metadata": {
        "createTempViewForImplicitDf": true,
        "dataframeName": "_sqldf",
        "executionCount": 79
       },
       "overflow": false,
       "plotOptions": {
        "customPlotOptions": {},
        "displayType": "table",
        "pivotAggregation": null,
        "pivotColumns": null,
        "xColumns": null,
        "yColumns": null
       },
       "removedWidgets": [],
       "schema": [
        {
         "metadata": "{}",
         "name": "StoreLocation",
         "type": "\"string\""
        },
        {
         "metadata": "{}",
         "name": "TotalSales",
         "type": "\"double\""
        },
        {
         "metadata": "{}",
         "name": "TotalTransactions",
         "type": "\"long\""
        },
        {
         "metadata": "{}",
         "name": "UniqueCustomers",
         "type": "\"long\""
        },
        {
         "metadata": "{}",
         "name": "AvgTransactionValue",
         "type": "\"double\""
        },
        {
         "metadata": "{}",
         "name": "RetainedCustomers",
         "type": "\"long\""
        },
        {
         "metadata": "{}",
         "name": "RetentionRate",
         "type": "\"double\""
        },
        {
         "metadata": "{}",
         "name": "TopSellingProductCategory",
         "type": "\"string\""
        },
        {
         "metadata": "{}",
         "name": "TopSellingCategorySales",
         "type": "\"double\""
        }
       ],
       "type": "table"
      }
     },
     "output_type": "display_data"
    }
   ],
   "source": [
    "%sql\n",
    "SELECT * FROM project_adb.postest.final_city_kpi_test3"
   ]
  },
  {
   "cell_type": "code",
   "execution_count": 0,
   "metadata": {
    "application/vnd.databricks.v1+cell": {
     "cellMetadata": {
      "byteLimit": 2048000,
      "implicitDf": true,
      "rowLimit": 10000
     },
     "inputWidgets": {},
     "nuid": "35ed4a68-c85f-4c98-ab70-08fceff30ff7",
     "showTitle": false,
     "title": ""
    }
   },
   "outputs": [
    {
     "output_type": "display_data",
     "data": {
      "text/html": [
       "<style scoped>\n",
       "  .table-result-container {\n",
       "    max-height: 300px;\n",
       "    overflow: auto;\n",
       "  }\n",
       "  table, th, td {\n",
       "    border: 1px solid black;\n",
       "    border-collapse: collapse;\n",
       "  }\n",
       "  th, td {\n",
       "    padding: 5px;\n",
       "  }\n",
       "  th {\n",
       "    text-align: left;\n",
       "  }\n",
       "</style><div class='table-result-container'><table class='table-result'><thead style='background-color: white'><tr><th>UPDATED_COUNT</th></tr></thead><tbody><tr><td>5</td></tr></tbody></table></div>"
      ]
     },
     "metadata": {
      "application/vnd.databricks.v1+output": {
       "addedWidgets": {},
       "aggData": [],
       "aggError": "",
       "aggOverflow": false,
       "aggSchema": [],
       "aggSeriesLimitReached": false,
       "aggType": "",
       "arguments": {},
       "columnCustomDisplayInfos": {},
       "data": [
        [
         5
        ]
       ],
       "datasetInfos": [],
       "dbfsResultPath": null,
       "isJsonSchema": true,
       "metadata": {
        "createTempViewForImplicitDf": true,
        "dataframeName": "_sqldf",
        "executionCount": 80
       },
       "overflow": false,
       "plotOptions": {
        "customPlotOptions": {},
        "displayType": "table",
        "pivotAggregation": null,
        "pivotColumns": null,
        "xColumns": null,
        "yColumns": null
       },
       "removedWidgets": [],
       "schema": [
        {
         "metadata": "{}",
         "name": "UPDATED_COUNT",
         "type": "\"long\""
        }
       ],
       "type": "table"
      }
     },
     "output_type": "display_data"
    }
   ],
   "source": [
    "%sql\n",
    "SELECT count(*) AS UPDATED_COUNT FROM project_adb.postest.final_city_kpi_test3"
   ]
  },
  {
   "cell_type": "code",
   "execution_count": 0,
   "metadata": {
    "application/vnd.databricks.v1+cell": {
     "cellMetadata": {
      "byteLimit": 2048000,
      "rowLimit": 10000
     },
     "inputWidgets": {},
     "nuid": "56287ed1-3986-47fa-965e-5669fbf42db9",
     "showTitle": false,
     "title": ""
    }
   },
   "outputs": [],
   "source": [
    "#Save output file in different file formats with name like 'part-00000' in adls\n",
    "\n",
    "df2=spark.table(\"project_adb.postest.final_city_kpi_test3\")\n",
    "df2.write.mode(\"overwrite\").format(\"csv\").save(\"/mnt/pos_data_testing/df_city_filtered.csv\",header=True)"
   ]
  },
  {
   "cell_type": "code",
   "execution_count": 0,
   "metadata": {
    "application/vnd.databricks.v1+cell": {
     "cellMetadata": {
      "byteLimit": 2048000,
      "rowLimit": 10000
     },
     "inputWidgets": {},
     "nuid": "69620ba7-1a9f-417d-a756-a0d86f95c51f",
     "showTitle": false,
     "title": ""
    }
   },
   "outputs": [
    {
     "output_type": "stream",
     "name": "stdout",
     "output_type": "stream",
     "text": [
      "2024-09-26\n"
     ]
    }
   ],
   "source": [
    "from pyspark.sql.functions import current_date\n",
    "\n",
    "# Get the current date in 'yyyy-MM-dd' format\n",
    "current_date_value = spark.sql(\"SELECT date_format(current_date(), 'yyyy-MM-dd')\").collect()[0][0]\n",
    "print(current_date_value)\n",
    "\n",
    "# Create the directory for today's date\n",
    "dbutils.fs.mkdirs(f\"dbfs:/mnt/pos_data_testing/test-date-processed-output-city/{current_date_value}\")\n",
    "\n",
    "# Define the destination path for saving the DataFrame\n",
    "destination_path_csv = f\"dbfs:/mnt/pos_data_testing/test-date-processed-output-city/{current_date_value}/output_file\"\n",
    "\n",
    "# Write the DataFrame to CSV\n",
    "df2.write.mode(\"overwrite\").format(\"csv\").save(destination_path_csv, header=True)\n",
    "\n",
    "# List files in the source directory\n",
    "files = dbutils.fs.ls(\"dbfs:/mnt/dss-project-works/project-data/test_output_from_adb/delta-table-test-output/\")\n",
    "\n",
    "# Define custom file name for the copied file\n",
    "custom_file_name = f\"city_kpi_{current_date_value}.csv\"\n",
    "\n",
    "# Copy the relevant file(s) to the destination directory with the custom name\n",
    "for file in files:\n",
    "    if \"part-00000-tid-\" in file.name:\n",
    "        # Copy the file to the destination with the custom name\n",
    "        dbutils.fs.cp(file.path, f\"dbfs:/mnt/pos_data_testing/test-date-processed-output-city/{current_date_value}/{custom_file_name}\")\n",
    "        break\n",
    "\n",
    "# Now, move the entire output directory to a new name\n",
    "new_directory_path = f\"dbfs:/mnt/pos_data_testing/test-date-processed-output-city/{current_date_value}/output_file_temp\"\n",
    "dbutils.fs.mv(destination_path_csv, new_directory_path, recurse=True)\n",
    "\n",
    "# Rename part files within the new directory to the custom file name\n",
    "part_files = dbutils.fs.ls(new_directory_path)\n",
    "\n",
    "# Move part files to the new custom name\n",
    "for part_file in part_files:\n",
    "    if part_file.name.startswith(\"part-\"):\n",
    "        dbutils.fs.mv(part_file.path, f\"dbfs:/mnt/pos_data_testing/test-date-processed-output-city/{current_date_value}/{custom_file_name}\",recurse=True)\n"
   ]
  },
  {
   "cell_type": "code",
   "execution_count": 0,
   "metadata": {
    "application/vnd.databricks.v1+cell": {
     "cellMetadata": {
      "byteLimit": 2048000,
      "implicitDf": true,
      "rowLimit": 10000
     },
     "inputWidgets": {},
     "nuid": "16c8556c-8fe3-4308-97c4-6dface4ab6e4",
     "showTitle": false,
     "title": ""
    }
   },
   "outputs": [],
   "source": [
    "# %sql\n",
    "# TRUNCATE TABLE project_adb.postest.final_city_kpi_test3"
   ]
  }
 ],
 "metadata": {
  "application/vnd.databricks.v1+notebook": {
   "dashboards": [],
   "environmentMetadata": null,
   "language": "python",
   "notebookMetadata": {
    "mostRecentlyExecutedCommandWithImplicitDF": {
     "commandId": 632148721269181,
     "dataframes": [
      "_sqldf"
     ]
    },
    "pythonIndentUnit": 4
   },
   "notebookName": "City_upsert_test",
   "widgets": {}
  }
 },
 "nbformat": 4,
 "nbformat_minor": 0
}
